{
 "cells": [
  {
   "cell_type": "markdown",
   "metadata": {},
   "source": [
    "# Chapter 10 行列積\n",
    "\n",
    "## 10.1 行列同士の積\n",
    "\n",
    "行列`A`と`B`の積はJuliaでは`A * B`と書く．本書＊＊＊ページの行列積を計算しよう．\n"
   ]
  },
  {
   "cell_type": "code",
   "execution_count": 1,
   "metadata": {},
   "outputs": [
    {
     "data": {
      "text/plain": [
       "2×3 Array{Float64,2}:\n",
       " -1.5   3.0  2.0\n",
       "  1.0  -1.0  0.0"
      ]
     },
     "execution_count": 1,
     "metadata": {},
     "output_type": "execute_result"
    }
   ],
   "source": [
    "A = [-1.5 3 2; 1 -1 0]"
   ]
  },
  {
   "cell_type": "code",
   "execution_count": 2,
   "metadata": {},
   "outputs": [
    {
     "data": {
      "text/plain": [
       "3×2 Array{Int64,2}:\n",
       " -1  -1\n",
       "  0  -2\n",
       "  1   0"
      ]
     },
     "execution_count": 2,
     "metadata": {},
     "output_type": "execute_result"
    }
   ],
   "source": [
    "B = [-1 -1; 0 -2; 1 0]"
   ]
  },
  {
   "cell_type": "code",
   "execution_count": 3,
   "metadata": {},
   "outputs": [
    {
     "data": {
      "text/plain": [
       "2×2 Array{Float64,2}:\n",
       "  3.5  -4.5\n",
       " -1.0   1.0"
      ]
     },
     "execution_count": 3,
     "metadata": {},
     "output_type": "execute_result"
    }
   ],
   "source": [
    "C = A * B"
   ]
  },
  {
   "cell_type": "markdown",
   "metadata": {},
   "source": [
    "### グラム行列\n",
    "\n",
    "行列$A$のグラム行列は$G=A^T A$である．これは対称行列であり，$i,j$要素$G_{ij}$は$A$の$i$番目と$j$番目の列の内積である．\n"
   ]
  },
  {
   "cell_type": "code",
   "execution_count": 4,
   "metadata": {},
   "outputs": [],
   "source": [
    "A = randn(10, 3);"
   ]
  },
  {
   "cell_type": "code",
   "execution_count": 5,
   "metadata": {},
   "outputs": [
    {
     "data": {
      "text/plain": [
       "3×3 Array{Float64,2}:\n",
       " 2.81236    0.131176  2.89529\n",
       " 0.131176  10.6646    5.08826\n",
       " 2.89529    5.08826   9.759  "
      ]
     },
     "execution_count": 5,
     "metadata": {},
     "output_type": "execute_result"
    }
   ],
   "source": [
    "G = A' * A"
   ]
  },
  {
   "cell_type": "code",
   "execution_count": 6,
   "metadata": {},
   "outputs": [
    {
     "data": {
      "text/plain": [
       "10.66460804484717"
      ]
     },
     "execution_count": 6,
     "metadata": {},
     "output_type": "execute_result"
    }
   ],
   "source": [
    "# Giiはi番目の列のノルムの2乗\n",
    "G[2, 2]"
   ]
  },
  {
   "cell_type": "code",
   "execution_count": 7,
   "metadata": {},
   "outputs": [],
   "source": [
    "using LinearAlgebra"
   ]
  },
  {
   "cell_type": "code",
   "execution_count": 8,
   "metadata": {},
   "outputs": [
    {
     "data": {
      "text/plain": [
       "10.664608044847173"
      ]
     },
     "execution_count": 8,
     "metadata": {},
     "output_type": "execute_result"
    }
   ],
   "source": [
    "norm(A[:, 2])^2"
   ]
  },
  {
   "cell_type": "code",
   "execution_count": 9,
   "metadata": {},
   "outputs": [
    {
     "data": {
      "text/plain": [
       "2.89528835221189"
      ]
     },
     "execution_count": 9,
     "metadata": {},
     "output_type": "execute_result"
    }
   ],
   "source": [
    "# Gijはi番目とj番目の列の内積\n",
    "G[1, 3]"
   ]
  },
  {
   "cell_type": "code",
   "execution_count": 10,
   "metadata": {},
   "outputs": [
    {
     "data": {
      "text/plain": [
       "2.8952883522118906"
      ]
     },
     "execution_count": 10,
     "metadata": {},
     "output_type": "execute_result"
    }
   ],
   "source": [
    "A[:, 1]' * A[:, 3]"
   ]
  },
  {
   "cell_type": "markdown",
   "metadata": {},
   "source": [
    "### 行列積の計算量\n",
    "\n",
    "結合法則をチェックしよう．結合法則とは，任意の$m \\times n$行列$A$，$n \\times p$行列$B$，$p \\times q$行列$C$について，$(AB)C=A(BC)$が成り立つことである．以下のコードで分かるように，右辺と左辺では計算量が全く異なる．\n"
   ]
  },
  {
   "cell_type": "code",
   "execution_count": 11,
   "metadata": {},
   "outputs": [],
   "source": [
    "m = 2000; \n",
    "n = 50; \n",
    "q = 2000; \n",
    "p = 2000;\n",
    "A = randn(m, n); \n",
    "B = randn(n, p);\n",
    "C = randn(p, q);"
   ]
  },
  {
   "cell_type": "code",
   "execution_count": 12,
   "metadata": {},
   "outputs": [
    {
     "name": "stdout",
     "output_type": "stream",
     "text": [
      "  0.579292 seconds (4.06 k allocations: 61.256 MiB, 23.53% gc time)\n"
     ]
    }
   ],
   "source": [
    "@time LHS = (A * B) * C;"
   ]
  },
  {
   "cell_type": "code",
   "execution_count": 13,
   "metadata": {},
   "outputs": [
    {
     "name": "stdout",
     "output_type": "stream",
     "text": [
      "  0.355706 seconds (8 allocations: 61.035 MiB, 19.42% gc time)\n"
     ]
    }
   ],
   "source": [
    "@time LHS = (A * B) * C;"
   ]
  },
  {
   "cell_type": "code",
   "execution_count": 14,
   "metadata": {},
   "outputs": [
    {
     "name": "stdout",
     "output_type": "stream",
     "text": [
      "  0.074459 seconds (9 allocations: 31.281 MiB, 14.91% gc time)\n"
     ]
    }
   ],
   "source": [
    "@time RHS = A * (B * C);"
   ]
  },
  {
   "cell_type": "code",
   "execution_count": 15,
   "metadata": {},
   "outputs": [
    {
     "name": "stdout",
     "output_type": "stream",
     "text": [
      "  0.045626 seconds (8 allocations: 31.281 MiB, 2.94% gc time)\n"
     ]
    }
   ],
   "source": [
    "@time RHS = A * (B * C);"
   ]
  },
  {
   "cell_type": "code",
   "execution_count": 16,
   "metadata": {},
   "outputs": [
    {
     "data": {
      "text/plain": [
       "5.285260142477067e-10"
      ]
     },
     "execution_count": 16,
     "metadata": {},
     "output_type": "execute_result"
    }
   ],
   "source": [
    "norm(LHS - RHS)"
   ]
  },
  {
   "cell_type": "code",
   "execution_count": 17,
   "metadata": {},
   "outputs": [
    {
     "name": "stdout",
     "output_type": "stream",
     "text": [
      "  0.344881 seconds (3.18 k allocations: 61.206 MiB, 19.44% gc time)\n"
     ]
    }
   ],
   "source": [
    "@time D_is_ABC = A * B * C;  # これは(A*B)*CとA*(B*C)のどちらだろう？"
   ]
  },
  {
   "cell_type": "markdown",
   "metadata": {},
   "source": [
    "計算量を考えても分かるように，`(A*B)*C`は`A*(B*C)`の10倍の計算時間がかかる．最後の行では，`A*B*C`の評価が左から右へ行われており，つまり`(A*B)*C`と同じであることが分かる．これらの行列については，この計算方法の方が行列積は遅い．\n",
    "\n",
    "## 10.2 線形関数の合成\n",
    "\n",
    "### 2次差分行列\n",
    "\n",
    "本書の＊＊＊ページの2次差分行列を計算する．\n"
   ]
  },
  {
   "cell_type": "code",
   "execution_count": 18,
   "metadata": {},
   "outputs": [],
   "source": [
    "using VMLS"
   ]
  },
  {
   "cell_type": "code",
   "execution_count": 19,
   "metadata": {},
   "outputs": [],
   "source": [
    "D(n) = [-eye(n-1) zeros(n-1)] + [zeros(n-1) eye(n-1)];"
   ]
  },
  {
   "cell_type": "code",
   "execution_count": 20,
   "metadata": {},
   "outputs": [
    {
     "data": {
      "text/plain": [
       "4×5 Array{Float64,2}:\n",
       " -1.0   1.0   0.0   0.0  0.0\n",
       "  0.0  -1.0   1.0   0.0  0.0\n",
       "  0.0   0.0  -1.0   1.0  0.0\n",
       "  0.0   0.0   0.0  -1.0  1.0"
      ]
     },
     "execution_count": 20,
     "metadata": {},
     "output_type": "execute_result"
    }
   ],
   "source": [
    "D(5)"
   ]
  },
  {
   "cell_type": "code",
   "execution_count": 21,
   "metadata": {},
   "outputs": [
    {
     "data": {
      "text/plain": [
       "3×4 Array{Float64,2}:\n",
       " -1.0   1.0   0.0  0.0\n",
       "  0.0  -1.0   1.0  0.0\n",
       "  0.0   0.0  -1.0  1.0"
      ]
     },
     "execution_count": 21,
     "metadata": {},
     "output_type": "execute_result"
    }
   ],
   "source": [
    "D(4)"
   ]
  },
  {
   "cell_type": "code",
   "execution_count": 22,
   "metadata": {},
   "outputs": [
    {
     "data": {
      "text/plain": [
       "3×5 Array{Float64,2}:\n",
       " 1.0  -2.0   1.0   0.0  0.0\n",
       " 0.0   1.0  -2.0   1.0  0.0\n",
       " 0.0   0.0   1.0  -2.0  1.0"
      ]
     },
     "execution_count": 22,
     "metadata": {},
     "output_type": "execute_result"
    }
   ],
   "source": [
    "Delta = D(4) * D(5) # 2次差分行列"
   ]
  },
  {
   "cell_type": "markdown",
   "metadata": {},
   "source": [
    "## 10.3 冪行列\n",
    "\n",
    "正方行列$A$の$k$乗を$A^k$と書く．Juliaでは$A^k$で冪乗になる．\n",
    "\n",
    "本書＊＊＊ページの有向グラフの隣接行列を作ろう．そして，各ノードを始点とする長さ8のcycleがいくつあるのかを求めてみよう（cycleとは，始点と終点が同じノードであるpathである）．\n"
   ]
  },
  {
   "cell_type": "code",
   "execution_count": 23,
   "metadata": {},
   "outputs": [
    {
     "data": {
      "text/plain": [
       "5×5 Array{Int64,2}:\n",
       " 0  1  0  0  1\n",
       " 1  0  1  0  0\n",
       " 0  0  1  1  1\n",
       " 1  0  0  0  0\n",
       " 0  0  0  1  0"
      ]
     },
     "execution_count": 23,
     "metadata": {},
     "output_type": "execute_result"
    }
   ],
   "source": [
    "A = [ 0 1 0 0 1; 1 0 1 0 0; 0 0 1 1 1; 1 0 0 0 0; 0 0 0 1 0]"
   ]
  },
  {
   "cell_type": "code",
   "execution_count": 24,
   "metadata": {},
   "outputs": [
    {
     "data": {
      "text/plain": [
       "5×5 Array{Int64,2}:\n",
       " 1  0  1  1  0\n",
       " 0  1  1  1  2\n",
       " 1  0  1  2  1\n",
       " 0  1  0  0  1\n",
       " 1  0  0  0  0"
      ]
     },
     "execution_count": 24,
     "metadata": {},
     "output_type": "execute_result"
    }
   ],
   "source": [
    "A^2"
   ]
  },
  {
   "cell_type": "code",
   "execution_count": 25,
   "metadata": {},
   "outputs": [
    {
     "data": {
      "text/plain": [
       "5×5 Array{Int64,2}:\n",
       " 18  11  15  20  20\n",
       " 25  14  21  28  26\n",
       " 24  14  20  27  26\n",
       " 11   6   9  12  11\n",
       "  6   4   5   7   7"
      ]
     },
     "execution_count": 25,
     "metadata": {},
     "output_type": "execute_result"
    }
   ],
   "source": [
    "A^8"
   ]
  },
  {
   "cell_type": "code",
   "execution_count": 26,
   "metadata": {},
   "outputs": [
    {
     "data": {
      "text/plain": [
       "5-element Array{Int64,1}:\n",
       " 18\n",
       " 14\n",
       " 20\n",
       " 12\n",
       "  7"
      ]
     },
     "execution_count": 26,
     "metadata": {},
     "output_type": "execute_result"
    }
   ],
   "source": [
    "number_of_cycles = diag(A^8)"
   ]
  },
  {
   "cell_type": "markdown",
   "metadata": {},
   "source": [
    "### 人口モデル\n",
    "\n",
    "本書の図10.2を作成するコードを書こう．これは\n",
    "（2010年時点での各年齢が）2020年の全米の人口（移民を除く）に与える寄与率\n",
    "である．\n",
    "Juliaのプロットを図10.1に示す．驚くことではないが，20歳から25歳までの年齢層が最も寄与率が高く，1.5である．これが意味することは，平均的に，2010年時点で20〜25歳の1人は2020年でのおよそ1.5人に寄与する，ということである．"
   ]
  },
  {
   "cell_type": "code",
   "execution_count": 27,
   "metadata": {},
   "outputs": [
    {
     "data": {
      "image/svg+xml": [
       "<?xml version=\"1.0\" encoding=\"utf-8\"?>\n",
       "<svg xmlns=\"http://www.w3.org/2000/svg\" xmlns:xlink=\"http://www.w3.org/1999/xlink\" width=\"600\" height=\"400\" viewBox=\"0 0 2400 1600\">\n",
       "<defs>\n",
       "  <clipPath id=\"clip1300\">\n",
       "    <rect x=\"0\" y=\"0\" width=\"2400\" height=\"1600\"/>\n",
       "  </clipPath>\n",
       "</defs>\n",
       "<polygon clip-path=\"url(#clip1300)\" points=\"\n",
       "0,1600 2400,1600 2400,0 0,0 \n",
       "  \" fill=\"#ffffff\" fill-rule=\"evenodd\" fill-opacity=\"1\"/>\n",
       "<defs>\n",
       "  <clipPath id=\"clip1301\">\n",
       "    <rect x=\"480\" y=\"0\" width=\"1681\" height=\"1600\"/>\n",
       "  </clipPath>\n",
       "</defs>\n",
       "<polygon clip-path=\"url(#clip1300)\" points=\"\n",
       "224.386,1440.48 2321.26,1440.48 2321.26,47.2441 224.386,47.2441 \n",
       "  \" fill=\"#ffffff\" fill-rule=\"evenodd\" fill-opacity=\"1\"/>\n",
       "<defs>\n",
       "  <clipPath id=\"clip1302\">\n",
       "    <rect x=\"224\" y=\"47\" width=\"2098\" height=\"1394\"/>\n",
       "  </clipPath>\n",
       "</defs>\n",
       "<polyline clip-path=\"url(#clip1302)\" style=\"stroke:#000000; stroke-width:2; stroke-opacity:0.1; fill:none\" points=\"\n",
       "  263.75,1440.48 263.75,47.2441 \n",
       "  \"/>\n",
       "<polyline clip-path=\"url(#clip1302)\" style=\"stroke:#000000; stroke-width:2; stroke-opacity:0.1; fill:none\" points=\"\n",
       "  763.291,1440.48 763.291,47.2441 \n",
       "  \"/>\n",
       "<polyline clip-path=\"url(#clip1302)\" style=\"stroke:#000000; stroke-width:2; stroke-opacity:0.1; fill:none\" points=\"\n",
       "  1262.83,1440.48 1262.83,47.2441 \n",
       "  \"/>\n",
       "<polyline clip-path=\"url(#clip1302)\" style=\"stroke:#000000; stroke-width:2; stroke-opacity:0.1; fill:none\" points=\"\n",
       "  1762.37,1440.48 1762.37,47.2441 \n",
       "  \"/>\n",
       "<polyline clip-path=\"url(#clip1302)\" style=\"stroke:#000000; stroke-width:2; stroke-opacity:0.1; fill:none\" points=\"\n",
       "  2261.91,1440.48 2261.91,47.2441 \n",
       "  \"/>\n",
       "<polyline clip-path=\"url(#clip1302)\" style=\"stroke:#000000; stroke-width:2; stroke-opacity:0.1; fill:none\" points=\"\n",
       "  224.386,1401.05 2321.26,1401.05 \n",
       "  \"/>\n",
       "<polyline clip-path=\"url(#clip1302)\" style=\"stroke:#000000; stroke-width:2; stroke-opacity:0.1; fill:none\" points=\"\n",
       "  224.386,961.823 2321.26,961.823 \n",
       "  \"/>\n",
       "<polyline clip-path=\"url(#clip1302)\" style=\"stroke:#000000; stroke-width:2; stroke-opacity:0.1; fill:none\" points=\"\n",
       "  224.386,522.595 2321.26,522.595 \n",
       "  \"/>\n",
       "<polyline clip-path=\"url(#clip1302)\" style=\"stroke:#000000; stroke-width:2; stroke-opacity:0.1; fill:none\" points=\"\n",
       "  224.386,83.3673 2321.26,83.3673 \n",
       "  \"/>\n",
       "<polyline clip-path=\"url(#clip1300)\" style=\"stroke:#000000; stroke-width:4; stroke-opacity:1; fill:none\" points=\"\n",
       "  224.386,1440.48 2321.26,1440.48 \n",
       "  \"/>\n",
       "<polyline clip-path=\"url(#clip1300)\" style=\"stroke:#000000; stroke-width:4; stroke-opacity:1; fill:none\" points=\"\n",
       "  224.386,1440.48 224.386,47.2441 \n",
       "  \"/>\n",
       "<polyline clip-path=\"url(#clip1300)\" style=\"stroke:#000000; stroke-width:4; stroke-opacity:1; fill:none\" points=\"\n",
       "  263.75,1440.48 263.75,1419.58 \n",
       "  \"/>\n",
       "<polyline clip-path=\"url(#clip1300)\" style=\"stroke:#000000; stroke-width:4; stroke-opacity:1; fill:none\" points=\"\n",
       "  763.291,1440.48 763.291,1419.58 \n",
       "  \"/>\n",
       "<polyline clip-path=\"url(#clip1300)\" style=\"stroke:#000000; stroke-width:4; stroke-opacity:1; fill:none\" points=\"\n",
       "  1262.83,1440.48 1262.83,1419.58 \n",
       "  \"/>\n",
       "<polyline clip-path=\"url(#clip1300)\" style=\"stroke:#000000; stroke-width:4; stroke-opacity:1; fill:none\" points=\"\n",
       "  1762.37,1440.48 1762.37,1419.58 \n",
       "  \"/>\n",
       "<polyline clip-path=\"url(#clip1300)\" style=\"stroke:#000000; stroke-width:4; stroke-opacity:1; fill:none\" points=\"\n",
       "  2261.91,1440.48 2261.91,1419.58 \n",
       "  \"/>\n",
       "<polyline clip-path=\"url(#clip1300)\" style=\"stroke:#000000; stroke-width:4; stroke-opacity:1; fill:none\" points=\"\n",
       "  224.386,1401.05 255.839,1401.05 \n",
       "  \"/>\n",
       "<polyline clip-path=\"url(#clip1300)\" style=\"stroke:#000000; stroke-width:4; stroke-opacity:1; fill:none\" points=\"\n",
       "  224.386,961.823 255.839,961.823 \n",
       "  \"/>\n",
       "<polyline clip-path=\"url(#clip1300)\" style=\"stroke:#000000; stroke-width:4; stroke-opacity:1; fill:none\" points=\"\n",
       "  224.386,522.595 255.839,522.595 \n",
       "  \"/>\n",
       "<polyline clip-path=\"url(#clip1300)\" style=\"stroke:#000000; stroke-width:4; stroke-opacity:1; fill:none\" points=\"\n",
       "  224.386,83.3673 255.839,83.3673 \n",
       "  \"/>\n",
       "<g clip-path=\"url(#clip1300)\">\n",
       "<text style=\"fill:#000000; fill-opacity:1; font-family:Arial,Helvetica Neue,Helvetica,sans-serif; font-size:48px; text-anchor:middle;\" transform=\"rotate(0, 263.75, 1494.48)\" x=\"263.75\" y=\"1494.48\">0</text>\n",
       "</g>\n",
       "<g clip-path=\"url(#clip1300)\">\n",
       "<text style=\"fill:#000000; fill-opacity:1; font-family:Arial,Helvetica Neue,Helvetica,sans-serif; font-size:48px; text-anchor:middle;\" transform=\"rotate(0, 763.291, 1494.48)\" x=\"763.291\" y=\"1494.48\">25</text>\n",
       "</g>\n",
       "<g clip-path=\"url(#clip1300)\">\n",
       "<text style=\"fill:#000000; fill-opacity:1; font-family:Arial,Helvetica Neue,Helvetica,sans-serif; font-size:48px; text-anchor:middle;\" transform=\"rotate(0, 1262.83, 1494.48)\" x=\"1262.83\" y=\"1494.48\">50</text>\n",
       "</g>\n",
       "<g clip-path=\"url(#clip1300)\">\n",
       "<text style=\"fill:#000000; fill-opacity:1; font-family:Arial,Helvetica Neue,Helvetica,sans-serif; font-size:48px; text-anchor:middle;\" transform=\"rotate(0, 1762.37, 1494.48)\" x=\"1762.37\" y=\"1494.48\">75</text>\n",
       "</g>\n",
       "<g clip-path=\"url(#clip1300)\">\n",
       "<text style=\"fill:#000000; fill-opacity:1; font-family:Arial,Helvetica Neue,Helvetica,sans-serif; font-size:48px; text-anchor:middle;\" transform=\"rotate(0, 2261.91, 1494.48)\" x=\"2261.91\" y=\"1494.48\">100</text>\n",
       "</g>\n",
       "<g clip-path=\"url(#clip1300)\">\n",
       "<text style=\"fill:#000000; fill-opacity:1; font-family:Arial,Helvetica Neue,Helvetica,sans-serif; font-size:48px; text-anchor:end;\" transform=\"rotate(0, 200.386, 1418.55)\" x=\"200.386\" y=\"1418.55\">0.0</text>\n",
       "</g>\n",
       "<g clip-path=\"url(#clip1300)\">\n",
       "<text style=\"fill:#000000; fill-opacity:1; font-family:Arial,Helvetica Neue,Helvetica,sans-serif; font-size:48px; text-anchor:end;\" transform=\"rotate(0, 200.386, 979.323)\" x=\"200.386\" y=\"979.323\">0.5</text>\n",
       "</g>\n",
       "<g clip-path=\"url(#clip1300)\">\n",
       "<text style=\"fill:#000000; fill-opacity:1; font-family:Arial,Helvetica Neue,Helvetica,sans-serif; font-size:48px; text-anchor:end;\" transform=\"rotate(0, 200.386, 540.095)\" x=\"200.386\" y=\"540.095\">1.0</text>\n",
       "</g>\n",
       "<g clip-path=\"url(#clip1300)\">\n",
       "<text style=\"fill:#000000; fill-opacity:1; font-family:Arial,Helvetica Neue,Helvetica,sans-serif; font-size:48px; text-anchor:end;\" transform=\"rotate(0, 200.386, 100.867)\" x=\"200.386\" y=\"100.867\">1.5</text>\n",
       "</g>\n",
       "<g clip-path=\"url(#clip1300)\">\n",
       "<text style=\"fill:#000000; fill-opacity:1; font-family:Arial,Helvetica Neue,Helvetica,sans-serif; font-size:66px; text-anchor:middle;\" transform=\"rotate(0, 1272.82, 1590.4)\" x=\"1272.82\" y=\"1590.4\">Age</text>\n",
       "</g>\n",
       "<g clip-path=\"url(#clip1300)\">\n",
       "<text style=\"fill:#000000; fill-opacity:1; font-family:Arial,Helvetica Neue,Helvetica,sans-serif; font-size:66px; text-anchor:middle;\" transform=\"rotate(-90, 57.6, 743.863)\" x=\"57.6\" y=\"743.863\">Factor</text>\n",
       "</g>\n",
       "<polyline clip-path=\"url(#clip1302)\" style=\"stroke:#009af9; stroke-width:4; stroke-opacity:1; fill:none\" points=\"\n",
       "  283.732,529.499 303.713,523.947 323.695,523.501 343.677,523.204 363.658,522.985 383.64,522.846 403.622,507.957 423.603,493.275 443.585,478.689 463.566,464.251 \n",
       "  483.548,449.892 503.53,411.336 523.511,373.022 543.493,334.743 563.475,296.482 583.456,258.245 603.438,226.705 623.42,195.122 643.401,163.42 663.383,131.564 \n",
       "  683.365,99.6354 703.346,97.1268 723.328,94.5048 743.309,91.8968 763.291,89.317 783.273,86.6754 803.254,114.5 823.236,142.274 843.218,170.147 863.199,198.053 \n",
       "  883.181,226.054 903.163,264.082 923.144,302.189 943.126,340.458 963.108,378.854 983.089,417.514 1003.07,437.938 1023.05,458.597 1043.03,479.454 1063.02,500.475 \n",
       "  1083,521.739 1102.98,528.309 1122.96,535.029 1142.94,541.953 1162.92,549.083 1182.91,556.307 1202.89,559.517 1222.87,562.955 1242.85,566.491 1262.83,570.294 \n",
       "  1282.81,574.275 1302.8,577.986 1322.78,581.939 1342.76,586.087 1362.74,590.741 1382.72,596.275 1402.7,601.78 1422.69,607.687 1442.67,614.119 1462.65,621.399 \n",
       "  1482.63,629.276 1502.61,637.894 1522.59,647.146 1542.58,657.418 1562.56,668.404 1582.54,679.904 1602.52,693.06 1622.5,707.687 1642.48,723.148 1662.47,739.966 \n",
       "  1682.45,757.595 1702.43,777.267 1722.41,798.976 1742.39,822.417 1762.37,847.602 1782.35,875.349 1802.34,905.063 1822.32,936.391 1842.3,969.809 1862.28,1004.34 \n",
       "  1882.26,1041.44 1902.24,1080.36 1922.23,1117.54 1942.21,1155.57 1962.19,1192.33 1982.17,1226.27 2002.15,1258.07 2022.13,1286.33 2042.12,1310.21 2062.1,1331.59 \n",
       "  2082.08,1401.05 2102.06,1401.05 2122.04,1401.05 2142.02,1401.05 2162.01,1401.05 2181.99,1401.05 2201.97,1401.05 2221.95,1401.05 2241.93,1401.05 2261.91,1401.05 \n",
       "  \n",
       "  \"/>\n",
       "</svg>\n"
      ]
     },
     "execution_count": 27,
     "metadata": {},
     "output_type": "execute_result"
    }
   ],
   "source": [
    "Data = population_data();\n",
    "b = Data[\"birth_rate\"];\n",
    "d = Data[\"death_rate\"];\n",
    "# 人口モデルの状態遷移行列\n",
    "A = [b'; diagonal(1 .- d[1:end-1]) zeros(length(d)-1)];\n",
    "# 2020年の各年齢の2020年の人口への寄与率\n",
    "cf = ones(100)' * (A^10); # 寄与率\n",
    "using Plots\n",
    "plot(cf', legend = false, xlabel = \"Age\", ylabel = \"Factor\")"
   ]
  },
  {
   "cell_type": "markdown",
   "metadata": {},
   "source": [
    "![図10.1](fig10-1.pdf)\n",
    "\n",
    "図10.1 2010年の各年齢が2020年の総人口に与える寄与率．$i-1$歳の値は，行ベクトル$\\boldsymbol{1}^T A^{10}$の$i$番目の要素．\n",
    "\n",
    "\n",
    "## 10.4 QR分解\n",
    "\n",
    "行列`A`のQR分解はJuliaでは`qr(A)`である．これは$Q$と$R$のタプルを返す．しかし$Q$の型は配列ではなく，特殊な形式であり，コマンド`Matrix(Q)`で通常の行列に戻せる．そのため本書で定義したQR分解は以下の2つのコマンドで実現できる．\n",
    "\n",
    "```julia\n",
    "julia> Q, R = qr(A);\n",
    "julia> Q = Matrix(Q);\n",
    "```\n",
    "\n",
    "以下のコードで，本書でのQR分解の定義とのもう一つの（小さな）違いがある．Juliaの関数で計算される$R$では，対角要素が負になることもある．しかし本書の定義では要素は正である．この2つは等価である．もし$R_{ii}$が負であれば，$R$の$i$番目の行と$Q$の$i$番目の列の符号を反転させれば，$R_{ii} > 0$となり，かつ等価な分解が得られる．しかし実際には，QR分解を応用する問題はどれも対角要素の符号に影響されないので，この処理は必要ない．\n"
   ]
  },
  {
   "cell_type": "code",
   "execution_count": 28,
   "metadata": {},
   "outputs": [],
   "source": [
    "A = randn(6, 4);\n",
    "Q, R = qr(A);"
   ]
  },
  {
   "cell_type": "code",
   "execution_count": 29,
   "metadata": {},
   "outputs": [
    {
     "data": {
      "text/plain": [
       "4×4 Array{Float64,2}:\n",
       " -1.65176  -2.62024  -0.298767   1.38167 \n",
       "  0.0      -1.57414   0.638649   0.574802\n",
       "  0.0       0.0       2.33424   -0.690938\n",
       "  0.0       0.0       0.0        1.01706 "
      ]
     },
     "execution_count": 29,
     "metadata": {},
     "output_type": "execute_result"
    }
   ],
   "source": [
    "R"
   ]
  },
  {
   "cell_type": "code",
   "execution_count": 30,
   "metadata": {},
   "outputs": [
    {
     "data": {
      "text/plain": [
       "6×4 Array{Float64,2}:\n",
       " -0.0979025   0.0422086  -0.806819   -0.125745\n",
       "  0.034544   -0.683817   -0.450625    0.100094\n",
       "  0.55664     0.453568   -0.236754   -0.336037\n",
       " -0.0950973  -0.401887    0.2462     -0.16914 \n",
       "  0.398959   -0.370816    0.167632   -0.687074\n",
       " -0.714956    0.160847   -0.0348248  -0.600474"
      ]
     },
     "execution_count": 30,
     "metadata": {},
     "output_type": "execute_result"
    }
   ],
   "source": [
    "Q = Matrix(Q)"
   ]
  },
  {
   "cell_type": "code",
   "execution_count": 31,
   "metadata": {},
   "outputs": [
    {
     "data": {
      "text/plain": [
       "1.1038295064531409e-15"
      ]
     },
     "execution_count": 31,
     "metadata": {},
     "output_type": "execute_result"
    }
   ],
   "source": [
    "norm(Q * R - A)"
   ]
  },
  {
   "cell_type": "code",
   "execution_count": 32,
   "metadata": {},
   "outputs": [
    {
     "data": {
      "text/plain": [
       "4×4 Array{Float64,2}:\n",
       "  1.0           8.49889e-18   1.31272e-16  -5.49846e-17\n",
       "  8.49889e-18   1.0          -6.10383e-17   5.80574e-17\n",
       "  1.31272e-16  -6.10383e-17   1.0           1.71515e-16\n",
       " -5.49846e-17   5.80574e-17   1.71515e-16   1.0        "
      ]
     },
     "execution_count": 32,
     "metadata": {},
     "output_type": "execute_result"
    }
   ],
   "source": [
    "Q' * Q"
   ]
  },
  {
   "cell_type": "code",
   "execution_count": null,
   "metadata": {},
   "outputs": [],
   "source": []
  }
 ],
 "metadata": {
  "kernelspec": {
   "display_name": "Julia 1.0.2",
   "language": "julia",
   "name": "julia-1.0"
  },
  "language_info": {
   "file_extension": ".jl",
   "mimetype": "application/julia",
   "name": "julia",
   "version": "1.0.2"
  }
 },
 "nbformat": 4,
 "nbformat_minor": 2
}
