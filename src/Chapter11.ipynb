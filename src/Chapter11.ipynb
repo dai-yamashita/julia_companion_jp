{
 "cells": [
  {
   "cell_type": "markdown",
   "metadata": {},
   "source": [
    "# Chapter 11 逆行列\n",
    "\n",
    "## 11.1 左逆行列，右逆行列\n",
    "\n",
    "左逆行列と右逆行列を求める方法は，後ほど説明する．\n"
   ]
  },
  {
   "cell_type": "code",
   "execution_count": 1,
   "metadata": {},
   "outputs": [
    {
     "data": {
      "text/plain": [
       "3×2 Array{Int64,2}:\n",
       " -3  -4\n",
       "  4   6\n",
       "  1   1"
      ]
     },
     "execution_count": 1,
     "metadata": {},
     "output_type": "execute_result"
    }
   ],
   "source": [
    "A = [-3 -4; 4 6; 1 1]"
   ]
  },
  {
   "cell_type": "code",
   "execution_count": 2,
   "metadata": {},
   "outputs": [
    {
     "data": {
      "text/plain": [
       "2×3 Array{Float64,2}:\n",
       " -1.22222   -1.11111    1.77778\n",
       "  0.777778   0.888889  -1.22222"
      ]
     },
     "execution_count": 2,
     "metadata": {},
     "output_type": "execute_result"
    }
   ],
   "source": [
    "B = [ -11 -10 16; 7 8 -11 ] / 9  # Aの左逆行列"
   ]
  },
  {
   "cell_type": "code",
   "execution_count": 3,
   "metadata": {},
   "outputs": [
    {
     "data": {
      "text/plain": [
       "2×3 Array{Float64,2}:\n",
       " 0.0  -0.5   3.0\n",
       " 0.0   0.5  -2.0"
      ]
     },
     "execution_count": 3,
     "metadata": {},
     "output_type": "execute_result"
    }
   ],
   "source": [
    "C = [0 -1 6; 0 1 -4] / 2 # これもAの左逆行列"
   ]
  },
  {
   "cell_type": "code",
   "execution_count": 4,
   "metadata": {},
   "outputs": [
    {
     "data": {
      "text/plain": [
       "2×2 Array{Float64,2}:\n",
       "  1.0          0.0\n",
       " -4.44089e-16  1.0"
      ]
     },
     "execution_count": 4,
     "metadata": {},
     "output_type": "execute_result"
    }
   ],
   "source": [
    "B * A # それではチェック"
   ]
  },
  {
   "cell_type": "code",
   "execution_count": 5,
   "metadata": {},
   "outputs": [
    {
     "data": {
      "text/plain": [
       "2×2 Array{Float64,2}:\n",
       " 1.0  0.0\n",
       " 0.0  1.0"
      ]
     },
     "execution_count": 5,
     "metadata": {},
     "output_type": "execute_result"
    }
   ],
   "source": [
    "C * A"
   ]
  },
  {
   "cell_type": "markdown",
   "metadata": {},
   "source": [
    "## 11.1 逆行列\n",
    "\n",
    "もし`A`の逆行列が存在すれば，それは`inv(A)`で得られる（`A^-1`と書いてもよい）．`A`に逆行列が存在しなかったり，`A`が正方行列でなければ，エラーになる．\n"
   ]
  },
  {
   "cell_type": "code",
   "execution_count": 6,
   "metadata": {},
   "outputs": [
    {
     "data": {
      "text/plain": [
       "3×3 Array{Int64,2}:\n",
       "  1  -2   3\n",
       "  0   2   2\n",
       " -4  -4  -4"
      ]
     },
     "execution_count": 6,
     "metadata": {},
     "output_type": "execute_result"
    }
   ],
   "source": [
    "A = [1 -2 3; 0 2 2; -4 -4 -4]"
   ]
  },
  {
   "cell_type": "code",
   "execution_count": 7,
   "metadata": {},
   "outputs": [
    {
     "data": {
      "text/plain": [
       "3×3 Array{Float64,2}:\n",
       "  0.0  -0.5  -0.25\n",
       " -0.2   0.2  -0.05\n",
       "  0.2   0.3   0.05"
      ]
     },
     "execution_count": 7,
     "metadata": {},
     "output_type": "execute_result"
    }
   ],
   "source": [
    "B = inv(A)"
   ]
  },
  {
   "cell_type": "code",
   "execution_count": 8,
   "metadata": {},
   "outputs": [
    {
     "data": {
      "text/plain": [
       "3×3 Array{Float64,2}:\n",
       " 1.0  0.0          0.0        \n",
       " 0.0  1.0          2.77556e-17\n",
       " 0.0  5.55112e-17  1.0        "
      ]
     },
     "execution_count": 8,
     "metadata": {},
     "output_type": "execute_result"
    }
   ],
   "source": [
    "B * A"
   ]
  },
  {
   "cell_type": "code",
   "execution_count": 9,
   "metadata": {},
   "outputs": [
    {
     "data": {
      "text/plain": [
       "3×3 Array{Float64,2}:\n",
       "  1.0           1.11022e-16  0.0        \n",
       "  5.55112e-17   1.0          1.38778e-17\n",
       " -1.11022e-16  -2.22045e-16  1.0        "
      ]
     },
     "execution_count": 9,
     "metadata": {},
     "output_type": "execute_result"
    }
   ],
   "source": [
    "A * B"
   ]
  },
  {
   "cell_type": "markdown",
   "metadata": {},
   "source": [
    "\n",
    "### 双対基底\n",
    "\n",
    "次のコードは，逆行列$B = A^{-1}$の行が双対基底となることを示す例である．$3 \\times 3$の例について，\n",
    "$$\n",
    "x = (b_1^T x) a_1 + \\cdots + (b_n^T x) a_n\n",
    "$$\n",
    "を展開しよう（本書？？？？ページ参照）"
   ]
  },
  {
   "cell_type": "code",
   "execution_count": 10,
   "metadata": {},
   "outputs": [
    {
     "data": {
      "text/plain": [
       "3×3 Array{Int64,2}:\n",
       " 1   0   1\n",
       " 4  -3  -4\n",
       " 1  -1  -2"
      ]
     },
     "execution_count": 10,
     "metadata": {},
     "output_type": "execute_result"
    }
   ],
   "source": [
    "A = [ 1 0 1; 4 -3 -4; 1 -1 -2]"
   ]
  },
  {
   "cell_type": "code",
   "execution_count": 11,
   "metadata": {},
   "outputs": [
    {
     "data": {
      "text/plain": [
       "3×3 Array{Float64,2}:\n",
       "  2.0  -1.0   3.0\n",
       "  4.0  -3.0   8.0\n",
       " -1.0   1.0  -3.0"
      ]
     },
     "execution_count": 11,
     "metadata": {},
     "output_type": "execute_result"
    }
   ],
   "source": [
    "B = inv(A)"
   ]
  },
  {
   "cell_type": "code",
   "execution_count": 12,
   "metadata": {},
   "outputs": [
    {
     "data": {
      "text/plain": [
       "3-element Array{Float64,1}:\n",
       "  0.2\n",
       " -0.3\n",
       "  1.2"
      ]
     },
     "execution_count": 12,
     "metadata": {},
     "output_type": "execute_result"
    }
   ],
   "source": [
    "x = [ 0.2, -0.3, 1.2]"
   ]
  },
  {
   "cell_type": "code",
   "execution_count": 13,
   "metadata": {},
   "outputs": [
    {
     "data": {
      "text/plain": [
       "3-element Array{Float64,1}:\n",
       "  0.20000000000000018\n",
       " -0.3000000000000007 \n",
       "  1.1999999999999984 "
      ]
     },
     "execution_count": 13,
     "metadata": {},
     "output_type": "execute_result"
    }
   ],
   "source": [
    "rhs = (B[1,:]' * x) * A[:,1] + \n",
    "      (B[2,:]' * x) * A[:,2] + \n",
    "      (B[3,:]' * x) * A[:,3]"
   ]
  },
  {
   "cell_type": "markdown",
   "metadata": {},
   "source": [
    "### QR分解を用いて逆行列を計算\n",
    "\n",
    "行列$A$の逆行列は，$A$のQR分解$A=QR$を用いて$A^{-1}=R^{-1} Q^T$とできる．\n"
   ]
  },
  {
   "cell_type": "code",
   "execution_count": 14,
   "metadata": {},
   "outputs": [],
   "source": [
    "A = randn(3, 3);"
   ]
  },
  {
   "cell_type": "code",
   "execution_count": 15,
   "metadata": {},
   "outputs": [
    {
     "data": {
      "text/plain": [
       "3×3 Array{Float64,2}:\n",
       " 1.58248    0.0344964   1.36712 \n",
       " 0.623428   0.428733    0.256972\n",
       " 0.179413  -0.223665   -0.400192"
      ]
     },
     "execution_count": 15,
     "metadata": {},
     "output_type": "execute_result"
    }
   ],
   "source": [
    "inv(A)"
   ]
  },
  {
   "cell_type": "code",
   "execution_count": 16,
   "metadata": {},
   "outputs": [],
   "source": [
    "using LinearAlgebra"
   ]
  },
  {
   "cell_type": "code",
   "execution_count": 17,
   "metadata": {},
   "outputs": [],
   "source": [
    "Q, R = qr(A);"
   ]
  },
  {
   "cell_type": "code",
   "execution_count": 18,
   "metadata": {},
   "outputs": [],
   "source": [
    "Q = Matrix(Q);"
   ]
  },
  {
   "cell_type": "code",
   "execution_count": 19,
   "metadata": {},
   "outputs": [
    {
     "data": {
      "text/plain": [
       "3×3 Array{Float64,2}:\n",
       " 1.58248    0.0344964   1.36712 \n",
       " 0.623428   0.428733    0.256972\n",
       " 0.179413  -0.223665   -0.400192"
      ]
     },
     "execution_count": 19,
     "metadata": {},
     "output_type": "execute_result"
    }
   ],
   "source": [
    "inv(R) * Q'"
   ]
  },
  {
   "cell_type": "markdown",
   "metadata": {},
   "source": [
    "## 11.3 連立方程式を解く\n",
    "\n",
    "### 後退代入\n",
    "\n",
    "後退代入（本書アルゴリズム11.1）をJuliaで実装し，確認しよう．しかしJuliaにはもっとよい組み込み機能が実装されている（あとで説明するバックスラッシュ演算子）ので，この関数は実際には不要である．この関数はここでの説明のためだけに使用する．\n"
   ]
  },
  {
   "cell_type": "code",
   "execution_count": 21,
   "metadata": {},
   "outputs": [],
   "source": [
    "function back_subst(R,b)\n",
    "n = length(b)\n",
    "x = zeros(n)\n",
    "for i=n:-1:1\n",
    "    x[i] = (b[i] - R[i, i+1:n]' * x[i+1:n]) / R[i,i]\n",
    "end\n",
    "return x\n",
    "end;"
   ]
  },
  {
   "cell_type": "code",
   "execution_count": 22,
   "metadata": {},
   "outputs": [
    {
     "data": {
      "text/plain": [
       "4×4 Array{Float64,2}:\n",
       " 0.831941  -1.09775    0.125064  -0.996965\n",
       " 0.0       -0.217011  -2.61688    0.203057\n",
       " 0.0        0.0        0.657299  -1.28929 \n",
       " 0.0        0.0        0.0       -1.55825 "
      ]
     },
     "execution_count": 22,
     "metadata": {},
     "output_type": "execute_result"
    }
   ],
   "source": [
    "R = triu(randn(4, 4)) # ランダムな4x4上三角行列"
   ]
  },
  {
   "cell_type": "code",
   "execution_count": 23,
   "metadata": {},
   "outputs": [],
   "source": [
    "b = rand(4);"
   ]
  },
  {
   "cell_type": "code",
   "execution_count": 24,
   "metadata": {},
   "outputs": [],
   "source": [
    "x = back_subst(R, b);"
   ]
  },
  {
   "cell_type": "code",
   "execution_count": 26,
   "metadata": {},
   "outputs": [
    {
     "data": {
      "text/plain": [
       "0.0"
      ]
     },
     "execution_count": 26,
     "metadata": {},
     "output_type": "execute_result"
    }
   ],
   "source": [
    "norm(R * x - b)"
   ]
  },
  {
   "cell_type": "markdown",
   "metadata": {},
   "source": [
    "関数`triu`は行列の上三角部分を返す（下三角部分を0で埋める）．\n",
    "\n",
    "\n",
    "### バックスラッシュ記法\n",
    "\n",
    "Juliaのコマンドで連立方程式\n",
    "$$\n",
    "Ax = b\n",
    "$$\n",
    "を特には，`x=A\\b`と書く．これは，$A$の逆行列を計算してから$b$との積を計算する`x=inv(A)*b`よりも，高速である．"
   ]
  },
  {
   "cell_type": "code",
   "execution_count": 27,
   "metadata": {},
   "outputs": [],
   "source": [
    "n = 5000;\n",
    "A = randn(n,n);  \n",
    "b = randn(n);  # 連立方程式をランダムに設定"
   ]
  },
  {
   "cell_type": "code",
   "execution_count": 28,
   "metadata": {},
   "outputs": [
    {
     "name": "stdout",
     "output_type": "stream",
     "text": [
      "  3.628340 seconds (2.56 M allocations: 311.870 MiB, 6.74% gc time)\n"
     ]
    }
   ],
   "source": [
    "@time x1 = A \\ b;"
   ]
  },
  {
   "cell_type": "code",
   "execution_count": 29,
   "metadata": {},
   "outputs": [
    {
     "name": "stdout",
     "output_type": "stream",
     "text": [
      "  1.875491 seconds (11 allocations: 190.812 MiB, 5.30% gc time)\n"
     ]
    }
   ],
   "source": [
    "@time x1 = A \\ b;"
   ]
  },
  {
   "cell_type": "code",
   "execution_count": 30,
   "metadata": {},
   "outputs": [
    {
     "data": {
      "text/plain": [
       "1.1649854674980262e-9"
      ]
     },
     "execution_count": 30,
     "metadata": {},
     "output_type": "execute_result"
    }
   ],
   "source": [
    "norm(b - A * x1)"
   ]
  },
  {
   "cell_type": "code",
   "execution_count": 31,
   "metadata": {},
   "outputs": [
    {
     "name": "stdout",
     "output_type": "stream",
     "text": [
      "  6.438471 seconds (14 allocations: 193.253 MiB, 0.48% gc time)\n"
     ]
    }
   ],
   "source": [
    "@time x2 = inv(A) * b;"
   ]
  },
  {
   "cell_type": "code",
   "execution_count": 32,
   "metadata": {},
   "outputs": [
    {
     "name": "stdout",
     "output_type": "stream",
     "text": [
      "  5.823906 seconds (13 allocations: 193.253 MiB, 0.53% gc time)\n"
     ]
    }
   ],
   "source": [
    "@time x2 = inv(A) * b;"
   ]
  },
  {
   "cell_type": "code",
   "execution_count": 33,
   "metadata": {},
   "outputs": [
    {
     "data": {
      "text/plain": [
       "1.1904084747191841e-9"
      ]
     },
     "execution_count": 33,
     "metadata": {},
     "output_type": "execute_result"
    }
   ],
   "source": [
    "norm(b - A * x2)"
   ]
  },
  {
   "cell_type": "markdown",
   "metadata": {},
   "source": [
    "Juliaは，$A$の性質をチェックして，最も良いアルゴリズムを選んで連立方程式を解く．例えば$A$が下三角行列であれば，後退代入を使う．以下のコードで計算時間を計測してみよう．\n"
   ]
  },
  {
   "cell_type": "code",
   "execution_count": 34,
   "metadata": {},
   "outputs": [],
   "source": [
    "n = 5000;\n",
    "b = randn(n);\n",
    "A = tril(randn(n, n));  # ランダムな下三角行列"
   ]
  },
  {
   "cell_type": "code",
   "execution_count": 35,
   "metadata": {},
   "outputs": [
    {
     "name": "stdout",
     "output_type": "stream",
     "text": [
      "  0.044970 seconds (7 allocations: 39.313 KiB)\n"
     ]
    }
   ],
   "source": [
    "@time x = A \\ b;"
   ]
  },
  {
   "cell_type": "code",
   "execution_count": 36,
   "metadata": {},
   "outputs": [
    {
     "name": "stdout",
     "output_type": "stream",
     "text": [
      "  0.047080 seconds (7 allocations: 39.313 KiB)\n"
     ]
    }
   ],
   "source": [
    "@time x = A \\ b;"
   ]
  },
  {
   "cell_type": "code",
   "execution_count": 35,
   "metadata": {},
   "outputs": [],
   "source": [
    "A = randn(n,n);  # ランダムな正方行列"
   ]
  },
  {
   "cell_type": "code",
   "execution_count": 37,
   "metadata": {},
   "outputs": [
    {
     "name": "stdout",
     "output_type": "stream",
     "text": [
      "  0.047776 seconds (7 allocations: 39.313 KiB)\n"
     ]
    }
   ],
   "source": [
    "@time x = A \\ b;"
   ]
  },
  {
   "cell_type": "code",
   "execution_count": 38,
   "metadata": {},
   "outputs": [
    {
     "name": "stdout",
     "output_type": "stream",
     "text": [
      "  0.033932 seconds (7 allocations: 39.313 KiB)\n"
     ]
    }
   ],
   "source": [
    "@time x = A \\ b;"
   ]
  },
  {
   "cell_type": "code",
   "execution_count": 39,
   "metadata": {},
   "outputs": [],
   "source": [
    "n = 10000;\n",
    "b = randn(n);\n",
    "A = tril(randn(n, n));  # ランダムな下三角行列"
   ]
  },
  {
   "cell_type": "code",
   "execution_count": 40,
   "metadata": {},
   "outputs": [
    {
     "name": "stdout",
     "output_type": "stream",
     "text": [
      "  0.316653 seconds (7 allocations: 78.375 KiB)\n"
     ]
    }
   ],
   "source": [
    "@time x = A \\ b;"
   ]
  },
  {
   "cell_type": "code",
   "execution_count": 41,
   "metadata": {},
   "outputs": [
    {
     "name": "stdout",
     "output_type": "stream",
     "text": [
      "  0.168793 seconds (7 allocations: 78.375 KiB)\n"
     ]
    }
   ],
   "source": [
    "@time x = A \\ b;"
   ]
  },
  {
   "cell_type": "code",
   "execution_count": 42,
   "metadata": {},
   "outputs": [],
   "source": [
    "A = randn(n, n);  # ランダムな正方行列"
   ]
  },
  {
   "cell_type": "code",
   "execution_count": 43,
   "metadata": {},
   "outputs": [
    {
     "name": "stdout",
     "output_type": "stream",
     "text": [
      " 15.124682 seconds (11 allocations: 763.092 MiB, 0.86% gc time)\n"
     ]
    }
   ],
   "source": [
    "@time x = A \\ b;"
   ]
  },
  {
   "cell_type": "code",
   "execution_count": 44,
   "metadata": {},
   "outputs": [
    {
     "name": "stdout",
     "output_type": "stream",
     "text": [
      " 16.674503 seconds (11 allocations: 763.092 MiB, 0.60% gc time)\n"
     ]
    }
   ],
   "source": [
    "@time x = A \\ b;"
   ]
  },
  {
   "cell_type": "markdown",
   "metadata": {},
   "source": [
    "サイズを$n=5000$から$n=10000$へと2倍にすると，下三角行列の連立方程式を解く時間は0.04秒から1.29秒へと増大する．これはおよそ4倍の増加であり，後退代入の計算量のオーダー$n^2$と一致する．一般の連立方程式の場合，計算時間は0.16秒から9.01秒へと増大している．つまりおよそ8倍であり，（逆行列計算の）オーダー$n^3$になっている．\n",
    "\n",
    "\n",
    "### 右辺が複数ある場合の factor-solve 法\n",
    "\n",
    "連立方程式を解く場合，$A$を因子分解しておき，その因子を使って別のより簡単ないくつかの方程式を解く，という方法がある．これはfactor-solve法と呼ばれている．これの重要な応用は，右辺は異なるが係数行列は同じである複数の連立方程式を一度に計算する，というものである．\n"
   ]
  },
  {
   "cell_type": "code",
   "execution_count": 45,
   "metadata": {},
   "outputs": [],
   "source": [
    "n = 5000;\n",
    "A = randn(n, n);\n",
    "B = randn(n, 2);"
   ]
  },
  {
   "cell_type": "code",
   "execution_count": 46,
   "metadata": {},
   "outputs": [
    {
     "name": "stdout",
     "output_type": "stream",
     "text": [
      "  2.095233 seconds (57.70 k allocations: 193.601 MiB, 8.24% gc time)\n"
     ]
    }
   ],
   "source": [
    "# 右辺がB[:,1]の連立方程式を解く\n",
    "@time x1 = A \\ B[:, 1];"
   ]
  },
  {
   "cell_type": "code",
   "execution_count": 47,
   "metadata": {},
   "outputs": [
    {
     "name": "stdout",
     "output_type": "stream",
     "text": [
      "  2.128608 seconds (14 allocations: 190.850 MiB, 1.06% gc time)\n"
     ]
    }
   ],
   "source": [
    "@time x1 = A \\ B[:, 1];"
   ]
  },
  {
   "cell_type": "code",
   "execution_count": 48,
   "metadata": {},
   "outputs": [
    {
     "name": "stdout",
     "output_type": "stream",
     "text": [
      "  2.060776 seconds (14 allocations: 190.850 MiB, 1.43% gc time)\n"
     ]
    }
   ],
   "source": [
    "# 右辺がB[:,2]の連立方程式を解く\n",
    "@time x2 = A \\ B[:, 2];"
   ]
  },
  {
   "cell_type": "code",
   "execution_count": 49,
   "metadata": {},
   "outputs": [
    {
     "name": "stdout",
     "output_type": "stream",
     "text": [
      "  2.357293 seconds (14 allocations: 190.850 MiB, 3.67% gc time)\n"
     ]
    }
   ],
   "source": [
    "@time x2 = A \\ B[:, 2];"
   ]
  },
  {
   "cell_type": "code",
   "execution_count": 50,
   "metadata": {},
   "outputs": [
    {
     "name": "stdout",
     "output_type": "stream",
     "text": [
      "  3.818341 seconds (233.64 k allocations: 393.169 MiB, 0.95% gc time)\n"
     ]
    }
   ],
   "source": [
    "# A*X = Bを解く単純な方法\n",
    "@time X = [ A\\B[:,1]  A\\B[:,2] ];"
   ]
  },
  {
   "cell_type": "code",
   "execution_count": 51,
   "metadata": {},
   "outputs": [
    {
     "name": "stdout",
     "output_type": "stream",
     "text": [
      "  3.566205 seconds (29 allocations: 381.776 MiB, 1.29% gc time)\n"
     ]
    }
   ],
   "source": [
    "@time X = [ A\\B[:,1]  A\\B[:,2] ];"
   ]
  },
  {
   "cell_type": "code",
   "execution_count": 52,
   "metadata": {},
   "outputs": [
    {
     "name": "stdout",
     "output_type": "stream",
     "text": [
      "  2.367875 seconds (386.56 k allocations: 209.670 MiB, 0.72% gc time)\n"
     ]
    }
   ],
   "source": [
    "# Factor-solve法\n",
    "@time X = A \\ B;"
   ]
  },
  {
   "cell_type": "code",
   "execution_count": 53,
   "metadata": {},
   "outputs": [
    {
     "name": "stdout",
     "output_type": "stream",
     "text": [
      "  1.792681 seconds (11 allocations: 190.850 MiB, 1.06% gc time)\n"
     ]
    }
   ],
   "source": [
    "@time X = A \\ B;"
   ]
  },
  {
   "cell_type": "markdown",
   "metadata": {},
   "source": [
    "\n",
    "factor-solve法は，右辺が2つの場合でも，右辺が1つの場合とほとんど同じ計算時間で解を求めることができる．単純に2つの連立方程式を解いてしまうと，計算時間は2倍になってしまう．\n",
    "\n",
    "\n",
    "## 11.4 例\n",
    "\n",
    "### 多項式補間\n",
    "\n",
    "本書の図11.1の多項式補間を計算する．以下のコードは`VMLS`パッケージの`vandermonde`と`linspace`を使っている（`linspace(a,b,n)`は，区間$[a,b]$を$n$等分した数列のベクトルを返す）．結果を図11.1に示す．"
   ]
  },
  {
   "cell_type": "code",
   "execution_count": 54,
   "metadata": {},
   "outputs": [],
   "source": [
    "t = [ -1.1, -0.4, 0.2, 0.8 ];"
   ]
  },
  {
   "cell_type": "code",
   "execution_count": 55,
   "metadata": {},
   "outputs": [],
   "source": [
    "using VMLS"
   ]
  },
  {
   "cell_type": "code",
   "execution_count": 56,
   "metadata": {},
   "outputs": [
    {
     "data": {
      "text/plain": [
       "4×4 Array{Float64,2}:\n",
       " 1.0  -1.1  1.21  -1.331\n",
       " 1.0  -0.4  0.16  -0.064\n",
       " 1.0   0.2  0.04   0.008\n",
       " 1.0   0.8  0.64   0.512"
      ]
     },
     "execution_count": 56,
     "metadata": {},
     "output_type": "execute_result"
    }
   ],
   "source": [
    "A = vandermonde(t, 4)"
   ]
  },
  {
   "cell_type": "code",
   "execution_count": 57,
   "metadata": {},
   "outputs": [],
   "source": [
    "b1 = [ -1.0, 1.3, 1.0, 0.5 ];"
   ]
  },
  {
   "cell_type": "code",
   "execution_count": 58,
   "metadata": {},
   "outputs": [
    {
     "data": {
      "text/plain": [
       "4-element Array{Float64,1}:\n",
       "  1.2109568793779317\n",
       " -0.8883105198894669\n",
       " -1.1096651886125566\n",
       "  1.3864790180579647"
      ]
     },
     "execution_count": 58,
     "metadata": {},
     "output_type": "execute_result"
    }
   ],
   "source": [
    "c1 = A \\ b1"
   ]
  },
  {
   "cell_type": "code",
   "execution_count": 59,
   "metadata": {},
   "outputs": [],
   "source": [
    "b2 = [ 1.0, 0.0, -2.0, 0 ];"
   ]
  },
  {
   "cell_type": "code",
   "execution_count": 60,
   "metadata": {},
   "outputs": [
    {
     "data": {
      "text/plain": [
       "4-element Array{Float64,1}:\n",
       " -1.5412891202364887\n",
       " -3.1090546880020584\n",
       "  3.3384743911059704\n",
       "  3.695135274082644 "
      ]
     },
     "execution_count": 60,
     "metadata": {},
     "output_type": "execute_result"
    }
   ],
   "source": [
    "c2 = A \\ b2"
   ]
  },
  {
   "cell_type": "code",
   "execution_count": 61,
   "metadata": {},
   "outputs": [
    {
     "data": {
      "image/svg+xml": [
       "<?xml version=\"1.0\" encoding=\"utf-8\"?>\n",
       "<svg xmlns=\"http://www.w3.org/2000/svg\" xmlns:xlink=\"http://www.w3.org/1999/xlink\" width=\"600\" height=\"400\" viewBox=\"0 0 2400 1600\">\n",
       "<defs>\n",
       "  <clipPath id=\"clip2700\">\n",
       "    <rect x=\"0\" y=\"0\" width=\"2400\" height=\"1600\"/>\n",
       "  </clipPath>\n",
       "</defs>\n",
       "<polygon clip-path=\"url(#clip2700)\" points=\"\n",
       "0,1600 2400,1600 2400,0 0,0 \n",
       "  \" fill=\"#ffffff\" fill-rule=\"evenodd\" fill-opacity=\"1\"/>\n",
       "<defs>\n",
       "  <clipPath id=\"clip2701\">\n",
       "    <rect x=\"480\" y=\"0\" width=\"1681\" height=\"1600\"/>\n",
       "  </clipPath>\n",
       "</defs>\n",
       "<polygon clip-path=\"url(#clip2700)\" points=\"\n",
       "149.361,1503.47 2321.26,1503.47 2321.26,47.2441 149.361,47.2441 \n",
       "  \" fill=\"#ffffff\" fill-rule=\"evenodd\" fill-opacity=\"1\"/>\n",
       "<defs>\n",
       "  <clipPath id=\"clip2702\">\n",
       "    <rect x=\"149\" y=\"47\" width=\"2173\" height=\"1457\"/>\n",
       "  </clipPath>\n",
       "</defs>\n",
       "<polyline clip-path=\"url(#clip2702)\" style=\"stroke:#000000; stroke-width:2; stroke-opacity:0.1; fill:none\" points=\"\n",
       "  381.576,1503.47 381.576,47.2441 \n",
       "  \"/>\n",
       "<polyline clip-path=\"url(#clip2702)\" style=\"stroke:#000000; stroke-width:2; stroke-opacity:0.1; fill:none\" points=\"\n",
       "  808.443,1503.47 808.443,47.2441 \n",
       "  \"/>\n",
       "<polyline clip-path=\"url(#clip2702)\" style=\"stroke:#000000; stroke-width:2; stroke-opacity:0.1; fill:none\" points=\"\n",
       "  1235.31,1503.47 1235.31,47.2441 \n",
       "  \"/>\n",
       "<polyline clip-path=\"url(#clip2702)\" style=\"stroke:#000000; stroke-width:2; stroke-opacity:0.1; fill:none\" points=\"\n",
       "  1662.18,1503.47 1662.18,47.2441 \n",
       "  \"/>\n",
       "<polyline clip-path=\"url(#clip2702)\" style=\"stroke:#000000; stroke-width:2; stroke-opacity:0.1; fill:none\" points=\"\n",
       "  2089.04,1503.47 2089.04,47.2441 \n",
       "  \"/>\n",
       "<polyline clip-path=\"url(#clip2702)\" style=\"stroke:#000000; stroke-width:2; stroke-opacity:0.1; fill:none\" points=\"\n",
       "  149.361,1449.51 2321.26,1449.51 \n",
       "  \"/>\n",
       "<polyline clip-path=\"url(#clip2702)\" style=\"stroke:#000000; stroke-width:2; stroke-opacity:0.1; fill:none\" points=\"\n",
       "  149.361,1105.83 2321.26,1105.83 \n",
       "  \"/>\n",
       "<polyline clip-path=\"url(#clip2702)\" style=\"stroke:#000000; stroke-width:2; stroke-opacity:0.1; fill:none\" points=\"\n",
       "  149.361,762.148 2321.26,762.148 \n",
       "  \"/>\n",
       "<polyline clip-path=\"url(#clip2702)\" style=\"stroke:#000000; stroke-width:2; stroke-opacity:0.1; fill:none\" points=\"\n",
       "  149.361,418.467 2321.26,418.467 \n",
       "  \"/>\n",
       "<polyline clip-path=\"url(#clip2702)\" style=\"stroke:#000000; stroke-width:2; stroke-opacity:0.1; fill:none\" points=\"\n",
       "  149.361,74.7869 2321.26,74.7869 \n",
       "  \"/>\n",
       "<polyline clip-path=\"url(#clip2700)\" style=\"stroke:#000000; stroke-width:4; stroke-opacity:1; fill:none\" points=\"\n",
       "  149.361,1503.47 2321.26,1503.47 \n",
       "  \"/>\n",
       "<polyline clip-path=\"url(#clip2700)\" style=\"stroke:#000000; stroke-width:4; stroke-opacity:1; fill:none\" points=\"\n",
       "  149.361,1503.47 149.361,47.2441 \n",
       "  \"/>\n",
       "<polyline clip-path=\"url(#clip2700)\" style=\"stroke:#000000; stroke-width:4; stroke-opacity:1; fill:none\" points=\"\n",
       "  381.576,1503.47 381.576,1481.63 \n",
       "  \"/>\n",
       "<polyline clip-path=\"url(#clip2700)\" style=\"stroke:#000000; stroke-width:4; stroke-opacity:1; fill:none\" points=\"\n",
       "  808.443,1503.47 808.443,1481.63 \n",
       "  \"/>\n",
       "<polyline clip-path=\"url(#clip2700)\" style=\"stroke:#000000; stroke-width:4; stroke-opacity:1; fill:none\" points=\"\n",
       "  1235.31,1503.47 1235.31,1481.63 \n",
       "  \"/>\n",
       "<polyline clip-path=\"url(#clip2700)\" style=\"stroke:#000000; stroke-width:4; stroke-opacity:1; fill:none\" points=\"\n",
       "  1662.18,1503.47 1662.18,1481.63 \n",
       "  \"/>\n",
       "<polyline clip-path=\"url(#clip2700)\" style=\"stroke:#000000; stroke-width:4; stroke-opacity:1; fill:none\" points=\"\n",
       "  2089.04,1503.47 2089.04,1481.63 \n",
       "  \"/>\n",
       "<polyline clip-path=\"url(#clip2700)\" style=\"stroke:#000000; stroke-width:4; stroke-opacity:1; fill:none\" points=\"\n",
       "  149.361,1449.51 181.939,1449.51 \n",
       "  \"/>\n",
       "<polyline clip-path=\"url(#clip2700)\" style=\"stroke:#000000; stroke-width:4; stroke-opacity:1; fill:none\" points=\"\n",
       "  149.361,1105.83 181.939,1105.83 \n",
       "  \"/>\n",
       "<polyline clip-path=\"url(#clip2700)\" style=\"stroke:#000000; stroke-width:4; stroke-opacity:1; fill:none\" points=\"\n",
       "  149.361,762.148 181.939,762.148 \n",
       "  \"/>\n",
       "<polyline clip-path=\"url(#clip2700)\" style=\"stroke:#000000; stroke-width:4; stroke-opacity:1; fill:none\" points=\"\n",
       "  149.361,418.467 181.939,418.467 \n",
       "  \"/>\n",
       "<polyline clip-path=\"url(#clip2700)\" style=\"stroke:#000000; stroke-width:4; stroke-opacity:1; fill:none\" points=\"\n",
       "  149.361,74.7869 181.939,74.7869 \n",
       "  \"/>\n",
       "<g clip-path=\"url(#clip2700)\">\n",
       "<text style=\"fill:#000000; fill-opacity:1; font-family:Arial,Helvetica Neue,Helvetica,sans-serif; font-size:48px; text-anchor:middle;\" transform=\"rotate(0, 381.576, 1557.47)\" x=\"381.576\" y=\"1557.47\">-1.0</text>\n",
       "</g>\n",
       "<g clip-path=\"url(#clip2700)\">\n",
       "<text style=\"fill:#000000; fill-opacity:1; font-family:Arial,Helvetica Neue,Helvetica,sans-serif; font-size:48px; text-anchor:middle;\" transform=\"rotate(0, 808.443, 1557.47)\" x=\"808.443\" y=\"1557.47\">-0.5</text>\n",
       "</g>\n",
       "<g clip-path=\"url(#clip2700)\">\n",
       "<text style=\"fill:#000000; fill-opacity:1; font-family:Arial,Helvetica Neue,Helvetica,sans-serif; font-size:48px; text-anchor:middle;\" transform=\"rotate(0, 1235.31, 1557.47)\" x=\"1235.31\" y=\"1557.47\">0.0</text>\n",
       "</g>\n",
       "<g clip-path=\"url(#clip2700)\">\n",
       "<text style=\"fill:#000000; fill-opacity:1; font-family:Arial,Helvetica Neue,Helvetica,sans-serif; font-size:48px; text-anchor:middle;\" transform=\"rotate(0, 1662.18, 1557.47)\" x=\"1662.18\" y=\"1557.47\">0.5</text>\n",
       "</g>\n",
       "<g clip-path=\"url(#clip2700)\">\n",
       "<text style=\"fill:#000000; fill-opacity:1; font-family:Arial,Helvetica Neue,Helvetica,sans-serif; font-size:48px; text-anchor:middle;\" transform=\"rotate(0, 2089.04, 1557.47)\" x=\"2089.04\" y=\"1557.47\">1.0</text>\n",
       "</g>\n",
       "<g clip-path=\"url(#clip2700)\">\n",
       "<text style=\"fill:#000000; fill-opacity:1; font-family:Arial,Helvetica Neue,Helvetica,sans-serif; font-size:48px; text-anchor:end;\" transform=\"rotate(0, 125.361, 1467.01)\" x=\"125.361\" y=\"1467.01\">-2</text>\n",
       "</g>\n",
       "<g clip-path=\"url(#clip2700)\">\n",
       "<text style=\"fill:#000000; fill-opacity:1; font-family:Arial,Helvetica Neue,Helvetica,sans-serif; font-size:48px; text-anchor:end;\" transform=\"rotate(0, 125.361, 1123.33)\" x=\"125.361\" y=\"1123.33\">0</text>\n",
       "</g>\n",
       "<g clip-path=\"url(#clip2700)\">\n",
       "<text style=\"fill:#000000; fill-opacity:1; font-family:Arial,Helvetica Neue,Helvetica,sans-serif; font-size:48px; text-anchor:end;\" transform=\"rotate(0, 125.361, 779.648)\" x=\"125.361\" y=\"779.648\">2</text>\n",
       "</g>\n",
       "<g clip-path=\"url(#clip2700)\">\n",
       "<text style=\"fill:#000000; fill-opacity:1; font-family:Arial,Helvetica Neue,Helvetica,sans-serif; font-size:48px; text-anchor:end;\" transform=\"rotate(0, 125.361, 435.967)\" x=\"125.361\" y=\"435.967\">4</text>\n",
       "</g>\n",
       "<g clip-path=\"url(#clip2700)\">\n",
       "<text style=\"fill:#000000; fill-opacity:1; font-family:Arial,Helvetica Neue,Helvetica,sans-serif; font-size:48px; text-anchor:end;\" transform=\"rotate(0, 125.361, 92.2869)\" x=\"125.361\" y=\"92.2869\">6</text>\n",
       "</g>\n",
       "<polyline clip-path=\"url(#clip2702)\" style=\"stroke:#009af9; stroke-width:4; stroke-opacity:1; fill:none\" points=\"\n",
       "  210.829,1400.85 212.88,1397.65 214.931,1394.46 216.982,1391.29 219.034,1388.12 221.085,1384.97 223.136,1381.83 225.187,1378.71 227.238,1375.59 229.289,1372.49 \n",
       "  231.34,1369.4 233.391,1366.32 235.442,1363.25 237.493,1360.19 239.544,1357.15 241.595,1354.12 243.646,1351.1 245.697,1348.09 247.748,1345.09 249.799,1342.11 \n",
       "  251.85,1339.13 253.901,1336.17 255.952,1333.22 258.003,1330.28 260.054,1327.36 262.105,1324.44 264.156,1321.54 266.207,1318.65 268.258,1315.77 270.309,1312.9 \n",
       "  272.36,1310.04 274.411,1307.2 276.462,1304.36 278.513,1301.54 280.564,1298.73 282.615,1295.93 284.666,1293.14 286.717,1290.36 288.768,1287.6 290.819,1284.84 \n",
       "  292.87,1282.1 294.921,1279.37 296.972,1276.65 299.023,1273.94 301.074,1271.24 303.125,1268.56 305.176,1265.88 307.227,1263.22 309.278,1260.56 311.329,1257.92 \n",
       "  313.38,1255.29 315.431,1252.67 317.482,1250.06 319.533,1247.47 321.584,1244.88 323.635,1242.3 325.686,1239.74 327.737,1237.19 329.788,1234.64 331.839,1232.11 \n",
       "  333.89,1229.59 335.941,1227.08 337.992,1224.58 340.043,1222.1 342.094,1219.62 344.145,1217.15 346.196,1214.7 348.247,1212.25 350.298,1209.82 352.349,1207.4 \n",
       "  354.4,1204.99 356.451,1202.58 358.502,1200.19 360.553,1197.81 362.604,1195.44 364.655,1193.08 366.706,1190.74 368.757,1188.4 370.808,1186.07 372.859,1183.76 \n",
       "  374.91,1181.45 376.961,1179.15 379.012,1176.87 381.064,1174.59 383.115,1172.33 385.166,1170.08 387.217,1167.83 389.268,1165.6 391.319,1163.38 393.37,1161.17 \n",
       "  395.421,1158.96 397.472,1156.77 399.523,1154.59 401.574,1152.42 403.625,1150.26 405.676,1148.11 407.727,1145.97 409.778,1143.84 411.829,1141.72 413.88,1139.61 \n",
       "  415.931,1137.51 417.982,1135.42 420.033,1133.34 422.084,1131.27 424.135,1129.22 426.186,1127.17 428.237,1125.13 430.288,1123.1 432.339,1121.08 434.39,1119.07 \n",
       "  436.441,1117.07 438.492,1115.08 440.543,1113.1 442.594,1111.13 444.645,1109.17 446.696,1107.22 448.747,1105.28 450.798,1103.35 452.849,1101.43 454.9,1099.52 \n",
       "  456.951,1097.62 459.002,1095.73 461.053,1093.85 463.104,1091.98 465.155,1090.12 467.206,1088.26 469.257,1086.42 471.308,1084.59 473.359,1082.77 475.41,1080.95 \n",
       "  477.461,1079.15 479.512,1077.35 481.563,1075.57 483.614,1073.79 485.665,1072.02 487.716,1070.27 489.767,1068.52 491.818,1066.78 493.869,1065.05 495.92,1063.33 \n",
       "  497.971,1061.62 500.022,1059.92 502.073,1058.23 504.124,1056.55 506.175,1054.88 508.226,1053.21 510.277,1051.56 512.328,1049.91 514.379,1048.28 516.43,1046.65 \n",
       "  518.481,1045.03 520.532,1043.42 522.583,1041.82 524.634,1040.23 526.685,1038.65 528.736,1037.08 530.787,1035.52 532.838,1033.96 534.889,1032.42 536.94,1030.88 \n",
       "  538.991,1029.35 541.042,1027.84 543.093,1026.33 545.145,1024.83 547.196,1023.33 549.247,1021.85 551.298,1020.38 553.349,1018.91 555.4,1017.46 557.451,1016.01 \n",
       "  559.502,1014.57 561.553,1013.14 563.604,1011.72 565.655,1010.3 567.706,1008.9 569.757,1007.5 571.808,1006.12 573.859,1004.74 575.91,1003.37 577.961,1002.01 \n",
       "  580.012,1000.66 582.063,999.313 584.114,997.977 586.165,996.65 588.216,995.332 590.267,994.022 592.318,992.72 594.369,991.427 596.42,990.142 598.471,988.866 \n",
       "  600.522,987.598 602.573,986.338 604.624,985.087 606.675,983.844 608.726,982.609 610.777,981.383 612.828,980.164 614.879,978.954 616.93,977.752 618.981,976.559 \n",
       "  621.032,975.373 623.083,974.196 625.134,973.026 627.185,971.865 629.236,970.712 631.287,969.567 633.338,968.43 635.389,967.301 637.44,966.18 639.491,965.067 \n",
       "  641.542,963.962 643.593,962.865 645.644,961.775 647.695,960.694 649.746,959.621 651.797,958.555 653.848,957.497 655.899,956.447 657.95,955.405 660.001,954.371 \n",
       "  662.052,953.344 664.103,952.326 666.154,951.314 668.205,950.311 670.256,949.315 672.307,948.327 674.358,947.347 676.409,946.374 678.46,945.409 680.511,944.451 \n",
       "  682.562,943.501 684.613,942.559 686.664,941.624 688.715,940.696 690.766,939.776 692.817,938.864 694.868,937.959 696.919,937.061 698.97,936.171 701.021,935.288 \n",
       "  703.072,934.412 705.123,933.544 707.174,932.683 709.226,931.83 711.277,930.983 713.328,930.144 715.379,929.313 717.43,928.488 719.481,927.671 721.532,926.861 \n",
       "  723.583,926.058 725.634,925.262 727.685,924.473 729.736,923.692 731.787,922.917 733.838,922.15 735.889,921.389 737.94,920.636 739.991,919.89 742.042,919.15 \n",
       "  744.093,918.418 746.144,917.692 748.195,916.974 750.246,916.262 752.297,915.558 754.348,914.86 756.399,914.169 758.45,913.485 760.501,912.807 762.552,912.137 \n",
       "  764.603,911.473 766.654,910.816 768.705,910.166 770.756,909.522 772.807,908.885 774.858,908.255 776.909,907.631 778.96,907.014 781.011,906.404 783.062,905.8 \n",
       "  785.113,905.203 787.164,904.612 789.215,904.028 791.266,903.451 793.317,902.879 795.368,902.315 797.419,901.757 799.47,901.205 801.521,900.66 803.572,900.121 \n",
       "  805.623,899.588 807.674,899.062 809.725,898.542 811.776,898.028 813.827,897.521 815.878,897.02 817.929,896.525 819.98,896.037 822.031,895.555 824.082,895.079 \n",
       "  826.133,894.609 828.184,894.145 830.235,893.687 832.286,893.236 834.337,892.79 836.388,892.351 838.439,891.918 840.49,891.49 842.541,891.069 844.592,890.654 \n",
       "  846.643,890.245 848.694,889.841 850.745,889.444 852.796,889.053 854.847,888.667 856.898,888.287 858.949,887.914 861,887.546 863.051,887.183 865.102,886.827 \n",
       "  867.153,886.477 869.204,886.132 871.255,885.793 873.307,885.459 875.358,885.132 877.409,884.81 879.46,884.493 881.511,884.183 883.562,883.878 885.613,883.578 \n",
       "  887.664,883.284 889.715,882.996 891.766,882.713 893.817,882.436 895.868,882.164 897.919,881.898 899.97,881.637 902.021,881.382 904.072,881.132 906.123,880.887 \n",
       "  908.174,880.648 910.225,880.414 912.276,880.186 914.327,879.963 916.378,879.745 918.429,879.532 920.48,879.325 922.531,879.123 924.582,878.926 926.633,878.734 \n",
       "  928.684,878.548 930.735,878.367 932.786,878.191 934.837,878.02 936.888,877.854 938.939,877.693 940.99,877.537 943.041,877.386 945.092,877.241 947.143,877.1 \n",
       "  949.194,876.964 951.245,876.834 953.296,876.708 955.347,876.587 957.398,876.471 959.449,876.36 961.5,876.254 963.551,876.153 965.602,876.056 967.653,875.964 \n",
       "  969.704,875.878 971.755,875.795 973.806,875.718 975.857,875.645 977.908,875.577 979.959,875.514 982.01,875.456 984.061,875.402 986.112,875.352 988.163,875.308 \n",
       "  990.214,875.267 992.265,875.232 994.316,875.201 996.367,875.174 998.418,875.152 1000.47,875.135 1002.52,875.122 1004.57,875.113 1006.62,875.109 1008.67,875.11 \n",
       "  1010.72,875.114 1012.78,875.123 1014.83,875.137 1016.88,875.154 1018.93,875.176 1020.98,875.203 1023.03,875.233 1025.08,875.268 1027.13,875.307 1029.18,875.351 \n",
       "  1031.23,875.398 1033.29,875.45 1035.34,875.506 1037.39,875.566 1039.44,875.63 1041.49,875.698 1043.54,875.77 1045.59,875.847 1047.64,875.927 1049.69,876.011 \n",
       "  1051.74,876.1 1053.8,876.192 1055.85,876.288 1057.9,876.388 1059.95,876.492 1062,876.601 1064.05,876.712 1066.1,876.828 1068.15,876.948 1070.2,877.071 \n",
       "  1072.25,877.198 1074.31,877.329 1076.36,877.464 1078.41,877.603 1080.46,877.745 1082.51,877.891 1084.56,878.04 1086.61,878.193 1088.66,878.35 1090.71,878.511 \n",
       "  1092.76,878.675 1094.82,878.843 1096.87,879.014 1098.92,879.189 1100.97,879.367 1103.02,879.549 1105.07,879.734 1107.12,879.923 1109.17,880.115 1111.22,880.31 \n",
       "  1113.27,880.509 1115.33,880.712 1117.38,880.917 1119.43,881.126 1121.48,881.339 1123.53,881.554 1125.58,881.773 1127.63,881.996 1129.68,882.221 1131.73,882.45 \n",
       "  1133.79,882.682 1135.84,882.917 1137.89,883.155 1139.94,883.396 1141.99,883.641 1144.04,883.888 1146.09,884.139 1148.14,884.393 1150.19,884.65 1152.24,884.909 \n",
       "  1154.3,885.172 1156.35,885.438 1158.4,885.707 1160.45,885.979 1162.5,886.253 1164.55,886.531 1166.6,886.811 1168.65,887.094 1170.7,887.381 1172.75,887.67 \n",
       "  1174.81,887.961 1176.86,888.256 1178.91,888.553 1180.96,888.853 1183.01,889.156 1185.06,889.462 1187.11,889.77 1189.16,890.081 1191.21,890.394 1193.26,890.71 \n",
       "  1195.32,891.029 1197.37,891.35 1199.42,891.674 1201.47,892.001 1203.52,892.33 1205.57,892.661 1207.62,892.995 1209.67,893.331 1211.72,893.67 1213.77,894.012 \n",
       "  1215.83,894.355 1217.88,894.701 1219.93,895.05 1221.98,895.401 1224.03,895.754 1226.08,896.109 1228.13,896.467 1230.18,896.827 1232.23,897.189 1234.28,897.554 \n",
       "  1236.34,897.921 1238.39,898.29 1240.44,898.661 1242.49,899.034 1244.54,899.409 1246.59,899.787 1248.64,900.166 1250.69,900.548 1252.74,900.932 1254.79,901.317 \n",
       "  1256.85,901.705 1258.9,902.095 1260.95,902.487 1263,902.88 1265.05,903.276 1267.1,903.673 1269.15,904.073 1271.2,904.474 1273.25,904.877 1275.3,905.282 \n",
       "  1277.36,905.689 1279.41,906.097 1281.46,906.508 1283.51,906.92 1285.56,907.334 1287.61,907.749 1289.66,908.167 1291.71,908.585 1293.76,909.006 1295.82,909.428 \n",
       "  1297.87,909.852 1299.92,910.278 1301.97,910.705 1304.02,911.133 1306.07,911.563 1308.12,911.995 1310.17,912.428 1312.22,912.863 1314.27,913.299 1316.33,913.736 \n",
       "  1318.38,914.175 1320.43,914.615 1322.48,915.057 1324.53,915.5 1326.58,915.944 1328.63,916.39 1330.68,916.837 1332.73,917.285 1334.78,917.735 1336.84,918.186 \n",
       "  1338.89,918.638 1340.94,919.091 1342.99,919.545 1345.04,920.001 1347.09,920.457 1349.14,920.915 1351.19,921.374 1353.24,921.834 1355.29,922.295 1357.35,922.757 \n",
       "  1359.4,923.22 1361.45,923.684 1363.5,924.15 1365.55,924.616 1367.6,925.083 1369.65,925.551 1371.7,926.019 1373.75,926.489 1375.8,926.96 1377.86,927.431 \n",
       "  1379.91,927.903 1381.96,928.376 1384.01,928.85 1386.06,929.325 1388.11,929.8 1390.16,930.276 1392.21,930.753 1394.26,931.23 1396.31,931.708 1398.37,932.187 \n",
       "  1400.42,932.667 1402.47,933.147 1404.52,933.627 1406.57,934.108 1408.62,934.59 1410.67,935.072 1412.72,935.555 1414.77,936.038 1416.82,936.522 1418.88,937.006 \n",
       "  1420.93,937.49 1422.98,937.975 1425.03,938.461 1427.08,938.946 1429.13,939.432 1431.18,939.919 1433.23,940.406 1435.28,940.892 1437.33,941.38 1439.39,941.867 \n",
       "  1441.44,942.355 1443.49,942.843 1445.54,943.331 1447.59,943.819 1449.64,944.308 1451.69,944.796 1453.74,945.285 1455.79,945.774 1457.85,946.263 1459.9,946.751 \n",
       "  1461.95,947.24 1464,947.729 1466.05,948.218 1468.1,948.707 1470.15,949.196 1472.2,949.685 1474.25,950.173 1476.3,950.662 1478.36,951.151 1480.41,951.639 \n",
       "  1482.46,952.127 1484.51,952.615 1486.56,953.103 1488.61,953.59 1490.66,954.077 1492.71,954.564 1494.76,955.051 1496.81,955.538 1498.87,956.024 1500.92,956.509 \n",
       "  1502.97,956.995 1505.02,957.48 1507.07,957.964 1509.12,958.449 1511.17,958.932 1513.22,959.415 1515.27,959.898 1517.32,960.38 1519.38,960.862 1521.43,961.343 \n",
       "  1523.48,961.824 1525.53,962.304 1527.58,962.784 1529.63,963.262 1531.68,963.741 1533.73,964.218 1535.78,964.695 1537.83,965.171 1539.89,965.646 1541.94,966.121 \n",
       "  1543.99,966.595 1546.04,967.068 1548.09,967.54 1550.14,968.012 1552.19,968.483 1554.24,968.952 1556.29,969.421 1558.34,969.889 1560.4,970.356 1562.45,970.822 \n",
       "  1564.5,971.288 1566.55,971.752 1568.6,972.215 1570.65,972.677 1572.7,973.138 1574.75,973.598 1576.8,974.057 1578.85,974.515 1580.91,974.972 1582.96,975.428 \n",
       "  1585.01,975.882 1587.06,976.336 1589.11,976.788 1591.16,977.239 1593.21,977.688 1595.26,978.137 1597.31,978.584 1599.36,979.03 1601.42,979.474 1603.47,979.917 \n",
       "  1605.52,980.359 1607.57,980.8 1609.62,981.239 1611.67,981.676 1613.72,982.112 1615.77,982.547 1617.82,982.98 1619.88,983.412 1621.93,983.842 1623.98,984.271 \n",
       "  1626.03,984.698 1628.08,985.124 1630.13,985.548 1632.18,985.97 1634.23,986.391 1636.28,986.81 1638.33,987.227 1640.39,987.643 1642.44,988.057 1644.49,988.469 \n",
       "  1646.54,988.88 1648.59,989.289 1650.64,989.696 1652.69,990.101 1654.74,990.504 1656.79,990.906 1658.84,991.305 1660.9,991.703 1662.95,992.099 1665,992.492 \n",
       "  1667.05,992.884 1669.1,993.274 1671.15,993.662 1673.2,994.048 1675.25,994.432 1677.3,994.814 1679.35,995.194 1681.41,995.571 1683.46,995.947 1685.51,996.32 \n",
       "  1687.56,996.692 1689.61,997.061 1691.66,997.428 1693.71,997.792 1695.76,998.155 1697.81,998.515 1699.86,998.873 1701.92,999.229 1703.97,999.582 1706.02,999.933 \n",
       "  1708.07,1000.28 1710.12,1000.63 1712.17,1000.97 1714.22,1001.31 1716.27,1001.65 1718.32,1001.99 1720.37,1002.32 1722.43,1002.66 1724.48,1002.98 1726.53,1003.31 \n",
       "  1728.58,1003.64 1730.63,1003.96 1732.68,1004.28 1734.73,1004.59 1736.78,1004.91 1738.83,1005.22 1740.88,1005.53 1742.94,1005.83 1744.99,1006.13 1747.04,1006.43 \n",
       "  1749.09,1006.73 1751.14,1007.03 1753.19,1007.32 1755.24,1007.61 1757.29,1007.89 1759.34,1008.18 1761.39,1008.46 1763.45,1008.74 1765.5,1009.01 1767.55,1009.28 \n",
       "  1769.6,1009.55 1771.65,1009.82 1773.7,1010.08 1775.75,1010.34 1777.8,1010.6 1779.85,1010.85 1781.91,1011.1 1783.96,1011.35 1786.01,1011.6 1788.06,1011.84 \n",
       "  1790.11,1012.08 1792.16,1012.31 1794.21,1012.54 1796.26,1012.77 1798.31,1013 1800.36,1013.22 1802.42,1013.44 1804.47,1013.66 1806.52,1013.87 1808.57,1014.08 \n",
       "  1810.62,1014.29 1812.67,1014.49 1814.72,1014.69 1816.77,1014.88 1818.82,1015.08 1820.87,1015.27 1822.93,1015.45 1824.98,1015.63 1827.03,1015.81 1829.08,1015.99 \n",
       "  1831.13,1016.16 1833.18,1016.33 1835.23,1016.49 1837.28,1016.65 1839.33,1016.81 1841.38,1016.96 1843.44,1017.11 1845.49,1017.26 1847.54,1017.4 1849.59,1017.54 \n",
       "  1851.64,1017.67 1853.69,1017.81 1855.74,1017.93 1857.79,1018.06 1859.84,1018.18 1861.89,1018.29 1863.95,1018.41 1866,1018.51 1868.05,1018.62 1870.1,1018.72 \n",
       "  1872.15,1018.82 1874.2,1018.91 1876.25,1019 1878.3,1019.08 1880.35,1019.16 1882.4,1019.24 1884.46,1019.31 1886.51,1019.38 1888.56,1019.45 1890.61,1019.51 \n",
       "  1892.66,1019.56 1894.71,1019.61 1896.76,1019.66 1898.81,1019.71 1900.86,1019.75 1902.91,1019.78 1904.97,1019.81 1907.02,1019.84 1909.07,1019.86 1911.12,1019.88 \n",
       "  1913.17,1019.89 1915.22,1019.9 1917.27,1019.91 1919.32,1019.91 1921.37,1019.9 1923.42,1019.9 1925.48,1019.88 1927.53,1019.87 1929.58,1019.84 1931.63,1019.82 \n",
       "  1933.68,1019.79 1935.73,1019.75 1937.78,1019.71 1939.83,1019.67 1941.88,1019.62 1943.94,1019.57 1945.99,1019.51 1948.04,1019.45 1950.09,1019.38 1952.14,1019.31 \n",
       "  1954.19,1019.23 1956.24,1019.15 1958.29,1019.06 1960.34,1018.97 1962.39,1018.87 1964.45,1018.77 1966.5,1018.67 1968.55,1018.56 1970.6,1018.44 1972.65,1018.32 \n",
       "  1974.7,1018.2 1976.75,1018.07 1978.8,1017.93 1980.85,1017.79 1982.9,1017.64 1984.96,1017.49 1987.01,1017.34 1989.06,1017.18 1991.11,1017.01 1993.16,1016.84 \n",
       "  1995.21,1016.67 1997.26,1016.49 1999.31,1016.3 2001.36,1016.11 2003.41,1015.91 2005.47,1015.71 2007.52,1015.5 2009.57,1015.29 2011.62,1015.08 2013.67,1014.85 \n",
       "  2015.72,1014.63 2017.77,1014.39 2019.82,1014.15 2021.87,1013.91 2023.92,1013.66 2025.98,1013.4 2028.03,1013.14 2030.08,1012.88 2032.13,1012.61 2034.18,1012.33 \n",
       "  2036.23,1012.05 2038.28,1011.76 2040.33,1011.47 2042.38,1011.17 2044.43,1010.86 2046.49,1010.55 2048.54,1010.24 2050.59,1009.92 2052.64,1009.59 2054.69,1009.26 \n",
       "  2056.74,1008.92 2058.79,1008.57 2060.84,1008.22 2062.89,1007.87 2064.94,1007.51 2067,1007.14 2069.05,1006.77 2071.1,1006.39 2073.15,1006 2075.2,1005.61 \n",
       "  2077.25,1005.21 2079.3,1004.81 2081.35,1004.4 2083.4,1003.99 2085.45,1003.57 2087.51,1003.14 2089.56,1002.71 2091.61,1002.27 2093.66,1001.82 2095.71,1001.37 \n",
       "  2097.76,1000.92 2099.81,1000.45 2101.86,999.984 2103.91,999.508 2105.97,999.027 2108.02,998.539 2110.07,998.045 2112.12,997.544 2114.17,997.038 2116.22,996.525 \n",
       "  2118.27,996.005 2120.32,995.48 2122.37,994.948 2124.42,994.41 2126.48,993.865 2128.53,993.314 2130.58,992.756 2132.63,992.192 2134.68,991.622 2136.73,991.045 \n",
       "  2138.78,990.461 2140.83,989.871 2142.88,989.275 2144.93,988.672 2146.99,988.062 2149.04,987.446 2151.09,986.823 2153.14,986.193 2155.19,985.557 2157.24,984.914 \n",
       "  2159.29,984.264 2161.34,983.608 2163.39,982.945 2165.44,982.275 2167.5,981.598 2169.55,980.914 2171.6,980.224 2173.65,979.527 2175.7,978.823 2177.75,978.112 \n",
       "  2179.8,977.394 2181.85,976.669 2183.9,975.938 2185.95,975.199 2188.01,974.453 2190.06,973.701 2192.11,972.941 2194.16,972.174 2196.21,971.4 2198.26,970.619 \n",
       "  2200.31,969.831 2202.36,969.036 2204.41,968.234 2206.46,967.425 2208.52,966.608 2210.57,965.784 2212.62,964.953 2214.67,964.115 2216.72,963.269 2218.77,962.416 \n",
       "  2220.82,961.556 2222.87,960.689 2224.92,959.814 2226.97,958.932 2229.03,958.042 2231.08,957.145 2233.13,956.241 2235.18,955.329 2237.23,954.41 2239.28,953.483 \n",
       "  2241.33,952.549 2243.38,951.607 2245.43,950.658 2247.48,949.701 2249.54,948.736 2251.59,947.764 2253.64,946.785 2255.69,945.797 2257.74,944.802 2259.79,943.8 \n",
       "  \n",
       "  \"/>\n",
       "<circle clip-path=\"url(#clip2702)\" style=\"fill:#000000; stroke:none; fill-opacity:1\" cx=\"296.203\" cy=\"1277.67\" r=\"18\"/>\n",
       "<circle clip-path=\"url(#clip2702)\" style=\"fill:#e26f46; stroke:none; fill-opacity:1\" cx=\"296.203\" cy=\"1277.67\" r=\"14\"/>\n",
       "<circle clip-path=\"url(#clip2702)\" style=\"fill:#000000; stroke:none; fill-opacity:1\" cx=\"893.817\" cy=\"882.436\" r=\"18\"/>\n",
       "<circle clip-path=\"url(#clip2702)\" style=\"fill:#e26f46; stroke:none; fill-opacity:1\" cx=\"893.817\" cy=\"882.436\" r=\"14\"/>\n",
       "<circle clip-path=\"url(#clip2702)\" style=\"fill:#000000; stroke:none; fill-opacity:1\" cx=\"1406.06\" cy=\"933.988\" r=\"18\"/>\n",
       "<circle clip-path=\"url(#clip2702)\" style=\"fill:#e26f46; stroke:none; fill-opacity:1\" cx=\"1406.06\" cy=\"933.988\" r=\"14\"/>\n",
       "<circle clip-path=\"url(#clip2702)\" style=\"fill:#000000; stroke:none; fill-opacity:1\" cx=\"1918.3\" cy=\"1019.91\" r=\"18\"/>\n",
       "<circle clip-path=\"url(#clip2702)\" style=\"fill:#e26f46; stroke:none; fill-opacity:1\" cx=\"1918.3\" cy=\"1019.91\" r=\"14\"/>\n",
       "<polyline clip-path=\"url(#clip2702)\" style=\"stroke:#3da44d; stroke-width:4; stroke-opacity:1; fill:none\" points=\"\n",
       "  210.829,1000.7 212.88,998.71 214.931,996.741 216.982,994.791 219.034,992.861 221.085,990.951 223.136,989.06 225.187,987.189 227.238,985.337 229.289,983.504 \n",
       "  231.34,981.691 233.391,979.896 235.442,978.122 237.493,976.366 239.544,974.629 241.595,972.911 243.646,971.212 245.697,969.533 247.748,967.872 249.799,966.23 \n",
       "  251.85,964.606 253.901,963.001 255.952,961.415 258.003,959.848 260.054,958.299 262.105,956.769 264.156,955.257 266.207,953.763 268.258,952.288 270.309,950.831 \n",
       "  272.36,949.392 274.411,947.972 276.462,946.569 278.513,945.185 280.564,943.819 282.615,942.471 284.666,941.14 286.717,939.828 288.768,938.533 290.819,937.256 \n",
       "  292.87,935.997 294.921,934.755 296.972,933.531 299.023,932.324 301.074,931.135 303.125,929.964 305.176,928.81 307.227,927.673 309.278,926.553 311.329,925.451 \n",
       "  313.38,924.366 315.431,923.298 317.482,922.247 319.533,921.213 321.584,920.196 323.635,919.196 325.686,918.213 327.737,917.246 329.788,916.297 331.839,915.364 \n",
       "  333.89,914.448 335.941,913.548 337.992,912.665 340.043,911.798 342.094,910.948 344.145,910.114 346.196,909.297 348.247,908.495 350.298,907.71 352.349,906.941 \n",
       "  354.4,906.189 356.451,905.452 358.502,904.731 360.553,904.027 362.604,903.338 364.655,902.665 366.706,902.008 368.757,901.367 370.808,900.741 372.859,900.131 \n",
       "  374.91,899.537 376.961,898.958 379.012,898.394 381.064,897.846 383.115,897.314 385.166,896.796 387.217,896.294 389.268,895.808 391.319,895.336 393.37,894.88 \n",
       "  395.421,894.438 397.472,894.012 399.523,893.6 401.574,893.204 403.625,892.822 405.676,892.455 407.727,892.103 409.778,891.765 411.829,891.443 413.88,891.134 \n",
       "  415.931,890.841 417.982,890.561 420.033,890.297 422.084,890.046 424.135,889.81 426.186,889.588 428.237,889.381 430.288,889.187 432.339,889.008 434.39,888.843 \n",
       "  436.441,888.691 438.492,888.554 440.543,888.431 442.594,888.321 444.645,888.225 446.696,888.143 448.747,888.075 450.798,888.02 452.849,887.979 454.9,887.952 \n",
       "  456.951,887.938 459.002,887.937 461.053,887.95 463.104,887.976 465.155,888.015 467.206,888.067 469.257,888.133 471.308,888.212 473.359,888.304 475.41,888.408 \n",
       "  477.461,888.526 479.512,888.657 481.563,888.8 483.614,888.957 485.665,889.126 487.716,889.307 489.767,889.502 491.818,889.709 493.869,889.928 495.92,890.16 \n",
       "  497.971,890.404 500.022,890.661 502.073,890.93 504.124,891.212 506.175,891.505 508.226,891.811 510.277,892.129 512.328,892.458 514.379,892.8 516.43,893.154 \n",
       "  518.481,893.52 520.532,893.897 522.583,894.286 524.634,894.688 526.685,895.1 528.736,895.525 530.787,895.961 532.838,896.408 534.889,896.867 536.94,897.337 \n",
       "  538.991,897.819 541.042,898.312 543.093,898.816 545.145,899.332 547.196,899.858 549.247,900.396 551.298,900.945 553.349,901.505 555.4,902.075 557.451,902.657 \n",
       "  559.502,903.249 561.553,903.853 563.604,904.467 565.655,905.091 567.706,905.726 569.757,906.372 571.808,907.029 573.859,907.695 575.91,908.373 577.961,909.06 \n",
       "  580.012,909.758 582.063,910.466 584.114,911.185 586.165,911.913 588.216,912.652 590.267,913.4 592.318,914.159 594.369,914.928 596.42,915.706 598.471,916.495 \n",
       "  600.522,917.293 602.573,918.1 604.624,918.918 606.675,919.745 608.726,920.582 610.777,921.428 612.828,922.284 614.879,923.149 616.93,924.023 618.981,924.907 \n",
       "  621.032,925.8 623.083,926.702 625.134,927.613 627.185,928.534 629.236,929.463 631.287,930.402 633.338,931.349 635.389,932.305 637.44,933.27 639.491,934.244 \n",
       "  641.542,935.227 643.593,936.218 645.644,937.218 647.695,938.226 649.746,939.243 651.797,940.269 653.848,941.303 655.899,942.345 657.95,943.395 660.001,944.454 \n",
       "  662.052,945.521 664.103,946.596 666.154,947.679 668.205,948.77 670.256,949.87 672.307,950.977 674.358,952.092 676.409,953.215 678.46,954.345 680.511,955.483 \n",
       "  682.562,956.629 684.613,957.783 686.664,958.944 688.715,960.113 690.766,961.289 692.817,962.472 694.868,963.663 696.919,964.861 698.97,966.067 701.021,967.279 \n",
       "  703.072,968.499 705.123,969.726 707.174,970.96 709.226,972.201 711.277,973.449 713.328,974.703 715.379,975.965 717.43,977.233 719.481,978.508 721.532,979.789 \n",
       "  723.583,981.078 725.634,982.373 727.685,983.674 729.736,984.982 731.787,986.296 733.838,987.616 735.889,988.943 737.94,990.276 739.991,991.615 742.042,992.961 \n",
       "  744.093,994.312 746.144,995.669 748.195,997.033 750.246,998.402 752.297,999.777 754.348,1001.16 756.399,1002.55 758.45,1003.94 760.501,1005.34 762.552,1006.74 \n",
       "  764.603,1008.15 766.654,1009.56 768.705,1010.98 770.756,1012.41 772.807,1013.84 774.858,1015.28 776.909,1016.72 778.96,1018.17 781.011,1019.62 783.062,1021.07 \n",
       "  785.113,1022.54 787.164,1024 789.215,1025.48 791.266,1026.95 793.317,1028.43 795.368,1029.92 797.419,1031.41 799.47,1032.91 801.521,1034.41 803.572,1035.91 \n",
       "  805.623,1037.42 807.674,1038.94 809.725,1040.45 811.776,1041.98 813.827,1043.5 815.878,1045.03 817.929,1046.57 819.98,1048.11 822.031,1049.65 824.082,1051.2 \n",
       "  826.133,1052.75 828.184,1054.31 830.235,1055.86 832.286,1057.43 834.337,1058.99 836.388,1060.57 838.439,1062.14 840.49,1063.72 842.541,1065.3 844.592,1066.88 \n",
       "  846.643,1068.47 848.694,1070.06 850.745,1071.66 852.796,1073.26 854.847,1074.86 856.898,1076.46 858.949,1078.07 861,1079.68 863.051,1081.29 865.102,1082.91 \n",
       "  867.153,1084.53 869.204,1086.15 871.255,1087.78 873.307,1089.41 875.358,1091.04 877.409,1092.67 879.46,1094.31 881.511,1095.95 883.562,1097.59 885.613,1099.23 \n",
       "  887.664,1100.88 889.715,1102.52 891.766,1104.18 893.817,1105.83 895.868,1107.48 897.919,1109.14 899.97,1110.8 902.021,1112.46 904.072,1114.12 906.123,1115.79 \n",
       "  908.174,1117.46 910.225,1119.12 912.276,1120.79 914.327,1122.47 916.378,1124.14 918.429,1125.82 920.48,1127.49 922.531,1129.17 924.582,1130.85 926.633,1132.53 \n",
       "  928.684,1134.21 930.735,1135.9 932.786,1137.58 934.837,1139.27 936.888,1140.96 938.939,1142.65 940.99,1144.33 943.041,1146.03 945.092,1147.72 947.143,1149.41 \n",
       "  949.194,1151.1 951.245,1152.79 953.296,1154.49 955.347,1156.18 957.398,1157.88 959.449,1159.58 961.5,1161.27 963.551,1162.97 965.602,1164.67 967.653,1166.36 \n",
       "  969.704,1168.06 971.755,1169.76 973.806,1171.46 975.857,1173.16 977.908,1174.86 979.959,1176.56 982.01,1178.25 984.061,1179.95 986.112,1181.65 988.163,1183.35 \n",
       "  990.214,1185.05 992.265,1186.74 994.316,1188.44 996.367,1190.14 998.418,1191.83 1000.47,1193.53 1002.52,1195.22 1004.57,1196.92 1006.62,1198.61 1008.67,1200.31 \n",
       "  1010.72,1202 1012.78,1203.69 1014.83,1205.38 1016.88,1207.07 1018.93,1208.76 1020.98,1210.45 1023.03,1212.13 1025.08,1213.82 1027.13,1215.5 1029.18,1217.19 \n",
       "  1031.23,1218.87 1033.29,1220.55 1035.34,1222.23 1037.39,1223.9 1039.44,1225.58 1041.49,1227.25 1043.54,1228.93 1045.59,1230.6 1047.64,1232.27 1049.69,1233.93 \n",
       "  1051.74,1235.6 1053.8,1237.26 1055.85,1238.92 1057.9,1240.58 1059.95,1242.24 1062,1243.9 1064.05,1245.55 1066.1,1247.2 1068.15,1248.85 1070.2,1250.5 \n",
       "  1072.25,1252.14 1074.31,1253.78 1076.36,1255.42 1078.41,1257.06 1080.46,1258.69 1082.51,1260.33 1084.56,1261.95 1086.61,1263.58 1088.66,1265.2 1090.71,1266.82 \n",
       "  1092.76,1268.44 1094.82,1270.06 1096.87,1271.67 1098.92,1273.28 1100.97,1274.88 1103.02,1276.48 1105.07,1278.08 1107.12,1279.68 1109.17,1281.27 1111.22,1282.86 \n",
       "  1113.27,1284.45 1115.33,1286.03 1117.38,1287.61 1119.43,1289.18 1121.48,1290.76 1123.53,1292.32 1125.58,1293.89 1127.63,1295.45 1129.68,1297 1131.73,1298.56 \n",
       "  1133.79,1300.1 1135.84,1301.65 1137.89,1303.19 1139.94,1304.73 1141.99,1306.26 1144.04,1307.79 1146.09,1309.31 1148.14,1310.83 1150.19,1312.34 1152.24,1313.86 \n",
       "  1154.3,1315.36 1156.35,1316.86 1158.4,1318.36 1160.45,1319.85 1162.5,1321.34 1164.55,1322.82 1166.6,1324.3 1168.65,1325.77 1170.7,1327.24 1172.75,1328.71 \n",
       "  1174.81,1330.16 1176.86,1331.62 1178.91,1333.07 1180.96,1334.51 1183.01,1335.95 1185.06,1337.38 1187.11,1338.81 1189.16,1340.23 1191.21,1341.65 1193.26,1343.06 \n",
       "  1195.32,1344.46 1197.37,1345.86 1199.42,1347.26 1201.47,1348.64 1203.52,1350.03 1205.57,1351.4 1207.62,1352.77 1209.67,1354.14 1211.72,1355.5 1213.77,1356.85 \n",
       "  1215.83,1358.2 1217.88,1359.54 1219.93,1360.87 1221.98,1362.2 1224.03,1363.53 1226.08,1364.84 1228.13,1366.15 1230.18,1367.45 1232.23,1368.75 1234.28,1370.04 \n",
       "  1236.34,1371.32 1238.39,1372.6 1240.44,1373.87 1242.49,1375.13 1244.54,1376.39 1246.59,1377.64 1248.64,1378.88 1250.69,1380.12 1252.74,1381.35 1254.79,1382.57 \n",
       "  1256.85,1383.79 1258.9,1384.99 1260.95,1386.19 1263,1387.39 1265.05,1388.57 1267.1,1389.75 1269.15,1390.92 1271.2,1392.08 1273.25,1393.24 1275.3,1394.39 \n",
       "  1277.36,1395.53 1279.41,1396.66 1281.46,1397.79 1283.51,1398.9 1285.56,1400.01 1287.61,1401.11 1289.66,1402.21 1291.71,1403.29 1293.76,1404.37 1295.82,1405.44 \n",
       "  1297.87,1406.5 1299.92,1407.55 1301.97,1408.6 1304.02,1409.63 1306.07,1410.66 1308.12,1411.68 1310.17,1412.69 1312.22,1413.69 1314.27,1414.69 1316.33,1415.67 \n",
       "  1318.38,1416.65 1320.43,1417.62 1322.48,1418.58 1324.53,1419.53 1326.58,1420.47 1328.63,1421.4 1330.68,1422.32 1332.73,1423.24 1334.78,1424.14 1336.84,1425.04 \n",
       "  1338.89,1425.92 1340.94,1426.8 1342.99,1427.67 1345.04,1428.53 1347.09,1429.37 1349.14,1430.21 1351.19,1431.04 1353.24,1431.86 1355.29,1432.67 1357.35,1433.48 \n",
       "  1359.4,1434.27 1361.45,1435.05 1363.5,1435.82 1365.55,1436.58 1367.6,1437.33 1369.65,1438.07 1371.7,1438.81 1373.75,1439.53 1375.8,1440.24 1377.86,1440.94 \n",
       "  1379.91,1441.63 1381.96,1442.31 1384.01,1442.98 1386.06,1443.64 1388.11,1444.29 1390.16,1444.93 1392.21,1445.55 1394.26,1446.17 1396.31,1446.78 1398.37,1447.37 \n",
       "  1400.42,1447.96 1402.47,1448.53 1404.52,1449.09 1406.57,1449.65 1408.62,1450.19 1410.67,1450.72 1412.72,1451.23 1414.77,1451.74 1416.82,1452.24 1418.88,1452.72 \n",
       "  1420.93,1453.2 1422.98,1453.66 1425.03,1454.11 1427.08,1454.55 1429.13,1454.98 1431.18,1455.39 1433.23,1455.8 1435.28,1456.19 1437.33,1456.57 1439.39,1456.94 \n",
       "  1441.44,1457.3 1443.49,1457.64 1445.54,1457.98 1447.59,1458.3 1449.64,1458.61 1451.69,1458.9 1453.74,1459.19 1455.79,1459.46 1457.85,1459.72 1459.9,1459.97 \n",
       "  1461.95,1460.2 1464,1460.43 1466.05,1460.64 1468.1,1460.84 1470.15,1461.02 1472.2,1461.19 1474.25,1461.35 1476.3,1461.5 1478.36,1461.63 1480.41,1461.76 \n",
       "  1482.46,1461.86 1484.51,1461.96 1486.56,1462.04 1488.61,1462.11 1490.66,1462.17 1492.71,1462.21 1494.76,1462.24 1496.81,1462.26 1498.87,1462.26 1500.92,1462.25 \n",
       "  1502.97,1462.23 1505.02,1462.19 1507.07,1462.14 1509.12,1462.07 1511.17,1462 1513.22,1461.9 1515.27,1461.8 1517.32,1461.68 1519.38,1461.55 1521.43,1461.4 \n",
       "  1523.48,1461.24 1525.53,1461.06 1527.58,1460.87 1529.63,1460.67 1531.68,1460.45 1533.73,1460.22 1535.78,1459.97 1537.83,1459.71 1539.89,1459.44 1541.94,1459.15 \n",
       "  1543.99,1458.84 1546.04,1458.52 1548.09,1458.19 1550.14,1457.84 1552.19,1457.48 1554.24,1457.1 1556.29,1456.71 1558.34,1456.3 1560.4,1455.88 1562.45,1455.44 \n",
       "  1564.5,1454.99 1566.55,1454.52 1568.6,1454.04 1570.65,1453.54 1572.7,1453.03 1574.75,1452.5 1576.8,1451.96 1578.85,1451.4 1580.91,1450.83 1582.96,1450.24 \n",
       "  1585.01,1449.63 1587.06,1449.01 1589.11,1448.37 1591.16,1447.72 1593.21,1447.05 1595.26,1446.37 1597.31,1445.67 1599.36,1444.95 1601.42,1444.22 1603.47,1443.47 \n",
       "  1605.52,1442.71 1607.57,1441.93 1609.62,1441.13 1611.67,1440.32 1613.72,1439.49 1615.77,1438.64 1617.82,1437.78 1619.88,1436.9 1621.93,1436.01 1623.98,1435.1 \n",
       "  1626.03,1434.17 1628.08,1433.22 1630.13,1432.26 1632.18,1431.28 1634.23,1430.29 1636.28,1429.27 1638.33,1428.25 1640.39,1427.2 1642.44,1426.14 1644.49,1425.06 \n",
       "  1646.54,1423.96 1648.59,1422.84 1650.64,1421.71 1652.69,1420.56 1654.74,1419.4 1656.79,1418.21 1658.84,1417.01 1660.9,1415.79 1662.95,1414.56 1665,1413.3 \n",
       "  1667.05,1412.03 1669.1,1410.74 1671.15,1409.43 1673.2,1408.11 1675.25,1406.76 1677.3,1405.4 1679.35,1404.02 1681.41,1402.63 1683.46,1401.21 1685.51,1399.78 \n",
       "  1687.56,1398.33 1689.61,1396.86 1691.66,1395.37 1693.71,1393.86 1695.76,1392.34 1697.81,1390.79 1699.86,1389.23 1701.92,1387.65 1703.97,1386.05 1706.02,1384.43 \n",
       "  1708.07,1382.79 1710.12,1381.14 1712.17,1379.46 1714.22,1377.77 1716.27,1376.06 1718.32,1374.33 1720.37,1372.58 1722.43,1370.81 1724.48,1369.02 1726.53,1367.21 \n",
       "  1728.58,1365.38 1730.63,1363.54 1732.68,1361.67 1734.73,1359.79 1736.78,1357.88 1738.83,1355.96 1740.88,1354.01 1742.94,1352.05 1744.99,1350.07 1747.04,1348.06 \n",
       "  1749.09,1346.04 1751.14,1344 1753.19,1341.94 1755.24,1339.85 1757.29,1337.75 1759.34,1335.63 1761.39,1333.48 1763.45,1331.32 1765.5,1329.14 1767.55,1326.94 \n",
       "  1769.6,1324.71 1771.65,1322.47 1773.7,1320.2 1775.75,1317.92 1777.8,1315.61 1779.85,1313.29 1781.91,1310.94 1783.96,1308.57 1786.01,1306.18 1788.06,1303.77 \n",
       "  1790.11,1301.34 1792.16,1298.89 1794.21,1296.42 1796.26,1293.93 1798.31,1291.42 1800.36,1288.88 1802.42,1286.32 1804.47,1283.75 1806.52,1281.15 1808.57,1278.53 \n",
       "  1810.62,1275.89 1812.67,1273.22 1814.72,1270.54 1816.77,1267.83 1818.82,1265.11 1820.87,1262.36 1822.93,1259.59 1824.98,1256.79 1827.03,1253.98 1829.08,1251.14 \n",
       "  1831.13,1248.28 1833.18,1245.4 1835.23,1242.5 1837.28,1239.58 1839.33,1236.63 1841.38,1233.66 1843.44,1230.67 1845.49,1227.66 1847.54,1224.62 1849.59,1221.57 \n",
       "  1851.64,1218.48 1853.69,1215.38 1855.74,1212.26 1857.79,1209.11 1859.84,1205.94 1861.89,1202.75 1863.95,1199.53 1866,1196.29 1868.05,1193.03 1870.1,1189.74 \n",
       "  1872.15,1186.44 1874.2,1183.11 1876.25,1179.75 1878.3,1176.38 1880.35,1172.98 1882.4,1169.55 1884.46,1166.11 1886.51,1162.64 1888.56,1159.14 1890.61,1155.63 \n",
       "  1892.66,1152.09 1894.71,1148.52 1896.76,1144.93 1898.81,1141.32 1900.86,1137.69 1902.91,1134.03 1904.97,1130.35 1907.02,1126.64 1909.07,1122.91 1911.12,1119.16 \n",
       "  1913.17,1115.38 1915.22,1111.58 1917.27,1107.75 1919.32,1103.9 1921.37,1100.03 1923.42,1096.13 1925.48,1092.2 1927.53,1088.25 1929.58,1084.28 1931.63,1080.29 \n",
       "  1933.68,1076.26 1935.73,1072.22 1937.78,1068.15 1939.83,1064.05 1941.88,1059.93 1943.94,1055.79 1945.99,1051.62 1948.04,1047.42 1950.09,1043.2 1952.14,1038.96 \n",
       "  1954.19,1034.69 1956.24,1030.39 1958.29,1026.07 1960.34,1021.73 1962.39,1017.36 1964.45,1012.96 1966.5,1008.54 1968.55,1004.09 1970.6,999.621 1972.65,995.124 \n",
       "  1974.7,990.6 1976.75,986.051 1978.8,981.476 1980.85,976.875 1982.9,972.249 1984.96,967.596 1987.01,962.918 1989.06,958.214 1991.11,953.483 1993.16,948.727 \n",
       "  1995.21,943.944 1997.26,939.136 1999.31,934.301 2001.36,929.439 2003.41,924.552 2005.47,919.638 2007.52,914.697 2009.57,909.73 2011.62,904.736 2013.67,899.716 \n",
       "  2015.72,894.669 2017.77,889.596 2019.82,884.495 2021.87,879.368 2023.92,874.214 2025.98,869.033 2028.03,863.825 2030.08,858.59 2032.13,853.328 2034.18,848.038 \n",
       "  2036.23,842.722 2038.28,837.378 2040.33,832.007 2042.38,826.609 2044.43,821.183 2046.49,815.73 2048.54,810.249 2050.59,804.741 2052.64,799.205 2054.69,793.641 \n",
       "  2056.74,788.05 2058.79,782.431 2060.84,776.784 2062.89,771.109 2064.94,765.406 2067,759.675 2069.05,753.916 2071.1,748.129 2073.15,742.314 2075.2,736.471 \n",
       "  2077.25,730.599 2079.3,724.7 2081.35,718.771 2083.4,712.815 2085.45,706.83 2087.51,700.816 2089.56,694.774 2091.61,688.703 2093.66,682.604 2095.71,676.476 \n",
       "  2097.76,670.319 2099.81,664.133 2101.86,657.918 2103.91,651.674 2105.97,645.402 2108.02,639.1 2110.07,632.769 2112.12,626.409 2114.17,620.02 2116.22,613.602 \n",
       "  2118.27,607.154 2120.32,600.677 2122.37,594.171 2124.42,587.635 2126.48,581.069 2128.53,574.474 2130.58,567.849 2132.63,561.195 2134.68,554.511 2136.73,547.797 \n",
       "  2138.78,541.053 2140.83,534.28 2142.88,527.476 2144.93,520.643 2146.99,513.779 2149.04,506.885 2151.09,499.962 2153.14,493.008 2155.19,486.023 2157.24,479.009 \n",
       "  2159.29,471.964 2161.34,464.888 2163.39,457.782 2165.44,450.646 2167.5,443.479 2169.55,436.281 2171.6,429.053 2173.65,421.794 2175.7,414.504 2177.75,407.183 \n",
       "  2179.8,399.832 2181.85,392.449 2183.9,385.036 2185.95,377.591 2188.01,370.115 2190.06,362.608 2192.11,355.07 2194.16,347.501 2196.21,339.9 2198.26,332.268 \n",
       "  2200.31,324.605 2202.36,316.91 2204.41,309.183 2206.46,301.425 2208.52,293.636 2210.57,285.814 2212.62,277.961 2214.67,270.076 2216.72,262.16 2218.77,254.211 \n",
       "  2220.82,246.23 2222.87,238.218 2224.92,230.173 2226.97,222.096 2229.03,213.988 2231.08,205.846 2233.13,197.673 2235.18,189.467 2237.23,181.229 2239.28,172.959 \n",
       "  2241.33,164.656 2243.38,156.32 2245.43,147.952 2247.48,139.551 2249.54,131.118 2251.59,122.651 2253.64,114.152 2255.69,105.621 2257.74,97.0559 2259.79,88.4582 \n",
       "  \n",
       "  \"/>\n",
       "<polygon clip-path=\"url(#clip2702)\" style=\"fill:#000000; fill-opacity:1\" points=\"\n",
       "  276.203,913.988 276.203,953.988 316.203,953.988 316.203,913.988 276.203,913.988 \n",
       "  \"/>\n",
       "<polygon clip-path=\"url(#clip2702)\" style=\"fill:#c271d2; fill-opacity:1\" points=\"\n",
       "  280.203,917.988 280.203,949.988 312.203,949.988 312.203,917.988 280.203,917.988 \n",
       "  \"/>\n",
       "<polygon clip-path=\"url(#clip2702)\" style=\"fill:#000000; fill-opacity:1\" points=\"\n",
       "  873.817,1085.83 873.817,1125.83 913.817,1125.83 913.817,1085.83 873.817,1085.83 \n",
       "  \"/>\n",
       "<polygon clip-path=\"url(#clip2702)\" style=\"fill:#c271d2; fill-opacity:1\" points=\"\n",
       "  877.817,1089.83 877.817,1121.83 909.817,1121.83 909.817,1089.83 877.817,1089.83 \n",
       "  \"/>\n",
       "<polygon clip-path=\"url(#clip2702)\" style=\"fill:#000000; fill-opacity:1\" points=\"\n",
       "  1386.06,1429.51 1386.06,1469.51 1426.06,1469.51 1426.06,1429.51 1386.06,1429.51 \n",
       "  \"/>\n",
       "<polygon clip-path=\"url(#clip2702)\" style=\"fill:#c271d2; fill-opacity:1\" points=\"\n",
       "  1390.06,1433.51 1390.06,1465.51 1422.06,1465.51 1422.06,1433.51 1390.06,1433.51 \n",
       "  \"/>\n",
       "<polygon clip-path=\"url(#clip2702)\" style=\"fill:#000000; fill-opacity:1\" points=\"\n",
       "  1898.3,1085.83 1898.3,1125.83 1938.3,1125.83 1938.3,1085.83 1898.3,1085.83 \n",
       "  \"/>\n",
       "<polygon clip-path=\"url(#clip2702)\" style=\"fill:#c271d2; fill-opacity:1\" points=\"\n",
       "  1902.3,1089.83 1902.3,1121.83 1934.3,1121.83 1934.3,1089.83 1902.3,1089.83 \n",
       "  \"/>\n",
       "</svg>\n"
      ]
     },
     "execution_count": 61,
     "metadata": {},
     "output_type": "execute_result"
    }
   ],
   "source": [
    "using Plots\n",
    "ts = linspace(-1.2, 1.2, 1000);\n",
    "p1 = c1[1] .+ c1[2]*ts + c1[3]*ts.^2  + c1[4]*ts.^3;\n",
    "plot(ts, p1)\n",
    "scatter!(t, b1)\n",
    "p2 = c2[1] .+ c2[2]*ts + c2[3]*ts.^2  + c2[4]*ts.^3;\n",
    "plot!(ts, p2)\n",
    "scatter!(t, b2, marker = :square)\n",
    "plot!(legend = false)"
   ]
  },
  {
   "cell_type": "markdown",
   "metadata": {},
   "source": [
    "![図11.1](fig11-1.pdf)\n",
    "\n",
    "図11.1 丸と四角で示した点列の3次補間\n",
    "\n",
    "\n",
    "## 11.5 擬似逆行列\n",
    "\n",
    "行列`A`の擬似逆行列はJuliaでは`pinv(A)`である．本書＊＊ページの例題のために擬似逆行列を計算するには，この関数`pinv`を使うか，公式$A^\\dagger=R^{-1} Q^T$（ここで$A=QR$は行列$A$のQR分解）を使う．\n"
   ]
  },
  {
   "cell_type": "code",
   "execution_count": 62,
   "metadata": {},
   "outputs": [
    {
     "data": {
      "text/plain": [
       "3×2 Array{Int64,2}:\n",
       " -3  -4\n",
       "  4   6\n",
       "  1   1"
      ]
     },
     "execution_count": 62,
     "metadata": {},
     "output_type": "execute_result"
    }
   ],
   "source": [
    "A = [-3 -4; 4 6; 1 1]"
   ]
  },
  {
   "cell_type": "code",
   "execution_count": 63,
   "metadata": {},
   "outputs": [
    {
     "data": {
      "text/plain": [
       "2×3 Array{Float64,2}:\n",
       " -1.22222   -1.11111    1.77778\n",
       "  0.777778   0.888889  -1.22222"
      ]
     },
     "execution_count": 63,
     "metadata": {},
     "output_type": "execute_result"
    }
   ],
   "source": [
    "pinv(A)"
   ]
  },
  {
   "cell_type": "code",
   "execution_count": 64,
   "metadata": {},
   "outputs": [],
   "source": [
    "Q, R = qr(A);"
   ]
  },
  {
   "cell_type": "code",
   "execution_count": 65,
   "metadata": {},
   "outputs": [
    {
     "data": {
      "text/plain": [
       "3×2 Array{Float64,2}:\n",
       " -0.588348  -0.457604\n",
       "  0.784465  -0.522976\n",
       "  0.196116   0.719092"
      ]
     },
     "execution_count": 65,
     "metadata": {},
     "output_type": "execute_result"
    }
   ],
   "source": [
    "Q = Matrix(Q)"
   ]
  },
  {
   "cell_type": "code",
   "execution_count": 66,
   "metadata": {},
   "outputs": [
    {
     "data": {
      "text/plain": [
       "2×2 Array{Float64,2}:\n",
       " 5.09902   7.2563  \n",
       " 0.0      -0.588348"
      ]
     },
     "execution_count": 66,
     "metadata": {},
     "output_type": "execute_result"
    }
   ],
   "source": [
    "R"
   ]
  },
  {
   "cell_type": "code",
   "execution_count": 67,
   "metadata": {
    "scrolled": true
   },
   "outputs": [
    {
     "data": {
      "text/plain": [
       "2×3 Array{Float64,2}:\n",
       " -1.22222   -1.11111    1.77778\n",
       "  0.777778   0.888889  -1.22222"
      ]
     },
     "execution_count": 67,
     "metadata": {},
     "output_type": "execute_result"
    }
   ],
   "source": [
    "R \\ Q' # QR分解を使った擬似逆行列"
   ]
  }
 ],
 "metadata": {
  "kernelspec": {
   "display_name": "Julia 1.0.2",
   "language": "julia",
   "name": "julia-1.0"
  },
  "language_info": {
   "file_extension": ".jl",
   "mimetype": "application/julia",
   "name": "julia",
   "version": "1.0.2"
  }
 },
 "nbformat": 4,
 "nbformat_minor": 2
}
