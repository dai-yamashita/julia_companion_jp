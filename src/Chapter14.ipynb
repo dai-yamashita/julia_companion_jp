{
 "cells": [
  {
   "cell_type": "markdown",
   "metadata": {},
   "source": [
    "\n",
    "# Chapter 14 最小二乗識別\n",
    "\n",
    "## 14.1 識別\n",
    "\n",
    "### 真偽値\n",
    "\n",
    "Juliaの真偽値は`true`と`false`である．これらは数値を含む式では自動的に1と0に変換される．しかし本書では，2クラス分類のために真を$+1$に，偽を$-1$に置き換えている．これをJuliaの真偽値`b`で行うには`2*b-1`とするか，もしくは三項演算子を使って`b ? 1 : -1`とすればよい．"
   ]
  },
  {
   "cell_type": "code",
   "execution_count": 1,
   "metadata": {},
   "outputs": [],
   "source": [
    "tf2pm1(b) = 2 * b - 1;"
   ]
  },
  {
   "cell_type": "code",
   "execution_count": 2,
   "metadata": {},
   "outputs": [
    {
     "data": {
      "text/plain": [
       "true"
      ]
     },
     "execution_count": 2,
     "metadata": {},
     "output_type": "execute_result"
    }
   ],
   "source": [
    "b = true"
   ]
  },
  {
   "cell_type": "code",
   "execution_count": 3,
   "metadata": {},
   "outputs": [
    {
     "data": {
      "text/plain": [
       "1"
      ]
     },
     "execution_count": 3,
     "metadata": {},
     "output_type": "execute_result"
    }
   ],
   "source": [
    "tf2pm1(b)"
   ]
  },
  {
   "cell_type": "code",
   "execution_count": 4,
   "metadata": {},
   "outputs": [
    {
     "data": {
      "text/plain": [
       "false"
      ]
     },
     "execution_count": 4,
     "metadata": {},
     "output_type": "execute_result"
    }
   ],
   "source": [
    "b = false"
   ]
  },
  {
   "cell_type": "code",
   "execution_count": 5,
   "metadata": {},
   "outputs": [
    {
     "data": {
      "text/plain": [
       "-1"
      ]
     },
     "execution_count": 5,
     "metadata": {},
     "output_type": "execute_result"
    }
   ],
   "source": [
    "tf2pm1(b)"
   ]
  },
  {
   "cell_type": "code",
   "execution_count": 6,
   "metadata": {},
   "outputs": [
    {
     "data": {
      "text/plain": [
       "3-element Array{Bool,1}:\n",
       " 1\n",
       " 0\n",
       " 1"
      ]
     },
     "execution_count": 6,
     "metadata": {},
     "output_type": "execute_result"
    }
   ],
   "source": [
    "b = [ true, false, true ]"
   ]
  },
  {
   "cell_type": "code",
   "execution_count": 7,
   "metadata": {},
   "outputs": [
    {
     "data": {
      "text/plain": [
       "3-element Array{Int64,1}:\n",
       "  1\n",
       " -1\n",
       "  1"
      ]
     },
     "execution_count": 7,
     "metadata": {},
     "output_type": "execute_result"
    }
   ],
   "source": [
    "tf2pm1.(b)"
   ]
  },
  {
   "cell_type": "markdown",
   "metadata": {},
   "source": [
    "### 混同行列\n",
    "\n",
    "データ`y`と予測`ypred`が長さ`N`の真偽値の配列（ベクトル）で与えられた場合，\n",
    "予測誤り率と混同行列の計算は以下のようになる．"
   ]
  },
  {
   "cell_type": "code",
   "execution_count": 12,
   "metadata": {},
   "outputs": [],
   "source": [
    "# 正しい予測と誤った予測を加須れる\n",
    "Ntp(y, yhat) = sum( (y .== true) .& (yhat .== true) );\n",
    "Nfn(y, yhat) = sum( (y .== true) .& (yhat .== false) );\n",
    "Nfp(y, yhat) = sum( (y .== false) .& (yhat .== true) );\n",
    "Ntn(y, yhat) = sum( (y .== false) .& (yhat .== false) );\n",
    "error_rate(y, yhat) = (Nfn(y, yhat) + Nfp(y, yhat)) / length(y);\n",
    "confusion_matrix(y,yhat) = [ Ntp(y, yhat) Nfn(y, yhat);\n",
    "                             Nfp(y, yhat) Ntn(y, yhat) ];\n",
    "y = rand(Bool, 100);\n",
    "yhat = rand(Bool, 100);"
   ]
  },
  {
   "cell_type": "code",
   "execution_count": 13,
   "metadata": {},
   "outputs": [
    {
     "data": {
      "text/plain": [
       "2×2 Array{Int64,2}:\n",
       " 30  14\n",
       " 28  28"
      ]
     },
     "execution_count": 13,
     "metadata": {},
     "output_type": "execute_result"
    }
   ],
   "source": [
    "confusion_matrix(y, yhat)"
   ]
  },
  {
   "cell_type": "code",
   "execution_count": 14,
   "metadata": {},
   "outputs": [
    {
     "data": {
      "text/plain": [
       "0.42"
      ]
     },
     "execution_count": 14,
     "metadata": {},
     "output_type": "execute_result"
    }
   ],
   "source": [
    "error_rate(y, yhat)"
   ]
  },
  {
   "cell_type": "markdown",
   "metadata": {},
   "source": [
    "`==`と`&`の前のドットは要素毎の演算であることを意味する．真偽値のベクトルの総和を計算しようとすると，真偽値は整数に変換される．コードの最後の方では，2つのランダムな真偽値ベクトルを生成しているので，誤り率は50\\%程度のはずである．このコードでは，偽陰性と偽陽性の誤りから誤り率を求めている．もっと簡潔に誤り率を求めるなら`avg(y .!= yhat)`と書く．`VMLS`パッケージには関数`confusion_matrix(y, yhat)`が含まれている．\n",
    "\n",
    "\n",
    "## 14.2 最小二乗識別器\n",
    "\n",
    "$\\hat{f}(x) = \\mathbf{sign}(\\tilde{f}(x))$を評価するには，以下で定義する関数を使って`ftilde(x) > 0`とする．これは真偽値を返す．\n",
    "\n",
    "```julia\n",
    "julia> ftilde(x) = x' * beta .+ v  # 回帰モデル\n",
    "julia> fhat(x) = ftilde(x) > 0  # 識別器\n",
    "```\n",
    "\n",
    "### iris flower識別問題\n",
    "\n",
    "Irisデータセットには，3種類のアヤメ150サンプルが含まれている．各クラス50サンプルである．各サンプルは4つの特徴量からなる．以下のコードは3つのクラスのサンプルを保持する$50 \\times 4$行列`setosa`，`versicolor`，`virginica`を含む辞書を読み込み，Iris Virginicaとそれ以外のクラスを識別する二値識別器を学習する．"
   ]
  },
  {
   "cell_type": "code",
   "execution_count": 15,
   "metadata": {},
   "outputs": [
    {
     "name": "stderr",
     "output_type": "stream",
     "text": [
      "WARNING: using VMLS.confusion_matrix in module Main conflicts with an existing identifier.\n"
     ]
    }
   ],
   "source": [
    "using VMLS"
   ]
  },
  {
   "cell_type": "code",
   "execution_count": 16,
   "metadata": {},
   "outputs": [],
   "source": [
    "D = iris_data();\n",
    "# 150 x 4 データ行列を作成\n",
    "iris = vcat(D[\"setosa\"], D[\"versicolor\"], D[\"virginica\"]);\n",
    "# virginicaならy[k]はtrue (1)，そうでなければfalse (0)\n",
    "y = [ zeros(Bool, 50); zeros(Bool, 50); ones(Bool, 50) ];\n",
    "A = [ ones(150) iris ];"
   ]
  },
  {
   "cell_type": "code",
   "execution_count": 17,
   "metadata": {},
   "outputs": [
    {
     "data": {
      "text/plain": [
       "5-element Array{Float64,1}:\n",
       " -2.3905637266512043  \n",
       " -0.0917521691013458  \n",
       "  0.4055367711191057  \n",
       "  0.007975822012793829\n",
       "  1.1035586498675736  "
      ]
     },
     "execution_count": 17,
     "metadata": {},
     "output_type": "execute_result"
    }
   ],
   "source": [
    "theta = A \\ (2 * y .- 1)"
   ]
  },
  {
   "cell_type": "code",
   "execution_count": 18,
   "metadata": {},
   "outputs": [],
   "source": [
    "yhat = A * theta .> 0;"
   ]
  },
  {
   "cell_type": "code",
   "execution_count": 19,
   "metadata": {},
   "outputs": [
    {
     "data": {
      "text/plain": [
       "2×2 Array{Int64,2}:\n",
       " 46   4\n",
       "  7  93"
      ]
     },
     "execution_count": 19,
     "metadata": {},
     "output_type": "execute_result"
    }
   ],
   "source": [
    "C = confusion_matrix(y, yhat)"
   ]
  },
  {
   "cell_type": "code",
   "execution_count": 17,
   "metadata": {},
   "outputs": [
    {
     "data": {
      "text/plain": [
       "0.07333333333333333"
      ]
     },
     "execution_count": 17,
     "metadata": {},
     "output_type": "execute_result"
    }
   ],
   "source": [
    "err_rate = (C[1,2] + C[2,1]) / length(y)"
   ]
  },
  {
   "cell_type": "code",
   "execution_count": 18,
   "metadata": {},
   "outputs": [
    {
     "data": {
      "text/plain": [
       "0.07333333333333333"
      ]
     },
     "execution_count": 18,
     "metadata": {},
     "output_type": "execute_result"
    }
   ],
   "source": [
    "avg(y .!= yhat)"
   ]
  },
  {
   "cell_type": "markdown",
   "metadata": {},
   "source": [
    "## 14.3 多クラス識別器\n",
    "\n",
    "### 多クラス識別の誤り率と混同行列\n",
    "\n",
    "全体の誤り率は`avg(y .!= yhat)`で簡単に計算できる．$N$個の真値`y`と$N$個の予測`yhat`（値は$1,\\ldots,K$のいずれか）が与えられたら，$K \\times K$の混同行列を計算することができる．"
   ]
  },
  {
   "cell_type": "code",
   "execution_count": 19,
   "metadata": {},
   "outputs": [
    {
     "data": {
      "text/plain": [
       "4×4 Array{Float64,2}:\n",
       " 11.0   3.0   4.0  1.0\n",
       "  4.0   7.0   7.0  4.0\n",
       "  5.0   9.0  11.0  7.0\n",
       "  7.0  10.0   4.0  6.0"
      ]
     },
     "execution_count": 19,
     "metadata": {},
     "output_type": "execute_result"
    }
   ],
   "source": [
    "error_rate(y, yhat) = avg(y .!= yhat);\n",
    "function confusion_matrix(y, yhat, K)\n",
    "C = zeros(K,K)\n",
    "for i in 1:K for j in 1:K\n",
    "    C[i,j] = sum((y .== i) .& (yhat .== j))\n",
    "end end\n",
    "return C\n",
    "end;\n",
    "# test for K=4 on random vectors of length 100\n",
    "K = 4;\n",
    "y = rand(1:K, 100); yhat = rand(1:K, 100);\n",
    "C = confusion_matrix(y, yhat, K)"
   ]
  },
  {
   "cell_type": "code",
   "execution_count": 21,
   "metadata": {},
   "outputs": [],
   "source": [
    "using LinearAlgebra"
   ]
  },
  {
   "cell_type": "code",
   "execution_count": 22,
   "metadata": {},
   "outputs": [
    {
     "data": {
      "text/plain": [
       "(0.65, 0.65)"
      ]
     },
     "execution_count": 22,
     "metadata": {},
     "output_type": "execute_result"
    }
   ],
   "source": [
    "error_rate(y, yhat),  1-sum(diag(C))/sum(C)"
   ]
  },
  {
   "cell_type": "markdown",
   "metadata": {},
   "source": [
    "関数`confusion_matrix`は`VMLS`パッケージに含まれている．\n",
    "\n",
    "\n",
    "### 最小二乗多クラス識別器\n",
    "\n",
    "（回帰モデルに基づく）$K$クラス識別器は次のように表せる．\n",
    "$$\n",
    "\\hat{f}(x) = \\mathop{\\mathrm{argmax}}_{k=1,\\ldots,K} \\tilde{f}_k (x)\n",
    "$$\n",
    "ここで$\\tilde{f}_k(x) = x^T \\theta$である．$n$次元ベクトル$\\theta_1, \\ldots, \\theta_k$はこのモデルのパラメータ（係数）である．\n",
    "行列とベクトルの記法を使えば\n",
    "$$\n",
    "\\hat{f}(x) = \\mathop{\\mathrm{argmax}} (x^T \\Theta)\n",
    "$$\n",
    "とも書ける．ここで$\\Theta=[\\theta_1 \\cdots \\theta_K]$はモデル係数を表す$n \\times K$行列である．この式のargmaxの意味は明らかだろう．\n",
    "\n",
    "これをJuliaで書こう．関数`argmax(u)`は行ベクトルもしくは列ベクトル`u`の中の最大値のインデックス（つまり$\\mathrm{argmax}_k u_k$）を求める．これを行列に拡張した関数`row_argmax`を定義する．これは，各行の最大値のインデックスをベクトルとして返す．"
   ]
  },
  {
   "cell_type": "code",
   "execution_count": 23,
   "metadata": {},
   "outputs": [],
   "source": [
    "row_argmax(u) = [ argmax(u[i,:]) for i = 1:size(u,1) ];"
   ]
  },
  {
   "cell_type": "code",
   "execution_count": 24,
   "metadata": {},
   "outputs": [
    {
     "data": {
      "text/plain": [
       "4×5 Array{Float64,2}:\n",
       "  0.84405     0.373452    0.269307   0.72903   -0.739056\n",
       " -2.48909    -0.769494   -2.01853   -0.330689   2.01277 \n",
       " -0.731525   -0.0217292  -1.46853    0.574108  -0.747028\n",
       " -0.0215695  -1.63563    -1.08885    1.65001   -2.03644 "
      ]
     },
     "execution_count": 24,
     "metadata": {},
     "output_type": "execute_result"
    }
   ],
   "source": [
    "A = randn(4,5)"
   ]
  },
  {
   "cell_type": "code",
   "execution_count": 25,
   "metadata": {},
   "outputs": [
    {
     "data": {
      "text/plain": [
       "4-element Array{Int64,1}:\n",
       " 1\n",
       " 5\n",
       " 4\n",
       " 4"
      ]
     },
     "execution_count": 25,
     "metadata": {},
     "output_type": "execute_result"
    }
   ],
   "source": [
    "row_argmax(A)"
   ]
  },
  {
   "cell_type": "markdown",
   "metadata": {},
   "source": [
    "$N$個のサンプルからなるデータセットが$n \\times N$のデータ行列`X`に保持されており，`Theta`が$係数ベクトル$\\theta_k$を表すn \\times K$行列とすると，以下の関数を定義できる．\n",
    "\n",
    "```julia\n",
    "fhat(X,Theta) = row_argmax(X'*Theta)\n",
    "```\n",
    "\n",
    "これは予測を$N$次元ベクトルとして返す．\n",
    "\n",
    "\n",
    "\n",
    "### 行列最小二乗\n",
    "\n",
    "クラス数が$K$，データセットのサンプル数が$N$，特徴量の数が$n$の場合の多クラス識別器の係数行列$\\Theta$を最小二乗法で求めよう．データは$n \\times N$行列$X$で与えられており，各サンプルのクラスを表す（要素が$1,\\ldots,K$の）$N$次元ベクトルが$y^\\mathrm{cl}$とする．最小二乗法の目的関数は以下のように行列ノルムの2乗で表される．\n",
    "$$\n",
    "\\| X^T \\Theta - Y \\|^2\n",
    "$$\n",
    "ここで$Y$は$N \\times K$行列で\n",
    "$$\n",
    "Y_{ij} =\n",
    "\\begin{cases}\n",
    "\\phantom{-}1 & y^\\mathrm{cl} = j\\\\\n",
    "-1 & y^\\mathrm{cl} \\neq j\n",
    "\\end{cases}\n",
    "$$\n",
    "である．つまり，$Y$の行はone-hot encodingで表されたクラス表現を$0/1$から$-1/+1$に変換したものである．最小二乗解は$\\hat{\\Theta} = (X^T)^\\dagger Y$である．\n",
    "\n",
    "これをJuliaで書いてみよう．"
   ]
  },
  {
   "cell_type": "code",
   "execution_count": 27,
   "metadata": {},
   "outputs": [],
   "source": [
    "function one_hot(ycl,K)\n",
    "N = length(ycl)\n",
    "Y = zeros(N,K)\n",
    "for j in 1:K\n",
    "   Y[findall(ycl .== j), j] .= 1\n",
    "end\n",
    "return Y\n",
    "end;"
   ]
  },
  {
   "cell_type": "code",
   "execution_count": 28,
   "metadata": {},
   "outputs": [
    {
     "data": {
      "text/plain": [
       "6-element Array{Int64,1}:\n",
       " 1\n",
       " 1\n",
       " 2\n",
       " 2\n",
       " 3\n",
       " 1"
      ]
     },
     "execution_count": 28,
     "metadata": {},
     "output_type": "execute_result"
    }
   ],
   "source": [
    "K = 4;\n",
    "ycl = rand(1:K, 6)"
   ]
  },
  {
   "cell_type": "code",
   "execution_count": 29,
   "metadata": {},
   "outputs": [
    {
     "data": {
      "text/plain": [
       "6×4 Array{Float64,2}:\n",
       " 1.0  0.0  0.0  0.0\n",
       " 1.0  0.0  0.0  0.0\n",
       " 0.0  1.0  0.0  0.0\n",
       " 0.0  1.0  0.0  0.0\n",
       " 0.0  0.0  1.0  0.0\n",
       " 1.0  0.0  0.0  0.0"
      ]
     },
     "execution_count": 29,
     "metadata": {},
     "output_type": "execute_result"
    }
   ],
   "source": [
    "Y = one_hot(ycl, K)"
   ]
  },
  {
   "cell_type": "code",
   "execution_count": 30,
   "metadata": {},
   "outputs": [
    {
     "data": {
      "text/plain": [
       "6×4 Array{Float64,2}:\n",
       "  1.0  -1.0  -1.0  -1.0\n",
       "  1.0  -1.0  -1.0  -1.0\n",
       " -1.0   1.0  -1.0  -1.0\n",
       " -1.0   1.0  -1.0  -1.0\n",
       " -1.0  -1.0   1.0  -1.0\n",
       "  1.0  -1.0  -1.0  -1.0"
      ]
     },
     "execution_count": 30,
     "metadata": {},
     "output_type": "execute_result"
    }
   ],
   "source": [
    "2 * Y .- 1"
   ]
  },
  {
   "cell_type": "markdown",
   "metadata": {},
   "source": [
    "上で定義した関数を使うと，行列最少二乗問題による多クラス識別器が以下のように数行で実現できる．\n"
   ]
  },
  {
   "cell_type": "code",
   "execution_count": 38,
   "metadata": {},
   "outputs": [],
   "source": [
    "function ls_multiclass(X, ycl, K)\n",
    "n, N = size(X)\n",
    "Theta = X' \\ (2 * one_hot(ycl, K) .- 1)\n",
    "yhat = row_argmax(X' * Theta)\n",
    "return Theta, yhat\n",
    "end;"
   ]
  },
  {
   "cell_type": "markdown",
   "metadata": {},
   "source": [
    "### あやめの識別\n",
    "\n",
    "あやめのデータセットのための3クラス識別器を作成する．150サンプルのデータセットを，120サンプルの訓練集合（各クラス40サンプル）と，30サンプルのテスト集合（各クラス10サンプル）に分割する．以下のコードでは上で定義した関数を呼び出している．\n"
   ]
  },
  {
   "cell_type": "code",
   "execution_count": 39,
   "metadata": {},
   "outputs": [
    {
     "data": {
      "text/plain": [
       "3×3 Array{Float64,2}:\n",
       " 40.0   0.0   0.0\n",
       "  0.0  27.0  13.0\n",
       "  0.0   5.0  35.0"
      ]
     },
     "execution_count": 39,
     "metadata": {},
     "output_type": "execute_result"
    }
   ],
   "source": [
    "D = iris_data();\n",
    "setosa = D[\"setosa\"];\n",
    "versicolor = D[\"versicolor\"];\n",
    "virginica = D[\"virginica\"];\n",
    "# 1, ..., 50についてのランダムな置換を3つ作成\n",
    "import Random\n",
    "I1 = Random.randperm(50);\n",
    "I2 = Random.randperm(50);\n",
    "I3 = Random.randperm(50);\n",
    "# 訓練集合は各クラス40サンプルをランダムに用いる\n",
    "Xtrain = [ setosa[I1[1:40],:];\n",
    "           versicolor[I2[1:40],:];\n",
    "           virginica[I3[1:40],:] ]'; # 4x120データ行列\n",
    "# 定数1の特徴を追加\n",
    "Xtrain = [ ones(1,120); Xtrain ];  # 5x120データ行列\n",
    "ytrain = [ ones(40); 2*ones(40); 3*ones(40) ];\n",
    "# テスト集合は各クラス残りの10サンプルを用いる\n",
    "Xtest = [ setosa[I1[41:end],:];\n",
    "          versicolor[I2[41:end],:]\n",
    "          virginica[I3[41:end],:] ]'; # 4x30データ行列\n",
    "Xtest = [ ones(1,30); Xtest ]; # 5x30データ行列\n",
    "ytest = [ones(10); 2*ones(10); 3*ones(10)];\n",
    "Theta, yhat = ls_multiclass(Xtrain, ytrain, 3);\n",
    "Ctrain = confusion_matrix(ytrain, yhat, 3)"
   ]
  },
  {
   "cell_type": "code",
   "execution_count": 40,
   "metadata": {},
   "outputs": [
    {
     "data": {
      "text/plain": [
       "0.15"
      ]
     },
     "execution_count": 40,
     "metadata": {},
     "output_type": "execute_result"
    }
   ],
   "source": [
    "error_train = error_rate(ytrain, yhat)"
   ]
  },
  {
   "cell_type": "code",
   "execution_count": 41,
   "metadata": {},
   "outputs": [
    {
     "data": {
      "text/plain": [
       "3×3 Array{Float64,2}:\n",
       " 10.0  0.0  0.0\n",
       "  0.0  8.0  2.0\n",
       "  0.0  3.0  7.0"
      ]
     },
     "execution_count": 41,
     "metadata": {},
     "output_type": "execute_result"
    }
   ],
   "source": [
    "yhat = row_argmax(Xtest' * Theta);\n",
    "Ctest = confusion_matrix(ytest, yhat, 3)"
   ]
  },
  {
   "cell_type": "code",
   "execution_count": 42,
   "metadata": {},
   "outputs": [
    {
     "data": {
      "text/plain": [
       "0.16666666666666666"
      ]
     },
     "execution_count": 42,
     "metadata": {},
     "output_type": "execute_result"
    }
   ],
   "source": [
    "error_test =  error_rate(ytest, yhat)"
   ]
  }
 ],
 "metadata": {
  "kernelspec": {
   "display_name": "Julia 1.2.0",
   "language": "julia",
   "name": "julia-1.2"
  },
  "language_info": {
   "file_extension": ".jl",
   "mimetype": "application/julia",
   "name": "julia",
   "version": "1.2.0"
  }
 },
 "nbformat": 4,
 "nbformat_minor": 2
}
