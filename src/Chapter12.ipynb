{
 "cells": [
  {
   "cell_type": "markdown",
   "metadata": {},
   "source": [
    "# Chapter 12 最小二乗法\n",
    "\n",
    "## 12.1 最小二乗問題\n",
    "\n",
    "本書の図12.1の小規模な最小二乗問題を取り上げ，$\\|  A \\hat{x} - b \\|$は（$x$が$\\hat{x}$ではない場合の）$\\|  A x - b \\|$よりも小さいことを確認しよう．\n"
   ]
  },
  {
   "cell_type": "code",
   "execution_count": 1,
   "metadata": {},
   "outputs": [
    {
     "data": {
      "text/plain": [
       "3×2 Array{Int64,2}:\n",
       "  2  0\n",
       " -1  1\n",
       "  0  2"
      ]
     },
     "execution_count": 1,
     "metadata": {},
     "output_type": "execute_result"
    }
   ],
   "source": [
    "A = [ 2 0 ; -1 1 ; 0 2 ]"
   ]
  },
  {
   "cell_type": "code",
   "execution_count": 2,
   "metadata": {},
   "outputs": [
    {
     "data": {
      "text/plain": [
       "3-element Array{Int64,1}:\n",
       "  1\n",
       "  0\n",
       " -1"
      ]
     },
     "execution_count": 2,
     "metadata": {},
     "output_type": "execute_result"
    }
   ],
   "source": [
    "b = [ 1, 0, -1 ]"
   ]
  },
  {
   "cell_type": "code",
   "execution_count": 3,
   "metadata": {},
   "outputs": [
    {
     "data": {
      "text/plain": [
       "2-element Array{Float64,1}:\n",
       "  0.3333333333333333\n",
       " -0.3333333333333333"
      ]
     },
     "execution_count": 3,
     "metadata": {},
     "output_type": "execute_result"
    }
   ],
   "source": [
    "xhat = [ 1/3, -1/3 ]"
   ]
  },
  {
   "cell_type": "code",
   "execution_count": 4,
   "metadata": {},
   "outputs": [
    {
     "data": {
      "text/plain": [
       "3-element Array{Float64,1}:\n",
       " -0.33333333333333337\n",
       " -0.6666666666666666 \n",
       "  0.33333333333333337"
      ]
     },
     "execution_count": 4,
     "metadata": {},
     "output_type": "execute_result"
    }
   ],
   "source": [
    "rhat = A * xhat -b"
   ]
  },
  {
   "cell_type": "code",
   "execution_count": 6,
   "metadata": {},
   "outputs": [],
   "source": [
    "using LinearAlgebra"
   ]
  },
  {
   "cell_type": "code",
   "execution_count": 7,
   "metadata": {},
   "outputs": [
    {
     "data": {
      "text/plain": [
       "0.816496580927726"
      ]
     },
     "execution_count": 7,
     "metadata": {},
     "output_type": "execute_result"
    }
   ],
   "source": [
    "norm(rhat)"
   ]
  },
  {
   "cell_type": "code",
   "execution_count": 8,
   "metadata": {},
   "outputs": [
    {
     "data": {
      "text/plain": [
       "2-element Array{Float64,1}:\n",
       "  0.5\n",
       " -0.5"
      ]
     },
     "execution_count": 8,
     "metadata": {},
     "output_type": "execute_result"
    }
   ],
   "source": [
    "x = [ 1/2, -1/2 ]"
   ]
  },
  {
   "cell_type": "code",
   "execution_count": 10,
   "metadata": {},
   "outputs": [
    {
     "data": {
      "text/plain": [
       "3-element Array{Float64,1}:\n",
       "  0.0\n",
       " -1.0\n",
       "  0.0"
      ]
     },
     "execution_count": 10,
     "metadata": {},
     "output_type": "execute_result"
    }
   ],
   "source": [
    "r = A * x -b"
   ]
  },
  {
   "cell_type": "code",
   "execution_count": 11,
   "metadata": {},
   "outputs": [
    {
     "data": {
      "text/plain": [
       "1.0"
      ]
     },
     "execution_count": 11,
     "metadata": {},
     "output_type": "execute_result"
    }
   ],
   "source": [
    "norm(r)"
   ]
  },
  {
   "cell_type": "markdown",
   "metadata": {},
   "source": [
    "## 12.2 解\n",
    "\n",
    "### 最小二乗解の公式\n",
    "\n",
    "本書の式(12.5)と式(12.6)\n",
    "$$\n",
    "\\hat{x} = (A^T A)^{-1} A^T b = A^\\dagger b\n",
    "$$\n",
    "を図12.1の例でチェックしよう（ここで$\\hat{x}=(1/3, 1/3)$）．\n"
   ]
  },
  {
   "cell_type": "code",
   "execution_count": 12,
   "metadata": {},
   "outputs": [
    {
     "data": {
      "text/plain": [
       "2-element Array{Float64,1}:\n",
       "  0.33333333333333337\n",
       " -0.33333333333333337"
      ]
     },
     "execution_count": 12,
     "metadata": {},
     "output_type": "execute_result"
    }
   ],
   "source": [
    "inv(A' * A) * A' * b"
   ]
  },
  {
   "cell_type": "code",
   "execution_count": 13,
   "metadata": {},
   "outputs": [
    {
     "data": {
      "text/plain": [
       "2-element Array{Float64,1}:\n",
       "  0.3333333333333333\n",
       " -0.3333333333333335"
      ]
     },
     "execution_count": 13,
     "metadata": {},
     "output_type": "execute_result"
    }
   ],
   "source": [
    "pinv(A) * b"
   ]
  },
  {
   "cell_type": "code",
   "execution_count": 14,
   "metadata": {},
   "outputs": [
    {
     "data": {
      "text/plain": [
       "2-element Array{Float64,1}:\n",
       "  0.3333333333333333\n",
       " -0.3333333333333333"
      ]
     },
     "execution_count": 14,
     "metadata": {},
     "output_type": "execute_result"
    }
   ],
   "source": [
    "xhat = [ 1/3, -1/3 ]"
   ]
  },
  {
   "cell_type": "code",
   "execution_count": 16,
   "metadata": {},
   "outputs": [
    {
     "data": {
      "text/plain": [
       "2-element Array{Float64,1}:\n",
       " -2.220446049250313e-16\n",
       "  2.220446049250313e-16"
      ]
     },
     "execution_count": 16,
     "metadata": {},
     "output_type": "execute_result"
    }
   ],
   "source": [
    "(A' * A) * xhat - A' * b # 正規方程式が成り立つかどうかをチェック"
   ]
  },
  {
   "cell_type": "markdown",
   "metadata": {},
   "source": [
    "### 直交原理\n",
    "\n",
    "直交原理の式(12.9)をチェックしよう．"
   ]
  },
  {
   "cell_type": "code",
   "execution_count": 17,
   "metadata": {},
   "outputs": [],
   "source": [
    "z = [-1.1, 2.3];"
   ]
  },
  {
   "cell_type": "code",
   "execution_count": 18,
   "metadata": {},
   "outputs": [
    {
     "data": {
      "text/plain": [
       "2.220446049250313e-16"
      ]
     },
     "execution_count": 18,
     "metadata": {},
     "output_type": "execute_result"
    }
   ],
   "source": [
    "(A * z)' * rhat"
   ]
  },
  {
   "cell_type": "code",
   "execution_count": 19,
   "metadata": {},
   "outputs": [],
   "source": [
    "z = [5.3, -1.2];"
   ]
  },
  {
   "cell_type": "code",
   "execution_count": 20,
   "metadata": {},
   "outputs": [
    {
     "data": {
      "text/plain": [
       "-6.661338147750939e-16"
      ]
     },
     "execution_count": 20,
     "metadata": {},
     "output_type": "execute_result"
    }
   ],
   "source": [
    "(A * z)' * rhat"
   ]
  },
  {
   "cell_type": "markdown",
   "metadata": {},
   "source": [
    "## 12.3 最小二乗問題を解く\n",
    "\n",
    "Juliaでは，バックスラッシュ演算子が最小二乗解`xhat = A\\b`を求める記法である（後の章で見るように，係数行列が正方である連立方程式を解くためにも使われる）．\n"
   ]
  },
  {
   "cell_type": "code",
   "execution_count": 21,
   "metadata": {},
   "outputs": [],
   "source": [
    "A = randn(100, 20); \n",
    "b = randn(100);\n",
    "x1 = A \\ b; # バックスラッシュoperatorを用いた最小二乗解\n",
    "x2 = inv(A' * A) * (A' * b); # 公式を用いた解\n",
    "x3 = pinv(A) * b; # 擬似逆行列を用いた解\n",
    "Q, R = qr(A);\n",
    "Q = Matrix(Q);\n",
    "x4 = R \\ (Q' * b);"
   ]
  },
  {
   "cell_type": "code",
   "execution_count": 22,
   "metadata": {},
   "outputs": [
    {
     "data": {
      "text/plain": [
       "3.30942550264722e-16"
      ]
     },
     "execution_count": 22,
     "metadata": {},
     "output_type": "execute_result"
    }
   ],
   "source": [
    "norm(x1 - x2)"
   ]
  },
  {
   "cell_type": "code",
   "execution_count": 23,
   "metadata": {},
   "outputs": [
    {
     "data": {
      "text/plain": [
       "5.066372692605104e-16"
      ]
     },
     "execution_count": 23,
     "metadata": {},
     "output_type": "execute_result"
    }
   ],
   "source": [
    "norm(x2 - x3)"
   ]
  },
  {
   "cell_type": "code",
   "execution_count": 24,
   "metadata": {},
   "outputs": [
    {
     "data": {
      "text/plain": [
       "4.977757200370632e-16"
      ]
     },
     "execution_count": 24,
     "metadata": {},
     "output_type": "execute_result"
    }
   ],
   "source": [
    "norm(x3 - x4)"
   ]
  },
  {
   "cell_type": "markdown",
   "metadata": {},
   "source": [
    "### 計算量\n",
    "\n",
    "\n",
    "$m \\times n$行列$A$の最小二乗問題を解く計算量はおよそ$2mn^2$ flopsである．これを確認するために，Juliaで次元の異なるいくつかの問題を解いてみよう．\n"
   ]
  },
  {
   "cell_type": "code",
   "execution_count": 25,
   "metadata": {},
   "outputs": [],
   "source": [
    "m = 2000; \n",
    "n = 500;\n",
    "A = randn(m, n); \n",
    "b = randn(m);"
   ]
  },
  {
   "cell_type": "code",
   "execution_count": 26,
   "metadata": {},
   "outputs": [
    {
     "name": "stdout",
     "output_type": "stream",
     "text": [
      "  0.126008 seconds (4.05 k allocations: 12.030 MiB)\n"
     ]
    }
   ],
   "source": [
    "@time x = A \\ b;"
   ]
  },
  {
   "cell_type": "code",
   "execution_count": 27,
   "metadata": {},
   "outputs": [
    {
     "name": "stdout",
     "output_type": "stream",
     "text": [
      "  0.123034 seconds (4.05 k allocations: 12.030 MiB)\n"
     ]
    }
   ],
   "source": [
    "@time x = A \\ b;"
   ]
  },
  {
   "cell_type": "code",
   "execution_count": 28,
   "metadata": {},
   "outputs": [],
   "source": [
    "m = 4000; \n",
    "n = 500;"
   ]
  },
  {
   "cell_type": "code",
   "execution_count": 30,
   "metadata": {},
   "outputs": [
    {
     "name": "stdout",
     "output_type": "stream",
     "text": [
      "  0.121636 seconds (4.05 k allocations: 12.030 MiB)\n"
     ]
    }
   ],
   "source": [
    "@time x = A \\ b;"
   ]
  },
  {
   "cell_type": "code",
   "execution_count": 29,
   "metadata": {},
   "outputs": [
    {
     "name": "stdout",
     "output_type": "stream",
     "text": [
      "  0.143381 seconds (4.05 k allocations: 12.030 MiB, 10.41% gc time)\n"
     ]
    }
   ],
   "source": [
    "@time x = A \\ b;"
   ]
  },
  {
   "cell_type": "code",
   "execution_count": 31,
   "metadata": {},
   "outputs": [],
   "source": [
    "m = 2000; \n",
    "n = 1000;\n",
    "A = randn(m, n); \n",
    "b = randn(m);"
   ]
  },
  {
   "cell_type": "code",
   "execution_count": 32,
   "metadata": {},
   "outputs": [
    {
     "name": "stdout",
     "output_type": "stream",
     "text": [
      "  1.257492 seconds (8.05 k allocations: 31.608 MiB, 7.70% gc time)\n"
     ]
    }
   ],
   "source": [
    "@time x = A \\ b;"
   ]
  },
  {
   "cell_type": "code",
   "execution_count": 33,
   "metadata": {},
   "outputs": [
    {
     "name": "stdout",
     "output_type": "stream",
     "text": [
      "  0.708311 seconds (8.05 k allocations: 31.608 MiB, 9.93% gc time)\n"
     ]
    }
   ],
   "source": [
    "@time x = A \\ b;"
   ]
  },
  {
   "cell_type": "markdown",
   "metadata": {},
   "source": [
    "これから分かるように，$m$を2倍にすると計算時間も2倍になり，$n$を2倍にすると計算時間は4倍になる．この計算時間の計測結果から，計算を実行している計算機の計算速度を見積もることができる．例えば最後の問題では，flopsはおよそ$2mn^2=4\\cdot 10^9$であり，これが0.4秒かかった．したがって計算速度はおよそ10 Gflp/secである．\n",
    "\n",
    "\n",
    "### 行列最小二乗法\n",
    "\n",
    "行列$A$が同じで$b$が異なる複数の最小二乗問題を解いてみよう．"
   ]
  },
  {
   "cell_type": "code",
   "execution_count": 34,
   "metadata": {},
   "outputs": [
    {
     "data": {
      "text/plain": [
       "1.3508955670962554e-16"
      ]
     },
     "execution_count": 34,
     "metadata": {},
     "output_type": "execute_result"
    }
   ],
   "source": [
    "A = randn(1000, 100); \n",
    "B = randn(1000, 10);\n",
    "X = A \\ B;\n",
    "# Xの3列目が，右辺がBの3列目のときの最小二乗解であることをチェック\n",
    "x3 = A \\ B[:, 3];\n",
    "norm(X[:, 3] - x3)"
   ]
  },
  {
   "cell_type": "markdown",
   "metadata": {},
   "source": [
    "## 12.4 例\n",
    "\n",
    "### 広告枠の購入\n",
    "\n",
    "本書＊＊＊ページの最適な広告枠の購入問題の解を求めよう．\n"
   ]
  },
  {
   "cell_type": "code",
   "execution_count": 35,
   "metadata": {},
   "outputs": [],
   "source": [
    "R = [ 0.97  1.86  0.41;\n",
    "      1.23  2.18  0.53;\n",
    "      0.80  1.24  0.62;\n",
    "      1.29  0.98  0.51;\n",
    "      1.10  1.23  0.69;\n",
    "      0.67  0.34  0.54;\n",
    "      0.87  0.26  0.62;\n",
    "      1.10  0.16  0.48;\n",
    "      1.92  0.22  0.71;\n",
    "      1.29  0.12  0.62];\n",
    "m, n = size(R);\n",
    "vdes = 1e3 * ones(m);"
   ]
  },
  {
   "cell_type": "code",
   "execution_count": 36,
   "metadata": {},
   "outputs": [
    {
     "data": {
      "text/plain": [
       "3-element Array{Float64,1}:\n",
       "   62.07662454385102\n",
       "   99.98500402826197\n",
       " 1442.8374625412223 "
      ]
     },
     "execution_count": 36,
     "metadata": {},
     "output_type": "execute_result"
    }
   ],
   "source": [
    "s = R \\ vdes"
   ]
  },
  {
   "cell_type": "code",
   "execution_count": 37,
   "metadata": {},
   "outputs": [],
   "source": [
    "using VMLS"
   ]
  },
  {
   "cell_type": "code",
   "execution_count": 38,
   "metadata": {},
   "outputs": [
    {
     "data": {
      "text/plain": [
       "132.63819026326524"
      ]
     },
     "execution_count": 38,
     "metadata": {},
     "output_type": "execute_result"
    }
   ],
   "source": [
    "rms(R * s - vdes)"
   ]
  },
  {
   "cell_type": "markdown",
   "metadata": {},
   "source": [
    "### 照明\n",
    "\n",
    "以下のコードは本書＊＊＊ページの照明設計問題を解き，照明レベルの2つのヒストグラムをプロットする（図12.1）．\n"
   ]
  },
  {
   "cell_type": "code",
   "execution_count": 39,
   "metadata": {},
   "outputs": [],
   "source": [
    "using Plots"
   ]
  },
  {
   "cell_type": "code",
   "execution_count": 40,
   "metadata": {},
   "outputs": [
    {
     "data": {
      "text/plain": [
       "0.1403904813427606"
      ]
     },
     "execution_count": 40,
     "metadata": {},
     "output_type": "execute_result"
    }
   ],
   "source": [
    "n = 10;  # 照明の数\n",
    "lamps = [ # 照明のx,y座標と床からの高さ\n",
    "      4.1  20.4  4;\n",
    "     14.1  21.3  3.5;\n",
    "     22.6  17.1  6;\n",
    "      5.5  12.3  4.0;\n",
    "     12.2   9.7  4.0;\n",
    "     15.3  13.8  6;\n",
    "     21.3  10.5  5.5;\n",
    "      3.9   3.3  5.0;\n",
    "     13.1   4.3  5.0;\n",
    "     20.3   4.2  4.5 ];\n",
    "N = 25; # グリッドサイズ\n",
    "m = N * N; # 画素数\n",
    "# 画素の中心座標を表すmx2行列\n",
    "pixels = hcat(\n",
    "            reshape( collect(0.5: 1 : N) * ones(1,N), m, 1),\n",
    "            reshape( ones(N,1) * collect(0.5: 1 : N)', m, 1) );\n",
    "# m x n行列Aは照明電力から照明レベルへの写像であり\n",
    "# A[i,j]の値は照明jから領域iまでの距離の二乗に反比例する\n",
    "A = zeros(m,n);\n",
    "for i=1:m\n",
    "    for j=1:n\n",
    "        A[i,j] = 1.0 / norm([pixels[i,:]; 0] - lamps[j,:])^2;\n",
    "    end; \n",
    "end;\n",
    "A = (m / sum(A)) * A;   # Aの正規化\n",
    "# 最小二乗解\n",
    "x = A \\ ones(m,1);\n",
    "rms_ls = rms(A * x .- 1)"
   ]
  },
  {
   "cell_type": "code",
   "execution_count": 41,
   "metadata": {},
   "outputs": [
    {
     "data": {
      "image/svg+xml": [
       "<?xml version=\"1.0\" encoding=\"utf-8\"?>\n",
       "<svg xmlns=\"http://www.w3.org/2000/svg\" xmlns:xlink=\"http://www.w3.org/1999/xlink\" width=\"600\" height=\"400\" viewBox=\"0 0 2400 1600\">\n",
       "<defs>\n",
       "  <clipPath id=\"clip6300\">\n",
       "    <rect x=\"0\" y=\"0\" width=\"2400\" height=\"1600\"/>\n",
       "  </clipPath>\n",
       "</defs>\n",
       "<polygon clip-path=\"url(#clip6300)\" points=\"\n",
       "0,1600 2400,1600 2400,0 0,0 \n",
       "  \" fill=\"#ffffff\" fill-rule=\"evenodd\" fill-opacity=\"1\"/>\n",
       "<defs>\n",
       "  <clipPath id=\"clip6301\">\n",
       "    <rect x=\"480\" y=\"0\" width=\"1681\" height=\"1600\"/>\n",
       "  </clipPath>\n",
       "</defs>\n",
       "<polygon clip-path=\"url(#clip6300)\" points=\"\n",
       "174.775,1503.47 2321.26,1503.47 2321.26,47.2441 174.775,47.2441 \n",
       "  \" fill=\"#ffffff\" fill-rule=\"evenodd\" fill-opacity=\"1\"/>\n",
       "<defs>\n",
       "  <clipPath id=\"clip6302\">\n",
       "    <rect x=\"174\" y=\"47\" width=\"2147\" height=\"1457\"/>\n",
       "  </clipPath>\n",
       "</defs>\n",
       "<polyline clip-path=\"url(#clip6302)\" style=\"stroke:#000000; stroke-width:2; stroke-opacity:0.1; fill:none\" points=\"\n",
       "  483.872,1503.47 483.872,47.2441 \n",
       "  \"/>\n",
       "<polyline clip-path=\"url(#clip6302)\" style=\"stroke:#000000; stroke-width:2; stroke-opacity:0.1; fill:none\" points=\"\n",
       "  865.945,1503.47 865.945,47.2441 \n",
       "  \"/>\n",
       "<polyline clip-path=\"url(#clip6302)\" style=\"stroke:#000000; stroke-width:2; stroke-opacity:0.1; fill:none\" points=\"\n",
       "  1248.02,1503.47 1248.02,47.2441 \n",
       "  \"/>\n",
       "<polyline clip-path=\"url(#clip6302)\" style=\"stroke:#000000; stroke-width:2; stroke-opacity:0.1; fill:none\" points=\"\n",
       "  1630.09,1503.47 1630.09,47.2441 \n",
       "  \"/>\n",
       "<polyline clip-path=\"url(#clip6302)\" style=\"stroke:#000000; stroke-width:2; stroke-opacity:0.1; fill:none\" points=\"\n",
       "  2012.16,1503.47 2012.16,47.2441 \n",
       "  \"/>\n",
       "<polyline clip-path=\"url(#clip6302)\" style=\"stroke:#000000; stroke-width:2; stroke-opacity:0.1; fill:none\" points=\"\n",
       "  174.775,1503.47 2321.26,1503.47 \n",
       "  \"/>\n",
       "<polyline clip-path=\"url(#clip6302)\" style=\"stroke:#000000; stroke-width:2; stroke-opacity:0.1; fill:none\" points=\"\n",
       "  174.775,1260.77 2321.26,1260.77 \n",
       "  \"/>\n",
       "<polyline clip-path=\"url(#clip6302)\" style=\"stroke:#000000; stroke-width:2; stroke-opacity:0.1; fill:none\" points=\"\n",
       "  174.775,1018.06 2321.26,1018.06 \n",
       "  \"/>\n",
       "<polyline clip-path=\"url(#clip6302)\" style=\"stroke:#000000; stroke-width:2; stroke-opacity:0.1; fill:none\" points=\"\n",
       "  174.775,775.359 2321.26,775.359 \n",
       "  \"/>\n",
       "<polyline clip-path=\"url(#clip6302)\" style=\"stroke:#000000; stroke-width:2; stroke-opacity:0.1; fill:none\" points=\"\n",
       "  174.775,532.654 2321.26,532.654 \n",
       "  \"/>\n",
       "<polyline clip-path=\"url(#clip6302)\" style=\"stroke:#000000; stroke-width:2; stroke-opacity:0.1; fill:none\" points=\"\n",
       "  174.775,289.949 2321.26,289.949 \n",
       "  \"/>\n",
       "<polyline clip-path=\"url(#clip6302)\" style=\"stroke:#000000; stroke-width:2; stroke-opacity:0.1; fill:none\" points=\"\n",
       "  174.775,47.2441 2321.26,47.2441 \n",
       "  \"/>\n",
       "<polyline clip-path=\"url(#clip6300)\" style=\"stroke:#000000; stroke-width:4; stroke-opacity:1; fill:none\" points=\"\n",
       "  174.775,1503.47 2321.26,1503.47 \n",
       "  \"/>\n",
       "<polyline clip-path=\"url(#clip6300)\" style=\"stroke:#000000; stroke-width:4; stroke-opacity:1; fill:none\" points=\"\n",
       "  174.775,1503.47 174.775,47.2441 \n",
       "  \"/>\n",
       "<polyline clip-path=\"url(#clip6300)\" style=\"stroke:#000000; stroke-width:4; stroke-opacity:1; fill:none\" points=\"\n",
       "  483.872,1503.47 483.872,1481.63 \n",
       "  \"/>\n",
       "<polyline clip-path=\"url(#clip6300)\" style=\"stroke:#000000; stroke-width:4; stroke-opacity:1; fill:none\" points=\"\n",
       "  865.945,1503.47 865.945,1481.63 \n",
       "  \"/>\n",
       "<polyline clip-path=\"url(#clip6300)\" style=\"stroke:#000000; stroke-width:4; stroke-opacity:1; fill:none\" points=\"\n",
       "  1248.02,1503.47 1248.02,1481.63 \n",
       "  \"/>\n",
       "<polyline clip-path=\"url(#clip6300)\" style=\"stroke:#000000; stroke-width:4; stroke-opacity:1; fill:none\" points=\"\n",
       "  1630.09,1503.47 1630.09,1481.63 \n",
       "  \"/>\n",
       "<polyline clip-path=\"url(#clip6300)\" style=\"stroke:#000000; stroke-width:4; stroke-opacity:1; fill:none\" points=\"\n",
       "  2012.16,1503.47 2012.16,1481.63 \n",
       "  \"/>\n",
       "<polyline clip-path=\"url(#clip6300)\" style=\"stroke:#000000; stroke-width:4; stroke-opacity:1; fill:none\" points=\"\n",
       "  174.775,1503.47 206.972,1503.47 \n",
       "  \"/>\n",
       "<polyline clip-path=\"url(#clip6300)\" style=\"stroke:#000000; stroke-width:4; stroke-opacity:1; fill:none\" points=\"\n",
       "  174.775,1260.77 206.972,1260.77 \n",
       "  \"/>\n",
       "<polyline clip-path=\"url(#clip6300)\" style=\"stroke:#000000; stroke-width:4; stroke-opacity:1; fill:none\" points=\"\n",
       "  174.775,1018.06 206.972,1018.06 \n",
       "  \"/>\n",
       "<polyline clip-path=\"url(#clip6300)\" style=\"stroke:#000000; stroke-width:4; stroke-opacity:1; fill:none\" points=\"\n",
       "  174.775,775.359 206.972,775.359 \n",
       "  \"/>\n",
       "<polyline clip-path=\"url(#clip6300)\" style=\"stroke:#000000; stroke-width:4; stroke-opacity:1; fill:none\" points=\"\n",
       "  174.775,532.654 206.972,532.654 \n",
       "  \"/>\n",
       "<polyline clip-path=\"url(#clip6300)\" style=\"stroke:#000000; stroke-width:4; stroke-opacity:1; fill:none\" points=\"\n",
       "  174.775,289.949 206.972,289.949 \n",
       "  \"/>\n",
       "<polyline clip-path=\"url(#clip6300)\" style=\"stroke:#000000; stroke-width:4; stroke-opacity:1; fill:none\" points=\"\n",
       "  174.775,47.2441 206.972,47.2441 \n",
       "  \"/>\n",
       "<g clip-path=\"url(#clip6300)\">\n",
       "<text style=\"fill:#000000; fill-opacity:1; font-family:Arial,Helvetica Neue,Helvetica,sans-serif; font-size:48px; text-anchor:middle;\" transform=\"rotate(0, 483.872, 1557.47)\" x=\"483.872\" y=\"1557.47\">0.50</text>\n",
       "</g>\n",
       "<g clip-path=\"url(#clip6300)\">\n",
       "<text style=\"fill:#000000; fill-opacity:1; font-family:Arial,Helvetica Neue,Helvetica,sans-serif; font-size:48px; text-anchor:middle;\" transform=\"rotate(0, 865.945, 1557.47)\" x=\"865.945\" y=\"1557.47\">0.75</text>\n",
       "</g>\n",
       "<g clip-path=\"url(#clip6300)\">\n",
       "<text style=\"fill:#000000; fill-opacity:1; font-family:Arial,Helvetica Neue,Helvetica,sans-serif; font-size:48px; text-anchor:middle;\" transform=\"rotate(0, 1248.02, 1557.47)\" x=\"1248.02\" y=\"1557.47\">1.00</text>\n",
       "</g>\n",
       "<g clip-path=\"url(#clip6300)\">\n",
       "<text style=\"fill:#000000; fill-opacity:1; font-family:Arial,Helvetica Neue,Helvetica,sans-serif; font-size:48px; text-anchor:middle;\" transform=\"rotate(0, 1630.09, 1557.47)\" x=\"1630.09\" y=\"1557.47\">1.25</text>\n",
       "</g>\n",
       "<g clip-path=\"url(#clip6300)\">\n",
       "<text style=\"fill:#000000; fill-opacity:1; font-family:Arial,Helvetica Neue,Helvetica,sans-serif; font-size:48px; text-anchor:middle;\" transform=\"rotate(0, 2012.16, 1557.47)\" x=\"2012.16\" y=\"1557.47\">1.50</text>\n",
       "</g>\n",
       "<g clip-path=\"url(#clip6300)\">\n",
       "<text style=\"fill:#000000; fill-opacity:1; font-family:Arial,Helvetica Neue,Helvetica,sans-serif; font-size:48px; text-anchor:end;\" transform=\"rotate(0, 150.775, 1520.97)\" x=\"150.775\" y=\"1520.97\">0</text>\n",
       "</g>\n",
       "<g clip-path=\"url(#clip6300)\">\n",
       "<text style=\"fill:#000000; fill-opacity:1; font-family:Arial,Helvetica Neue,Helvetica,sans-serif; font-size:48px; text-anchor:end;\" transform=\"rotate(0, 150.775, 1278.27)\" x=\"150.775\" y=\"1278.27\">20</text>\n",
       "</g>\n",
       "<g clip-path=\"url(#clip6300)\">\n",
       "<text style=\"fill:#000000; fill-opacity:1; font-family:Arial,Helvetica Neue,Helvetica,sans-serif; font-size:48px; text-anchor:end;\" transform=\"rotate(0, 150.775, 1035.56)\" x=\"150.775\" y=\"1035.56\">40</text>\n",
       "</g>\n",
       "<g clip-path=\"url(#clip6300)\">\n",
       "<text style=\"fill:#000000; fill-opacity:1; font-family:Arial,Helvetica Neue,Helvetica,sans-serif; font-size:48px; text-anchor:end;\" transform=\"rotate(0, 150.775, 792.859)\" x=\"150.775\" y=\"792.859\">60</text>\n",
       "</g>\n",
       "<g clip-path=\"url(#clip6300)\">\n",
       "<text style=\"fill:#000000; fill-opacity:1; font-family:Arial,Helvetica Neue,Helvetica,sans-serif; font-size:48px; text-anchor:end;\" transform=\"rotate(0, 150.775, 550.154)\" x=\"150.775\" y=\"550.154\">80</text>\n",
       "</g>\n",
       "<g clip-path=\"url(#clip6300)\">\n",
       "<text style=\"fill:#000000; fill-opacity:1; font-family:Arial,Helvetica Neue,Helvetica,sans-serif; font-size:48px; text-anchor:end;\" transform=\"rotate(0, 150.775, 307.449)\" x=\"150.775\" y=\"307.449\">100</text>\n",
       "</g>\n",
       "<g clip-path=\"url(#clip6300)\">\n",
       "<text style=\"fill:#000000; fill-opacity:1; font-family:Arial,Helvetica Neue,Helvetica,sans-serif; font-size:48px; text-anchor:end;\" transform=\"rotate(0, 150.775, 64.7441)\" x=\"150.775\" y=\"64.7441\">120</text>\n",
       "</g>\n",
       "<polygon clip-path=\"url(#clip6302)\" points=\"\n",
       "292.836,1503.47 292.836,1503.47 369.25,1503.47 369.25,1503.47 292.836,1503.47 292.836,1503.47 \n",
       "  \" fill=\"#009af9\" fill-rule=\"evenodd\" fill-opacity=\"1\"/>\n",
       "<polyline clip-path=\"url(#clip6302)\" style=\"stroke:#000000; stroke-width:4; stroke-opacity:1; fill:none\" points=\"\n",
       "  292.836,1503.47 292.836,1503.47 369.25,1503.47 292.836,1503.47 \n",
       "  \"/>\n",
       "<polygon clip-path=\"url(#clip6302)\" points=\"\n",
       "369.25,1503.47 369.25,1503.47 445.665,1503.47 445.665,1503.47 369.25,1503.47 369.25,1503.47 \n",
       "  \" fill=\"#009af9\" fill-rule=\"evenodd\" fill-opacity=\"1\"/>\n",
       "<polyline clip-path=\"url(#clip6302)\" style=\"stroke:#000000; stroke-width:4; stroke-opacity:1; fill:none\" points=\"\n",
       "  369.25,1503.47 369.25,1503.47 445.665,1503.47 369.25,1503.47 \n",
       "  \"/>\n",
       "<polygon clip-path=\"url(#clip6302)\" points=\"\n",
       "445.665,1503.47 445.665,1503.47 522.079,1503.47 522.079,1503.47 445.665,1503.47 445.665,1503.47 \n",
       "  \" fill=\"#009af9\" fill-rule=\"evenodd\" fill-opacity=\"1\"/>\n",
       "<polyline clip-path=\"url(#clip6302)\" style=\"stroke:#000000; stroke-width:4; stroke-opacity:1; fill:none\" points=\"\n",
       "  445.665,1503.47 445.665,1503.47 522.079,1503.47 445.665,1503.47 \n",
       "  \"/>\n",
       "<polygon clip-path=\"url(#clip6302)\" points=\"\n",
       "522.079,1454.93 522.079,1503.47 598.494,1503.47 598.494,1454.93 522.079,1454.93 522.079,1454.93 \n",
       "  \" fill=\"#009af9\" fill-rule=\"evenodd\" fill-opacity=\"1\"/>\n",
       "<polyline clip-path=\"url(#clip6302)\" style=\"stroke:#000000; stroke-width:4; stroke-opacity:1; fill:none\" points=\"\n",
       "  522.079,1454.93 522.079,1503.47 598.494,1503.47 598.494,1454.93 522.079,1454.93 \n",
       "  \"/>\n",
       "<polygon clip-path=\"url(#clip6302)\" points=\"\n",
       "598.494,1454.93 598.494,1503.47 674.908,1503.47 674.908,1454.93 598.494,1454.93 598.494,1454.93 \n",
       "  \" fill=\"#009af9\" fill-rule=\"evenodd\" fill-opacity=\"1\"/>\n",
       "<polyline clip-path=\"url(#clip6302)\" style=\"stroke:#000000; stroke-width:4; stroke-opacity:1; fill:none\" points=\"\n",
       "  598.494,1454.93 598.494,1503.47 674.908,1503.47 674.908,1454.93 598.494,1454.93 \n",
       "  \"/>\n",
       "<polygon clip-path=\"url(#clip6302)\" points=\"\n",
       "674.908,1418.53 674.908,1503.47 751.323,1503.47 751.323,1418.53 674.908,1418.53 674.908,1418.53 \n",
       "  \" fill=\"#009af9\" fill-rule=\"evenodd\" fill-opacity=\"1\"/>\n",
       "<polyline clip-path=\"url(#clip6302)\" style=\"stroke:#000000; stroke-width:4; stroke-opacity:1; fill:none\" points=\"\n",
       "  674.908,1418.53 674.908,1503.47 751.323,1503.47 751.323,1418.53 674.908,1418.53 \n",
       "  \"/>\n",
       "<polygon clip-path=\"url(#clip6302)\" points=\"\n",
       "751.323,1236.5 751.323,1503.47 827.738,1503.47 827.738,1236.5 751.323,1236.5 751.323,1236.5 \n",
       "  \" fill=\"#009af9\" fill-rule=\"evenodd\" fill-opacity=\"1\"/>\n",
       "<polyline clip-path=\"url(#clip6302)\" style=\"stroke:#000000; stroke-width:4; stroke-opacity:1; fill:none\" points=\"\n",
       "  751.323,1236.5 751.323,1503.47 827.738,1503.47 827.738,1236.5 751.323,1236.5 \n",
       "  \"/>\n",
       "<polygon clip-path=\"url(#clip6302)\" points=\"\n",
       "827.738,1285.04 827.738,1503.47 904.152,1503.47 904.152,1285.04 827.738,1285.04 827.738,1285.04 \n",
       "  \" fill=\"#009af9\" fill-rule=\"evenodd\" fill-opacity=\"1\"/>\n",
       "<polyline clip-path=\"url(#clip6302)\" style=\"stroke:#000000; stroke-width:4; stroke-opacity:1; fill:none\" points=\"\n",
       "  827.738,1285.04 827.738,1503.47 904.152,1503.47 904.152,1285.04 827.738,1285.04 \n",
       "  \"/>\n",
       "<polygon clip-path=\"url(#clip6302)\" points=\"\n",
       "904.152,920.982 904.152,1503.47 980.567,1503.47 980.567,920.982 904.152,920.982 904.152,920.982 \n",
       "  \" fill=\"#009af9\" fill-rule=\"evenodd\" fill-opacity=\"1\"/>\n",
       "<polyline clip-path=\"url(#clip6302)\" style=\"stroke:#000000; stroke-width:4; stroke-opacity:1; fill:none\" points=\"\n",
       "  904.152,920.982 904.152,1503.47 980.567,1503.47 980.567,920.982 904.152,920.982 \n",
       "  \"/>\n",
       "<polygon clip-path=\"url(#clip6302)\" points=\"\n",
       "980.567,1200.09 980.567,1503.47 1056.98,1503.47 1056.98,1200.09 980.567,1200.09 980.567,1200.09 \n",
       "  \" fill=\"#009af9\" fill-rule=\"evenodd\" fill-opacity=\"1\"/>\n",
       "<polyline clip-path=\"url(#clip6302)\" style=\"stroke:#000000; stroke-width:4; stroke-opacity:1; fill:none\" points=\"\n",
       "  980.567,1200.09 980.567,1503.47 1056.98,1503.47 1056.98,1200.09 980.567,1200.09 \n",
       "  \"/>\n",
       "<polygon clip-path=\"url(#clip6302)\" points=\"\n",
       "1056.98,981.659 1056.98,1503.47 1133.4,1503.47 1133.4,981.659 1056.98,981.659 1056.98,981.659 \n",
       "  \" fill=\"#009af9\" fill-rule=\"evenodd\" fill-opacity=\"1\"/>\n",
       "<polyline clip-path=\"url(#clip6302)\" style=\"stroke:#000000; stroke-width:4; stroke-opacity:1; fill:none\" points=\"\n",
       "  1056.98,981.659 1056.98,1503.47 1133.4,1503.47 1133.4,981.659 1056.98,981.659 \n",
       "  \"/>\n",
       "<polygon clip-path=\"url(#clip6302)\" points=\"\n",
       "1133.4,387.031 1133.4,1503.47 1209.81,1503.47 1209.81,387.031 1133.4,387.031 1133.4,387.031 \n",
       "  \" fill=\"#009af9\" fill-rule=\"evenodd\" fill-opacity=\"1\"/>\n",
       "<polyline clip-path=\"url(#clip6302)\" style=\"stroke:#000000; stroke-width:4; stroke-opacity:1; fill:none\" points=\"\n",
       "  1133.4,387.031 1133.4,1503.47 1209.81,1503.47 1209.81,387.031 1133.4,387.031 \n",
       "  \"/>\n",
       "<polygon clip-path=\"url(#clip6302)\" points=\"\n",
       "1209.81,144.326 1209.81,1503.47 1286.22,1503.47 1286.22,144.326 1209.81,144.326 1209.81,144.326 \n",
       "  \" fill=\"#009af9\" fill-rule=\"evenodd\" fill-opacity=\"1\"/>\n",
       "<polyline clip-path=\"url(#clip6302)\" style=\"stroke:#000000; stroke-width:4; stroke-opacity:1; fill:none\" points=\"\n",
       "  1209.81,144.326 1209.81,1503.47 1286.22,1503.47 1286.22,144.326 1209.81,144.326 \n",
       "  \"/>\n",
       "<polygon clip-path=\"url(#clip6302)\" points=\"\n",
       "1286.22,302.084 1286.22,1503.47 1362.64,1503.47 1362.64,302.084 1286.22,302.084 1286.22,302.084 \n",
       "  \" fill=\"#009af9\" fill-rule=\"evenodd\" fill-opacity=\"1\"/>\n",
       "<polyline clip-path=\"url(#clip6302)\" style=\"stroke:#000000; stroke-width:4; stroke-opacity:1; fill:none\" points=\"\n",
       "  1286.22,302.084 1286.22,1503.47 1362.64,1503.47 1362.64,302.084 1286.22,302.084 \n",
       "  \"/>\n",
       "<polygon clip-path=\"url(#clip6302)\" points=\"\n",
       "1362.64,726.818 1362.64,1503.47 1439.05,1503.47 1439.05,726.818 1362.64,726.818 1362.64,726.818 \n",
       "  \" fill=\"#009af9\" fill-rule=\"evenodd\" fill-opacity=\"1\"/>\n",
       "<polyline clip-path=\"url(#clip6302)\" style=\"stroke:#000000; stroke-width:4; stroke-opacity:1; fill:none\" points=\"\n",
       "  1362.64,726.818 1362.64,1503.47 1439.05,1503.47 1439.05,726.818 1362.64,726.818 \n",
       "  \"/>\n",
       "<polygon clip-path=\"url(#clip6302)\" points=\"\n",
       "1439.05,945.253 1439.05,1503.47 1515.47,1503.47 1515.47,945.253 1439.05,945.253 1439.05,945.253 \n",
       "  \" fill=\"#009af9\" fill-rule=\"evenodd\" fill-opacity=\"1\"/>\n",
       "<polyline clip-path=\"url(#clip6302)\" style=\"stroke:#000000; stroke-width:4; stroke-opacity:1; fill:none\" points=\"\n",
       "  1439.05,945.253 1439.05,1503.47 1515.47,1503.47 1515.47,945.253 1439.05,945.253 \n",
       "  \"/>\n",
       "<polygon clip-path=\"url(#clip6302)\" points=\"\n",
       "1515.47,1175.82 1515.47,1503.47 1591.88,1503.47 1591.88,1175.82 1515.47,1175.82 1515.47,1175.82 \n",
       "  \" fill=\"#009af9\" fill-rule=\"evenodd\" fill-opacity=\"1\"/>\n",
       "<polyline clip-path=\"url(#clip6302)\" style=\"stroke:#000000; stroke-width:4; stroke-opacity:1; fill:none\" points=\"\n",
       "  1515.47,1175.82 1515.47,1503.47 1591.88,1503.47 1591.88,1175.82 1515.47,1175.82 \n",
       "  \"/>\n",
       "<polygon clip-path=\"url(#clip6302)\" points=\"\n",
       "1591.88,1382.12 1591.88,1503.47 1668.3,1503.47 1668.3,1382.12 1591.88,1382.12 1591.88,1382.12 \n",
       "  \" fill=\"#009af9\" fill-rule=\"evenodd\" fill-opacity=\"1\"/>\n",
       "<polyline clip-path=\"url(#clip6302)\" style=\"stroke:#000000; stroke-width:4; stroke-opacity:1; fill:none\" points=\"\n",
       "  1591.88,1382.12 1591.88,1503.47 1668.3,1503.47 1668.3,1382.12 1591.88,1382.12 \n",
       "  \"/>\n",
       "<polygon clip-path=\"url(#clip6302)\" points=\"\n",
       "1668.3,1479.2 1668.3,1503.47 1744.71,1503.47 1744.71,1479.2 1668.3,1479.2 1668.3,1479.2 \n",
       "  \" fill=\"#009af9\" fill-rule=\"evenodd\" fill-opacity=\"1\"/>\n",
       "<polyline clip-path=\"url(#clip6302)\" style=\"stroke:#000000; stroke-width:4; stroke-opacity:1; fill:none\" points=\"\n",
       "  1668.3,1479.2 1668.3,1503.47 1744.71,1503.47 1744.71,1479.2 1668.3,1479.2 \n",
       "  \"/>\n",
       "<polygon clip-path=\"url(#clip6302)\" points=\"\n",
       "1744.71,1479.2 1744.71,1503.47 1821.13,1503.47 1821.13,1479.2 1744.71,1479.2 1744.71,1479.2 \n",
       "  \" fill=\"#009af9\" fill-rule=\"evenodd\" fill-opacity=\"1\"/>\n",
       "<polyline clip-path=\"url(#clip6302)\" style=\"stroke:#000000; stroke-width:4; stroke-opacity:1; fill:none\" points=\"\n",
       "  1744.71,1479.2 1744.71,1503.47 1821.13,1503.47 1821.13,1479.2 1744.71,1479.2 \n",
       "  \"/>\n",
       "<polygon clip-path=\"url(#clip6302)\" points=\"\n",
       "1821.13,1503.47 1821.13,1503.47 1897.54,1503.47 1897.54,1503.47 1821.13,1503.47 1821.13,1503.47 \n",
       "  \" fill=\"#009af9\" fill-rule=\"evenodd\" fill-opacity=\"1\"/>\n",
       "<polyline clip-path=\"url(#clip6302)\" style=\"stroke:#000000; stroke-width:4; stroke-opacity:1; fill:none\" points=\"\n",
       "  1821.13,1503.47 1821.13,1503.47 1897.54,1503.47 1821.13,1503.47 \n",
       "  \"/>\n",
       "<polygon clip-path=\"url(#clip6302)\" points=\"\n",
       "1897.54,1503.47 1897.54,1503.47 1973.96,1503.47 1973.96,1503.47 1897.54,1503.47 1897.54,1503.47 \n",
       "  \" fill=\"#009af9\" fill-rule=\"evenodd\" fill-opacity=\"1\"/>\n",
       "<polyline clip-path=\"url(#clip6302)\" style=\"stroke:#000000; stroke-width:4; stroke-opacity:1; fill:none\" points=\"\n",
       "  1897.54,1503.47 1897.54,1503.47 1973.96,1503.47 1897.54,1503.47 \n",
       "  \"/>\n",
       "<polygon clip-path=\"url(#clip6302)\" points=\"\n",
       "1973.96,1503.47 1973.96,1503.47 2050.37,1503.47 2050.37,1503.47 1973.96,1503.47 1973.96,1503.47 \n",
       "  \" fill=\"#009af9\" fill-rule=\"evenodd\" fill-opacity=\"1\"/>\n",
       "<polyline clip-path=\"url(#clip6302)\" style=\"stroke:#000000; stroke-width:4; stroke-opacity:1; fill:none\" points=\"\n",
       "  1973.96,1503.47 1973.96,1503.47 2050.37,1503.47 1973.96,1503.47 \n",
       "  \"/>\n",
       "<polygon clip-path=\"url(#clip6302)\" points=\"\n",
       "2050.37,1503.47 2050.37,1503.47 2126.78,1503.47 2126.78,1503.47 2050.37,1503.47 2050.37,1503.47 \n",
       "  \" fill=\"#009af9\" fill-rule=\"evenodd\" fill-opacity=\"1\"/>\n",
       "<polyline clip-path=\"url(#clip6302)\" style=\"stroke:#000000; stroke-width:4; stroke-opacity:1; fill:none\" points=\"\n",
       "  2050.37,1503.47 2050.37,1503.47 2126.78,1503.47 2050.37,1503.47 \n",
       "  \"/>\n",
       "<polygon clip-path=\"url(#clip6302)\" points=\"\n",
       "2126.78,1503.47 2126.78,1503.47 2203.2,1503.47 2203.2,1503.47 2126.78,1503.47 2126.78,1503.47 \n",
       "  \" fill=\"#009af9\" fill-rule=\"evenodd\" fill-opacity=\"1\"/>\n",
       "<polyline clip-path=\"url(#clip6302)\" style=\"stroke:#000000; stroke-width:4; stroke-opacity:1; fill:none\" points=\"\n",
       "  2126.78,1503.47 2126.78,1503.47 2203.2,1503.47 2126.78,1503.47 \n",
       "  \"/>\n",
       "</svg>\n"
      ]
     },
     "execution_count": 41,
     "metadata": {},
     "output_type": "execute_result"
    }
   ],
   "source": [
    "histogram(A*x, bins = (0.375:0.05:1.625),\n",
    "            legend = false, ylim = (0,120))"
   ]
  },
  {
   "cell_type": "code",
   "execution_count": 42,
   "metadata": {},
   "outputs": [
    {
     "data": {
      "text/plain": [
       "0.24174131853807881"
      ]
     },
     "execution_count": 42,
     "metadata": {},
     "output_type": "execute_result"
    }
   ],
   "source": [
    "# 全ての照明レベルが1の場合\n",
    "rms_uniform = rms(A*ones(n,1) .- 1)"
   ]
  },
  {
   "cell_type": "code",
   "execution_count": 43,
   "metadata": {},
   "outputs": [
    {
     "data": {
      "image/svg+xml": [
       "<?xml version=\"1.0\" encoding=\"utf-8\"?>\n",
       "<svg xmlns=\"http://www.w3.org/2000/svg\" xmlns:xlink=\"http://www.w3.org/1999/xlink\" width=\"600\" height=\"400\" viewBox=\"0 0 2400 1600\">\n",
       "<defs>\n",
       "  <clipPath id=\"clip6700\">\n",
       "    <rect x=\"0\" y=\"0\" width=\"2400\" height=\"1600\"/>\n",
       "  </clipPath>\n",
       "</defs>\n",
       "<polygon clip-path=\"url(#clip6700)\" points=\"\n",
       "0,1600 2400,1600 2400,0 0,0 \n",
       "  \" fill=\"#ffffff\" fill-rule=\"evenodd\" fill-opacity=\"1\"/>\n",
       "<defs>\n",
       "  <clipPath id=\"clip6701\">\n",
       "    <rect x=\"480\" y=\"0\" width=\"1681\" height=\"1600\"/>\n",
       "  </clipPath>\n",
       "</defs>\n",
       "<polygon clip-path=\"url(#clip6700)\" points=\"\n",
       "174.775,1503.47 2321.26,1503.47 2321.26,47.2441 174.775,47.2441 \n",
       "  \" fill=\"#ffffff\" fill-rule=\"evenodd\" fill-opacity=\"1\"/>\n",
       "<defs>\n",
       "  <clipPath id=\"clip6702\">\n",
       "    <rect x=\"174\" y=\"47\" width=\"2147\" height=\"1457\"/>\n",
       "  </clipPath>\n",
       "</defs>\n",
       "<polyline clip-path=\"url(#clip6702)\" style=\"stroke:#000000; stroke-width:2; stroke-opacity:0.1; fill:none\" points=\"\n",
       "  483.872,1503.47 483.872,47.2441 \n",
       "  \"/>\n",
       "<polyline clip-path=\"url(#clip6702)\" style=\"stroke:#000000; stroke-width:2; stroke-opacity:0.1; fill:none\" points=\"\n",
       "  865.945,1503.47 865.945,47.2441 \n",
       "  \"/>\n",
       "<polyline clip-path=\"url(#clip6702)\" style=\"stroke:#000000; stroke-width:2; stroke-opacity:0.1; fill:none\" points=\"\n",
       "  1248.02,1503.47 1248.02,47.2441 \n",
       "  \"/>\n",
       "<polyline clip-path=\"url(#clip6702)\" style=\"stroke:#000000; stroke-width:2; stroke-opacity:0.1; fill:none\" points=\"\n",
       "  1630.09,1503.47 1630.09,47.2441 \n",
       "  \"/>\n",
       "<polyline clip-path=\"url(#clip6702)\" style=\"stroke:#000000; stroke-width:2; stroke-opacity:0.1; fill:none\" points=\"\n",
       "  2012.16,1503.47 2012.16,47.2441 \n",
       "  \"/>\n",
       "<polyline clip-path=\"url(#clip6702)\" style=\"stroke:#000000; stroke-width:2; stroke-opacity:0.1; fill:none\" points=\"\n",
       "  174.775,1503.47 2321.26,1503.47 \n",
       "  \"/>\n",
       "<polyline clip-path=\"url(#clip6702)\" style=\"stroke:#000000; stroke-width:2; stroke-opacity:0.1; fill:none\" points=\"\n",
       "  174.775,1260.77 2321.26,1260.77 \n",
       "  \"/>\n",
       "<polyline clip-path=\"url(#clip6702)\" style=\"stroke:#000000; stroke-width:2; stroke-opacity:0.1; fill:none\" points=\"\n",
       "  174.775,1018.06 2321.26,1018.06 \n",
       "  \"/>\n",
       "<polyline clip-path=\"url(#clip6702)\" style=\"stroke:#000000; stroke-width:2; stroke-opacity:0.1; fill:none\" points=\"\n",
       "  174.775,775.359 2321.26,775.359 \n",
       "  \"/>\n",
       "<polyline clip-path=\"url(#clip6702)\" style=\"stroke:#000000; stroke-width:2; stroke-opacity:0.1; fill:none\" points=\"\n",
       "  174.775,532.654 2321.26,532.654 \n",
       "  \"/>\n",
       "<polyline clip-path=\"url(#clip6702)\" style=\"stroke:#000000; stroke-width:2; stroke-opacity:0.1; fill:none\" points=\"\n",
       "  174.775,289.949 2321.26,289.949 \n",
       "  \"/>\n",
       "<polyline clip-path=\"url(#clip6702)\" style=\"stroke:#000000; stroke-width:2; stroke-opacity:0.1; fill:none\" points=\"\n",
       "  174.775,47.2441 2321.26,47.2441 \n",
       "  \"/>\n",
       "<polyline clip-path=\"url(#clip6700)\" style=\"stroke:#000000; stroke-width:4; stroke-opacity:1; fill:none\" points=\"\n",
       "  174.775,1503.47 2321.26,1503.47 \n",
       "  \"/>\n",
       "<polyline clip-path=\"url(#clip6700)\" style=\"stroke:#000000; stroke-width:4; stroke-opacity:1; fill:none\" points=\"\n",
       "  174.775,1503.47 174.775,47.2441 \n",
       "  \"/>\n",
       "<polyline clip-path=\"url(#clip6700)\" style=\"stroke:#000000; stroke-width:4; stroke-opacity:1; fill:none\" points=\"\n",
       "  483.872,1503.47 483.872,1481.63 \n",
       "  \"/>\n",
       "<polyline clip-path=\"url(#clip6700)\" style=\"stroke:#000000; stroke-width:4; stroke-opacity:1; fill:none\" points=\"\n",
       "  865.945,1503.47 865.945,1481.63 \n",
       "  \"/>\n",
       "<polyline clip-path=\"url(#clip6700)\" style=\"stroke:#000000; stroke-width:4; stroke-opacity:1; fill:none\" points=\"\n",
       "  1248.02,1503.47 1248.02,1481.63 \n",
       "  \"/>\n",
       "<polyline clip-path=\"url(#clip6700)\" style=\"stroke:#000000; stroke-width:4; stroke-opacity:1; fill:none\" points=\"\n",
       "  1630.09,1503.47 1630.09,1481.63 \n",
       "  \"/>\n",
       "<polyline clip-path=\"url(#clip6700)\" style=\"stroke:#000000; stroke-width:4; stroke-opacity:1; fill:none\" points=\"\n",
       "  2012.16,1503.47 2012.16,1481.63 \n",
       "  \"/>\n",
       "<polyline clip-path=\"url(#clip6700)\" style=\"stroke:#000000; stroke-width:4; stroke-opacity:1; fill:none\" points=\"\n",
       "  174.775,1503.47 206.972,1503.47 \n",
       "  \"/>\n",
       "<polyline clip-path=\"url(#clip6700)\" style=\"stroke:#000000; stroke-width:4; stroke-opacity:1; fill:none\" points=\"\n",
       "  174.775,1260.77 206.972,1260.77 \n",
       "  \"/>\n",
       "<polyline clip-path=\"url(#clip6700)\" style=\"stroke:#000000; stroke-width:4; stroke-opacity:1; fill:none\" points=\"\n",
       "  174.775,1018.06 206.972,1018.06 \n",
       "  \"/>\n",
       "<polyline clip-path=\"url(#clip6700)\" style=\"stroke:#000000; stroke-width:4; stroke-opacity:1; fill:none\" points=\"\n",
       "  174.775,775.359 206.972,775.359 \n",
       "  \"/>\n",
       "<polyline clip-path=\"url(#clip6700)\" style=\"stroke:#000000; stroke-width:4; stroke-opacity:1; fill:none\" points=\"\n",
       "  174.775,532.654 206.972,532.654 \n",
       "  \"/>\n",
       "<polyline clip-path=\"url(#clip6700)\" style=\"stroke:#000000; stroke-width:4; stroke-opacity:1; fill:none\" points=\"\n",
       "  174.775,289.949 206.972,289.949 \n",
       "  \"/>\n",
       "<polyline clip-path=\"url(#clip6700)\" style=\"stroke:#000000; stroke-width:4; stroke-opacity:1; fill:none\" points=\"\n",
       "  174.775,47.2441 206.972,47.2441 \n",
       "  \"/>\n",
       "<g clip-path=\"url(#clip6700)\">\n",
       "<text style=\"fill:#000000; fill-opacity:1; font-family:Arial,Helvetica Neue,Helvetica,sans-serif; font-size:48px; text-anchor:middle;\" transform=\"rotate(0, 483.872, 1557.47)\" x=\"483.872\" y=\"1557.47\">0.50</text>\n",
       "</g>\n",
       "<g clip-path=\"url(#clip6700)\">\n",
       "<text style=\"fill:#000000; fill-opacity:1; font-family:Arial,Helvetica Neue,Helvetica,sans-serif; font-size:48px; text-anchor:middle;\" transform=\"rotate(0, 865.945, 1557.47)\" x=\"865.945\" y=\"1557.47\">0.75</text>\n",
       "</g>\n",
       "<g clip-path=\"url(#clip6700)\">\n",
       "<text style=\"fill:#000000; fill-opacity:1; font-family:Arial,Helvetica Neue,Helvetica,sans-serif; font-size:48px; text-anchor:middle;\" transform=\"rotate(0, 1248.02, 1557.47)\" x=\"1248.02\" y=\"1557.47\">1.00</text>\n",
       "</g>\n",
       "<g clip-path=\"url(#clip6700)\">\n",
       "<text style=\"fill:#000000; fill-opacity:1; font-family:Arial,Helvetica Neue,Helvetica,sans-serif; font-size:48px; text-anchor:middle;\" transform=\"rotate(0, 1630.09, 1557.47)\" x=\"1630.09\" y=\"1557.47\">1.25</text>\n",
       "</g>\n",
       "<g clip-path=\"url(#clip6700)\">\n",
       "<text style=\"fill:#000000; fill-opacity:1; font-family:Arial,Helvetica Neue,Helvetica,sans-serif; font-size:48px; text-anchor:middle;\" transform=\"rotate(0, 2012.16, 1557.47)\" x=\"2012.16\" y=\"1557.47\">1.50</text>\n",
       "</g>\n",
       "<g clip-path=\"url(#clip6700)\">\n",
       "<text style=\"fill:#000000; fill-opacity:1; font-family:Arial,Helvetica Neue,Helvetica,sans-serif; font-size:48px; text-anchor:end;\" transform=\"rotate(0, 150.775, 1520.97)\" x=\"150.775\" y=\"1520.97\">0</text>\n",
       "</g>\n",
       "<g clip-path=\"url(#clip6700)\">\n",
       "<text style=\"fill:#000000; fill-opacity:1; font-family:Arial,Helvetica Neue,Helvetica,sans-serif; font-size:48px; text-anchor:end;\" transform=\"rotate(0, 150.775, 1278.27)\" x=\"150.775\" y=\"1278.27\">20</text>\n",
       "</g>\n",
       "<g clip-path=\"url(#clip6700)\">\n",
       "<text style=\"fill:#000000; fill-opacity:1; font-family:Arial,Helvetica Neue,Helvetica,sans-serif; font-size:48px; text-anchor:end;\" transform=\"rotate(0, 150.775, 1035.56)\" x=\"150.775\" y=\"1035.56\">40</text>\n",
       "</g>\n",
       "<g clip-path=\"url(#clip6700)\">\n",
       "<text style=\"fill:#000000; fill-opacity:1; font-family:Arial,Helvetica Neue,Helvetica,sans-serif; font-size:48px; text-anchor:end;\" transform=\"rotate(0, 150.775, 792.859)\" x=\"150.775\" y=\"792.859\">60</text>\n",
       "</g>\n",
       "<g clip-path=\"url(#clip6700)\">\n",
       "<text style=\"fill:#000000; fill-opacity:1; font-family:Arial,Helvetica Neue,Helvetica,sans-serif; font-size:48px; text-anchor:end;\" transform=\"rotate(0, 150.775, 550.154)\" x=\"150.775\" y=\"550.154\">80</text>\n",
       "</g>\n",
       "<g clip-path=\"url(#clip6700)\">\n",
       "<text style=\"fill:#000000; fill-opacity:1; font-family:Arial,Helvetica Neue,Helvetica,sans-serif; font-size:48px; text-anchor:end;\" transform=\"rotate(0, 150.775, 307.449)\" x=\"150.775\" y=\"307.449\">100</text>\n",
       "</g>\n",
       "<g clip-path=\"url(#clip6700)\">\n",
       "<text style=\"fill:#000000; fill-opacity:1; font-family:Arial,Helvetica Neue,Helvetica,sans-serif; font-size:48px; text-anchor:end;\" transform=\"rotate(0, 150.775, 64.7441)\" x=\"150.775\" y=\"64.7441\">120</text>\n",
       "</g>\n",
       "<polygon clip-path=\"url(#clip6702)\" points=\"\n",
       "292.836,1491.34 292.836,1503.47 369.25,1503.47 369.25,1491.34 292.836,1491.34 292.836,1491.34 \n",
       "  \" fill=\"#009af9\" fill-rule=\"evenodd\" fill-opacity=\"1\"/>\n",
       "<polyline clip-path=\"url(#clip6702)\" style=\"stroke:#000000; stroke-width:4; stroke-opacity:1; fill:none\" points=\"\n",
       "  292.836,1491.34 292.836,1503.47 369.25,1503.47 369.25,1491.34 292.836,1491.34 \n",
       "  \"/>\n",
       "<polygon clip-path=\"url(#clip6702)\" points=\"\n",
       "369.25,1454.93 369.25,1503.47 445.665,1503.47 445.665,1454.93 369.25,1454.93 369.25,1454.93 \n",
       "  \" fill=\"#009af9\" fill-rule=\"evenodd\" fill-opacity=\"1\"/>\n",
       "<polyline clip-path=\"url(#clip6702)\" style=\"stroke:#000000; stroke-width:4; stroke-opacity:1; fill:none\" points=\"\n",
       "  369.25,1454.93 369.25,1503.47 445.665,1503.47 445.665,1454.93 369.25,1454.93 \n",
       "  \"/>\n",
       "<polygon clip-path=\"url(#clip6702)\" points=\"\n",
       "445.665,1418.53 445.665,1503.47 522.079,1503.47 522.079,1418.53 445.665,1418.53 445.665,1418.53 \n",
       "  \" fill=\"#009af9\" fill-rule=\"evenodd\" fill-opacity=\"1\"/>\n",
       "<polyline clip-path=\"url(#clip6702)\" style=\"stroke:#000000; stroke-width:4; stroke-opacity:1; fill:none\" points=\"\n",
       "  445.665,1418.53 445.665,1503.47 522.079,1503.47 522.079,1418.53 445.665,1418.53 \n",
       "  \"/>\n",
       "<polygon clip-path=\"url(#clip6702)\" points=\"\n",
       "522.079,1406.39 522.079,1503.47 598.494,1503.47 598.494,1406.39 522.079,1406.39 522.079,1406.39 \n",
       "  \" fill=\"#009af9\" fill-rule=\"evenodd\" fill-opacity=\"1\"/>\n",
       "<polyline clip-path=\"url(#clip6702)\" style=\"stroke:#000000; stroke-width:4; stroke-opacity:1; fill:none\" points=\"\n",
       "  522.079,1406.39 522.079,1503.47 598.494,1503.47 598.494,1406.39 522.079,1406.39 \n",
       "  \"/>\n",
       "<polygon clip-path=\"url(#clip6702)\" points=\"\n",
       "598.494,1333.58 598.494,1503.47 674.908,1503.47 674.908,1333.58 598.494,1333.58 598.494,1333.58 \n",
       "  \" fill=\"#009af9\" fill-rule=\"evenodd\" fill-opacity=\"1\"/>\n",
       "<polyline clip-path=\"url(#clip6702)\" style=\"stroke:#000000; stroke-width:4; stroke-opacity:1; fill:none\" points=\"\n",
       "  598.494,1333.58 598.494,1503.47 674.908,1503.47 674.908,1333.58 598.494,1333.58 \n",
       "  \"/>\n",
       "<polygon clip-path=\"url(#clip6702)\" points=\"\n",
       "674.908,1212.23 674.908,1503.47 751.323,1503.47 751.323,1212.23 674.908,1212.23 674.908,1212.23 \n",
       "  \" fill=\"#009af9\" fill-rule=\"evenodd\" fill-opacity=\"1\"/>\n",
       "<polyline clip-path=\"url(#clip6702)\" style=\"stroke:#000000; stroke-width:4; stroke-opacity:1; fill:none\" points=\"\n",
       "  674.908,1212.23 674.908,1503.47 751.323,1503.47 751.323,1212.23 674.908,1212.23 \n",
       "  \"/>\n",
       "<polygon clip-path=\"url(#clip6702)\" points=\"\n",
       "751.323,1090.88 751.323,1503.47 827.738,1503.47 827.738,1090.88 751.323,1090.88 751.323,1090.88 \n",
       "  \" fill=\"#009af9\" fill-rule=\"evenodd\" fill-opacity=\"1\"/>\n",
       "<polyline clip-path=\"url(#clip6702)\" style=\"stroke:#000000; stroke-width:4; stroke-opacity:1; fill:none\" points=\"\n",
       "  751.323,1090.88 751.323,1503.47 827.738,1503.47 827.738,1090.88 751.323,1090.88 \n",
       "  \"/>\n",
       "<polygon clip-path=\"url(#clip6702)\" points=\"\n",
       "827.738,1151.55 827.738,1503.47 904.152,1503.47 904.152,1151.55 827.738,1151.55 827.738,1151.55 \n",
       "  \" fill=\"#009af9\" fill-rule=\"evenodd\" fill-opacity=\"1\"/>\n",
       "<polyline clip-path=\"url(#clip6702)\" style=\"stroke:#000000; stroke-width:4; stroke-opacity:1; fill:none\" points=\"\n",
       "  827.738,1151.55 827.738,1503.47 904.152,1503.47 904.152,1151.55 827.738,1151.55 \n",
       "  \"/>\n",
       "<polygon clip-path=\"url(#clip6702)\" points=\"\n",
       "904.152,872.441 904.152,1503.47 980.567,1503.47 980.567,872.441 904.152,872.441 904.152,872.441 \n",
       "  \" fill=\"#009af9\" fill-rule=\"evenodd\" fill-opacity=\"1\"/>\n",
       "<polyline clip-path=\"url(#clip6702)\" style=\"stroke:#000000; stroke-width:4; stroke-opacity:1; fill:none\" points=\"\n",
       "  904.152,872.441 904.152,1503.47 980.567,1503.47 980.567,872.441 904.152,872.441 \n",
       "  \"/>\n",
       "<polygon clip-path=\"url(#clip6702)\" points=\"\n",
       "980.567,1151.55 980.567,1503.47 1056.98,1503.47 1056.98,1151.55 980.567,1151.55 980.567,1151.55 \n",
       "  \" fill=\"#009af9\" fill-rule=\"evenodd\" fill-opacity=\"1\"/>\n",
       "<polyline clip-path=\"url(#clip6702)\" style=\"stroke:#000000; stroke-width:4; stroke-opacity:1; fill:none\" points=\"\n",
       "  980.567,1151.55 980.567,1503.47 1056.98,1503.47 1056.98,1151.55 980.567,1151.55 \n",
       "  \"/>\n",
       "<polygon clip-path=\"url(#clip6702)\" points=\"\n",
       "1056.98,933.118 1056.98,1503.47 1133.4,1503.47 1133.4,933.118 1056.98,933.118 1056.98,933.118 \n",
       "  \" fill=\"#009af9\" fill-rule=\"evenodd\" fill-opacity=\"1\"/>\n",
       "<polyline clip-path=\"url(#clip6702)\" style=\"stroke:#000000; stroke-width:4; stroke-opacity:1; fill:none\" points=\"\n",
       "  1056.98,933.118 1056.98,1503.47 1133.4,1503.47 1133.4,933.118 1056.98,933.118 \n",
       "  \"/>\n",
       "<polygon clip-path=\"url(#clip6702)\" points=\"\n",
       "1133.4,1115.15 1133.4,1503.47 1209.81,1503.47 1209.81,1115.15 1133.4,1115.15 1133.4,1115.15 \n",
       "  \" fill=\"#009af9\" fill-rule=\"evenodd\" fill-opacity=\"1\"/>\n",
       "<polyline clip-path=\"url(#clip6702)\" style=\"stroke:#000000; stroke-width:4; stroke-opacity:1; fill:none\" points=\"\n",
       "  1133.4,1115.15 1133.4,1503.47 1209.81,1503.47 1209.81,1115.15 1133.4,1115.15 \n",
       "  \"/>\n",
       "<polygon clip-path=\"url(#clip6702)\" points=\"\n",
       "1209.81,945.253 1209.81,1503.47 1286.22,1503.47 1286.22,945.253 1209.81,945.253 1209.81,945.253 \n",
       "  \" fill=\"#009af9\" fill-rule=\"evenodd\" fill-opacity=\"1\"/>\n",
       "<polyline clip-path=\"url(#clip6702)\" style=\"stroke:#000000; stroke-width:4; stroke-opacity:1; fill:none\" points=\"\n",
       "  1209.81,945.253 1209.81,1503.47 1286.22,1503.47 1286.22,945.253 1209.81,945.253 \n",
       "  \"/>\n",
       "<polygon clip-path=\"url(#clip6702)\" points=\"\n",
       "1286.22,1005.93 1286.22,1503.47 1362.64,1503.47 1362.64,1005.93 1286.22,1005.93 1286.22,1005.93 \n",
       "  \" fill=\"#009af9\" fill-rule=\"evenodd\" fill-opacity=\"1\"/>\n",
       "<polyline clip-path=\"url(#clip6702)\" style=\"stroke:#000000; stroke-width:4; stroke-opacity:1; fill:none\" points=\"\n",
       "  1286.22,1005.93 1286.22,1503.47 1362.64,1503.47 1362.64,1005.93 1286.22,1005.93 \n",
       "  \"/>\n",
       "<polygon clip-path=\"url(#clip6702)\" points=\"\n",
       "1362.64,957.388 1362.64,1503.47 1439.05,1503.47 1439.05,957.388 1362.64,957.388 1362.64,957.388 \n",
       "  \" fill=\"#009af9\" fill-rule=\"evenodd\" fill-opacity=\"1\"/>\n",
       "<polyline clip-path=\"url(#clip6702)\" style=\"stroke:#000000; stroke-width:4; stroke-opacity:1; fill:none\" points=\"\n",
       "  1362.64,957.388 1362.64,1503.47 1439.05,1503.47 1439.05,957.388 1362.64,957.388 \n",
       "  \"/>\n",
       "<polygon clip-path=\"url(#clip6702)\" points=\"\n",
       "1439.05,896.712 1439.05,1503.47 1515.47,1503.47 1515.47,896.712 1439.05,896.712 1439.05,896.712 \n",
       "  \" fill=\"#009af9\" fill-rule=\"evenodd\" fill-opacity=\"1\"/>\n",
       "<polyline clip-path=\"url(#clip6702)\" style=\"stroke:#000000; stroke-width:4; stroke-opacity:1; fill:none\" points=\"\n",
       "  1439.05,896.712 1439.05,1503.47 1515.47,1503.47 1515.47,896.712 1439.05,896.712 \n",
       "  \"/>\n",
       "<polygon clip-path=\"url(#clip6702)\" points=\"\n",
       "1515.47,957.388 1515.47,1503.47 1591.88,1503.47 1591.88,957.388 1515.47,957.388 1515.47,957.388 \n",
       "  \" fill=\"#009af9\" fill-rule=\"evenodd\" fill-opacity=\"1\"/>\n",
       "<polyline clip-path=\"url(#clip6702)\" style=\"stroke:#000000; stroke-width:4; stroke-opacity:1; fill:none\" points=\"\n",
       "  1515.47,957.388 1515.47,1503.47 1591.88,1503.47 1591.88,957.388 1515.47,957.388 \n",
       "  \"/>\n",
       "<polygon clip-path=\"url(#clip6702)\" points=\"\n",
       "1591.88,1103.01 1591.88,1503.47 1668.3,1503.47 1668.3,1103.01 1591.88,1103.01 1591.88,1103.01 \n",
       "  \" fill=\"#009af9\" fill-rule=\"evenodd\" fill-opacity=\"1\"/>\n",
       "<polyline clip-path=\"url(#clip6702)\" style=\"stroke:#000000; stroke-width:4; stroke-opacity:1; fill:none\" points=\"\n",
       "  1591.88,1103.01 1591.88,1503.47 1668.3,1503.47 1668.3,1103.01 1591.88,1103.01 \n",
       "  \"/>\n",
       "<polygon clip-path=\"url(#clip6702)\" points=\"\n",
       "1668.3,1151.55 1668.3,1503.47 1744.71,1503.47 1744.71,1151.55 1668.3,1151.55 1668.3,1151.55 \n",
       "  \" fill=\"#009af9\" fill-rule=\"evenodd\" fill-opacity=\"1\"/>\n",
       "<polyline clip-path=\"url(#clip6702)\" style=\"stroke:#000000; stroke-width:4; stroke-opacity:1; fill:none\" points=\"\n",
       "  1668.3,1151.55 1668.3,1503.47 1744.71,1503.47 1744.71,1151.55 1668.3,1151.55 \n",
       "  \"/>\n",
       "<polygon clip-path=\"url(#clip6702)\" points=\"\n",
       "1744.71,1260.77 1744.71,1503.47 1821.13,1503.47 1821.13,1260.77 1744.71,1260.77 1744.71,1260.77 \n",
       "  \" fill=\"#009af9\" fill-rule=\"evenodd\" fill-opacity=\"1\"/>\n",
       "<polyline clip-path=\"url(#clip6702)\" style=\"stroke:#000000; stroke-width:4; stroke-opacity:1; fill:none\" points=\"\n",
       "  1744.71,1260.77 1744.71,1503.47 1821.13,1503.47 1821.13,1260.77 1744.71,1260.77 \n",
       "  \"/>\n",
       "<polygon clip-path=\"url(#clip6702)\" points=\"\n",
       "1821.13,1345.72 1821.13,1503.47 1897.54,1503.47 1897.54,1345.72 1821.13,1345.72 1821.13,1345.72 \n",
       "  \" fill=\"#009af9\" fill-rule=\"evenodd\" fill-opacity=\"1\"/>\n",
       "<polyline clip-path=\"url(#clip6702)\" style=\"stroke:#000000; stroke-width:4; stroke-opacity:1; fill:none\" points=\"\n",
       "  1821.13,1345.72 1821.13,1503.47 1897.54,1503.47 1897.54,1345.72 1821.13,1345.72 \n",
       "  \"/>\n",
       "<polygon clip-path=\"url(#clip6702)\" points=\"\n",
       "1897.54,1406.39 1897.54,1503.47 1973.96,1503.47 1973.96,1406.39 1897.54,1406.39 1897.54,1406.39 \n",
       "  \" fill=\"#009af9\" fill-rule=\"evenodd\" fill-opacity=\"1\"/>\n",
       "<polyline clip-path=\"url(#clip6702)\" style=\"stroke:#000000; stroke-width:4; stroke-opacity:1; fill:none\" points=\"\n",
       "  1897.54,1406.39 1897.54,1503.47 1973.96,1503.47 1973.96,1406.39 1897.54,1406.39 \n",
       "  \"/>\n",
       "<polygon clip-path=\"url(#clip6702)\" points=\"\n",
       "1973.96,1418.53 1973.96,1503.47 2050.37,1503.47 2050.37,1418.53 1973.96,1418.53 1973.96,1418.53 \n",
       "  \" fill=\"#009af9\" fill-rule=\"evenodd\" fill-opacity=\"1\"/>\n",
       "<polyline clip-path=\"url(#clip6702)\" style=\"stroke:#000000; stroke-width:4; stroke-opacity:1; fill:none\" points=\"\n",
       "  1973.96,1418.53 1973.96,1503.47 2050.37,1503.47 2050.37,1418.53 1973.96,1418.53 \n",
       "  \"/>\n",
       "<polygon clip-path=\"url(#clip6702)\" points=\"\n",
       "2050.37,1430.66 2050.37,1503.47 2126.78,1503.47 2126.78,1430.66 2050.37,1430.66 2050.37,1430.66 \n",
       "  \" fill=\"#009af9\" fill-rule=\"evenodd\" fill-opacity=\"1\"/>\n",
       "<polyline clip-path=\"url(#clip6702)\" style=\"stroke:#000000; stroke-width:4; stroke-opacity:1; fill:none\" points=\"\n",
       "  2050.37,1430.66 2050.37,1503.47 2126.78,1503.47 2126.78,1430.66 2050.37,1430.66 \n",
       "  \"/>\n",
       "<polygon clip-path=\"url(#clip6702)\" points=\"\n",
       "2126.78,1491.34 2126.78,1503.47 2203.2,1503.47 2203.2,1491.34 2126.78,1491.34 2126.78,1491.34 \n",
       "  \" fill=\"#009af9\" fill-rule=\"evenodd\" fill-opacity=\"1\"/>\n",
       "<polyline clip-path=\"url(#clip6702)\" style=\"stroke:#000000; stroke-width:4; stroke-opacity:1; fill:none\" points=\"\n",
       "  2126.78,1491.34 2126.78,1503.47 2203.2,1503.47 2203.2,1491.34 2126.78,1491.34 \n",
       "  \"/>\n",
       "</svg>\n"
      ]
     },
     "execution_count": 43,
     "metadata": {},
     "output_type": "execute_result"
    }
   ],
   "source": [
    "histogram(A*ones(n,1), bins = (0.375:0.05:1.625),\n",
    "            legend = false, ylim = (0,120))"
   ]
  },
  {
   "cell_type": "markdown",
   "metadata": {},
   "source": [
    "![図12.1（上）](fig12-1-1.pdf)\n",
    "![図12.2（下）](fig12-1-2.pdf)\n",
    "\n",
    "図12.1 電力を（上）$p = \\boldsymbol{1}$にした場合と（下）$\\hat{p}$にした場合の照明レベルのヒストグラム．\n",
    "\n",
    "\n"
   ]
  }
 ],
 "metadata": {
  "kernelspec": {
   "display_name": "Julia 1.0.2",
   "language": "julia",
   "name": "julia-1.0"
  },
  "language_info": {
   "file_extension": ".jl",
   "mimetype": "application/julia",
   "name": "julia",
   "version": "1.0.2"
  }
 },
 "nbformat": 4,
 "nbformat_minor": 2
}
