{
 "cells": [
  {
   "cell_type": "markdown",
   "metadata": {},
   "source": [
    "# まえがき\n",
    "\n",
    "このJulia説明書は本書（VMLS）の付録であり，本書で説明したアイデアや手法がプログラミング言語Juliaでどのように実装されるのかを説明するものである．\n",
    "\n",
    "ここでは，Juliaをインストールしているか，オンラインでJuliaを使っており，Juliaの基本的な知識があることを仮定している．また本書の対応する節をしっかり読んでいることも仮定している．この説明書は本書と対応した構成になっている．\n",
    "\n",
    "Juliaの構文と数学的な記法は非常に似たものであるが，同じではない．Juliaの記法と数学的な記法を混同しないこと！　ここでは，数学的な記法には（本書と同様に）$y = A x$のような一般的な数式で用いられるフォントを使う．Juliaのコードは`y = A*x`のようなコード用の等幅フォントを用いる．これらのコードをコピーして，Juliaのプロンプトかnotebookにペーストして実行結果をテストしてみて，それを改変してまた実行する，ということを繰り返すことをおすすめする．また自分のJuliaコードのテンプレートとして使うのもよいだろう．この説明書のnotebook版も現在作成中である．\n",
    "\n",
    "Juliaは非常に強力な言語であるが，その機能のほんの一部しかこの説明書では使っていない．Juliaのコードは，できるだけシンプルに，本書で説明する手法のコンセプトが伝わるように書いてある．だから，もっとコンパクトに・高速に・効率的に，書き直せる場合もあるだろう．\n",
    "\n",
    "ここでのコードはJulia 1.0に対応している．それ以前のバージョン（Julia 0.6など）では動作しない場合がある．\n",
    "`LinearAlgebra`，`SparseArrays`，`Plots`などの標準的なパッケージと，\n",
    "それ以外のパッケージもいくつか利用する．\n",
    "また本書専用の`VMLS`というパッケージを用意した．これは本書を理解するのに役立ついくつかの小さなJulia関数を含んでいる．\n",
    "最初の節でそれらのパッケージのインストール方法を説明する．\n",
    "\n",
    "これはドラフトである．今後もたまにアップデートしたり，例を追加したり，誤植を修正したりするだろう．新しいバージョンを定期的にチェックしてほしい．\n",
    "\n"
   ]
  },
  {
   "cell_type": "markdown",
   "metadata": {},
   "source": [
    "# Juliaの使い方\n",
    "\n",
    "### Juliaのインストール\n",
    "\n",
    "Juliaのバージョン1.0を公式サイトからダウンロードして，それぞれのプラットフォームの説明に従ってインストールする．本書を読み進める前に，以下に説明するパッケージをインストールすること．\n",
    "\n",
    "### パッケージのインストール\n",
    "\n",
    "本書で使うJuliaのコードのほとんどはJuliaの言語そのものの機能を使っているが，いくつかの重要な機能を使うにはパッケージをインストールする必要がある．その方法をここで説明する．このインストールは最初に1回だけ行えば良い．\n",
    "\n",
    "Juliaのパッケージをインストール（追加）するには，パッケージマネージャを使う．Juliaのプロンプト`julia> `が表示[^1]されているときに`]`キーを押すと，パッケージマネージャのモードになり，`(v1.0) pkg> `というプロンプトに切り替わる．ここで`?`を入力するとパッケージマネージャのコマンド一覧が出力される．パッケージマネージャを終了するには`Ctrl-C`（`^C`）を押せばよい．Juliaのプロンプトに戻る．\n",
    "\n",
    "[^1]: （訳注）その前にまずJuliaを起動しておく．\n",
    "\n",
    "`PackageName`という名前のパッケージをインストールするには，パッケージマネージャのプロンプトで`add PackageName`と入力する．するとパッケージのダウンロード，コンパイル，インストールが始まる（数分かかる場合もある）．プロンプトで'status'と入力すると，インストール済みのパッケージが表示される．`up`と入力すると，インストール済みのパッケージが必要に応じてアップデートされる．\n",
    "\n",
    "本書では以下のパッケージの機能を使う．\n",
    "\n",
    "- `LinearAlgebra`\n",
    "- `SparseArrays`\n",
    "- `Plots`\n",
    "\n",
    "これ以外にも`Random`と`DSP`というパッケージを使う場合もあるが，その時点でまた説明する．\n",
    "\n",
    "以下は`Plots`パッケージをインストールする様子である．\n",
    "\n",
    "```julia\n",
    "julia> ]\n",
    "(v1.0) pkg> add Plots\n",
    "   Cloning default registries into /Users/tamaki/.julia/registries\n",
    "   Cloning registry General from \"https://github.com/JuliaRegistries/General.git\"\n",
    " Resolving package versions...\n",
    " Installed Reexport ─────────── v0.2.0\n",
    " Installed RecipesBase ──────── v0.6.0\n",
    " Installed NaNMath ──────────── v0.3.2\n",
    " Installed Compat ───────────── v1.3.0\n",
    " Installed FixedPointNumbers ── v0.5.3\n",
    " Installed ColorTypes ───────── v0.7.5\n",
    " Installed JSON ─────────────── v0.19.0\n",
    " Installed Showoff ──────────── v0.2.1\n",
    " Installed SortingAlgorithms ── v0.3.1\n",
    " Installed Plots ────────────── v0.21.0\n",
    " Installed PlotThemes ───────── v0.3.0\n",
    " Installed Missings ─────────── v0.3.1\n",
    " Installed Requires ─────────── v0.5.2\n",
    " Installed OrderedCollections ─ v1.0.2\n",
    " Installed Measures ─────────── v0.3.0\n",
    " Installed StatsBase ────────── v0.25.0\n",
    " Installed Contour ──────────── v0.5.1\n",
    " Installed DataStructures ───── v0.14.0\n",
    " Installed PlotUtils ────────── v0.5.5\n",
    " Installed StaticArrays ─────── v0.9.2\n",
    " Installed Colors ───────────── v0.9.5\n",
    " Installed GR ───────────────── v0.35.0\n",
    "  Updating `~/.julia/environments/v1.0/Project.toml`\n",
    "  [91a5bcdd] + Plots v0.21.0\n",
    "  Updating `~/.julia/environments/v1.0/Manifest.toml`\n",
    "  [3da002f7] + ColorTypes v0.7.5\n",
    "  [5ae59095] + Colors v0.9.5\n",
    "  [34da2185] + Compat v1.3.0\n",
    "  [d38c429a] + Contour v0.5.1\n",
    "  [864edb3b] + DataStructures v0.14.0\n",
    "  [53c48c17] + FixedPointNumbers v0.5.3\n",
    "  [28b8d3ca] + GR v0.35.0\n",
    "  [682c06a0] + JSON v0.19.0\n",
    "  [442fdcdd] + Measures v0.3.0\n",
    "  [e1d29d7a] + Missings v0.3.1\n",
    "  [77ba4419] + NaNMath v0.3.2\n",
    "  [bac558e1] + OrderedCollections v1.0.2\n",
    "  [ccf2f8ad] + PlotThemes v0.3.0\n",
    "  [995b91a9] + PlotUtils v0.5.5\n",
    "  [91a5bcdd] + Plots v0.21.0\n",
    "  [3cdcf5f2] + RecipesBase v0.6.0\n",
    "  [189a3867] + Reexport v0.2.0\n",
    "  [ae029012] + Requires v0.5.2\n",
    "  [992d4aef] + Showoff v0.2.1\n",
    "  [a2af1166] + SortingAlgorithms v0.3.1\n",
    "  [90137ffa] + StaticArrays v0.9.2\n",
    "  [2913bbd2] + StatsBase v0.25.0\n",
    "  [2a0f44e3] + Base64 \n",
    "  [ade2ca70] + Dates \n",
    "  [8bb1440f] + DelimitedFiles \n",
    "  [8ba89e20] + Distributed \n",
    "  [b77e0a4c] + InteractiveUtils \n",
    "  [76f85450] + LibGit2 \n",
    "  [8f399da3] + Libdl \n",
    "  [37e2e46d] + LinearAlgebra \n",
    "  [56ddb016] + Logging \n",
    "  [d6f4376e] + Markdown \n",
    "  [a63ad114] + Mmap \n",
    "  [44cfe95a] + Pkg \n",
    "  [de0858da] + Printf \n",
    "  [3fa0cd96] + REPL \n",
    "  [9a3f8284] + Random \n",
    "  [ea8e919c] + SHA \n",
    "  [9e88b42a] + Serialization \n",
    "  [1a1011a3] + SharedArrays \n",
    "  [6462fe0b] + Sockets \n",
    "  [2f01184e] + SparseArrays \n",
    "  [10745b16] + Statistics \n",
    "  [8dfed614] + Test \n",
    "  [cf7118a7] + UUIDs \n",
    "  [4ec0a83e] + Unicode \n",
    "  Building GR ───→ `~/.julia/packages/GR/k8wwU/deps/build.log`\n",
    "  Building Plots → `~/.julia/packages/Plots/rmogG/deps/build.log`\n",
    "\n",
    "(v1.0) pkg> status\n",
    "    Status `~/.julia/environments/v1.0/Project.toml`\n",
    "  [91a5bcdd] Plots v0.21.0\n",
    "\n",
    "(v1.0) pkg> ^C\n",
    "\n",
    "julia> \n",
    "```\n",
    "\n",
    "### VMLSパッケージ\n",
    "\n",
    "本書のために`VMLS`という小規模のパッケージを用意した．これには，Juliaの関数をそのまま使うよりも本書の表記に近い（または簡単な）関数，本書のいくつかのアルゴリズムの実装，例題で使用するデータを生成するための関数などが入っている．関数の一覧は付録Aにある．`VMLS`をインストールするためには，Juliaプロンプトからパッケージマネージャに移動して，以下のように入力する．\n",
    "\n",
    "```julia\n",
    "julia> ]\n",
    "(v1.0) pkg> add https://github.com/VMLS-book/VMLS.jl\n",
    "   Cloning git-repo `https://github.com/VMLS-book/VMLS.jl`\n",
    "  Updating git-repo `https://github.com/VMLS-book/VMLS.jl`\n",
    " Resolving package versions...\n",
    "  Updating `~/.julia/environments/v1.0/Project.toml`\n",
    "  [44dac47c] + VMLS v0.2.0 #master (https://github.com/VMLS-book/VMLS.jl)\n",
    "  Updating `~/.julia/environments/v1.0/Manifest.toml`\n",
    "  [44dac47c] + VMLS v0.2.0 #master (https://github.com/VMLS-book/VMLS.jl)\n",
    "\n",
    "(v1.0) pkg> ^C\n",
    "```\n",
    "\n",
    "### パッケージのインポート\n",
    "\n",
    "パッケージをインストールしたら（これは一回だけで良い），Juliaのコマンド`using`でインポートする必要がある（`using`の後にパッケージ名をカンマで区切って列挙する）．時間がかかる場合もある．このコマンドを実行した後はこれらのパッケージの関数にアクセスできる．\n",
    "\n",
    "本書のコードを実行するためには，まず以下のコマンドを実行しておく必要がある．\n",
    "\n",
    "```julia\n",
    "julia> using LinearAlgebra, SparseArrays, VMLS\n",
    "[ Info: Precompiling VMLS [44dac47c-a70e-11e8-3cff-fbf5f1f7c554]\n",
    "\n",
    "julia> \n",
    "```\n",
    "\n",
    "他のパッケージを使う場合には（特に`Plots`は），コード中に`using`文を追加してある．\n"
   ]
  },
  {
   "cell_type": "code",
   "execution_count": 1,
   "metadata": {},
   "outputs": [],
   "source": [
    "using Pkg"
   ]
  },
  {
   "cell_type": "code",
   "execution_count": 2,
   "metadata": {},
   "outputs": [
    {
     "name": "stdout",
     "output_type": "stream",
     "text": [
      "\u001b[32m\u001b[1m  Updating\u001b[22m\u001b[39m registry at `~/.julia/registries/General`\n",
      "\u001b[32m\u001b[1m  Updating\u001b[22m\u001b[39m git-repo `https://github.com/JuliaRegistries/General.git`\n",
      "\u001b[?25l\u001b[2K\u001b[?25h\u001b[32m\u001b[1m Resolving\u001b[22m\u001b[39m package versions...\n",
      "\u001b[32m\u001b[1m  Updating\u001b[22m\u001b[39m `~/.julia/environments/v1.0/Project.toml`\n",
      "\u001b[90m [no changes]\u001b[39m\n",
      "\u001b[32m\u001b[1m  Updating\u001b[22m\u001b[39m `~/.julia/environments/v1.0/Manifest.toml`\n",
      "\u001b[90m [no changes]\u001b[39m\n"
     ]
    }
   ],
   "source": [
    "Pkg.add(\"Plots\")"
   ]
  },
  {
   "cell_type": "code",
   "execution_count": 4,
   "metadata": {},
   "outputs": [
    {
     "name": "stdout",
     "output_type": "stream",
     "text": [
      "\u001b[32m\u001b[1m Resolving\u001b[22m\u001b[39m package versions...\n",
      "\u001b[32m\u001b[1m  Updating\u001b[22m\u001b[39m `~/.julia/environments/v1.0/Project.toml`\n",
      " \u001b[90m [37e2e46d]\u001b[39m\u001b[92m + LinearAlgebra \u001b[39m\n",
      "\u001b[32m\u001b[1m  Updating\u001b[22m\u001b[39m `~/.julia/environments/v1.0/Manifest.toml`\n",
      "\u001b[90m [no changes]\u001b[39m\n"
     ]
    }
   ],
   "source": [
    "Pkg.add(\"LinearAlgebra\")"
   ]
  },
  {
   "cell_type": "code",
   "execution_count": 6,
   "metadata": {},
   "outputs": [
    {
     "name": "stdout",
     "output_type": "stream",
     "text": [
      "\u001b[32m\u001b[1m Resolving\u001b[22m\u001b[39m package versions...\n",
      "\u001b[32m\u001b[1m  Updating\u001b[22m\u001b[39m `~/.julia/environments/v1.0/Project.toml`\n",
      " \u001b[90m [2f01184e]\u001b[39m\u001b[92m + SparseArrays \u001b[39m\n",
      "\u001b[32m\u001b[1m  Updating\u001b[22m\u001b[39m `~/.julia/environments/v1.0/Manifest.toml`\n",
      "\u001b[90m [no changes]\u001b[39m\n"
     ]
    }
   ],
   "source": [
    "Pkg.add(\"SparseArrays\")"
   ]
  },
  {
   "cell_type": "code",
   "execution_count": 7,
   "metadata": {},
   "outputs": [
    {
     "name": "stdout",
     "output_type": "stream",
     "text": [
      "\u001b[32m\u001b[1m Resolving\u001b[22m\u001b[39m package versions...\n",
      "\u001b[32m\u001b[1m  Updating\u001b[22m\u001b[39m `~/.julia/environments/v1.0/Project.toml`\n",
      "\u001b[90m [no changes]\u001b[39m\n",
      "\u001b[32m\u001b[1m  Updating\u001b[22m\u001b[39m `~/.julia/environments/v1.0/Manifest.toml`\n",
      "\u001b[90m [no changes]\u001b[39m\n"
     ]
    }
   ],
   "source": [
    "Pkg.add(\"DSP\")"
   ]
  },
  {
   "cell_type": "code",
   "execution_count": 8,
   "metadata": {},
   "outputs": [
    {
     "name": "stdout",
     "output_type": "stream",
     "text": [
      "\u001b[32m\u001b[1m  Updating\u001b[22m\u001b[39m git-repo `https://github.com/VMLS-book/VMLS.jl`\n",
      "\u001b[?25l\u001b[2K\u001b[?25h\u001b[32m\u001b[1m Resolving\u001b[22m\u001b[39m package versions...\n",
      "\u001b[32m\u001b[1m  Updating\u001b[22m\u001b[39m `~/.julia/environments/v1.0/Project.toml`\n",
      "\u001b[90m [no changes]\u001b[39m\n",
      "\u001b[32m\u001b[1m  Updating\u001b[22m\u001b[39m `~/.julia/environments/v1.0/Manifest.toml`\n",
      "\u001b[90m [no changes]\u001b[39m\n"
     ]
    }
   ],
   "source": [
    "Pkg.add(PackageSpec(url=\"https://github.com/VMLS-book/VMLS.jl\"))"
   ]
  },
  {
   "cell_type": "code",
   "execution_count": 9,
   "metadata": {},
   "outputs": [
    {
     "name": "stdout",
     "output_type": "stream",
     "text": [
      "\u001b[32m\u001b[1m    Status\u001b[22m\u001b[39m `~/.julia/environments/v1.0/Project.toml`\n",
      " \u001b[90m [717857b8]\u001b[39m\u001b[37m DSP v0.6.0\u001b[39m\n",
      " \u001b[90m [7073ff75]\u001b[39m\u001b[37m IJulia v1.20.0\u001b[39m\n",
      " \u001b[90m [91a5bcdd]\u001b[39m\u001b[37m Plots v0.21.0\u001b[39m\n",
      " \u001b[90m [44dac47c]\u001b[39m\u001b[37m VMLS v0.3.0 #master (https://github.com/VMLS-book/VMLS.jl)\u001b[39m\n",
      " \u001b[90m [37e2e46d]\u001b[39m\u001b[37m LinearAlgebra \u001b[39m\n",
      " \u001b[90m [2f01184e]\u001b[39m\u001b[37m SparseArrays \u001b[39m\n"
     ]
    }
   ],
   "source": [
    "Pkg.status()"
   ]
  },
  {
   "cell_type": "code",
   "execution_count": null,
   "metadata": {},
   "outputs": [],
   "source": []
  }
 ],
 "metadata": {
  "kernelspec": {
   "display_name": "Julia 1.0.2",
   "language": "julia",
   "name": "julia-1.0"
  },
  "language_info": {
   "file_extension": ".jl",
   "mimetype": "application/julia",
   "name": "julia",
   "version": "1.0.2"
  },
  "toc": {
   "base_numbering": 1,
   "nav_menu": {
    "height": "512px",
    "width": "252px"
   },
   "number_sections": true,
   "sideBar": true,
   "skip_h1_title": false,
   "title_cell": "Table of Contents",
   "title_sidebar": "Contents",
   "toc_cell": false,
   "toc_position": {},
   "toc_section_display": "block",
   "toc_window_display": false
  }
 },
 "nbformat": 4,
 "nbformat_minor": 2
}
