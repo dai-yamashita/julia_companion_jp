{
 "cells": [
  {
   "cell_type": "markdown",
   "metadata": {},
   "source": [
    "# Chapter 3 ノルムと距離\n",
    "\n",
    "## 3.1 ノルム\n",
    "\n",
    "### ノルム\n",
    "\n",
    "ノルム$\\| x \\|$はJuliaでは`norm(x)`と書く（他にも書き方はあるが）．関数`norm`はJuliaの`LinearAlgebra`パッケージに含まれているので，使う前にインストールする必要がある（ページ＊＊参照）．"
   ]
  },
  {
   "cell_type": "code",
   "execution_count": 1,
   "metadata": {
    "ExecuteTime": {
     "end_time": "2019-09-18T10:59:11.568000+09:00",
     "start_time": "2019-09-18T01:58:25.198Z"
    }
   },
   "outputs": [
    {
     "data": {
      "text/plain": [
       "3.0"
      ]
     },
     "execution_count": 1,
     "metadata": {},
     "output_type": "execute_result"
    }
   ],
   "source": [
    "x = [ 2, -1, 2 ];\n",
    "using LinearAlgebra\n",
    "norm(x)"
   ]
  },
  {
   "cell_type": "code",
   "execution_count": 4,
   "metadata": {
    "ExecuteTime": {
     "end_time": "2019-09-18T10:59:11.642000+09:00",
     "start_time": "2019-09-18T01:58:25.209Z"
    }
   },
   "outputs": [
    {
     "data": {
      "text/plain": [
       "3.0"
      ]
     },
     "execution_count": 4,
     "metadata": {},
     "output_type": "execute_result"
    }
   ],
   "source": [
    "sqrt(x' * x)"
   ]
  },
  {
   "cell_type": "code",
   "execution_count": 5,
   "metadata": {
    "ExecuteTime": {
     "end_time": "2019-09-18T10:59:11.707000+09:00",
     "start_time": "2019-09-18T01:58:25.212Z"
    }
   },
   "outputs": [
    {
     "data": {
      "text/plain": [
       "3.0"
      ]
     },
     "execution_count": 5,
     "metadata": {},
     "output_type": "execute_result"
    }
   ],
   "source": [
    "sqrt(sum(x .^ 2))"
   ]
  },
  {
   "cell_type": "markdown",
   "metadata": {},
   "source": [
    "### 三角不等式\n",
    "\n",
    "$x$と$y$に値を入れて，三角不等式$\\| x + y \\| \\le \\| x \\| + \\| y \\|$をチェックしよう．"
   ]
  },
  {
   "cell_type": "code",
   "execution_count": 6,
   "metadata": {
    "ExecuteTime": {
     "end_time": "2019-09-18T10:59:11.708000+09:00",
     "start_time": "2019-09-18T01:58:25.216Z"
    }
   },
   "outputs": [
    {
     "data": {
      "text/plain": [
       "4.229571133020596"
      ]
     },
     "execution_count": 6,
     "metadata": {},
     "output_type": "execute_result"
    }
   ],
   "source": [
    "x = randn(10); \n",
    "y = randn(10);\n",
    "\n",
    "lhs = norm(x+y)"
   ]
  },
  {
   "cell_type": "code",
   "execution_count": 7,
   "metadata": {
    "ExecuteTime": {
     "end_time": "2019-09-18T10:59:11.781000+09:00",
     "start_time": "2019-09-18T01:58:25.223Z"
    }
   },
   "outputs": [
    {
     "data": {
      "text/plain": [
       "6.55529295639162"
      ]
     },
     "execution_count": 7,
     "metadata": {},
     "output_type": "execute_result"
    }
   ],
   "source": [
    "rhs = norm(x) + norm(y)"
   ]
  },
  {
   "cell_type": "markdown",
   "metadata": {},
   "source": [
    "# RMS\n",
    "\n",
    "ベクトルのRMSは$\\mathbf{rms}(x) = \\| x \\| / \\sqrt{n}$である．これはJuliaでは`norm(x)/sqrt(length(x))`となる（`VMSLS`パッケージにはこの関数が含まれているので，パッケージをインストールすると使える）．\n",
    "\n",
    "あるベクトル（これは信号，つまり時間的に等間隔にサンプリングされた値であるとする）に対してRMSを求めよう．以下のコードは信号，平均値，2つの定数$\\mathbf{avg}(x) \\pm \\mathbf{rms}(x)$をプロットする（図3.1）．"
   ]
  },
  {
   "cell_type": "code",
   "execution_count": 10,
   "metadata": {},
   "outputs": [
    {
     "data": {
      "text/plain": [
       "-0.04252943783238692"
      ]
     },
     "execution_count": 10,
     "metadata": {},
     "output_type": "execute_result"
    }
   ],
   "source": [
    "using VMLS, Plots\n",
    "\n",
    "rms(x) = norm(x) / sqrt(length(x));\n",
    "t = 0:0.01:1;  # 時刻のリスト\n",
    "x = cos.(8 * t) - 2 * sin.(11 * t);\n",
    "avg(x)"
   ]
  },
  {
   "cell_type": "code",
   "execution_count": 11,
   "metadata": {},
   "outputs": [
    {
     "data": {
      "text/plain": [
       "1.0837556422598"
      ]
     },
     "execution_count": 11,
     "metadata": {},
     "output_type": "execute_result"
    }
   ],
   "source": [
    "rms(x)"
   ]
  },
  {
   "cell_type": "code",
   "execution_count": 12,
   "metadata": {},
   "outputs": [
    {
     "data": {
      "image/svg+xml": [
       "<?xml version=\"1.0\" encoding=\"utf-8\"?>\n",
       "<svg xmlns=\"http://www.w3.org/2000/svg\" xmlns:xlink=\"http://www.w3.org/1999/xlink\" width=\"600\" height=\"400\" viewBox=\"0 0 2400 1600\">\n",
       "<defs>\n",
       "  <clipPath id=\"clip8000\">\n",
       "    <rect x=\"0\" y=\"0\" width=\"2400\" height=\"1600\"/>\n",
       "  </clipPath>\n",
       "</defs>\n",
       "<polygon clip-path=\"url(#clip8000)\" points=\"\n",
       "0,1600 2400,1600 2400,0 0,0 \n",
       "  \" fill=\"#ffffff\" fill-rule=\"evenodd\" fill-opacity=\"1\"/>\n",
       "<defs>\n",
       "  <clipPath id=\"clip8001\">\n",
       "    <rect x=\"480\" y=\"0\" width=\"1681\" height=\"1600\"/>\n",
       "  </clipPath>\n",
       "</defs>\n",
       "<polygon clip-path=\"url(#clip8000)\" points=\"\n",
       "149.361,1503.47 2321.26,1503.47 2321.26,47.2441 149.361,47.2441 \n",
       "  \" fill=\"#ffffff\" fill-rule=\"evenodd\" fill-opacity=\"1\"/>\n",
       "<defs>\n",
       "  <clipPath id=\"clip8002\">\n",
       "    <rect x=\"149\" y=\"47\" width=\"2173\" height=\"1457\"/>\n",
       "  </clipPath>\n",
       "</defs>\n",
       "<polyline clip-path=\"url(#clip8002)\" style=\"stroke:#000000; stroke-width:2; stroke-opacity:0.1; fill:none\" points=\"\n",
       "  210.829,1503.47 210.829,47.2441 \n",
       "  \"/>\n",
       "<polyline clip-path=\"url(#clip8002)\" style=\"stroke:#000000; stroke-width:2; stroke-opacity:0.1; fill:none\" points=\"\n",
       "  723.07,1503.47 723.07,47.2441 \n",
       "  \"/>\n",
       "<polyline clip-path=\"url(#clip8002)\" style=\"stroke:#000000; stroke-width:2; stroke-opacity:0.1; fill:none\" points=\"\n",
       "  1235.31,1503.47 1235.31,47.2441 \n",
       "  \"/>\n",
       "<polyline clip-path=\"url(#clip8002)\" style=\"stroke:#000000; stroke-width:2; stroke-opacity:0.1; fill:none\" points=\"\n",
       "  1747.55,1503.47 1747.55,47.2441 \n",
       "  \"/>\n",
       "<polyline clip-path=\"url(#clip8002)\" style=\"stroke:#000000; stroke-width:2; stroke-opacity:0.1; fill:none\" points=\"\n",
       "  2259.79,1503.47 2259.79,47.2441 \n",
       "  \"/>\n",
       "<polyline clip-path=\"url(#clip8002)\" style=\"stroke:#000000; stroke-width:2; stroke-opacity:0.1; fill:none\" points=\"\n",
       "  149.361,1200.22 2321.26,1200.22 \n",
       "  \"/>\n",
       "<polyline clip-path=\"url(#clip8002)\" style=\"stroke:#000000; stroke-width:2; stroke-opacity:0.1; fill:none\" points=\"\n",
       "  149.361,828.241 2321.26,828.241 \n",
       "  \"/>\n",
       "<polyline clip-path=\"url(#clip8002)\" style=\"stroke:#000000; stroke-width:2; stroke-opacity:0.1; fill:none\" points=\"\n",
       "  149.361,456.262 2321.26,456.262 \n",
       "  \"/>\n",
       "<polyline clip-path=\"url(#clip8002)\" style=\"stroke:#000000; stroke-width:2; stroke-opacity:0.1; fill:none\" points=\"\n",
       "  149.361,84.2837 2321.26,84.2837 \n",
       "  \"/>\n",
       "<polyline clip-path=\"url(#clip8000)\" style=\"stroke:#000000; stroke-width:4; stroke-opacity:1; fill:none\" points=\"\n",
       "  149.361,1503.47 2321.26,1503.47 \n",
       "  \"/>\n",
       "<polyline clip-path=\"url(#clip8000)\" style=\"stroke:#000000; stroke-width:4; stroke-opacity:1; fill:none\" points=\"\n",
       "  149.361,1503.47 149.361,47.2441 \n",
       "  \"/>\n",
       "<polyline clip-path=\"url(#clip8000)\" style=\"stroke:#000000; stroke-width:4; stroke-opacity:1; fill:none\" points=\"\n",
       "  210.829,1503.47 210.829,1481.63 \n",
       "  \"/>\n",
       "<polyline clip-path=\"url(#clip8000)\" style=\"stroke:#000000; stroke-width:4; stroke-opacity:1; fill:none\" points=\"\n",
       "  723.07,1503.47 723.07,1481.63 \n",
       "  \"/>\n",
       "<polyline clip-path=\"url(#clip8000)\" style=\"stroke:#000000; stroke-width:4; stroke-opacity:1; fill:none\" points=\"\n",
       "  1235.31,1503.47 1235.31,1481.63 \n",
       "  \"/>\n",
       "<polyline clip-path=\"url(#clip8000)\" style=\"stroke:#000000; stroke-width:4; stroke-opacity:1; fill:none\" points=\"\n",
       "  1747.55,1503.47 1747.55,1481.63 \n",
       "  \"/>\n",
       "<polyline clip-path=\"url(#clip8000)\" style=\"stroke:#000000; stroke-width:4; stroke-opacity:1; fill:none\" points=\"\n",
       "  2259.79,1503.47 2259.79,1481.63 \n",
       "  \"/>\n",
       "<polyline clip-path=\"url(#clip8000)\" style=\"stroke:#000000; stroke-width:4; stroke-opacity:1; fill:none\" points=\"\n",
       "  149.361,1200.22 181.939,1200.22 \n",
       "  \"/>\n",
       "<polyline clip-path=\"url(#clip8000)\" style=\"stroke:#000000; stroke-width:4; stroke-opacity:1; fill:none\" points=\"\n",
       "  149.361,828.241 181.939,828.241 \n",
       "  \"/>\n",
       "<polyline clip-path=\"url(#clip8000)\" style=\"stroke:#000000; stroke-width:4; stroke-opacity:1; fill:none\" points=\"\n",
       "  149.361,456.262 181.939,456.262 \n",
       "  \"/>\n",
       "<polyline clip-path=\"url(#clip8000)\" style=\"stroke:#000000; stroke-width:4; stroke-opacity:1; fill:none\" points=\"\n",
       "  149.361,84.2837 181.939,84.2837 \n",
       "  \"/>\n",
       "<g clip-path=\"url(#clip8000)\">\n",
       "<text style=\"fill:#000000; fill-opacity:1; font-family:Arial,Helvetica Neue,Helvetica,sans-serif; font-size:48px; text-anchor:middle;\" transform=\"rotate(0, 210.829, 1557.47)\" x=\"210.829\" y=\"1557.47\">0.00</text>\n",
       "</g>\n",
       "<g clip-path=\"url(#clip8000)\">\n",
       "<text style=\"fill:#000000; fill-opacity:1; font-family:Arial,Helvetica Neue,Helvetica,sans-serif; font-size:48px; text-anchor:middle;\" transform=\"rotate(0, 723.07, 1557.47)\" x=\"723.07\" y=\"1557.47\">0.25</text>\n",
       "</g>\n",
       "<g clip-path=\"url(#clip8000)\">\n",
       "<text style=\"fill:#000000; fill-opacity:1; font-family:Arial,Helvetica Neue,Helvetica,sans-serif; font-size:48px; text-anchor:middle;\" transform=\"rotate(0, 1235.31, 1557.47)\" x=\"1235.31\" y=\"1557.47\">0.50</text>\n",
       "</g>\n",
       "<g clip-path=\"url(#clip8000)\">\n",
       "<text style=\"fill:#000000; fill-opacity:1; font-family:Arial,Helvetica Neue,Helvetica,sans-serif; font-size:48px; text-anchor:middle;\" transform=\"rotate(0, 1747.55, 1557.47)\" x=\"1747.55\" y=\"1557.47\">0.75</text>\n",
       "</g>\n",
       "<g clip-path=\"url(#clip8000)\">\n",
       "<text style=\"fill:#000000; fill-opacity:1; font-family:Arial,Helvetica Neue,Helvetica,sans-serif; font-size:48px; text-anchor:middle;\" transform=\"rotate(0, 2259.79, 1557.47)\" x=\"2259.79\" y=\"1557.47\">1.00</text>\n",
       "</g>\n",
       "<g clip-path=\"url(#clip8000)\">\n",
       "<text style=\"fill:#000000; fill-opacity:1; font-family:Arial,Helvetica Neue,Helvetica,sans-serif; font-size:48px; text-anchor:end;\" transform=\"rotate(0, 125.361, 1217.72)\" x=\"125.361\" y=\"1217.72\">-1</text>\n",
       "</g>\n",
       "<g clip-path=\"url(#clip8000)\">\n",
       "<text style=\"fill:#000000; fill-opacity:1; font-family:Arial,Helvetica Neue,Helvetica,sans-serif; font-size:48px; text-anchor:end;\" transform=\"rotate(0, 125.361, 845.741)\" x=\"125.361\" y=\"845.741\">0</text>\n",
       "</g>\n",
       "<g clip-path=\"url(#clip8000)\">\n",
       "<text style=\"fill:#000000; fill-opacity:1; font-family:Arial,Helvetica Neue,Helvetica,sans-serif; font-size:48px; text-anchor:end;\" transform=\"rotate(0, 125.361, 473.762)\" x=\"125.361\" y=\"473.762\">1</text>\n",
       "</g>\n",
       "<g clip-path=\"url(#clip8000)\">\n",
       "<text style=\"fill:#000000; fill-opacity:1; font-family:Arial,Helvetica Neue,Helvetica,sans-serif; font-size:48px; text-anchor:end;\" transform=\"rotate(0, 125.361, 101.784)\" x=\"125.361\" y=\"101.784\">2</text>\n",
       "</g>\n",
       "<polyline clip-path=\"url(#clip8002)\" style=\"stroke:#009af9; stroke-width:4; stroke-opacity:1; fill:none\" points=\"\n",
       "  210.829,456.262 231.319,539.122 251.809,623.367 272.298,707.998 292.788,792.026 313.278,874.483 333.767,954.43 354.257,1030.97 374.746,1103.28 395.236,1170.55 \n",
       "  415.726,1232.1 436.215,1287.29 456.705,1335.59 477.194,1376.53 497.684,1409.78 518.174,1435.08 538.663,1452.27 559.153,1461.31 579.643,1462.26 600.132,1455.27 \n",
       "  620.622,1440.59 641.111,1418.57 661.601,1389.65 682.091,1354.33 702.58,1313.22 723.07,1266.98 743.559,1216.31 764.049,1161.98 784.539,1104.8 805.028,1045.58 \n",
       "  825.518,985.18 846.008,924.443 866.497,864.214 886.987,805.319 907.476,748.557 927.966,694.69 948.456,644.432 968.945,598.441 989.435,557.31 1009.92,521.56 \n",
       "  1030.41,491.634 1050.9,467.89 1071.39,450.598 1091.88,439.938 1112.37,435.996 1132.86,438.762 1153.35,448.134 1173.84,463.918 1194.33,485.832 1214.82,513.505 \n",
       "  1235.31,546.491 1255.8,584.265 1276.29,626.241 1296.78,671.769 1317.27,720.151 1337.76,770.65 1358.25,822.496 1378.74,874.898 1399.23,927.058 1419.72,978.177 \n",
       "  1440.21,1027.47 1460.7,1074.16 1481.19,1117.53 1501.68,1156.89 1522.16,1191.59 1542.65,1221.06 1563.14,1244.79 1583.63,1262.35 1604.12,1273.38 1624.61,1277.62 \n",
       "  1645.1,1274.9 1665.59,1265.14 1686.08,1248.36 1706.57,1224.66 1727.06,1194.26 1747.55,1157.46 1768.04,1114.64 1788.53,1066.29 1809.02,1012.96 1829.51,955.28 \n",
       "  1850,893.951 1870.49,829.725 1890.98,763.404 1911.47,695.832 1931.96,627.876 1952.45,560.423 1972.94,494.368 1993.43,430.597 2013.92,369.983 2034.41,313.369 \n",
       "  2054.89,261.56 2075.38,215.314 2095.87,175.327 2116.36,142.228 2136.85,116.57 2157.34,98.8211 2177.83,89.3571 2198.32,88.4582 2218.81,96.3029 2239.3,112.966 \n",
       "  2259.79,138.414 \n",
       "  \"/>\n",
       "<polyline clip-path=\"url(#clip8002)\" style=\"stroke:#e26f46; stroke-width:4; stroke-opacity:1; fill:none\" points=\"\n",
       "  210.829,844.061 231.319,844.061 251.809,844.061 272.298,844.061 292.788,844.061 313.278,844.061 333.767,844.061 354.257,844.061 374.746,844.061 395.236,844.061 \n",
       "  415.726,844.061 436.215,844.061 456.705,844.061 477.194,844.061 497.684,844.061 518.174,844.061 538.663,844.061 559.153,844.061 579.643,844.061 600.132,844.061 \n",
       "  620.622,844.061 641.111,844.061 661.601,844.061 682.091,844.061 702.58,844.061 723.07,844.061 743.559,844.061 764.049,844.061 784.539,844.061 805.028,844.061 \n",
       "  825.518,844.061 846.008,844.061 866.497,844.061 886.987,844.061 907.476,844.061 927.966,844.061 948.456,844.061 968.945,844.061 989.435,844.061 1009.92,844.061 \n",
       "  1030.41,844.061 1050.9,844.061 1071.39,844.061 1091.88,844.061 1112.37,844.061 1132.86,844.061 1153.35,844.061 1173.84,844.061 1194.33,844.061 1214.82,844.061 \n",
       "  1235.31,844.061 1255.8,844.061 1276.29,844.061 1296.78,844.061 1317.27,844.061 1337.76,844.061 1358.25,844.061 1378.74,844.061 1399.23,844.061 1419.72,844.061 \n",
       "  1440.21,844.061 1460.7,844.061 1481.19,844.061 1501.68,844.061 1522.16,844.061 1542.65,844.061 1563.14,844.061 1583.63,844.061 1604.12,844.061 1624.61,844.061 \n",
       "  1645.1,844.061 1665.59,844.061 1686.08,844.061 1706.57,844.061 1727.06,844.061 1747.55,844.061 1768.04,844.061 1788.53,844.061 1809.02,844.061 1829.51,844.061 \n",
       "  1850,844.061 1870.49,844.061 1890.98,844.061 1911.47,844.061 1931.96,844.061 1952.45,844.061 1972.94,844.061 1993.43,844.061 2013.92,844.061 2034.41,844.061 \n",
       "  2054.89,844.061 2075.38,844.061 2095.87,844.061 2116.36,844.061 2136.85,844.061 2157.34,844.061 2177.83,844.061 2198.32,844.061 2218.81,844.061 2239.3,844.061 \n",
       "  2259.79,844.061 \n",
       "  \"/>\n",
       "<polyline clip-path=\"url(#clip8002)\" style=\"stroke:#008000; stroke-width:4; stroke-opacity:1; fill:none\" points=\"\n",
       "  210.829,440.927 231.319,440.927 251.809,440.927 272.298,440.927 292.788,440.927 313.278,440.927 333.767,440.927 354.257,440.927 374.746,440.927 395.236,440.927 \n",
       "  415.726,440.927 436.215,440.927 456.705,440.927 477.194,440.927 497.684,440.927 518.174,440.927 538.663,440.927 559.153,440.927 579.643,440.927 600.132,440.927 \n",
       "  620.622,440.927 641.111,440.927 661.601,440.927 682.091,440.927 702.58,440.927 723.07,440.927 743.559,440.927 764.049,440.927 784.539,440.927 805.028,440.927 \n",
       "  825.518,440.927 846.008,440.927 866.497,440.927 886.987,440.927 907.476,440.927 927.966,440.927 948.456,440.927 968.945,440.927 989.435,440.927 1009.92,440.927 \n",
       "  1030.41,440.927 1050.9,440.927 1071.39,440.927 1091.88,440.927 1112.37,440.927 1132.86,440.927 1153.35,440.927 1173.84,440.927 1194.33,440.927 1214.82,440.927 \n",
       "  1235.31,440.927 1255.8,440.927 1276.29,440.927 1296.78,440.927 1317.27,440.927 1337.76,440.927 1358.25,440.927 1378.74,440.927 1399.23,440.927 1419.72,440.927 \n",
       "  1440.21,440.927 1460.7,440.927 1481.19,440.927 1501.68,440.927 1522.16,440.927 1542.65,440.927 1563.14,440.927 1583.63,440.927 1604.12,440.927 1624.61,440.927 \n",
       "  1645.1,440.927 1665.59,440.927 1686.08,440.927 1706.57,440.927 1727.06,440.927 1747.55,440.927 1768.04,440.927 1788.53,440.927 1809.02,440.927 1829.51,440.927 \n",
       "  1850,440.927 1870.49,440.927 1890.98,440.927 1911.47,440.927 1931.96,440.927 1952.45,440.927 1972.94,440.927 1993.43,440.927 2013.92,440.927 2034.41,440.927 \n",
       "  2054.89,440.927 2075.38,440.927 2095.87,440.927 2116.36,440.927 2136.85,440.927 2157.34,440.927 2177.83,440.927 2198.32,440.927 2218.81,440.927 2239.3,440.927 \n",
       "  2259.79,440.927 \n",
       "  \"/>\n",
       "<polyline clip-path=\"url(#clip8002)\" style=\"stroke:#008000; stroke-width:4; stroke-opacity:1; fill:none\" points=\"\n",
       "  210.829,1247.19 231.319,1247.19 251.809,1247.19 272.298,1247.19 292.788,1247.19 313.278,1247.19 333.767,1247.19 354.257,1247.19 374.746,1247.19 395.236,1247.19 \n",
       "  415.726,1247.19 436.215,1247.19 456.705,1247.19 477.194,1247.19 497.684,1247.19 518.174,1247.19 538.663,1247.19 559.153,1247.19 579.643,1247.19 600.132,1247.19 \n",
       "  620.622,1247.19 641.111,1247.19 661.601,1247.19 682.091,1247.19 702.58,1247.19 723.07,1247.19 743.559,1247.19 764.049,1247.19 784.539,1247.19 805.028,1247.19 \n",
       "  825.518,1247.19 846.008,1247.19 866.497,1247.19 886.987,1247.19 907.476,1247.19 927.966,1247.19 948.456,1247.19 968.945,1247.19 989.435,1247.19 1009.92,1247.19 \n",
       "  1030.41,1247.19 1050.9,1247.19 1071.39,1247.19 1091.88,1247.19 1112.37,1247.19 1132.86,1247.19 1153.35,1247.19 1173.84,1247.19 1194.33,1247.19 1214.82,1247.19 \n",
       "  1235.31,1247.19 1255.8,1247.19 1276.29,1247.19 1296.78,1247.19 1317.27,1247.19 1337.76,1247.19 1358.25,1247.19 1378.74,1247.19 1399.23,1247.19 1419.72,1247.19 \n",
       "  1440.21,1247.19 1460.7,1247.19 1481.19,1247.19 1501.68,1247.19 1522.16,1247.19 1542.65,1247.19 1563.14,1247.19 1583.63,1247.19 1604.12,1247.19 1624.61,1247.19 \n",
       "  1645.1,1247.19 1665.59,1247.19 1686.08,1247.19 1706.57,1247.19 1727.06,1247.19 1747.55,1247.19 1768.04,1247.19 1788.53,1247.19 1809.02,1247.19 1829.51,1247.19 \n",
       "  1850,1247.19 1870.49,1247.19 1890.98,1247.19 1911.47,1247.19 1931.96,1247.19 1952.45,1247.19 1972.94,1247.19 1993.43,1247.19 2013.92,1247.19 2034.41,1247.19 \n",
       "  2054.89,1247.19 2075.38,1247.19 2095.87,1247.19 2116.36,1247.19 2136.85,1247.19 2157.34,1247.19 2177.83,1247.19 2198.32,1247.19 2218.81,1247.19 2239.3,1247.19 \n",
       "  2259.79,1247.19 \n",
       "  \"/>\n",
       "</svg>\n"
      ]
     },
     "execution_count": 12,
     "metadata": {},
     "output_type": "execute_result"
    }
   ],
   "source": [
    "plot(t, x)\n",
    "plot!(t, avg(x) * ones(length(x)))\n",
    "plot!(t, (avg(x) + rms(x)) * ones(length(x)), color = :green)\n",
    "plot!(t, (avg(x) - rms(x)) * ones(length(x)), color = :green)\n",
    "plot!(legend = false)"
   ]
  },
  {
   "cell_type": "markdown",
   "metadata": {},
   "source": [
    "![図3.1](fig3-1.pdf)\n",
    "\n",
    "図3.1 信号$x$．3本の横線はそれぞれ$\\mathbf{avg}(x) + \\mathbf{rms}(x)$，$\\mathbf{avg}(x)$，$\\mathbf{avg}(x) - \\mathbf{rms}(x)$である．\n",
    "\n",
    "### チェビシェフの不等式\n",
    "\n",
    "チェビシェフの不等式は，$n$次元ベクトル$x$について，絶対値が$a$以上である要素の個数は$\\| x \\|^2 / a^2 = n \\ \\mathbf{rms}(x)^2 / a^2$以下である，ということを示している．もしこの値（上界）がたとえば12.15であれば，絶対値が$a$以上である要素は12個以下である，と結論できる．要素の数は整数なので，チェビシェフの不等式の上界は，$\\mathrm{floor}(\\| x \\|^2 / a^2)$に改善できる．ここで$\\mathrm{floor}$は小数部分を切り捨てる関数である．このfloor関数を用いるチェビシェフの上界を関数で定義し，ある$a$について，先程の信号に適用してみよう．"
   ]
  },
  {
   "cell_type": "code",
   "execution_count": 13,
   "metadata": {
    "ExecuteTime": {
     "end_time": "2019-09-18T10:59:16.731000+09:00",
     "start_time": "2019-09-18T01:58:25.231Z"
    }
   },
   "outputs": [
    {
     "data": {
      "text/plain": [
       "52.0"
      ]
     },
     "execution_count": 13,
     "metadata": {},
     "output_type": "execute_result"
    }
   ],
   "source": [
    "# チェビシェフの上界\n",
    "cheb_bound(x,a) = floor(norm(x)^2 / a^2);\n",
    "a = 1.5;\n",
    "cheb_bound(x,a)"
   ]
  },
  {
   "cell_type": "code",
   "execution_count": 14,
   "metadata": {
    "ExecuteTime": {
     "end_time": "2019-09-18T10:59:16.811000+09:00",
     "start_time": "2019-09-18T01:58:25.238Z"
    }
   },
   "outputs": [
    {
     "data": {
      "text/plain": [
       "20"
      ]
     },
     "execution_count": 14,
     "metadata": {},
     "output_type": "execute_result"
    }
   ],
   "source": [
    "# |x_i| >= a であるxの要素数\n",
    "sum(abs.(x) .>= a)"
   ]
  },
  {
   "cell_type": "markdown",
   "metadata": {},
   "source": [
    "最後の行の式`abs.(x) .>= a`は，`x`の各要素がその不等式を満たすかどうかの真偽値（`true`または`false`）の配列になる．真偽値のベクトルの総和を計算するときには，真偽値は自動的に1と0に変換される．\n",
    "\n",
    "## 3.2 距離\n",
    "\n",
    "### 距離\n",
    "\n",
    "2つのベクトル間の距離は$\\mathbf{dist}(x, y) = \\| x - y \\|$である．これをJuliaで書くと`norm(x-y)`となる．本書＊＊＊ページに登場する3つのベクトル$u, v, w$のペアの距離を求めよう．"
   ]
  },
  {
   "cell_type": "code",
   "execution_count": 15,
   "metadata": {
    "ExecuteTime": {
     "end_time": "2019-09-18T10:59:17.107000+09:00",
     "start_time": "2019-09-18T01:58:25.242Z"
    }
   },
   "outputs": [
    {
     "data": {
      "text/plain": [
       "(8.36779540858881, 0.3872983346207417, 8.532877591996735)"
      ]
     },
     "execution_count": 15,
     "metadata": {},
     "output_type": "execute_result"
    }
   ],
   "source": [
    "u = [1.8, 2.0, -3.7, 4.7];\n",
    "v = [0.6, 2.1, 1.9, -1.4];\n",
    "w = [2.0, 1.9, -4.0, 4.6];\n",
    "norm(u - v), norm(u - w), norm(v - w)"
   ]
  },
  {
   "cell_type": "markdown",
   "metadata": {},
   "source": [
    "これから分かるように，$u$と$v$の距離，$v$と$w$の距離よりも，$u$と$w$との距離が最も短い．\n",
    "\n",
    "### 最近傍\n",
    "\n",
    "以下のコードは，ベクトルのリストから，与えられたベクトルに最も近いものを求める関数を定義し，本書の図3.3の点に適用している．"
   ]
  },
  {
   "cell_type": "code",
   "execution_count": 17,
   "metadata": {
    "ExecuteTime": {
     "end_time": "2019-09-18T10:59:17.109000+09:00",
     "start_time": "2019-09-18T01:58:25.246Z"
    }
   },
   "outputs": [
    {
     "data": {
      "text/plain": [
       "2-element Array{Float64,1}:\n",
       " 5.5\n",
       " 4.0"
      ]
     },
     "execution_count": 17,
     "metadata": {},
     "output_type": "execute_result"
    }
   ],
   "source": [
    "nearest_neighbor(x,z) = z[ argmin([norm(x - y) for y in z]) ];\n",
    "z = ( [2,1], [7,2], [5.5,4], [4,8], [1,5], [9,6] );\n",
    "nearest_neighbor([5,6], z)"
   ]
  },
  {
   "cell_type": "code",
   "execution_count": 18,
   "metadata": {
    "ExecuteTime": {
     "end_time": "2019-09-18T10:59:17.198000+09:00",
     "start_time": "2019-09-18T01:58:25.253Z"
    }
   },
   "outputs": [
    {
     "data": {
      "text/plain": [
       "2-element Array{Int64,1}:\n",
       " 2\n",
       " 1"
      ]
     },
     "execution_count": 18,
     "metadata": {},
     "output_type": "execute_result"
    }
   ],
   "source": [
    "nearest_neighbor([3,3], z)"
   ]
  },
  {
   "cell_type": "markdown",
   "metadata": {},
   "source": [
    "第1行目の式`[norm(x-y) for y in z]`は，Juliaの便利な表記法を用いている．ここで`z`はベクトルのリストであり，この式は要素が`norm(x-z[1]), norm(x-z[2]), ...`である配列になる．`argmin`関数をこの配列に適用して，最小の要素のインデックスを得ている．\n",
    "\n",
    "### ベクトルの平均除去\n",
    "\n",
    "ベクトル$x - \\mathbf{avg}(x) \\boldsymbol{1}$は，ベクトル$x$の各要素から平均を引いたものである．\n"
   ]
  },
  {
   "cell_type": "code",
   "execution_count": 19,
   "metadata": {
    "ExecuteTime": {
     "end_time": "2019-09-18T10:59:17.219000+09:00",
     "start_time": "2019-09-18T01:58:25.257Z"
    }
   },
   "outputs": [
    {
     "data": {
      "text/plain": [
       "0.6"
      ]
     },
     "execution_count": 19,
     "metadata": {},
     "output_type": "execute_result"
    }
   ],
   "source": [
    "de_mean(x) = x .- avg(x);  # 平均除去関数\n",
    "x = [1, -2.2, 3];\n",
    "\n",
    "avg(x)"
   ]
  },
  {
   "cell_type": "code",
   "execution_count": 20,
   "metadata": {
    "ExecuteTime": {
     "end_time": "2019-09-18T10:59:17.238000+09:00",
     "start_time": "2019-09-18T01:58:25.264Z"
    }
   },
   "outputs": [
    {
     "data": {
      "text/plain": [
       "3-element Array{Float64,1}:\n",
       "  0.4               \n",
       " -2.8000000000000003\n",
       "  2.4               "
      ]
     },
     "execution_count": 20,
     "metadata": {},
     "output_type": "execute_result"
    }
   ],
   "source": [
    "x_tilde = de_mean(x)"
   ]
  },
  {
   "cell_type": "code",
   "execution_count": 21,
   "metadata": {
    "ExecuteTime": {
     "end_time": "2019-09-18T10:59:17.239000+09:00",
     "start_time": "2019-09-18T01:58:25.267Z"
    }
   },
   "outputs": [
    {
     "data": {
      "text/plain": [
       "-1.4802973661668753e-16"
      ]
     },
     "execution_count": 21,
     "metadata": {},
     "output_type": "execute_result"
    }
   ],
   "source": [
    "avg(x_tilde)"
   ]
  },
  {
   "cell_type": "markdown",
   "metadata": {},
   "source": [
    "（$\\tilde{x}$の平均は非常にゼロに近い）\n",
    "\n",
    "## 3.3 標準偏差\n",
    "\n",
    "### 標準偏差\n",
    "\n",
    "本書でのベクトルの標準偏差の定義は$\\mathbf{std}(x) = \\| x - \\mathbf{avg}(x) \\boldsymbol{1} \\| / \\sqrt{n}$である．ここで$n$はベクトルの長さである．これに対応する関数も定義できる．"
   ]
  },
  {
   "cell_type": "code",
   "execution_count": 24,
   "metadata": {
    "ExecuteTime": {
     "end_time": "2019-09-18T10:59:17.241000+09:00",
     "start_time": "2019-09-18T01:58:25.271Z"
    }
   },
   "outputs": [
    {
     "data": {
      "text/plain": [
       "0.27755075174252414"
      ]
     },
     "execution_count": 24,
     "metadata": {},
     "output_type": "execute_result"
    }
   ],
   "source": [
    "x = rand(100);\n",
    "\n",
    "# VMLSパッケージのstdの定義\n",
    "stdev(x) = norm(x .- avg(x)) / sqrt(length(x));\n",
    "stdev(x)"
   ]
  },
  {
   "cell_type": "markdown",
   "metadata": {},
   "source": [
    "この関数は`VMLS`パッケージにあるので，そのパッケージをインストールすれば使える（なおJuliaの`Statistics`にも`std(x)`という同じような関数があるが，こちらは$\\| x - \\mathbf{avg}(x) \\boldsymbol{1} \\| / \\sqrt{n-1}$を計算するものである）．\n",
    "\n",
    "### リターンとリスク\n",
    "\n",
    "本書の図3.4に登場する2つの時系列の平均リターンと（標準偏差で測る）リスクを求めよう．"
   ]
  },
  {
   "cell_type": "code",
   "execution_count": 25,
   "metadata": {
    "ExecuteTime": {
     "end_time": "2019-09-18T10:59:17.259000+09:00",
     "start_time": "2019-09-18T01:58:25.279Z"
    }
   },
   "outputs": [
    {
     "data": {
      "text/plain": [
       "(1.0, 0.0)"
      ]
     },
     "execution_count": 25,
     "metadata": {},
     "output_type": "execute_result"
    }
   ],
   "source": [
    "a = ones(10);\n",
    "avg(a), stdev(a)"
   ]
  },
  {
   "cell_type": "code",
   "execution_count": 26,
   "metadata": {
    "ExecuteTime": {
     "end_time": "2019-09-18T10:59:17.298000+09:00",
     "start_time": "2019-09-18T01:58:25.282Z"
    }
   },
   "outputs": [
    {
     "data": {
      "text/plain": [
       "(2.3, 2.41039415863879)"
      ]
     },
     "execution_count": 26,
     "metadata": {},
     "output_type": "execute_result"
    }
   ],
   "source": [
    "b = [ 5, 1, -2, 3, 6, 3, -1, 3, 4, 1 ];\n",
    "avg(b), stdev(b)"
   ]
  },
  {
   "cell_type": "code",
   "execution_count": 27,
   "metadata": {
    "ExecuteTime": {
     "end_time": "2019-09-18T10:59:17.299000+09:00",
     "start_time": "2019-09-18T01:58:25.286Z"
    }
   },
   "outputs": [
    {
     "data": {
      "text/plain": [
       "(2.6, 3.773592452822641)"
      ]
     },
     "execution_count": 27,
     "metadata": {},
     "output_type": "execute_result"
    }
   ],
   "source": [
    "c = [ 5, 7, -2, 2, -3, 1, -1, 2, 7, 8 ];\n",
    "avg(c), stdev(c)"
   ]
  },
  {
   "cell_type": "code",
   "execution_count": 28,
   "metadata": {
    "ExecuteTime": {
     "end_time": "2019-09-18T10:59:17.300000+09:00",
     "start_time": "2019-09-18T01:58:25.289Z"
    }
   },
   "outputs": [
    {
     "data": {
      "text/plain": [
       "(1.2, 4.308131845707603)"
      ]
     },
     "execution_count": 28,
     "metadata": {},
     "output_type": "execute_result"
    }
   ],
   "source": [
    "d = [ -1, -3, -4, -3, 7, -1, 0, 3, 9, 5 ];\n",
    "avg(d), stdev(d)"
   ]
  },
  {
   "cell_type": "markdown",
   "metadata": {},
   "source": [
    "### ベクトルの標準化\n",
    "\n",
    "ベクトルの要素がすべて同じ値でなければ，平均を引いて標準偏差で割れば，標準化できる．標準化されたベクトルは，平均がゼロでRMSは1である．その要素はzスコアと呼ばれている．では標準化関数を定義して，ランダムなベクトルで確認してみよう．"
   ]
  },
  {
   "cell_type": "code",
   "execution_count": 29,
   "metadata": {
    "ExecuteTime": {
     "end_time": "2019-09-18T10:59:17.388000+09:00",
     "start_time": "2019-09-18T01:58:25.293Z"
    }
   },
   "outputs": [
    {
     "data": {
      "text/plain": [
       "standardize (generic function with 1 method)"
      ]
     },
     "execution_count": 29,
     "metadata": {},
     "output_type": "execute_result"
    }
   ],
   "source": [
    "function standardize(x)\n",
    "x_tilde = x .- avg(x)  # 平均除去ベクトル\n",
    "return x_tilde / rms(x_tilde)\n",
    "end"
   ]
  },
  {
   "cell_type": "code",
   "execution_count": 30,
   "metadata": {
    "ExecuteTime": {
     "end_time": "2019-09-18T10:59:17.389000+09:00",
     "start_time": "2019-09-18T01:58:25.297Z"
    }
   },
   "outputs": [
    {
     "data": {
      "text/plain": [
       "(0.4787430112155901, 0.5479834196286111)"
      ]
     },
     "execution_count": 30,
     "metadata": {},
     "output_type": "execute_result"
    }
   ],
   "source": [
    "x = rand(100);\n",
    "avg(x), rms(x)"
   ]
  },
  {
   "cell_type": "code",
   "execution_count": 31,
   "metadata": {
    "ExecuteTime": {
     "end_time": "2019-09-18T10:59:17.437000+09:00",
     "start_time": "2019-09-18T01:58:25.304Z"
    }
   },
   "outputs": [
    {
     "data": {
      "text/plain": [
       "(-3.7081449022480227e-16, 1.0000000000000002)"
      ]
     },
     "execution_count": 31,
     "metadata": {},
     "output_type": "execute_result"
    }
   ],
   "source": [
    "z = standardize(x);\n",
    "avg(z), rms(z)"
   ]
  },
  {
   "cell_type": "markdown",
   "metadata": {},
   "source": [
    "標準化されたベクトル`z`の平均はほぼゼロである．\n",
    "\n",
    "\n",
    "## 3.4 角度\n",
    "\n",
    "### 角度\n",
    "\n",
    "2つのベクトルのなす角を求める関数を定義する．ただし`angle`という関数はすでにJuliaにあるので（これは複素数の位相を計算する），この関数の名前は`ang`にしよう．"
   ]
  },
  {
   "cell_type": "code",
   "execution_count": 32,
   "metadata": {
    "ExecuteTime": {
     "end_time": "2019-09-18T10:59:17.440000+09:00",
     "start_time": "2019-09-18T01:58:25.312Z"
    }
   },
   "outputs": [],
   "source": [
    "# 角度を返す関数の定義．返り値の単位はラジアン\n",
    "ang(x, y) = acos(x' * y / (norm(x) * norm(y)));"
   ]
  },
  {
   "cell_type": "code",
   "execution_count": 33,
   "metadata": {
    "ExecuteTime": {
     "end_time": "2019-09-18T10:59:17.459000+09:00",
     "start_time": "2019-09-18T01:58:25.316Z"
    }
   },
   "outputs": [
    {
     "data": {
      "text/plain": [
       "0.9689825515916383"
      ]
     },
     "execution_count": 33,
     "metadata": {},
     "output_type": "execute_result"
    }
   ],
   "source": [
    "a = [1, 2, -1];\n",
    "b = [2, 0, -3];\n",
    "ang(a,b)"
   ]
  },
  {
   "cell_type": "code",
   "execution_count": 34,
   "metadata": {
    "ExecuteTime": {
     "end_time": "2019-09-18T10:59:17.465000+09:00",
     "start_time": "2019-09-18T01:58:25.320Z"
    }
   },
   "outputs": [
    {
     "data": {
      "text/plain": [
       "55.51861062801842"
      ]
     },
     "execution_count": 34,
     "metadata": {},
     "output_type": "execute_result"
    }
   ],
   "source": [
    "ang(a, b) * (360 / (2 * pi))  # 角度を度に変換"
   ]
  },
  {
   "cell_type": "markdown",
   "metadata": {},
   "source": [
    "### 相関係数\n",
    "\n",
    "（標準偏差がゼロではない）2つのベクトル$a$と$b$の間の相関係数の定義は次式である．\n",
    "$$\n",
    "\\rho = \\frac{\\tilde{a}^T \\tilde{b}}{\\| \\tilde{a} \\| \\| \\tilde{b} \\|}\n",
    "$$\n",
    "ここで$\\tilde{a}$と$\\tilde{b}$はそれぞれ$a$と$b$の平均除去ベクトルである．相関係数を求める組み込み関数はないため，ここで定義する．それを使って，本書図3.8の3つのベクトルペアの相関係数を計算しよう．"
   ]
  },
  {
   "cell_type": "code",
   "execution_count": 35,
   "metadata": {
    "ExecuteTime": {
     "end_time": "2019-09-18T10:59:17.556000+09:00",
     "start_time": "2019-09-18T01:58:25.324Z"
    }
   },
   "outputs": [
    {
     "data": {
      "text/plain": [
       "correl_coef (generic function with 1 method)"
      ]
     },
     "execution_count": 35,
     "metadata": {},
     "output_type": "execute_result"
    }
   ],
   "source": [
    "function correl_coef(a,b)\n",
    "a_tilde = a .- avg(a)\n",
    "b_tilde = b .- avg(b)\n",
    "return (a_tilde' * b_tilde) / (norm(a_tilde) * norm(b_tilde))\n",
    "end"
   ]
  },
  {
   "cell_type": "code",
   "execution_count": 36,
   "metadata": {
    "ExecuteTime": {
     "end_time": "2019-09-18T10:59:17.580000+09:00",
     "start_time": "2019-09-18T01:58:25.328Z"
    }
   },
   "outputs": [
    {
     "data": {
      "text/plain": [
       "0.9678196342570434"
      ]
     },
     "execution_count": 36,
     "metadata": {},
     "output_type": "execute_result"
    }
   ],
   "source": [
    "a = [4.4, 9.4, 15.4, 12.4, 10.4, 1.4, -4.6, -5.6, -0.6, 7.4];\n",
    "b = [6.2, 11.2, 14.2, 14.2, 8.2, 2.2, -3.8, -4.8, -1.8, 4.2];\n",
    "correl_coef(a,b)"
   ]
  },
  {
   "cell_type": "code",
   "execution_count": 37,
   "metadata": {
    "ExecuteTime": {
     "end_time": "2019-09-18T10:59:17.582000+09:00",
     "start_time": "2019-09-18T01:58:25.331Z"
    }
   },
   "outputs": [
    {
     "data": {
      "text/plain": [
       "-0.9875211120643734"
      ]
     },
     "execution_count": 37,
     "metadata": {},
     "output_type": "execute_result"
    }
   ],
   "source": [
    "a = [4.1, 10.1, 15.1, 13.1, 7.1, 2.1, -2.9, -5.9, 0.1, 7.1];\n",
    "b = [5.5, -0.5, -4.5, -3.5, 1.5, 7.5, 13.5, 14.5, 11.5, 4.5];\n",
    "correl_coef(a,b)"
   ]
  },
  {
   "cell_type": "code",
   "execution_count": 38,
   "metadata": {
    "ExecuteTime": {
     "end_time": "2019-09-18T10:59:17.583000+09:00",
     "start_time": "2019-09-18T01:58:25.335Z"
    }
   },
   "outputs": [
    {
     "data": {
      "text/plain": [
       "0.004020976661367021"
      ]
     },
     "execution_count": 38,
     "metadata": {},
     "output_type": "execute_result"
    }
   ],
   "source": [
    "a = [-5.0, 0.0, 5.0, 8.0, 13.0, 11.0, 1.0, 6.0, 4.0, 7.0];\n",
    "b = [5.8, 0.8, 7.8, 9.8, 0.8, 11.8, 10.8, 5.8, -0.2, -3.2];\n",
    "correl_coef(a,b)"
   ]
  },
  {
   "cell_type": "markdown",
   "metadata": {},
   "source": [
    "3つのベクトルペアの相関係数はそれぞれ$96.8\\%$, $-98.8\\%$, $0.4\\%$である．\n",
    "\n",
    "### 計算時間\n",
    "\n",
    "$n$次元ベクトルの相関係数の計算時間がほぼ$n$に線形に比例することを確認してみよう．"
   ]
  },
  {
   "cell_type": "code",
   "execution_count": 51,
   "metadata": {
    "ExecuteTime": {
     "end_time": "2019-09-18T10:59:17.608000+09:00",
     "start_time": "2019-09-18T01:58:25.339Z"
    }
   },
   "outputs": [],
   "source": [
    "x = randn(10^6);\n",
    "y = randn(10^6);"
   ]
  },
  {
   "cell_type": "code",
   "execution_count": 52,
   "metadata": {
    "ExecuteTime": {
     "end_time": "2019-09-18T10:59:17.668000+09:00",
     "start_time": "2019-09-18T01:58:25.343Z"
    }
   },
   "outputs": [
    {
     "name": "stdout",
     "output_type": "stream",
     "text": [
      "  0.028312 seconds (9 allocations: 15.259 MiB, 68.84% gc time)\n"
     ]
    }
   ],
   "source": [
    "@time correl_coef(x, y);"
   ]
  },
  {
   "cell_type": "code",
   "execution_count": 53,
   "metadata": {
    "ExecuteTime": {
     "end_time": "2019-09-18T10:59:17.793000+09:00",
     "start_time": "2019-09-18T01:58:25.346Z"
    }
   },
   "outputs": [
    {
     "name": "stdout",
     "output_type": "stream",
     "text": [
      "  0.026049 seconds (9 allocations: 15.259 MiB, 12.33% gc time)\n"
     ]
    }
   ],
   "source": [
    "@time correl_coef(x, y);"
   ]
  },
  {
   "cell_type": "code",
   "execution_count": 54,
   "metadata": {
    "ExecuteTime": {
     "end_time": "2019-09-18T10:59:18.125000+09:00",
     "start_time": "2019-09-18T01:58:25.350Z"
    }
   },
   "outputs": [],
   "source": [
    "x = randn(10^7);\n",
    "y = randn(10^7);"
   ]
  },
  {
   "cell_type": "code",
   "execution_count": 55,
   "metadata": {
    "ExecuteTime": {
     "end_time": "2019-09-18T10:59:18.587000+09:00",
     "start_time": "2019-09-18T01:58:25.354Z"
    }
   },
   "outputs": [
    {
     "name": "stdout",
     "output_type": "stream",
     "text": [
      "  0.205272 seconds (9 allocations: 152.588 MiB, 66.45% gc time)\n"
     ]
    }
   ],
   "source": [
    "@time correl_coef(x, y);"
   ]
  },
  {
   "cell_type": "code",
   "execution_count": 56,
   "metadata": {
    "ExecuteTime": {
     "end_time": "2019-09-18T10:59:18.860000+09:00",
     "start_time": "2019-09-18T01:58:25.357Z"
    }
   },
   "outputs": [
    {
     "name": "stdout",
     "output_type": "stream",
     "text": [
      "  0.195542 seconds (9 allocations: 152.588 MiB, 63.39% gc time)\n"
     ]
    }
   ],
   "source": [
    "@time correl_coef(x, y);"
   ]
  },
  {
   "cell_type": "code",
   "execution_count": null,
   "metadata": {},
   "outputs": [],
   "source": []
  }
 ],
 "metadata": {
  "kernelspec": {
   "display_name": "Julia 1.0.2",
   "language": "julia",
   "name": "julia-1.0"
  },
  "language_info": {
   "file_extension": ".jl",
   "mimetype": "application/julia",
   "name": "julia",
   "version": "1.0.2"
  },
  "toc": {
   "base_numbering": 1,
   "nav_menu": {
    "height": "512px",
    "width": "252px"
   },
   "number_sections": true,
   "sideBar": true,
   "skip_h1_title": false,
   "title_cell": "Table of Contents",
   "title_sidebar": "Contents",
   "toc_cell": false,
   "toc_position": {},
   "toc_section_display": "block",
   "toc_window_display": false
  }
 },
 "nbformat": 4,
 "nbformat_minor": 2
}
