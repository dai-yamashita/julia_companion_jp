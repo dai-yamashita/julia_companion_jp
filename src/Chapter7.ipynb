{
 "cells": [
  {
   "cell_type": "markdown",
   "metadata": {},
   "source": [
    "# Chapter 7 行列の例\n",
    "\n",
    "## 7.1 幾何変換\n",
    "\n",
    "回転行列を作り，点の集合を$\\pi/3$ラジアン（60${}^\\circ$）だけ回転してみよう．結果を図7.1に示す．"
   ]
  },
  {
   "cell_type": "code",
   "execution_count": 2,
   "metadata": {},
   "outputs": [
    {
     "data": {
      "text/plain": [
       "2×2 Array{Float64,2}:\n",
       " 0.5       -0.866025\n",
       " 0.866025   0.5     "
      ]
     },
     "execution_count": 2,
     "metadata": {},
     "output_type": "execute_result"
    }
   ],
   "source": [
    "Rot(theta) = [cos(theta) -sin(theta); \n",
    "              sin(theta) cos(theta)];\n",
    "R = Rot(pi / 3)"
   ]
  },
  {
   "cell_type": "code",
   "execution_count": 4,
   "metadata": {},
   "outputs": [
    {
     "data": {
      "image/svg+xml": [
       "<?xml version=\"1.0\" encoding=\"utf-8\"?>\n",
       "<svg xmlns=\"http://www.w3.org/2000/svg\" xmlns:xlink=\"http://www.w3.org/1999/xlink\" width=\"500\" height=\"500\" viewBox=\"0 0 2000 2000\">\n",
       "<defs>\n",
       "  <clipPath id=\"clip2700\">\n",
       "    <rect x=\"0\" y=\"0\" width=\"2000\" height=\"2000\"/>\n",
       "  </clipPath>\n",
       "</defs>\n",
       "<polygon clip-path=\"url(#clip2700)\" points=\"\n",
       "0,2000 2000,2000 2000,0 0,0 \n",
       "  \" fill=\"#ffffff\" fill-rule=\"evenodd\" fill-opacity=\"1\"/>\n",
       "<defs>\n",
       "  <clipPath id=\"clip2701\">\n",
       "    <rect x=\"400\" y=\"200\" width=\"1401\" height=\"1401\"/>\n",
       "  </clipPath>\n",
       "</defs>\n",
       "<polygon clip-path=\"url(#clip2700)\" points=\"\n",
       "161.394,1903.47 1921.26,1903.47 1921.26,47.2441 161.394,47.2441 \n",
       "  \" fill=\"#ffffff\" fill-rule=\"evenodd\" fill-opacity=\"1\"/>\n",
       "<defs>\n",
       "  <clipPath id=\"clip2702\">\n",
       "    <rect x=\"161\" y=\"47\" width=\"1761\" height=\"1857\"/>\n",
       "  </clipPath>\n",
       "</defs>\n",
       "<polyline clip-path=\"url(#clip2702)\" style=\"stroke:#000000; stroke-width:2; stroke-opacity:0.1; fill:none\" points=\"\n",
       "  241.388,1903.47 241.388,47.2441 \n",
       "  \"/>\n",
       "<polyline clip-path=\"url(#clip2702)\" style=\"stroke:#000000; stroke-width:2; stroke-opacity:0.1; fill:none\" points=\"\n",
       "  641.357,1903.47 641.357,47.2441 \n",
       "  \"/>\n",
       "<polyline clip-path=\"url(#clip2702)\" style=\"stroke:#000000; stroke-width:2; stroke-opacity:0.1; fill:none\" points=\"\n",
       "  1041.33,1903.47 1041.33,47.2441 \n",
       "  \"/>\n",
       "<polyline clip-path=\"url(#clip2702)\" style=\"stroke:#000000; stroke-width:2; stroke-opacity:0.1; fill:none\" points=\"\n",
       "  1441.3,1903.47 1441.3,47.2441 \n",
       "  \"/>\n",
       "<polyline clip-path=\"url(#clip2702)\" style=\"stroke:#000000; stroke-width:2; stroke-opacity:0.1; fill:none\" points=\"\n",
       "  1841.27,1903.47 1841.27,47.2441 \n",
       "  \"/>\n",
       "<polyline clip-path=\"url(#clip2702)\" style=\"stroke:#000000; stroke-width:2; stroke-opacity:0.1; fill:none\" points=\"\n",
       "  161.394,1819.1 1921.26,1819.1 \n",
       "  \"/>\n",
       "<polyline clip-path=\"url(#clip2702)\" style=\"stroke:#000000; stroke-width:2; stroke-opacity:0.1; fill:none\" points=\"\n",
       "  161.394,1397.23 1921.26,1397.23 \n",
       "  \"/>\n",
       "<polyline clip-path=\"url(#clip2702)\" style=\"stroke:#000000; stroke-width:2; stroke-opacity:0.1; fill:none\" points=\"\n",
       "  161.394,975.359 1921.26,975.359 \n",
       "  \"/>\n",
       "<polyline clip-path=\"url(#clip2702)\" style=\"stroke:#000000; stroke-width:2; stroke-opacity:0.1; fill:none\" points=\"\n",
       "  161.394,553.489 1921.26,553.489 \n",
       "  \"/>\n",
       "<polyline clip-path=\"url(#clip2702)\" style=\"stroke:#000000; stroke-width:2; stroke-opacity:0.1; fill:none\" points=\"\n",
       "  161.394,131.618 1921.26,131.618 \n",
       "  \"/>\n",
       "<polyline clip-path=\"url(#clip2700)\" style=\"stroke:#000000; stroke-width:4; stroke-opacity:1; fill:none\" points=\"\n",
       "  161.394,1903.47 1921.26,1903.47 \n",
       "  \"/>\n",
       "<polyline clip-path=\"url(#clip2700)\" style=\"stroke:#000000; stroke-width:4; stroke-opacity:1; fill:none\" points=\"\n",
       "  161.394,1903.47 161.394,47.2441 \n",
       "  \"/>\n",
       "<polyline clip-path=\"url(#clip2700)\" style=\"stroke:#000000; stroke-width:4; stroke-opacity:1; fill:none\" points=\"\n",
       "  241.388,1903.47 241.388,1875.63 \n",
       "  \"/>\n",
       "<polyline clip-path=\"url(#clip2700)\" style=\"stroke:#000000; stroke-width:4; stroke-opacity:1; fill:none\" points=\"\n",
       "  641.357,1903.47 641.357,1875.63 \n",
       "  \"/>\n",
       "<polyline clip-path=\"url(#clip2700)\" style=\"stroke:#000000; stroke-width:4; stroke-opacity:1; fill:none\" points=\"\n",
       "  1041.33,1903.47 1041.33,1875.63 \n",
       "  \"/>\n",
       "<polyline clip-path=\"url(#clip2700)\" style=\"stroke:#000000; stroke-width:4; stroke-opacity:1; fill:none\" points=\"\n",
       "  1441.3,1903.47 1441.3,1875.63 \n",
       "  \"/>\n",
       "<polyline clip-path=\"url(#clip2700)\" style=\"stroke:#000000; stroke-width:4; stroke-opacity:1; fill:none\" points=\"\n",
       "  1841.27,1903.47 1841.27,1875.63 \n",
       "  \"/>\n",
       "<polyline clip-path=\"url(#clip2700)\" style=\"stroke:#000000; stroke-width:4; stroke-opacity:1; fill:none\" points=\"\n",
       "  161.394,1819.1 187.792,1819.1 \n",
       "  \"/>\n",
       "<polyline clip-path=\"url(#clip2700)\" style=\"stroke:#000000; stroke-width:4; stroke-opacity:1; fill:none\" points=\"\n",
       "  161.394,1397.23 187.792,1397.23 \n",
       "  \"/>\n",
       "<polyline clip-path=\"url(#clip2700)\" style=\"stroke:#000000; stroke-width:4; stroke-opacity:1; fill:none\" points=\"\n",
       "  161.394,975.359 187.792,975.359 \n",
       "  \"/>\n",
       "<polyline clip-path=\"url(#clip2700)\" style=\"stroke:#000000; stroke-width:4; stroke-opacity:1; fill:none\" points=\"\n",
       "  161.394,553.489 187.792,553.489 \n",
       "  \"/>\n",
       "<polyline clip-path=\"url(#clip2700)\" style=\"stroke:#000000; stroke-width:4; stroke-opacity:1; fill:none\" points=\"\n",
       "  161.394,131.618 187.792,131.618 \n",
       "  \"/>\n",
       "<g clip-path=\"url(#clip2700)\">\n",
       "<text style=\"fill:#000000; fill-opacity:1; font-family:Arial,Helvetica Neue,Helvetica,sans-serif; font-size:48px; text-anchor:middle;\" transform=\"rotate(0, 241.388, 1955.47)\" x=\"241.388\" y=\"1955.47\">0.0</text>\n",
       "</g>\n",
       "<g clip-path=\"url(#clip2700)\">\n",
       "<text style=\"fill:#000000; fill-opacity:1; font-family:Arial,Helvetica Neue,Helvetica,sans-serif; font-size:48px; text-anchor:middle;\" transform=\"rotate(0, 641.357, 1955.47)\" x=\"641.357\" y=\"1955.47\">0.5</text>\n",
       "</g>\n",
       "<g clip-path=\"url(#clip2700)\">\n",
       "<text style=\"fill:#000000; fill-opacity:1; font-family:Arial,Helvetica Neue,Helvetica,sans-serif; font-size:48px; text-anchor:middle;\" transform=\"rotate(0, 1041.33, 1955.47)\" x=\"1041.33\" y=\"1955.47\">1.0</text>\n",
       "</g>\n",
       "<g clip-path=\"url(#clip2700)\">\n",
       "<text style=\"fill:#000000; fill-opacity:1; font-family:Arial,Helvetica Neue,Helvetica,sans-serif; font-size:48px; text-anchor:middle;\" transform=\"rotate(0, 1441.3, 1955.47)\" x=\"1441.3\" y=\"1955.47\">1.5</text>\n",
       "</g>\n",
       "<g clip-path=\"url(#clip2700)\">\n",
       "<text style=\"fill:#000000; fill-opacity:1; font-family:Arial,Helvetica Neue,Helvetica,sans-serif; font-size:48px; text-anchor:middle;\" transform=\"rotate(0, 1841.27, 1955.47)\" x=\"1841.27\" y=\"1955.47\">2.0</text>\n",
       "</g>\n",
       "<g clip-path=\"url(#clip2700)\">\n",
       "<text style=\"fill:#000000; fill-opacity:1; font-family:Arial,Helvetica Neue,Helvetica,sans-serif; font-size:48px; text-anchor:end;\" transform=\"rotate(0, 141.394, 1836.6)\" x=\"141.394\" y=\"1836.6\">0.0</text>\n",
       "</g>\n",
       "<g clip-path=\"url(#clip2700)\">\n",
       "<text style=\"fill:#000000; fill-opacity:1; font-family:Arial,Helvetica Neue,Helvetica,sans-serif; font-size:48px; text-anchor:end;\" transform=\"rotate(0, 141.394, 1414.73)\" x=\"141.394\" y=\"1414.73\">0.5</text>\n",
       "</g>\n",
       "<g clip-path=\"url(#clip2700)\">\n",
       "<text style=\"fill:#000000; fill-opacity:1; font-family:Arial,Helvetica Neue,Helvetica,sans-serif; font-size:48px; text-anchor:end;\" transform=\"rotate(0, 141.394, 992.859)\" x=\"141.394\" y=\"992.859\">1.0</text>\n",
       "</g>\n",
       "<g clip-path=\"url(#clip2700)\">\n",
       "<text style=\"fill:#000000; fill-opacity:1; font-family:Arial,Helvetica Neue,Helvetica,sans-serif; font-size:48px; text-anchor:end;\" transform=\"rotate(0, 141.394, 570.989)\" x=\"141.394\" y=\"570.989\">1.5</text>\n",
       "</g>\n",
       "<g clip-path=\"url(#clip2700)\">\n",
       "<text style=\"fill:#000000; fill-opacity:1; font-family:Arial,Helvetica Neue,Helvetica,sans-serif; font-size:48px; text-anchor:end;\" transform=\"rotate(0, 141.394, 149.118)\" x=\"141.394\" y=\"149.118\">2.0</text>\n",
       "</g>\n",
       "<circle clip-path=\"url(#clip2702)\" style=\"fill:#000000; stroke:none; fill-opacity:1\" cx=\"1041.33\" cy=\"1819.1\" r=\"18\"/>\n",
       "<circle clip-path=\"url(#clip2702)\" style=\"fill:#009af9; stroke:none; fill-opacity:1\" cx=\"1041.33\" cy=\"1819.1\" r=\"14\"/>\n",
       "<circle clip-path=\"url(#clip2702)\" style=\"fill:#000000; stroke:none; fill-opacity:1\" cx=\"1441.3\" cy=\"1819.1\" r=\"18\"/>\n",
       "<circle clip-path=\"url(#clip2702)\" style=\"fill:#009af9; stroke:none; fill-opacity:1\" cx=\"1441.3\" cy=\"1819.1\" r=\"14\"/>\n",
       "<circle clip-path=\"url(#clip2702)\" style=\"fill:#000000; stroke:none; fill-opacity:1\" cx=\"1841.27\" cy=\"1819.1\" r=\"18\"/>\n",
       "<circle clip-path=\"url(#clip2702)\" style=\"fill:#009af9; stroke:none; fill-opacity:1\" cx=\"1841.27\" cy=\"1819.1\" r=\"14\"/>\n",
       "<circle clip-path=\"url(#clip2702)\" style=\"fill:#000000; stroke:none; fill-opacity:1\" cx=\"1041.33\" cy=\"1608.17\" r=\"18\"/>\n",
       "<circle clip-path=\"url(#clip2702)\" style=\"fill:#009af9; stroke:none; fill-opacity:1\" cx=\"1041.33\" cy=\"1608.17\" r=\"14\"/>\n",
       "<circle clip-path=\"url(#clip2702)\" style=\"fill:#000000; stroke:none; fill-opacity:1\" cx=\"1441.3\" cy=\"1608.17\" r=\"18\"/>\n",
       "<circle clip-path=\"url(#clip2702)\" style=\"fill:#009af9; stroke:none; fill-opacity:1\" cx=\"1441.3\" cy=\"1608.17\" r=\"14\"/>\n",
       "<circle clip-path=\"url(#clip2702)\" style=\"fill:#000000; stroke:none; fill-opacity:1\" cx=\"1041.33\" cy=\"1397.23\" r=\"18\"/>\n",
       "<circle clip-path=\"url(#clip2702)\" style=\"fill:#009af9; stroke:none; fill-opacity:1\" cx=\"1041.33\" cy=\"1397.23\" r=\"14\"/>\n",
       "<circle clip-path=\"url(#clip2702)\" style=\"fill:#000000; stroke:none; fill-opacity:1\" cx=\"641.357\" cy=\"1088.4\" r=\"18\"/>\n",
       "<circle clip-path=\"url(#clip2702)\" style=\"fill:#e26f46; stroke:none; fill-opacity:1\" cx=\"641.357\" cy=\"1088.4\" r=\"14\"/>\n",
       "<circle clip-path=\"url(#clip2702)\" style=\"fill:#000000; stroke:none; fill-opacity:1\" cx=\"841.342\" cy=\"723.049\" r=\"18\"/>\n",
       "<circle clip-path=\"url(#clip2702)\" style=\"fill:#e26f46; stroke:none; fill-opacity:1\" cx=\"841.342\" cy=\"723.049\" r=\"14\"/>\n",
       "<circle clip-path=\"url(#clip2702)\" style=\"fill:#000000; stroke:none; fill-opacity:1\" cx=\"1041.33\" cy=\"357.698\" r=\"18\"/>\n",
       "<circle clip-path=\"url(#clip2702)\" style=\"fill:#e26f46; stroke:none; fill-opacity:1\" cx=\"1041.33\" cy=\"357.698\" r=\"14\"/>\n",
       "<circle clip-path=\"url(#clip2702)\" style=\"fill:#000000; stroke:none; fill-opacity:1\" cx=\"468.166\" cy=\"982.932\" r=\"18\"/>\n",
       "<circle clip-path=\"url(#clip2702)\" style=\"fill:#e26f46; stroke:none; fill-opacity:1\" cx=\"468.166\" cy=\"982.932\" r=\"14\"/>\n",
       "<circle clip-path=\"url(#clip2702)\" style=\"fill:#000000; stroke:none; fill-opacity:1\" cx=\"668.15\" cy=\"617.581\" r=\"18\"/>\n",
       "<circle clip-path=\"url(#clip2702)\" style=\"fill:#e26f46; stroke:none; fill-opacity:1\" cx=\"668.15\" cy=\"617.581\" r=\"14\"/>\n",
       "<circle clip-path=\"url(#clip2702)\" style=\"fill:#000000; stroke:none; fill-opacity:1\" cx=\"294.974\" cy=\"877.464\" r=\"18\"/>\n",
       "<circle clip-path=\"url(#clip2702)\" style=\"fill:#e26f46; stroke:none; fill-opacity:1\" cx=\"294.974\" cy=\"877.464\" r=\"14\"/>\n",
       "</svg>\n"
      ]
     },
     "execution_count": 4,
     "metadata": {},
     "output_type": "execute_result"
    }
   ],
   "source": [
    "# 2次元点のリストを作成\n",
    "points = [ [1, 0], [1.5, 0], [2, 0], [1, 0.25], [1.5, 0.25], [1, .5] ];\n",
    "# 回転する\n",
    "rpoints = [ R*p for p in points ];\n",
    "# 2つの点集合をプロット\n",
    "using Plots\n",
    "scatter([c[1] for c in points], [c[2] for c in points])\n",
    "scatter!([c[1] for c in rpoints], [c[2] for c in rpoints])\n",
    "plot!(lims = (-0.1, 2.1), size = (500, 500), legend = false)"
   ]
  },
  {
   "cell_type": "markdown",
   "metadata": {},
   "source": [
    "![図7.1](fig7-1.pdf)\n",
    "\n",
    "図7.1 6個の点を60度回転した結果\n",
    "\n",
    "\n",
    "## 7.2 要素選択行列\n",
    "\n",
    "### 逆順行列\n",
    "\n",
    "逆順行列を作るには，単位行列の列を逆順に並べればよい．そのためにJuliaのコマンド`reverse`が使える．（`reverse(A,dims=1)`は行列の行を逆順にする．`reverse(A,dims=2)`は列を逆順にする）．ベクトルを逆順行列にかけると，行列の要素が逆順になる．\n"
   ]
  },
  {
   "cell_type": "code",
   "execution_count": 5,
   "metadata": {},
   "outputs": [],
   "source": [
    "using VMLS"
   ]
  },
  {
   "cell_type": "code",
   "execution_count": 7,
   "metadata": {},
   "outputs": [
    {
     "data": {
      "text/plain": [
       "reverser (generic function with 1 method)"
      ]
     },
     "execution_count": 7,
     "metadata": {},
     "output_type": "execute_result"
    }
   ],
   "source": [
    "reverser(n) = reverse(eye(n), dims=1)"
   ]
  },
  {
   "cell_type": "code",
   "execution_count": 8,
   "metadata": {},
   "outputs": [
    {
     "data": {
      "text/plain": [
       "5×5 Array{Float64,2}:\n",
       " 0.0  0.0  0.0  0.0  1.0\n",
       " 0.0  0.0  0.0  1.0  0.0\n",
       " 0.0  0.0  1.0  0.0  0.0\n",
       " 0.0  1.0  0.0  0.0  0.0\n",
       " 1.0  0.0  0.0  0.0  0.0"
      ]
     },
     "execution_count": 8,
     "metadata": {},
     "output_type": "execute_result"
    }
   ],
   "source": [
    "A = reverser(5)"
   ]
  },
  {
   "cell_type": "code",
   "execution_count": 9,
   "metadata": {},
   "outputs": [
    {
     "data": {
      "text/plain": [
       "5-element Array{Float64,1}:\n",
       " 5.0\n",
       " 4.0\n",
       " 3.0\n",
       " 2.0\n",
       " 1.0"
      ]
     },
     "execution_count": 9,
     "metadata": {},
     "output_type": "execute_result"
    }
   ],
   "source": [
    "x = [1., 2., 3., 4., 5.];\n",
    "A * x  # xをAにかけて逆順にする"
   ]
  },
  {
   "cell_type": "code",
   "execution_count": 10,
   "metadata": {},
   "outputs": [
    {
     "data": {
      "text/plain": [
       "5-element Array{Float64,1}:\n",
       " 5.0\n",
       " 4.0\n",
       " 3.0\n",
       " 2.0\n",
       " 1.0"
      ]
     },
     "execution_count": 10,
     "metadata": {},
     "output_type": "execute_result"
    }
   ],
   "source": [
    "reverse(x)  # xをreverseで逆順にする"
   ]
  },
  {
   "cell_type": "markdown",
   "metadata": {},
   "source": [
    "### 置換行列\n",
    "\n",
    "置換行列を作り，行列の要素を入れ替えよう．Juliaでは，置換したインデックスをベクトルに渡せば置換できるので，このような行列を作って置換する必要性はない．\n"
   ]
  },
  {
   "cell_type": "code",
   "execution_count": 11,
   "metadata": {},
   "outputs": [
    {
     "data": {
      "text/plain": [
       "3×3 Array{Int64,2}:\n",
       " 0  0  1\n",
       " 1  0  0\n",
       " 0  1  0"
      ]
     },
     "execution_count": 11,
     "metadata": {},
     "output_type": "execute_result"
    }
   ],
   "source": [
    "A = [0 0 1; 1 0 0; 0 1 0]"
   ]
  },
  {
   "cell_type": "code",
   "execution_count": 12,
   "metadata": {},
   "outputs": [
    {
     "data": {
      "text/plain": [
       "3-element Array{Float64,1}:\n",
       "  0.2\n",
       " -1.7\n",
       "  2.4"
      ]
     },
     "execution_count": 12,
     "metadata": {},
     "output_type": "execute_result"
    }
   ],
   "source": [
    "x = [0.2, -1.7, 2.4]"
   ]
  },
  {
   "cell_type": "code",
   "execution_count": 13,
   "metadata": {},
   "outputs": [
    {
     "data": {
      "text/plain": [
       "3-element Array{Float64,1}:\n",
       "  2.4\n",
       "  0.2\n",
       " -1.7"
      ]
     },
     "execution_count": 13,
     "metadata": {},
     "output_type": "execute_result"
    }
   ],
   "source": [
    "A * x  # xを置換して[x[3], x[1], x[2]]にする"
   ]
  },
  {
   "cell_type": "code",
   "execution_count": 14,
   "metadata": {},
   "outputs": [
    {
     "data": {
      "text/plain": [
       "3-element Array{Float64,1}:\n",
       "  2.4\n",
       "  0.2\n",
       " -1.7"
      ]
     },
     "execution_count": 14,
     "metadata": {},
     "output_type": "execute_result"
    }
   ],
   "source": [
    "x[[3, 1, 2]]  # 置換したインデックスで置換"
   ]
  },
  {
   "cell_type": "markdown",
   "metadata": {},
   "source": [
    "## 接続行列\n",
    "\n",
    "### グラフの接続行列\n",
    "\n",
    "本書図7.3のネットワークの接続行列を作成する．\n"
   ]
  },
  {
   "cell_type": "code",
   "execution_count": 15,
   "metadata": {},
   "outputs": [
    {
     "data": {
      "text/plain": [
       "4×5 Array{Int64,2}:\n",
       " -1  -1   0   1   0\n",
       "  1   0  -1   0   0\n",
       "  0   0   1  -1  -1\n",
       "  0   1   0   0   1"
      ]
     },
     "execution_count": 15,
     "metadata": {},
     "output_type": "execute_result"
    }
   ],
   "source": [
    "A = [ -1 -1 0 1 0; 1 0 -1 0 0 ; 0 0 1 -1 -1 ; 0 1 0 0 1]"
   ]
  },
  {
   "cell_type": "code",
   "execution_count": 16,
   "metadata": {},
   "outputs": [
    {
     "data": {
      "text/plain": [
       "5-element Array{Int64,1}:\n",
       "  1\n",
       " -1\n",
       "  1\n",
       "  0\n",
       "  1"
      ]
     },
     "execution_count": 16,
     "metadata": {},
     "output_type": "execute_result"
    }
   ],
   "source": [
    "xcirc = [1, -1, 1, 0, 1] # 循環フロー"
   ]
  },
  {
   "cell_type": "code",
   "execution_count": 17,
   "metadata": {},
   "outputs": [
    {
     "data": {
      "text/plain": [
       "4-element Array{Int64,1}:\n",
       " 0\n",
       " 0\n",
       " 0\n",
       " 0"
      ]
     },
     "execution_count": 17,
     "metadata": {},
     "output_type": "execute_result"
    }
   ],
   "source": [
    "A * xcirc"
   ]
  },
  {
   "cell_type": "code",
   "execution_count": 20,
   "metadata": {},
   "outputs": [],
   "source": [
    "s = [1, 0, -1, 0];  # ソースベクトル\n",
    "x = [0.6, 0.3, 0.6, -0.1, -0.3];  # フローベクトル"
   ]
  },
  {
   "cell_type": "code",
   "execution_count": 22,
   "metadata": {},
   "outputs": [
    {
     "data": {
      "text/plain": [
       "4-element Array{Float64,1}:\n",
       " 1.1102230246251565e-16\n",
       " 0.0                   \n",
       " 0.0                   \n",
       " 0.0                   "
      ]
     },
     "execution_count": 22,
     "metadata": {},
     "output_type": "execute_result"
    }
   ],
   "source": [
    "A * x + s   # 各ノードへ出入りするフロー"
   ]
  },
  {
   "cell_type": "markdown",
   "metadata": {},
   "source": [
    "### ディリクレエネルギー\n",
    "\n",
    "本書＊＊ページでは，本書の図7.2のグラフに関連する？？？2つのポテンシャルベクトルのディリクレエネルギーを計算する．\n"
   ]
  },
  {
   "cell_type": "code",
   "execution_count": 23,
   "metadata": {},
   "outputs": [
    {
     "data": {
      "text/plain": [
       "4×5 Array{Int64,2}:\n",
       " -1  -1   0   1   0\n",
       "  1   0  -1   0   0\n",
       "  0   0   1  -1  -1\n",
       "  0   1   0   0   1"
      ]
     },
     "execution_count": 23,
     "metadata": {},
     "output_type": "execute_result"
    }
   ],
   "source": [
    "A = [ -1 -1 0 1 0 ; 1 0 -1 0 0 ; 0 0 1 -1 -1; 0 1 0 0 1 ]"
   ]
  },
  {
   "cell_type": "code",
   "execution_count": 24,
   "metadata": {},
   "outputs": [
    {
     "data": {
      "text/plain": [
       "4-element Array{Int64,1}:\n",
       " 1\n",
       " 2\n",
       " 2\n",
       " 1"
      ]
     },
     "execution_count": 24,
     "metadata": {},
     "output_type": "execute_result"
    }
   ],
   "source": [
    "vsmooth = [ 1, 2, 2, 1 ]"
   ]
  },
  {
   "cell_type": "code",
   "execution_count": 25,
   "metadata": {},
   "outputs": [],
   "source": [
    "using LinearAlgebra"
   ]
  },
  {
   "cell_type": "code",
   "execution_count": 26,
   "metadata": {},
   "outputs": [
    {
     "data": {
      "text/plain": [
       "2.9999999999999996"
      ]
     },
     "execution_count": 26,
     "metadata": {},
     "output_type": "execute_result"
    }
   ],
   "source": [
    "norm(A' * vsmooth)^2 # vsmoothのディリクレエネルギー"
   ]
  },
  {
   "cell_type": "code",
   "execution_count": 27,
   "metadata": {},
   "outputs": [],
   "source": [
    "vrough = [ 1, -1, 2, -1 ];"
   ]
  },
  {
   "cell_type": "code",
   "execution_count": 28,
   "metadata": {},
   "outputs": [
    {
     "data": {
      "text/plain": [
       "27.0"
      ]
     },
     "execution_count": 28,
     "metadata": {},
     "output_type": "execute_result"
    }
   ],
   "source": [
    "norm(A' * vrough)^2 # vroughのディリクレエネルギー"
   ]
  },
  {
   "cell_type": "markdown",
   "metadata": {},
   "source": [
    "## 7.4 畳み込み\n",
    "\n",
    "Juliaの`DSP`パッケージには畳み込み関数`conv`が含まれている．このパッケージを追加すると，ベクトル`a`と`b`の畳み込みを計算するコマンド`conv(a,b)`が使えるようになる．これを使って，以下の多項式の係数を求めよう．\n",
    "\n",
    "$$\n",
    "p(x) = (1+x)(2-x+x^2)(1+x-2x^2) = 2 + 3x - 3x^2 - x^3 + x^4 - 2x^5\n",
    "$$"
   ]
  },
  {
   "cell_type": "code",
   "execution_count": 29,
   "metadata": {},
   "outputs": [
    {
     "name": "stderr",
     "output_type": "stream",
     "text": [
      "┌ Info: Recompiling stale cache file /Users/tamaki/.julia/compiled/v1.0/DSP/OtML7.ji for DSP [717857b8-e6f2-59f4-9121-6e50c889abd2]\n",
      "└ @ Base loading.jl:1190\n"
     ]
    }
   ],
   "source": [
    "using DSP"
   ]
  },
  {
   "cell_type": "code",
   "execution_count": 30,
   "metadata": {},
   "outputs": [],
   "source": [
    "a = [1, 1];  # 1+xの係数\n",
    "b = [2, -1, 1];  # 2-x+x^2の係数\n",
    "c = [1, 1, -2];  # 1+x-2x^2の係数"
   ]
  },
  {
   "cell_type": "code",
   "execution_count": 31,
   "metadata": {},
   "outputs": [
    {
     "data": {
      "text/plain": [
       "6-element Array{Int64,1}:\n",
       "  2\n",
       "  3\n",
       " -3\n",
       " -1\n",
       "  1\n",
       " -2"
      ]
     },
     "execution_count": 31,
     "metadata": {},
     "output_type": "execute_result"
    }
   ],
   "source": [
    "d = conv(conv(a, b), c)  # 積の係数"
   ]
  },
  {
   "cell_type": "markdown",
   "metadata": {},
   "source": [
    "テプリッツ行列を生成する関数を作り，`conv`関数をチェックしてみよう．Juliaの畳み込み関数の実装が非常に効率的であることも分かるはずである．\n",
    "\n",
    "本書の式(7.3）のテプリッツ行列$T(b)$を作るには，まず次元$((n+m-1) \\times n)$のゼロ行列を作成し，係数$b_i$を一つずつ加えていく．この場合，単一インデックス指定を使うと便利である．行列$T(b)$内の要素$b_i$の単一インデックスは$i, i+m, i+2(m+n), \\ldots, i + (n-1)(m+n)$である．"
   ]
  },
  {
   "cell_type": "code",
   "execution_count": 32,
   "metadata": {},
   "outputs": [
    {
     "data": {
      "text/plain": [
       "toeplitz (generic function with 1 method)"
      ]
     },
     "execution_count": 32,
     "metadata": {},
     "output_type": "execute_result"
    }
   ],
   "source": [
    "function toeplitz(b,n)\n",
    "m = length(b)\n",
    "T = zeros(n+m-1,n)\n",
    "for i=1:m\n",
    "   T[i : n+m : end] .= b[i]\n",
    "end\n",
    "return T\n",
    "end"
   ]
  },
  {
   "cell_type": "code",
   "execution_count": 35,
   "metadata": {},
   "outputs": [
    {
     "data": {
      "text/plain": [
       "6×4 Array{Float64,2}:\n",
       " -1.0   0.0   0.0   0.0\n",
       "  2.0  -1.0   0.0   0.0\n",
       "  3.0   2.0  -1.0   0.0\n",
       "  0.0   3.0   2.0  -1.0\n",
       "  0.0   0.0   3.0   2.0\n",
       "  0.0   0.0   0.0   3.0"
      ]
     },
     "execution_count": 35,
     "metadata": {},
     "output_type": "execute_result"
    }
   ],
   "source": [
    "b = [-1, 2, 3];\n",
    "a = [-2, 3, -1, 1];\n",
    "Tb = toeplitz(b, length(a))"
   ]
  },
  {
   "cell_type": "code",
   "execution_count": 36,
   "metadata": {},
   "outputs": [
    {
     "data": {
      "text/plain": [
       "([2.0, -7.0, 1.0, 6.0, -1.0, 3.0], [2, -7, 1, 6, -1, 3])"
      ]
     },
     "execution_count": 36,
     "metadata": {},
     "output_type": "execute_result"
    }
   ],
   "source": [
    "Tb * a, conv(b, a)"
   ]
  },
  {
   "cell_type": "code",
   "execution_count": 37,
   "metadata": {},
   "outputs": [],
   "source": [
    "m = 2000;\n",
    "n = 2000;\n",
    "a = randn(m);\n",
    "b = randn(n); "
   ]
  },
  {
   "cell_type": "code",
   "execution_count": 38,
   "metadata": {},
   "outputs": [
    {
     "name": "stdout",
     "output_type": "stream",
     "text": [
      "  0.206110 seconds (71.20 k allocations: 64.652 MiB, 32.01% gc time)\n"
     ]
    }
   ],
   "source": [
    "@time ctoep = toeplitz(b, n) * a;"
   ]
  },
  {
   "cell_type": "code",
   "execution_count": 39,
   "metadata": {},
   "outputs": [
    {
     "name": "stdout",
     "output_type": "stream",
     "text": [
      "  0.211845 seconds (6.01 k allocations: 61.325 MiB, 63.60% gc time)\n"
     ]
    }
   ],
   "source": [
    "@time ctoep = toeplitz(b, n) * a;"
   ]
  },
  {
   "cell_type": "code",
   "execution_count": 40,
   "metadata": {},
   "outputs": [
    {
     "name": "stdout",
     "output_type": "stream",
     "text": [
      "  0.025972 seconds (165 allocations: 134.281 KiB)\n"
     ]
    }
   ],
   "source": [
    "@time cconv = conv(a, b);"
   ]
  },
  {
   "cell_type": "code",
   "execution_count": 41,
   "metadata": {},
   "outputs": [
    {
     "name": "stdout",
     "output_type": "stream",
     "text": [
      "  0.000733 seconds (149 allocations: 133.344 KiB)\n"
     ]
    }
   ],
   "source": [
    "@time cconv = conv(a, b);"
   ]
  },
  {
   "cell_type": "code",
   "execution_count": 42,
   "metadata": {},
   "outputs": [
    {
     "data": {
      "text/plain": [
       "1.5725546488654934e-12"
      ]
     },
     "execution_count": 42,
     "metadata": {},
     "output_type": "execute_result"
    }
   ],
   "source": [
    "norm(ctoep - cconv)"
   ]
  }
 ],
 "metadata": {
  "kernelspec": {
   "display_name": "Julia 1.0.2",
   "language": "julia",
   "name": "julia-1.0"
  },
  "language_info": {
   "file_extension": ".jl",
   "mimetype": "application/julia",
   "name": "julia",
   "version": "1.0.2"
  }
 },
 "nbformat": 4,
 "nbformat_minor": 2
}
