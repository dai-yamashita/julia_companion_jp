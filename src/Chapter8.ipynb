{
 "cells": [
  {
   "cell_type": "markdown",
   "metadata": {},
   "source": [
    "# Chapter 8 連立方程式\n",
    "\n",
    "## 8.1 線形関数とアフィン関数\n",
    "\n",
    "### 行列ベクトル積の関数\n",
    "\n",
    "行列ベクトル積の関数を定義し，重ね合わせの性質を数値的に確認してみよう．"
   ]
  },
  {
   "cell_type": "code",
   "execution_count": 1,
   "metadata": {},
   "outputs": [
    {
     "data": {
      "text/plain": [
       "2×3 Array{Float64,2}:\n",
       " -0.1   2.8  -1.6\n",
       "  2.3  -0.6  -3.6"
      ]
     },
     "execution_count": 1,
     "metadata": {},
     "output_type": "execute_result"
    }
   ],
   "source": [
    "A = [-0.1 2.8 -1.6; 2.3 -0.6 -3.6] # 2x3行列Aの定義"
   ]
  },
  {
   "cell_type": "code",
   "execution_count": 2,
   "metadata": {},
   "outputs": [
    {
     "data": {
      "text/plain": [
       "f (generic function with 1 method)"
      ]
     },
     "execution_count": 2,
     "metadata": {},
     "output_type": "execute_result"
    }
   ],
   "source": [
    "f(x) = A * x # 行列ベクトル積関数の定義"
   ]
  },
  {
   "cell_type": "code",
   "execution_count": 3,
   "metadata": {},
   "outputs": [],
   "source": [
    "# 線形性をチェック\n",
    "x = [1, 2, 3]; \n",
    "y = [-3, -1, 2];\n",
    "alpha = 0.5;\n",
    "beta = -1.6;"
   ]
  },
  {
   "cell_type": "code",
   "execution_count": 4,
   "metadata": {},
   "outputs": [
    {
     "data": {
      "text/plain": [
       "2-element Array{Float64,1}:\n",
       "  9.469999999999999\n",
       " 16.75             "
      ]
     },
     "execution_count": 4,
     "metadata": {},
     "output_type": "execute_result"
    }
   ],
   "source": [
    "lhs = f(alpha * x + beta * y)"
   ]
  },
  {
   "cell_type": "code",
   "execution_count": 5,
   "metadata": {},
   "outputs": [
    {
     "data": {
      "text/plain": [
       "2-element Array{Float64,1}:\n",
       "  9.47\n",
       " 16.75"
      ]
     },
     "execution_count": 5,
     "metadata": {},
     "output_type": "execute_result"
    }
   ],
   "source": [
    "rhs = alpha * f(x) + beta * f(y)"
   ]
  },
  {
   "cell_type": "code",
   "execution_count": 6,
   "metadata": {},
   "outputs": [],
   "source": [
    "using LinearAlgebra"
   ]
  },
  {
   "cell_type": "code",
   "execution_count": 7,
   "metadata": {},
   "outputs": [
    {
     "data": {
      "text/plain": [
       "1.7763568394002505e-15"
      ]
     },
     "execution_count": 7,
     "metadata": {},
     "output_type": "execute_result"
    }
   ],
   "source": [
    "norm(lhs - rhs)"
   ]
  },
  {
   "cell_type": "code",
   "execution_count": 8,
   "metadata": {},
   "outputs": [
    {
     "data": {
      "text/plain": [
       "2-element Array{Float64,1}:\n",
       "  2.8\n",
       " -0.6"
      ]
     },
     "execution_count": 8,
     "metadata": {},
     "output_type": "execute_result"
    }
   ],
   "source": [
    "f([0, 1, 0])  # Aの第2列のはず"
   ]
  },
  {
   "cell_type": "code",
   "execution_count": null,
   "metadata": {},
   "outputs": [],
   "source": [
    "### 平均除去行列\n",
    "\n",
    "平均除去行列を作り，ベクトルに適用してみよう．"
   ]
  },
  {
   "cell_type": "code",
   "execution_count": 9,
   "metadata": {},
   "outputs": [],
   "source": [
    "using VMLS"
   ]
  },
  {
   "cell_type": "code",
   "execution_count": 10,
   "metadata": {},
   "outputs": [
    {
     "data": {
      "text/plain": [
       "3-element Array{Float64,1}:\n",
       " -0.9666666666666666 \n",
       "  1.1333333333333335 \n",
       " -0.16666666666666652"
      ]
     },
     "execution_count": 10,
     "metadata": {},
     "output_type": "execute_result"
    }
   ],
   "source": [
    "de_mean(n) = eye(n) .- 1/n;  # 平均除去行列\n",
    "x = [0.2, 2.3, 1.0];\n",
    "de_mean(length(x)) * x  # 行列積で平均除去"
   ]
  },
  {
   "cell_type": "code",
   "execution_count": 11,
   "metadata": {},
   "outputs": [
    {
     "data": {
      "text/plain": [
       "3-element Array{Float64,1}:\n",
       " -0.9666666666666668 \n",
       "  1.133333333333333  \n",
       " -0.16666666666666674"
      ]
     },
     "execution_count": 11,
     "metadata": {},
     "output_type": "execute_result"
    }
   ],
   "source": [
    "x .- avg(x)  # 平均を引いて平均除去"
   ]
  },
  {
   "cell_type": "markdown",
   "metadata": {},
   "source": [
    "### 非線形関数の例\n",
    "\n",
    "要素毎の絶対値を取る関数やソート関数は非線形関数の例である．これらの関数は`abs`や`sort`で簡単に実現できる．デフォルトでは`sort`関数は昇順にソートするが，キーワード引数で変更できる．\n"
   ]
  },
  {
   "cell_type": "code",
   "execution_count": 12,
   "metadata": {},
   "outputs": [
    {
     "data": {
      "text/plain": [
       "f (generic function with 1 method)"
      ]
     },
     "execution_count": 12,
     "metadata": {},
     "output_type": "execute_result"
    }
   ],
   "source": [
    "f(x) = abs.(x)   # 要素毎の絶対値"
   ]
  },
  {
   "cell_type": "code",
   "execution_count": 13,
   "metadata": {},
   "outputs": [],
   "source": [
    "x = [1, 0]; \n",
    "y = [0, 1]; \n",
    "alpha = -1; \n",
    "beta = 2;"
   ]
  },
  {
   "cell_type": "code",
   "execution_count": 14,
   "metadata": {},
   "outputs": [
    {
     "data": {
      "text/plain": [
       "2-element Array{Int64,1}:\n",
       " 1\n",
       " 2"
      ]
     },
     "execution_count": 14,
     "metadata": {},
     "output_type": "execute_result"
    }
   ],
   "source": [
    "f(alpha * x + beta * y)"
   ]
  },
  {
   "cell_type": "code",
   "execution_count": 15,
   "metadata": {},
   "outputs": [
    {
     "data": {
      "text/plain": [
       "2-element Array{Int64,1}:\n",
       " -1\n",
       "  2"
      ]
     },
     "execution_count": 15,
     "metadata": {},
     "output_type": "execute_result"
    }
   ],
   "source": [
    "alpha * f(x) + beta * f(y)"
   ]
  },
  {
   "cell_type": "code",
   "execution_count": 16,
   "metadata": {},
   "outputs": [
    {
     "data": {
      "text/plain": [
       "f (generic function with 1 method)"
      ]
     },
     "execution_count": 16,
     "metadata": {},
     "output_type": "execute_result"
    }
   ],
   "source": [
    "f(x) = sort(x, rev = true)  # 降順にソート"
   ]
  },
  {
   "cell_type": "code",
   "execution_count": 17,
   "metadata": {},
   "outputs": [
    {
     "data": {
      "text/plain": [
       "2-element Array{Int64,1}:\n",
       "  2\n",
       " -1"
      ]
     },
     "execution_count": 17,
     "metadata": {},
     "output_type": "execute_result"
    }
   ],
   "source": [
    "f(alpha * x + beta * y)"
   ]
  },
  {
   "cell_type": "code",
   "execution_count": 18,
   "metadata": {},
   "outputs": [
    {
     "data": {
      "text/plain": [
       "2-element Array{Int64,1}:\n",
       " 1\n",
       " 0"
      ]
     },
     "execution_count": 18,
     "metadata": {},
     "output_type": "execute_result"
    }
   ],
   "source": [
    "alpha * f(x) + beta * f(y)"
   ]
  },
  {
   "cell_type": "markdown",
   "metadata": {},
   "source": [
    "## 8.2 線形関数モデル\n",
    "\n",
    "### 需要の価格弾力性\n",
    "\n",
    "価格弾力性行列を使って，3つのプロダクトの価格が少し変動した場合の需要を予測しよう．これで，ある製造コストのときの，総利益の変化を予測できる．\n"
   ]
  },
  {
   "cell_type": "code",
   "execution_count": 20,
   "metadata": {},
   "outputs": [],
   "source": [
    "p = [10, 20, 15]; # 現在の価格\n",
    "d = [5.6, 1.5, 8.6]; # 現在の需要（千単位）\n",
    "c = [6.5, 11.2, 9.8]; # 製造コスト"
   ]
  },
  {
   "cell_type": "code",
   "execution_count": 21,
   "metadata": {},
   "outputs": [
    {
     "data": {
      "text/plain": [
       "77.51999999999998"
      ]
     },
     "execution_count": 21,
     "metadata": {},
     "output_type": "execute_result"
    }
   ],
   "source": [
    "profit = (p - c)' * d # 現在の総利益"
   ]
  },
  {
   "cell_type": "code",
   "execution_count": 22,
   "metadata": {},
   "outputs": [
    {
     "data": {
      "text/plain": [
       "3×3 Array{Float64,2}:\n",
       " -0.3   0.1   -0.1 \n",
       "  0.1  -0.5    0.05\n",
       " -0.1   0.05  -0.4 "
      ]
     },
     "execution_count": 22,
     "metadata": {},
     "output_type": "execute_result"
    }
   ],
   "source": [
    "# 弾力性行列\n",
    "E = [-0.3 0.1 -0.1; 0.1 -0.5 0.05 ; -0.1 0.05 -0.4]"
   ]
  },
  {
   "cell_type": "code",
   "execution_count": 24,
   "metadata": {},
   "outputs": [],
   "source": [
    "p_new = [9, 21, 14];  # 新しい価格"
   ]
  },
  {
   "cell_type": "code",
   "execution_count": 25,
   "metadata": {},
   "outputs": [
    {
     "data": {
      "text/plain": [
       "3-element Array{Float64,1}:\n",
       " -0.1                \n",
       "  0.05               \n",
       " -0.06666666666666667"
      ]
     },
     "execution_count": 25,
     "metadata": {},
     "output_type": "execute_result"
    }
   ],
   "source": [
    "delta_p = (p_new - p) ./ p  # 価格の変化割合"
   ]
  },
  {
   "cell_type": "code",
   "execution_count": 26,
   "metadata": {},
   "outputs": [
    {
     "data": {
      "text/plain": [
       "3-element Array{Float64,1}:\n",
       "  0.04166666666666667\n",
       " -0.03833333333333334\n",
       "  0.03916666666666667"
      ]
     },
     "execution_count": 26,
     "metadata": {},
     "output_type": "execute_result"
    }
   ],
   "source": [
    "delta_d = E * delta_p  # 予測された需要の変化割合"
   ]
  },
  {
   "cell_type": "code",
   "execution_count": 27,
   "metadata": {},
   "outputs": [
    {
     "data": {
      "text/plain": [
       "3-element Array{Float64,1}:\n",
       " 5.833333333333333\n",
       " 1.4425           \n",
       " 8.936833333333333"
      ]
     },
     "execution_count": 27,
     "metadata": {},
     "output_type": "execute_result"
    }
   ],
   "source": [
    "d_new = d .* (1 .+ delta_d)  # 予測された新しい需要"
   ]
  },
  {
   "cell_type": "code",
   "execution_count": 28,
   "metadata": {},
   "outputs": [
    {
     "data": {
      "text/plain": [
       "66.25453333333333"
      ]
     },
     "execution_count": 28,
     "metadata": {},
     "output_type": "execute_result"
    }
   ],
   "source": [
    "profit_new = (p_new - c)' * d_new # 予測された新しい利益"
   ]
  },
  {
   "cell_type": "markdown",
   "metadata": {},
   "source": [
    "\n",
    "この価格弾力性の線形モデルを信用するなら，価格を変更しないほうがいい，という結果になった．\n",
    "\n",
    "\n",
    "### テーラー近似\n",
    "\n",
    "以下の非線形関数$f: \\boldsymbol{R}^2 \\to \\boldsymbol{R}^2$を考える．\n",
    "$$\n",
    "f(x) = \\begin{bmatrix}\n",
    "\\| x - a \\| \\\\\n",
    "\\| x - b \\| \n",
    "\\end{bmatrix} = \n",
    "\\begin{bmatrix}\n",
    "\\sqrt{(x_1 - a_1)^2 + (x_2 - a_2)^2} \\\\\n",
    "\\sqrt{(x_1 - b_1)^2 + (x_2 - b_2)^2} \n",
    "\\end{bmatrix}\n",
    "$$\n",
    "\n",
    "$f$の2つの要素は$x$から$a$と$b$までの距離である．この関数は$x=a$と$x=b$以外で微分可能である．$f$の導関数，つまりヤコビ行列は次式になる．\n",
    "$$\n",
    "D f(x) =\n",
    "\\begin{bmatrix}\n",
    "\\displaystyle\\frac{\\partial f_1}{\\partial x_1}(z) & \n",
    "\\displaystyle\\frac{\\partial f_1}{\\partial x_2}(z) \\\\\n",
    "\\displaystyle\\frac{\\partial f_2}{\\partial x_1}(z) & \n",
    "\\displaystyle\\frac{\\partial f_2}{\\partial x_2}(z)\n",
    "\\end{bmatrix} =\n",
    "\\begin{bmatrix}\n",
    "\\displaystyle\\frac{z_1 - a_1}{\\| z - a \\|} & \n",
    "\\displaystyle\\frac{z_2 - a_2}{\\| z - a \\|}\\\\\n",
    "\\displaystyle\\frac{z_1 - b_1}{\\| z - b \\|} & \n",
    "\\displaystyle\\frac{z_2 - b_2}{\\| z - b \\|}\n",
    "\\end{bmatrix}\n",
    "$$\n",
    "\n",
    "では$a, b, z$を与えて$f$をテーラー近似し，$z$周辺の点で真の$f$の値と比較してみよう．\n"
   ]
  },
  {
   "cell_type": "code",
   "execution_count": 29,
   "metadata": {},
   "outputs": [],
   "source": [
    "f(x) = [ norm(x - a), norm(x - b) ];\n",
    "Df(z) = [ (z - a)' / norm(z - a) ; (z - b)' / norm(z - b) ];\n",
    "f_hat(x) = f(z) + Df(z) * (x - z);\n",
    "a = [1, 0]; \n",
    "b = [1, 1];\n",
    "z = [0, 0];"
   ]
  },
  {
   "cell_type": "code",
   "execution_count": 30,
   "metadata": {},
   "outputs": [
    {
     "data": {
      "text/plain": [
       "2-element Array{Float64,1}:\n",
       " 0.9055385138137417\n",
       " 1.2727922061357855"
      ]
     },
     "execution_count": 30,
     "metadata": {},
     "output_type": "execute_result"
    }
   ],
   "source": [
    "f([0.1, 0.1])"
   ]
  },
  {
   "cell_type": "code",
   "execution_count": 31,
   "metadata": {},
   "outputs": [
    {
     "data": {
      "text/plain": [
       "2-element Array{Float64,1}:\n",
       " 0.9               \n",
       " 1.2727922061357857"
      ]
     },
     "execution_count": 31,
     "metadata": {},
     "output_type": "execute_result"
    }
   ],
   "source": [
    "f_hat([0.1, 0.1])"
   ]
  },
  {
   "cell_type": "code",
   "execution_count": 32,
   "metadata": {},
   "outputs": [
    {
     "data": {
      "text/plain": [
       "2-element Array{Float64,1}:\n",
       " 0.7071067811865476\n",
       " 0.7071067811865476"
      ]
     },
     "execution_count": 32,
     "metadata": {},
     "output_type": "execute_result"
    }
   ],
   "source": [
    "f([0.5, 0.5])"
   ]
  },
  {
   "cell_type": "code",
   "execution_count": 33,
   "metadata": {},
   "outputs": [
    {
     "data": {
      "text/plain": [
       "2-element Array{Float64,1}:\n",
       " 0.5               \n",
       " 0.7071067811865477"
      ]
     },
     "execution_count": 33,
     "metadata": {},
     "output_type": "execute_result"
    }
   ],
   "source": [
    "f_hat([0.5, 0.5])"
   ]
  },
  {
   "cell_type": "markdown",
   "metadata": {},
   "source": [
    "### 回帰モデル\n",
    "\n",
    "2.3節の家の売却価格データのための回帰モデル\n",
    "$$\n",
    "\\hat{y} = x^T \\beta + v = \\beta_1 x_1 + \\beta_2 x_2 + v\n",
    "$$\n",
    "をもう一度見てみよう．ここで$\\hat{y}$は予測された売却価格，$x_1$は1000平方フィート単位での家の面積，$x_2$はベッドルーム数である．\n",
    "\n",
    "以下のコードでは，$2 \\times 774$のデータ行列$X$，結果ベクトル$y^d$を作る．データセット中のサンプル数は$N=774$である．そして回帰モデルの予測$\\hat{y}^d$，予測誤差$r^d$，RMS予測誤差を計算する．"
   ]
  },
  {
   "cell_type": "code",
   "execution_count": 34,
   "metadata": {},
   "outputs": [],
   "source": [
    "# 回帰モデルのパラメータ\n",
    "beta = [148.73, -18.85]; \n",
    "v = 54.40;\n",
    "D = house_sales_data();\n",
    "yd = D[\"price\"]; # 結果ベクトル"
   ]
  },
  {
   "cell_type": "code",
   "execution_count": 35,
   "metadata": {},
   "outputs": [
    {
     "data": {
      "text/plain": [
       "774"
      ]
     },
     "execution_count": 35,
     "metadata": {},
     "output_type": "execute_result"
    }
   ],
   "source": [
    "N = length(yd)"
   ]
  },
  {
   "cell_type": "code",
   "execution_count": 36,
   "metadata": {},
   "outputs": [],
   "source": [
    "X = [ D[\"area\"] D[\"beds\"] ]';"
   ]
  },
  {
   "cell_type": "code",
   "execution_count": 37,
   "metadata": {},
   "outputs": [
    {
     "data": {
      "text/plain": [
       "(2, 774)"
      ]
     },
     "execution_count": 37,
     "metadata": {},
     "output_type": "execute_result"
    }
   ],
   "source": [
    "size(X)"
   ]
  },
  {
   "cell_type": "code",
   "execution_count": 38,
   "metadata": {},
   "outputs": [],
   "source": [
    "ydhat = X' * beta .+ v; # 予測結果ベクトル"
   ]
  },
  {
   "cell_type": "code",
   "execution_count": 39,
   "metadata": {},
   "outputs": [],
   "source": [
    "rd = yd - ydhat; # 予測誤差ベクトル"
   ]
  },
  {
   "cell_type": "code",
   "execution_count": 40,
   "metadata": {},
   "outputs": [
    {
     "data": {
      "text/plain": [
       "74.84571862623022"
      ]
     },
     "execution_count": 40,
     "metadata": {},
     "output_type": "execute_result"
    }
   ],
   "source": [
    "rms(rd) # RMS予測誤差"
   ]
  },
  {
   "cell_type": "code",
   "execution_count": 41,
   "metadata": {},
   "outputs": [
    {
     "data": {
      "text/plain": [
       "112.78216159756509"
      ]
     },
     "execution_count": 41,
     "metadata": {},
     "output_type": "execute_result"
    }
   ],
   "source": [
    "# 価格の標準偏差と比較\n",
    "stdev(yd)"
   ]
  },
  {
   "cell_type": "markdown",
   "metadata": {},
   "source": [
    "\n",
    "## 8.3 連立方程式\n",
    "\n",
    "### 化学反応のBalancing\n",
    "\n",
    "本書＊＊＊ページの化学平衡の方程式を\n",
    "水の電気分解という単純な例で検証してみる．\n"
   ]
  },
  {
   "cell_type": "code",
   "execution_count": 42,
   "metadata": {},
   "outputs": [
    {
     "data": {
      "text/plain": [
       "2-element Array{Int64,1}:\n",
       " 2\n",
       " 1"
      ]
     },
     "execution_count": 42,
     "metadata": {},
     "output_type": "execute_result"
    }
   ],
   "source": [
    "R = [2 ; 1]"
   ]
  },
  {
   "cell_type": "code",
   "execution_count": 43,
   "metadata": {},
   "outputs": [
    {
     "data": {
      "text/plain": [
       "2×2 Array{Int64,2}:\n",
       " 2  0\n",
       " 0  2"
      ]
     },
     "execution_count": 43,
     "metadata": {},
     "output_type": "execute_result"
    }
   ],
   "source": [
    "P = [2 0 ; 0 2]"
   ]
  },
  {
   "cell_type": "code",
   "execution_count": 44,
   "metadata": {},
   "outputs": [],
   "source": [
    "# 反応係数 [2,2,1]で確認\n",
    "coeff = [2, 2, 1];"
   ]
  },
  {
   "cell_type": "code",
   "execution_count": 46,
   "metadata": {},
   "outputs": [
    {
     "data": {
      "text/plain": [
       "2-element Array{Int64,1}:\n",
       " 0\n",
       " 0"
      ]
     },
     "execution_count": 46,
     "metadata": {},
     "output_type": "execute_result"
    }
   ],
   "source": [
    "[R -P] * coeff"
   ]
  }
 ],
 "metadata": {
  "kernelspec": {
   "display_name": "Julia 1.0.2",
   "language": "julia",
   "name": "julia-1.0"
  },
  "language_info": {
   "file_extension": ".jl",
   "mimetype": "application/julia",
   "name": "julia",
   "version": "1.0.2"
  }
 },
 "nbformat": 4,
 "nbformat_minor": 2
}
