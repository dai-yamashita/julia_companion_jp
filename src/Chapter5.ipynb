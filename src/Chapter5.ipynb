{
 "cells": [
  {
   "cell_type": "markdown",
   "metadata": {},
   "source": [
    "# Chapter 5 線形独立\n",
    "\n",
    "## 5.1 線形独立\n",
    "\n",
    "## 5.2 基底\n",
    "\n",
    "### キャッシュフローの複製\n",
    "\n",
    "3期間のキャッシュフローを3次元ベクトルとして考えよう．本書＊＊ページでは以下のベクトルで基底を構成した．\n",
    "$$\n",
    "e_1 = \n",
    "\\begin{bmatrix}\n",
    "1\\\\\n",
    "0\\\\\n",
    "0\n",
    "\\end{bmatrix},\n",
    "\\quad\n",
    "l_1 = \n",
    "\\begin{bmatrix}\n",
    "1\\\\\n",
    "-(1+r)\\\\\n",
    "0\n",
    "\\end{bmatrix},\n",
    "\\quad\n",
    "l_2 = \n",
    "\\begin{bmatrix}\n",
    "0\\\\\n",
    "1\\\\\n",
    "-(1+r)\n",
    "\\end{bmatrix}\n",
    "$$\n",
    "ここで$r$は（正の）期間毎の金利である．\n",
    "1つ目のベクトル$e_1$は期間$t=1$における1ドルの借り入れである．\n",
    "2つ目のベクトル$l_1$は期間$t=1$における1ドルのローンで，期間$t=2$において金利$r$で支払う．\n",
    "3つ目のベクトル$l_2$は期間$t=2$における1ドルのローンで，期間$t=3$において金利$r$で支払う．\n",
    "この基底を用いてキャッシュフロー$c=(1,2,-3)$を以下のように複製しよう．\n",
    "$$\n",
    "c = \\alpha_1 e_1 + \\alpha_2 l_1 + \\alpha_3 l_2 \n",
    "= \\alpha_1 \n",
    "\\begin{bmatrix}\n",
    "1\\\\\n",
    "0\\\\\n",
    "0\n",
    "\\end{bmatrix} + \n",
    "\\alpha_2 \n",
    "\\begin{bmatrix}\n",
    "1\\\\\n",
    "-(1+r)\\\\\n",
    "0\n",
    "\\end{bmatrix} + \n",
    "\\alpha_3 \n",
    "\\begin{bmatrix}\n",
    "0\\\\\n",
    "1\\\\\n",
    "-(1+r)\n",
    "\\end{bmatrix}\n",
    "$$\n",
    "\n",
    "第3項から$c_3 = \\alpha_3 (-(1+r))$となるので，$\\alpha_3 = -c_3 / (1+r)$である．\n",
    "第2項からは\n",
    "$$\n",
    "c_2 = \\alpha_2 (-(1+r)) + \\alpha_3 = \\alpha_2 (-(1+r)) -c_3 / (1+r)\n",
    "$$\n",
    "となるので，$\\alpha_2 = -c_2/(1+r) - c_3/(1+r)^2$である．\n",
    "最後に，$c_1 = \\alpha_1 + \\alpha_2$であるので，\n",
    "$$\n",
    "\\alpha_1 = c_1 + c_2/(1+r) + c_3/(1+r)^2\n",
    "$$\n",
    "となる．これはキャッシュフロー$c$の正味現在価値（NPV）である．\n",
    "\n",
    "これをJuliaで確認してみよう．期間毎の金利は5%，キャッシュフローは$c=(1,2,-3)$とする．"
   ]
  },
  {
   "cell_type": "code",
   "execution_count": 2,
   "metadata": {
    "ExecuteTime": {
     "end_time": "2019-09-18T10:59:27.163000+09:00",
     "start_time": "2019-09-18T01:58:25.406Z"
    }
   },
   "outputs": [
    {
     "data": {
      "text/plain": [
       "0.18367346938775508"
      ]
     },
     "execution_count": 2,
     "metadata": {},
     "output_type": "execute_result"
    }
   ],
   "source": [
    "r = 0.05;\n",
    "e1 = [1, 0, 0];\n",
    "l1 = [1, -(1 + r), 0];\n",
    "l2 = [0, 1, -(1 + r)];\n",
    "c = [1, 2, -3];\n",
    "# 展開係数\n",
    "alpha3 = -c[3] / (1 + r);\n",
    "alpha2 = -c[2] / (1 + r) - c[3] / (1 + r)^2;\n",
    "alpha1 = c[1] + c[2]/(1+r) + c[3]/(1+r)^2  # キャッシュフローのNPV"
   ]
  },
  {
   "cell_type": "code",
   "execution_count": 3,
   "metadata": {
    "ExecuteTime": {
     "end_time": "2019-09-18T10:59:27.239000+09:00",
     "start_time": "2019-09-18T01:58:25.413Z"
    }
   },
   "outputs": [
    {
     "data": {
      "text/plain": [
       "3-element Array{Float64,1}:\n",
       "  1.0\n",
       "  2.0\n",
       " -3.0"
      ]
     },
     "execution_count": 3,
     "metadata": {},
     "output_type": "execute_result"
    }
   ],
   "source": [
    "alpha1 * e1 + alpha2 * l1 + alpha3 * l2"
   ]
  },
  {
   "cell_type": "markdown",
   "metadata": {},
   "source": [
    "（後の章で，基底ベクトルの係数を自動的に求める簡単な方法を紹介する．）\n",
    "\n",
    "\n",
    "## 5.3 直交ベクトル\n",
    "\n",
    "### 正規直交基底による展開\n",
    "\n",
    "以下のベクトル\n",
    "$$\n",
    "a_1 = \n",
    "\\begin{bmatrix}\n",
    "\\phantom{-}0\\\\\n",
    "\\phantom{-}0\\\\\n",
    "-1\n",
    "\\end{bmatrix},\n",
    "\\quad\n",
    "a_2 = \n",
    "\\frac{1}{\\sqrt{2}}\n",
    "\\begin{bmatrix}\n",
    "1\\\\\n",
    "1\\\\\n",
    "0\n",
    "\\end{bmatrix},\n",
    "\\quad\n",
    "a_3 = \n",
    "\\frac{1}{\\sqrt{2}}\n",
    "\\begin{bmatrix}\n",
    "\\phantom{-}1\\\\\n",
    "-1\\\\\n",
    "\\phantom{-}0\n",
    "\\end{bmatrix}\n",
    "$$\n",
    "が正規直交基底となることを確認しよう．またベクトル$x=(1,2,3)$のこの基底による展開\n",
    "$$\n",
    "x = (a_1^T x) a_1 + \\cdots + (a_n^T x) a_n\n",
    "$$\n",
    "も確認しよう．"
   ]
  },
  {
   "cell_type": "code",
   "execution_count": 5,
   "metadata": {
    "ExecuteTime": {
     "end_time": "2019-09-18T10:59:27.282000+09:00",
     "start_time": "2019-09-18T01:58:25.417Z"
    }
   },
   "outputs": [],
   "source": [
    "a1 = [0, 0, -1];\n",
    "a2 = [1, 1, 0] / sqrt(2);\n",
    "a3 = [1, -1, 0] / sqrt(2);"
   ]
  },
  {
   "cell_type": "code",
   "execution_count": 6,
   "metadata": {},
   "outputs": [],
   "source": [
    "using LinearAlgebra"
   ]
  },
  {
   "cell_type": "code",
   "execution_count": 7,
   "metadata": {
    "ExecuteTime": {
     "end_time": "2019-09-18T10:59:27.283000+09:00",
     "start_time": "2019-09-18T01:58:25.421Z"
    }
   },
   "outputs": [
    {
     "data": {
      "text/plain": [
       "(1.0, 0.9999999999999999, 0.9999999999999999)"
      ]
     },
     "execution_count": 7,
     "metadata": {},
     "output_type": "execute_result"
    }
   ],
   "source": [
    "norm(a1), norm(a2), norm(a3)"
   ]
  },
  {
   "cell_type": "code",
   "execution_count": 8,
   "metadata": {
    "ExecuteTime": {
     "end_time": "2019-09-18T10:59:27.284000+09:00",
     "start_time": "2019-09-18T01:58:25.425Z"
    }
   },
   "outputs": [
    {
     "data": {
      "text/plain": [
       "(0.0, 0.0, 0.0)"
      ]
     },
     "execution_count": 8,
     "metadata": {},
     "output_type": "execute_result"
    }
   ],
   "source": [
    "a1' * a2, a1' * a3, a2' * a3"
   ]
  },
  {
   "cell_type": "code",
   "execution_count": 9,
   "metadata": {
    "ExecuteTime": {
     "end_time": "2019-09-18T10:59:27.285000+09:00",
     "start_time": "2019-09-18T01:58:25.429Z"
    }
   },
   "outputs": [
    {
     "data": {
      "text/plain": [
       "3-element Array{Int64,1}:\n",
       " 1\n",
       " 2\n",
       " 3"
      ]
     },
     "execution_count": 9,
     "metadata": {},
     "output_type": "execute_result"
    }
   ],
   "source": [
    "x = [1, 2, 3]"
   ]
  },
  {
   "cell_type": "code",
   "execution_count": 10,
   "metadata": {
    "ExecuteTime": {
     "end_time": "2019-09-18T10:59:27.394000+09:00",
     "start_time": "2019-09-18T01:58:25.432Z"
    }
   },
   "outputs": [
    {
     "data": {
      "text/plain": [
       "3-element Array{Float64,1}:\n",
       " 0.9999999999999999\n",
       " 1.9999999999999996\n",
       " 3.0               "
      ]
     },
     "execution_count": 10,
     "metadata": {},
     "output_type": "execute_result"
    }
   ],
   "source": [
    "# 直交基底でのxの係数を求める\n",
    "beta1 = a1' * x; \n",
    "beta2 = a2' * x; \n",
    "beta3 = a3' * x;\n",
    "# xの基底での展開\n",
    "xexp = beta1 * a1 + beta2 * a2 + beta3 * a3"
   ]
  },
  {
   "cell_type": "markdown",
   "metadata": {},
   "source": [
    "## 5.4 グラム＝シュミット直交化\n",
    "\n",
    "本書アルゴリズム5.1（グラム＝シュミットの直交化）をJuliaで実装しよう．引数として$k$個のベクトル$a_1, \\ldots, a_k$からなる配列`[ a[1], a[2], ..., a[k] ]`をとる．これらのベクトルが線形独立であれば，グラム＝シュミット直交化で得られた正規直交ベクトル集合が配列`[ q[1], ..., q[k] ]`として返される．もしこれらのベクトルが線形従属であれば，グラム＝シュミット直交化は$i$回目の反復で終了し，長さ$i$の配列`[ q[1], ..., q[i] ]`を返す．"
   ]
  },
  {
   "cell_type": "code",
   "execution_count": 11,
   "metadata": {
    "ExecuteTime": {
     "end_time": "2019-09-18T10:59:27.477000+09:00",
     "start_time": "2019-09-18T01:58:25.437Z"
    }
   },
   "outputs": [
    {
     "data": {
      "text/plain": [
       "gram_schmidt (generic function with 1 method)"
      ]
     },
     "execution_count": 11,
     "metadata": {},
     "output_type": "execute_result"
    }
   ],
   "source": [
    "function gram_schmidt(a; tol = 1e-10)\n",
    "    \n",
    "q = []\n",
    "for i = 1:length(a)\n",
    "    qtilde = a[i]\n",
    "    for j = 1:i-1\n",
    "        qtilde -= (q[j]' * a[i]) * q[j]\n",
    "    end\n",
    "    if norm(qtilde) < tol\n",
    "       println(\"Vectors are linearly dependent.\")  # ベクトルは線形従属\n",
    "       return q\n",
    "    end\n",
    "    push!(q, qtilde / norm(qtilde))\n",
    "end;\n",
    "return q\n",
    "end"
   ]
  },
  {
   "cell_type": "markdown",
   "metadata": {},
   "source": [
    "3行目では出力用配列を空配列で初期化している．各反復では`push!`関数で次のベクトルを配列に追加している（13行目）．\n",
    "\n",
    "### 例\n",
    "\n",
    "本書＊＊＊ページの例題にこの関数を適用してみる．"
   ]
  },
  {
   "cell_type": "code",
   "execution_count": 12,
   "metadata": {
    "ExecuteTime": {
     "end_time": "2019-09-18T10:59:27.479000+09:00",
     "start_time": "2019-09-18T01:58:25.444Z"
    }
   },
   "outputs": [
    {
     "data": {
      "text/plain": [
       "3-element Array{Array{Int64,1},1}:\n",
       " [-1, 1, -1, 1]\n",
       " [-1, 3, -1, 3]\n",
       " [1, 3, 5, 7]  "
      ]
     },
     "execution_count": 12,
     "metadata": {},
     "output_type": "execute_result"
    }
   ],
   "source": [
    "a = [ [-1, 1, -1, 1], [-1, 3, -1, 3], [1, 3, 5, 7] ]"
   ]
  },
  {
   "cell_type": "code",
   "execution_count": 13,
   "metadata": {
    "ExecuteTime": {
     "end_time": "2019-09-18T10:59:28.196000+09:00",
     "start_time": "2019-09-18T01:58:25.448Z"
    }
   },
   "outputs": [
    {
     "data": {
      "text/plain": [
       "3-element Array{Any,1}:\n",
       " [-0.5, 0.5, -0.5, 0.5]\n",
       " [0.5, 0.5, 0.5, 0.5]  \n",
       " [-0.5, -0.5, 0.5, 0.5]"
      ]
     },
     "execution_count": 13,
     "metadata": {},
     "output_type": "execute_result"
    }
   ],
   "source": [
    "q = gram_schmidt(a)"
   ]
  },
  {
   "cell_type": "code",
   "execution_count": 16,
   "metadata": {
    "ExecuteTime": {
     "end_time": "2019-09-18T10:59:28.197000+09:00",
     "start_time": "2019-09-18T01:58:25.455Z"
    }
   },
   "outputs": [
    {
     "data": {
      "text/plain": [
       "1.0"
      ]
     },
     "execution_count": 16,
     "metadata": {},
     "output_type": "execute_result"
    }
   ],
   "source": [
    "# 正規直交性の確認\n",
    "norm(q[1])"
   ]
  },
  {
   "cell_type": "code",
   "execution_count": 17,
   "metadata": {
    "ExecuteTime": {
     "end_time": "2019-09-18T10:59:28.198000+09:00",
     "start_time": "2019-09-18T01:58:25.459Z"
    }
   },
   "outputs": [
    {
     "data": {
      "text/plain": [
       "0.0"
      ]
     },
     "execution_count": 17,
     "metadata": {},
     "output_type": "execute_result"
    }
   ],
   "source": [
    "q[1]' * q[2]"
   ]
  },
  {
   "cell_type": "code",
   "execution_count": 18,
   "metadata": {
    "ExecuteTime": {
     "end_time": "2019-09-18T10:59:28.199000+09:00",
     "start_time": "2019-09-18T01:58:25.463Z"
    }
   },
   "outputs": [
    {
     "data": {
      "text/plain": [
       "0.0"
      ]
     },
     "execution_count": 18,
     "metadata": {},
     "output_type": "execute_result"
    }
   ],
   "source": [
    "q[1]' * q[3]"
   ]
  },
  {
   "cell_type": "code",
   "execution_count": 19,
   "metadata": {
    "ExecuteTime": {
     "end_time": "2019-09-18T10:59:28.200000+09:00",
     "start_time": "2019-09-18T01:58:25.466Z"
    }
   },
   "outputs": [
    {
     "data": {
      "text/plain": [
       "1.0"
      ]
     },
     "execution_count": 19,
     "metadata": {},
     "output_type": "execute_result"
    }
   ],
   "source": [
    "norm(q[2])"
   ]
  },
  {
   "cell_type": "code",
   "execution_count": 20,
   "metadata": {
    "ExecuteTime": {
     "end_time": "2019-09-18T10:59:28.201000+09:00",
     "start_time": "2019-09-18T01:58:25.470Z"
    }
   },
   "outputs": [
    {
     "data": {
      "text/plain": [
       "0.0"
      ]
     },
     "execution_count": 20,
     "metadata": {},
     "output_type": "execute_result"
    }
   ],
   "source": [
    "q[2]' * q[3]"
   ]
  },
  {
   "cell_type": "code",
   "execution_count": 21,
   "metadata": {
    "ExecuteTime": {
     "end_time": "2019-09-18T10:59:28.202000+09:00",
     "start_time": "2019-09-18T01:58:25.474Z"
    }
   },
   "outputs": [
    {
     "data": {
      "text/plain": [
       "1.0"
      ]
     },
     "execution_count": 21,
     "metadata": {},
     "output_type": "execute_result"
    }
   ],
   "source": [
    "norm(q[3])"
   ]
  },
  {
   "cell_type": "markdown",
   "metadata": {},
   "source": [
    "### 途中終了の例\n",
    "\n",
    "ここで$a_3$を$a_1$と$a_2$の線形結合で置き換えると，入力するベクトル集合は線形従属になる．"
   ]
  },
  {
   "cell_type": "code",
   "execution_count": 22,
   "metadata": {
    "ExecuteTime": {
     "end_time": "2019-09-18T10:59:28.616000+09:00",
     "start_time": "2019-09-18T01:58:25.478Z"
    }
   },
   "outputs": [
    {
     "data": {
      "text/plain": [
       "3-element Array{Array{Float64,1},1}:\n",
       " [-1.0, 1.0, -1.0, 1.0]\n",
       " [-1.0, 3.0, -1.0, 3.0]\n",
       " [-1.8, 2.8, -1.8, 2.8]"
      ]
     },
     "execution_count": 22,
     "metadata": {},
     "output_type": "execute_result"
    }
   ],
   "source": [
    "b = [ a[1], a[2], 1.3 * a[1] + 0.5 * a[2] ]"
   ]
  },
  {
   "cell_type": "code",
   "execution_count": 23,
   "metadata": {
    "ExecuteTime": {
     "end_time": "2019-09-18T10:59:28.647000+09:00",
     "start_time": "2019-09-18T01:58:25.482Z"
    }
   },
   "outputs": [
    {
     "name": "stdout",
     "output_type": "stream",
     "text": [
      "Vectors are linearly dependent.\n"
     ]
    },
    {
     "data": {
      "text/plain": [
       "2-element Array{Any,1}:\n",
       " [-0.5, 0.5, -0.5, 0.5]\n",
       " [0.5, 0.5, 0.5, 0.5]  "
      ]
     },
     "execution_count": 23,
     "metadata": {},
     "output_type": "execute_result"
    }
   ],
   "source": [
    "q = gram_schmidt(b)"
   ]
  },
  {
   "cell_type": "markdown",
   "metadata": {},
   "source": [
    "### 線型独立と次元の不等式の例\n",
    "\n",
    "任意の3つの2次元ベクトルは線形従属である．グラム＝シュミット直交化を使って，これを確認しよう．"
   ]
  },
  {
   "cell_type": "code",
   "execution_count": 24,
   "metadata": {
    "ExecuteTime": {
     "end_time": "2019-09-18T10:59:28.648000+09:00",
     "start_time": "2019-09-18T01:58:25.487Z"
    },
    "scrolled": true
   },
   "outputs": [
    {
     "name": "stdout",
     "output_type": "stream",
     "text": [
      "Vectors are linearly dependent.\n"
     ]
    },
    {
     "data": {
      "text/plain": [
       "2-element Array{Any,1}:\n",
       " [0.707107, 0.707107] \n",
       " [-0.707107, 0.707107]"
      ]
     },
     "execution_count": 24,
     "metadata": {},
     "output_type": "execute_result"
    }
   ],
   "source": [
    "three_two_vectors = [ [1,1], [1,2], [-1,1] ];\n",
    "q = gram_schmidt(three_two_vectors)"
   ]
  },
  {
   "cell_type": "code",
   "execution_count": null,
   "metadata": {},
   "outputs": [],
   "source": []
  }
 ],
 "metadata": {
  "kernelspec": {
   "display_name": "Julia 1.0.2",
   "language": "julia",
   "name": "julia-1.0"
  },
  "language_info": {
   "file_extension": ".jl",
   "mimetype": "application/julia",
   "name": "julia",
   "version": "1.0.2"
  },
  "toc": {
   "base_numbering": 1,
   "nav_menu": {
    "height": "512px",
    "width": "252px"
   },
   "number_sections": true,
   "sideBar": true,
   "skip_h1_title": false,
   "title_cell": "Table of Contents",
   "title_sidebar": "Contents",
   "toc_cell": false,
   "toc_position": {},
   "toc_section_display": "block",
   "toc_window_display": false
  }
 },
 "nbformat": 4,
 "nbformat_minor": 2
}
