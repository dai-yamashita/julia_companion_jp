{
 "cells": [
  {
   "cell_type": "markdown",
   "metadata": {},
   "source": [
    "# Chapter 6 行列\n",
    "\n",
    "## 6.1 行列\n",
    "\n",
    "### 要素から行列を生成する\n",
    "\n",
    "Juliaでは行列を2次元配列で表現する．そのためには，各行の要素を空白で区切り，各行はセミコロンで区切って，最後に`[]`で全体を囲む．例えば$3\\times 4$行列\n",
    "$$\n",
    "A = \n",
    "\\begin{bmatrix}\n",
    "0 & 1 & -2.3 & 0.1\\\\\n",
    "1.3 & 4 & -0.1 & 0\\\\\n",
    "4.1 & -1 & 0 & 1.7\n",
    "\\end{bmatrix}\n",
    "$$\n",
    "はJuliaでは以下のようになる．"
   ]
  },
  {
   "cell_type": "code",
   "execution_count": 1,
   "metadata": {
    "ExecuteTime": {
     "end_time": "2019-09-18T10:59:29.266000+09:00",
     "start_time": "2019-09-18T01:58:25.496Z"
    }
   },
   "outputs": [
    {
     "data": {
      "text/plain": [
       "3×4 Array{Float64,2}:\n",
       " 0.0   1.0  -2.3  0.1\n",
       " 1.3   4.0  -0.1  0.0\n",
       " 4.1  -1.0   0.0  1.7"
      ]
     },
     "execution_count": 1,
     "metadata": {},
     "output_type": "execute_result"
    }
   ],
   "source": [
    "A = [0.0  1.0 -2.3  0.1;\n",
    "     1.3  4.0 -0.1  0.0;\n",
    "     4.1 -1.0 0.0 1.7]"
   ]
  },
  {
   "cell_type": "markdown",
   "metadata": {},
   "source": [
    "（ここで`Array{Float64,2}`という表示は，配列が2次元でその要素は64ビット浮動小数点数であることを意味している）．上の例では，行列の各行を改行して入力したので，コードが読みやすくなっている．しかし改行する必要はなく以下のコードも全く同じである．"
   ]
  },
  {
   "cell_type": "code",
   "execution_count": 2,
   "metadata": {
    "ExecuteTime": {
     "end_time": "2019-09-18T10:59:29.331000+09:00",
     "start_time": "2019-09-18T01:58:25.504Z"
    }
   },
   "outputs": [
    {
     "data": {
      "text/plain": [
       "3×4 Array{Float64,2}:\n",
       " 0.0   1.0  -2.3  0.1\n",
       " 1.3   4.0  -0.1  0.0\n",
       " 4.1  -1.0   0.0  1.7"
      ]
     },
     "execution_count": 2,
     "metadata": {},
     "output_type": "execute_result"
    }
   ],
   "source": [
    "A = [0 1 -2.3 0.1; 1.3 4 -0.1 0; 4.1 -1 0 1.7]"
   ]
  },
  {
   "cell_type": "markdown",
   "metadata": {},
   "source": [
    "Juliaの関数`size(A)`はサイズをタプルで返す．また`size(A,1)`や`size(A,2)`とすると，行や列の数が得られる．例えば行列が縦長かどうかを判定する関数を作ってみよう．"
   ]
  },
  {
   "cell_type": "code",
   "execution_count": 3,
   "metadata": {
    "ExecuteTime": {
     "end_time": "2019-09-18T10:59:29.359000+09:00",
     "start_time": "2019-09-18T01:58:25.508Z"
    }
   },
   "outputs": [
    {
     "data": {
      "text/plain": [
       "(3, 4)"
      ]
     },
     "execution_count": 3,
     "metadata": {},
     "output_type": "execute_result"
    }
   ],
   "source": [
    "m, n = size(A)"
   ]
  },
  {
   "cell_type": "code",
   "execution_count": 4,
   "metadata": {
    "ExecuteTime": {
     "end_time": "2019-09-18T10:59:29.360000+09:00",
     "start_time": "2019-09-18T01:58:25.512Z"
    }
   },
   "outputs": [
    {
     "data": {
      "text/plain": [
       "3"
      ]
     },
     "execution_count": 4,
     "metadata": {},
     "output_type": "execute_result"
    }
   ],
   "source": [
    "m"
   ]
  },
  {
   "cell_type": "code",
   "execution_count": 5,
   "metadata": {
    "ExecuteTime": {
     "end_time": "2019-09-18T10:59:29.360000+09:00",
     "start_time": "2019-09-18T01:58:25.515Z"
    }
   },
   "outputs": [
    {
     "data": {
      "text/plain": [
       "4"
      ]
     },
     "execution_count": 5,
     "metadata": {},
     "output_type": "execute_result"
    }
   ],
   "source": [
    "n"
   ]
  },
  {
   "cell_type": "code",
   "execution_count": 6,
   "metadata": {
    "ExecuteTime": {
     "end_time": "2019-09-18T10:59:29.364000+09:00",
     "start_time": "2019-09-18T01:58:25.519Z"
    }
   },
   "outputs": [
    {
     "data": {
      "text/plain": [
       "3"
      ]
     },
     "execution_count": 6,
     "metadata": {},
     "output_type": "execute_result"
    }
   ],
   "source": [
    "size(A,1)"
   ]
  },
  {
   "cell_type": "code",
   "execution_count": 7,
   "metadata": {
    "ExecuteTime": {
     "end_time": "2019-09-18T10:59:29.365000+09:00",
     "start_time": "2019-09-18T01:58:25.523Z"
    }
   },
   "outputs": [
    {
     "data": {
      "text/plain": [
       "4"
      ]
     },
     "execution_count": 7,
     "metadata": {},
     "output_type": "execute_result"
    }
   ],
   "source": [
    "size(A,2)"
   ]
  },
  {
   "cell_type": "code",
   "execution_count": 8,
   "metadata": {
    "ExecuteTime": {
     "end_time": "2019-09-18T10:59:29.365000+09:00",
     "start_time": "2019-09-18T01:58:25.526Z"
    }
   },
   "outputs": [],
   "source": [
    "tall(X) = size(X,1) > size(X,2);"
   ]
  },
  {
   "cell_type": "code",
   "execution_count": 9,
   "metadata": {
    "ExecuteTime": {
     "end_time": "2019-09-18T10:59:29.369000+09:00",
     "start_time": "2019-09-18T01:58:25.530Z"
    }
   },
   "outputs": [
    {
     "data": {
      "text/plain": [
       "false"
      ]
     },
     "execution_count": 9,
     "metadata": {},
     "output_type": "execute_result"
    }
   ],
   "source": [
    "tall(A)"
   ]
  },
  {
   "cell_type": "markdown",
   "metadata": {},
   "source": [
    "この関数は，行数と列数を関係演算子`<`で比較し，真偽値を返す．\n",
    "\n",
    "\n",
    "### インデキシング\n",
    "\n",
    "行列`A`の$i,j$要素にアクセスするには`A[i,j]`とする．これを使って要素に新しい値を代入することもできる．"
   ]
  },
  {
   "cell_type": "code",
   "execution_count": 10,
   "metadata": {
    "ExecuteTime": {
     "end_time": "2019-09-18T10:59:29.373000+09:00",
     "start_time": "2019-09-18T01:58:25.534Z"
    }
   },
   "outputs": [
    {
     "data": {
      "text/plain": [
       "-0.1"
      ]
     },
     "execution_count": 10,
     "metadata": {},
     "output_type": "execute_result"
    }
   ],
   "source": [
    "A[2, 3] # Aの2,3要素にアクセス"
   ]
  },
  {
   "cell_type": "code",
   "execution_count": 11,
   "metadata": {
    "ExecuteTime": {
     "end_time": "2019-09-18T10:59:29.377000+09:00",
     "start_time": "2019-09-18T01:58:25.538Z"
    }
   },
   "outputs": [],
   "source": [
    "A[1, 3] = 7.5; # Aの1,3要素に7.5を代入"
   ]
  },
  {
   "cell_type": "code",
   "execution_count": 12,
   "metadata": {
    "ExecuteTime": {
     "end_time": "2019-09-18T10:59:29.378000+09:00",
     "start_time": "2019-09-18T01:58:25.541Z"
    }
   },
   "outputs": [
    {
     "data": {
      "text/plain": [
       "3×4 Array{Float64,2}:\n",
       " 0.0   1.0   7.5  0.1\n",
       " 1.3   4.0  -0.1  0.0\n",
       " 4.1  -1.0   0.0  1.7"
      ]
     },
     "execution_count": 12,
     "metadata": {},
     "output_type": "execute_result"
    }
   ],
   "source": [
    "A"
   ]
  },
  {
   "cell_type": "markdown",
   "metadata": {},
   "source": [
    "### 単一インデックス指定\n",
    "\n",
    "Juliaでは行列の要素にアクセスするときに，インデックスを1つだけ指定する方法もある．この方法を使う時には，Juliaでは列優先で行列が（メモリ上に）格納されていることを知っておく必要がある．つまり行列は，最初の列から順に列がスタックされた1次元配列とみなすことができるのである．例えば，次の行列\n",
    "$$\n",
    "Z = \n",
    "\\begin{bmatrix}\n",
    "-1 & 0 & 2\\\\\n",
    "-1 & 2 & 3\n",
    "\\end{bmatrix}\n",
    "$$\n",
    "は，\n",
    "$$\n",
    "-1, -1, 0, 2, 2, 3\n",
    "$$\n",
    "の順番で格納されている．\n",
    "\n",
    "ここで`Z[5]`のようにインデックスを1つだけ指定すると，この順番において5番目の要素が取り出されることになる．"
   ]
  },
  {
   "cell_type": "code",
   "execution_count": 14,
   "metadata": {
    "ExecuteTime": {
     "end_time": "2019-09-18T10:59:29.397000+09:00",
     "start_time": "2019-09-18T01:58:25.545Z"
    }
   },
   "outputs": [
    {
     "data": {
      "text/plain": [
       "2"
      ]
     },
     "execution_count": 14,
     "metadata": {},
     "output_type": "execute_result"
    }
   ],
   "source": [
    "Z = [ -1 0 2; -1 2 -3];\n",
    "Z[5]"
   ]
  },
  {
   "cell_type": "markdown",
   "metadata": {},
   "source": [
    "この記法は一般的な数学的記法ではないため，本書では使わない（Juliaを使うときに便利な場合もある）．\n",
    "\n",
    "### 行列の等値性\n",
    "\n",
    "`A == B`は，行列`A`と`B`が等しいかどうかを評価する．式`A .== B`は，`A`と`B`の対応する要素が等しいかどうかを表す真偽値からなる行列を生成する．式`sum(A .== B)`は，`A`と`B`で等しい要素の個数を返す．"
   ]
  },
  {
   "cell_type": "code",
   "execution_count": 15,
   "metadata": {
    "ExecuteTime": {
     "end_time": "2019-09-18T10:59:29.402000+09:00",
     "start_time": "2019-09-18T01:58:25.554Z"
    }
   },
   "outputs": [
    {
     "data": {
      "text/plain": [
       "false"
      ]
     },
     "execution_count": 15,
     "metadata": {},
     "output_type": "execute_result"
    }
   ],
   "source": [
    "B = copy(A);\n",
    "B[2, 2] = 0;\n",
    "A == B"
   ]
  },
  {
   "cell_type": "code",
   "execution_count": 16,
   "metadata": {
    "ExecuteTime": {
     "end_time": "2019-09-18T10:59:30.166000+09:00",
     "start_time": "2019-09-18T01:58:25.565Z"
    }
   },
   "outputs": [
    {
     "data": {
      "text/plain": [
       "3×4 BitArray{2}:\n",
       " true   true  true  true\n",
       " true  false  true  true\n",
       " true   true  true  true"
      ]
     },
     "execution_count": 16,
     "metadata": {},
     "output_type": "execute_result"
    }
   ],
   "source": [
    "A .== B"
   ]
  },
  {
   "cell_type": "code",
   "execution_count": 17,
   "metadata": {
    "ExecuteTime": {
     "end_time": "2019-09-18T10:59:30.174000+09:00",
     "start_time": "2019-09-18T01:58:25.568Z"
    }
   },
   "outputs": [
    {
     "data": {
      "text/plain": [
       "11"
      ]
     },
     "execution_count": 17,
     "metadata": {},
     "output_type": "execute_result"
    }
   ],
   "source": [
    "sum(A .== B)"
   ]
  },
  {
   "cell_type": "markdown",
   "metadata": {},
   "source": [
    "### 行ベクトルと列ベクトル\n",
    "\n",
    "本書と同様にJuliaでは，$n$次元ベクトルは$n \\times 1$行列と同じものである．"
   ]
  },
  {
   "cell_type": "code",
   "execution_count": 18,
   "metadata": {
    "ExecuteTime": {
     "end_time": "2019-09-18T10:59:30.192000+09:00",
     "start_time": "2019-09-18T01:58:25.573Z"
    }
   },
   "outputs": [
    {
     "data": {
      "text/plain": [
       "1×3 Array{Float64,2}:\n",
       " -2.1  -3.0  0.0"
      ]
     },
     "execution_count": 18,
     "metadata": {},
     "output_type": "execute_result"
    }
   ],
   "source": [
    "a = [ -2.1 -3 0 ]  # 3次元の行ベクトル，1x3行列"
   ]
  },
  {
   "cell_type": "code",
   "execution_count": 19,
   "metadata": {
    "ExecuteTime": {
     "end_time": "2019-09-18T10:59:30.206000+09:00",
     "start_time": "2019-09-18T01:58:25.577Z"
    }
   },
   "outputs": [
    {
     "data": {
      "text/plain": [
       "3-element Array{Float64,1}:\n",
       " -2.1\n",
       " -3.0\n",
       "  0.0"
      ]
     },
     "execution_count": 19,
     "metadata": {},
     "output_type": "execute_result"
    }
   ],
   "source": [
    "b = [ -2.1; -3; 0 ]  # 3次元ベクトル，3x1行列"
   ]
  },
  {
   "cell_type": "markdown",
   "metadata": {},
   "source": [
    "出力を見れば多少違いがあることが分かるが，通常は無視しても構わないものである．`b`の型は`Array{Float64,1}`となっていて，`1`はこれが1次元ベクトルであることを意味している．`size(b)`とすると`(3,)`が出力されるが，これは`(3,1)`と同じと考えてよい．つまりJuliaでは，$n \\times 1$行列は$n$次元ベクトルと同じである．$n$次元ベクトルは$n \\times 1$行列と同じと言った理由はこれである．\n",
    "\n",
    "### スライシングと部分行列\n",
    "\n",
    "部分行列を取り出すにはコロン`:`を使う．"
   ]
  },
  {
   "cell_type": "code",
   "execution_count": 20,
   "metadata": {
    "ExecuteTime": {
     "end_time": "2019-09-18T10:59:30.587000+09:00",
     "start_time": "2019-09-18T01:58:25.581Z"
    }
   },
   "outputs": [
    {
     "data": {
      "text/plain": [
       "3×4 Array{Int64,2}:\n",
       " -1   0   1  0\n",
       "  2  -3   0  1\n",
       "  0   4  -2  1"
      ]
     },
     "execution_count": 20,
     "metadata": {},
     "output_type": "execute_result"
    }
   ],
   "source": [
    "A = [ -1 0 1 0 ; 2 -3 0 1 ; 0 4 -2 1]"
   ]
  },
  {
   "cell_type": "code",
   "execution_count": 21,
   "metadata": {
    "ExecuteTime": {
     "end_time": "2019-09-18T10:59:30.622000+09:00",
     "start_time": "2019-09-18T01:58:25.584Z"
    }
   },
   "outputs": [
    {
     "data": {
      "text/plain": [
       "2×2 Array{Int64,2}:\n",
       " 1  0\n",
       " 0  1"
      ]
     },
     "execution_count": 21,
     "metadata": {},
     "output_type": "execute_result"
    }
   ],
   "source": [
    "A[1:2, 3:4]"
   ]
  },
  {
   "cell_type": "markdown",
   "metadata": {},
   "source": [
    "これは本書で用いている数学的な記法$A_{1:2, 3:4}$とほぼ同じである．またスライシング（範囲指定）を使って，部分行列を代入することもできる．\n",
    "\n",
    "インデックスの範囲指定`:`は非常に便利である．これは，そのインデックスのすべての範囲を指定する．これを使えば，行列の行や列を抜き出すことができる．"
   ]
  },
  {
   "cell_type": "code",
   "execution_count": 22,
   "metadata": {
    "ExecuteTime": {
     "end_time": "2019-09-18T10:59:30.631000+09:00",
     "start_time": "2019-09-18T01:58:25.589Z"
    }
   },
   "outputs": [
    {
     "data": {
      "text/plain": [
       "3-element Array{Int64,1}:\n",
       "  1\n",
       "  0\n",
       " -2"
      ]
     },
     "execution_count": 22,
     "metadata": {},
     "output_type": "execute_result"
    }
   ],
   "source": [
    "A[:, 3]  # Aの第3列"
   ]
  },
  {
   "cell_type": "code",
   "execution_count": 23,
   "metadata": {
    "ExecuteTime": {
     "end_time": "2019-09-18T10:59:30.654000+09:00",
     "start_time": "2019-09-18T01:58:25.592Z"
    }
   },
   "outputs": [
    {
     "data": {
      "text/plain": [
       "4-element Array{Int64,1}:\n",
       "  2\n",
       " -3\n",
       "  0\n",
       "  1"
      ]
     },
     "execution_count": 23,
     "metadata": {},
     "output_type": "execute_result"
    }
   ],
   "source": [
    "A[2, :]  # Aの第2行．ただし列ベクトルで返ってくる！"
   ]
  },
  {
   "cell_type": "markdown",
   "metadata": {},
   "source": [
    "本書での数学的な記法でいえば，`A[2, :]`は`A`の第2列の転置が返される．\n",
    "\n",
    "ベクトルの場合と同様に，Juliaのスライシングとインデキシングは，不連続なインデックスを指定することができる．例えば，以下のように行列の行を逆順にすることができる．"
   ]
  },
  {
   "cell_type": "code",
   "execution_count": 24,
   "metadata": {},
   "outputs": [
    {
     "data": {
      "text/plain": [
       "3×4 Array{Int64,2}:\n",
       "  0   4  -2  1\n",
       "  2  -3   0  1\n",
       " -1   0   1  0"
      ]
     },
     "execution_count": 24,
     "metadata": {},
     "output_type": "execute_result"
    }
   ],
   "source": [
    "X = [ -1 0 1 0 ; 2 -3 0 1 ; 0 4 -2 1]\n",
    "m = size(X, 1);\n",
    "X[m:-1:1, :]  # 行が逆順になったX"
   ]
  },
  {
   "cell_type": "markdown",
   "metadata": {},
   "source": [
    "Juliaの行列の単一インデックス指定は，インデックスの範囲指定や集合でもよい．例えば`X`が$m \\times n$行列の場合，`X[:]`は`X`の列を順にスタックした長さ$mn$のベクトルである．Juliaの関数`reshape(X, (k, l))`は，`X`の要素を列優先で並べ直した新しい$k \\times l$行列である（ただし$mn=kl$，つまり元の行列と新しい行列の要素数は等しくなければならない）．どちらも数学的な記法ではないが，Juliaでは有用である．"
   ]
  },
  {
   "cell_type": "code",
   "execution_count": 25,
   "metadata": {
    "ExecuteTime": {
     "end_time": "2019-09-18T10:59:31.314000+09:00",
     "start_time": "2019-09-18T01:58:25.605Z"
    }
   },
   "outputs": [
    {
     "data": {
      "text/plain": [
       "3×2 Array{Int64,2}:\n",
       " 1  -3\n",
       " 2   0\n",
       " 1  -2"
      ]
     },
     "execution_count": 25,
     "metadata": {},
     "output_type": "execute_result"
    }
   ],
   "source": [
    "B = [ 1 -3 ; 2 0 ; 1 -2]"
   ]
  },
  {
   "cell_type": "code",
   "execution_count": 26,
   "metadata": {
    "ExecuteTime": {
     "end_time": "2019-09-18T10:59:31.324000+09:00",
     "start_time": "2019-09-18T01:58:25.609Z"
    }
   },
   "outputs": [
    {
     "data": {
      "text/plain": [
       "6-element Array{Int64,1}:\n",
       "  1\n",
       "  2\n",
       "  1\n",
       " -3\n",
       "  0\n",
       " -2"
      ]
     },
     "execution_count": 26,
     "metadata": {},
     "output_type": "execute_result"
    }
   ],
   "source": [
    "B[:]"
   ]
  },
  {
   "cell_type": "code",
   "execution_count": 27,
   "metadata": {
    "ExecuteTime": {
     "end_time": "2019-09-18T10:59:31.332000+09:00",
     "start_time": "2019-09-18T01:58:25.613Z"
    }
   },
   "outputs": [
    {
     "data": {
      "text/plain": [
       "2×3 Array{Int64,2}:\n",
       " 1   1   0\n",
       " 2  -3  -2"
      ]
     },
     "execution_count": 27,
     "metadata": {},
     "output_type": "execute_result"
    }
   ],
   "source": [
    "reshape(B, (2, 3))"
   ]
  },
  {
   "cell_type": "code",
   "execution_count": 28,
   "metadata": {
    "ExecuteTime": {
     "end_time": "2019-09-18T10:59:31.342000+09:00",
     "start_time": "2019-09-18T01:58:25.616Z"
    }
   },
   "outputs": [
    {
     "ename": "DimensionMismatch",
     "evalue": "DimensionMismatch(\"new dimensions (3, 3) must be consistent with array size 6\")",
     "output_type": "error",
     "traceback": [
      "DimensionMismatch(\"new dimensions (3, 3) must be consistent with array size 6\")",
      "",
      "Stacktrace:",
      " [1] _throw_dmrsa(::Tuple{Int64,Int64}, ::Int64) at ./array.jl:322",
      " [2] reshape(::Array{Int64,2}, ::Tuple{Int64,Int64}) at ./array.jl:304",
      " [3] top-level scope at In[28]:1"
     ]
    }
   ],
   "source": [
    "reshape(B, (3, 3))"
   ]
  },
  {
   "cell_type": "markdown",
   "metadata": {},
   "source": [
    "### ブロック行列\n",
    "\n",
    "ブロック行列をJuliaで作る方法は，本書の数学的な記法とほぼ同じである．セミコロン`;`は行列をスタックし，空白は（横方向に）行列を連結する．以下は本書＊＊ページの例である．\n"
   ]
  },
  {
   "cell_type": "code",
   "execution_count": 29,
   "metadata": {
    "ExecuteTime": {
     "end_time": "2019-09-18T10:59:31.509000+09:00",
     "start_time": "2019-09-18T01:58:25.620Z"
    }
   },
   "outputs": [
    {
     "data": {
      "text/plain": [
       "3×4 Array{Int64,2}:\n",
       " 0  2  3  -1\n",
       " 2  2  1   4\n",
       " 1  3  5   4"
      ]
     },
     "execution_count": 29,
     "metadata": {},
     "output_type": "execute_result"
    }
   ],
   "source": [
    "B = [ 0 2 3 ];  # 1x3行列\n",
    "C = [ -1 ];  # 1x1行列\n",
    "D = [ 2 2 1 ; 1 3 5 ];  # 2x3行列\n",
    "E = [ 4 ; 4 ];  # 2x1行列\n",
    "# 3x4ブロック行列を作る\n",
    "A = [B C ;\n",
    "     D E]"
   ]
  },
  {
   "cell_type": "markdown",
   "metadata": {},
   "source": [
    "### 行列の行と列の解釈\n",
    "\n",
    "$m \\times n$行列$A$は，$n$個の$m$次元（列）ベクトルの集合，もしくは$m$個の$n$次元（行）ベクトルの集合，とみなすことができる．Juliaでは行列（2次元配列）とベクトルのリストは異なるものである．列ベクトルの配列（もしくはタプル）は，横方向の連結関数`hcat`を使って行列に変換できる．\n"
   ]
  },
  {
   "cell_type": "code",
   "execution_count": 30,
   "metadata": {
    "ExecuteTime": {
     "end_time": "2019-09-18T10:59:31.510000+09:00",
     "start_time": "2019-09-18T01:58:25.624Z"
    }
   },
   "outputs": [
    {
     "data": {
      "text/plain": [
       "3-element Array{Array{Float64,1},1}:\n",
       " [1.0, 2.0]\n",
       " [4.0, 5.0]\n",
       " [7.0, 8.0]"
      ]
     },
     "execution_count": 30,
     "metadata": {},
     "output_type": "execute_result"
    }
   ],
   "source": [
    "a = [ [1., 2.], [4., 5.], [7., 8.] ] # 2次元ベクトルの配列"
   ]
  },
  {
   "cell_type": "code",
   "execution_count": 31,
   "metadata": {
    "ExecuteTime": {
     "end_time": "2019-09-18T10:59:31.585000+09:00",
     "start_time": "2019-09-18T01:58:25.628Z"
    }
   },
   "outputs": [
    {
     "data": {
      "text/plain": [
       "2×3 Array{Float64,2}:\n",
       " 1.0  4.0  7.0\n",
       " 2.0  5.0  8.0"
      ]
     },
     "execution_count": 31,
     "metadata": {},
     "output_type": "execute_result"
    }
   ],
   "source": [
    "A = hcat(a...)"
   ]
  },
  {
   "cell_type": "markdown",
   "metadata": {
    "ExecuteTime": {
     "end_time": "2019-09-18T10:44:06.200000+09:00",
     "start_time": "2019-09-18T01:44:06.154Z"
    }
   },
   "source": [
    "ここで`hcat(a...)`の中の`...`演算子は，配列`a`を要素に分割する．つまり`hcat(a...)`は`h(a[1], a[2], a[3])`と同じである．この結果，`a[1]`，`a[2]`，`a[3]`が横方向に連結される．\n",
    "\n",
    "同様に`vcat`は配列を縦方向の連結する．これは行ベクトルから行列を作る場合に便利である．\n"
   ]
  },
  {
   "cell_type": "code",
   "execution_count": 32,
   "metadata": {
    "ExecuteTime": {
     "end_time": "2019-09-18T10:59:32.250000+09:00",
     "start_time": "2019-09-18T01:58:25.632Z"
    }
   },
   "outputs": [
    {
     "data": {
      "text/plain": [
       "3-element Array{Array{Float64,2},1}:\n",
       " [1.0 2.0]\n",
       " [4.0 5.0]\n",
       " [7.0 8.0]"
      ]
     },
     "execution_count": 32,
     "metadata": {},
     "output_type": "execute_result"
    }
   ],
   "source": [
    "a = [ [1. 2.], [4. 5.], [7. 8.] ] # 1x2行列の配列"
   ]
  },
  {
   "cell_type": "code",
   "execution_count": 33,
   "metadata": {
    "ExecuteTime": {
     "end_time": "2019-09-18T10:59:32.317000+09:00",
     "start_time": "2019-09-18T01:58:25.636Z"
    }
   },
   "outputs": [
    {
     "data": {
      "text/plain": [
       "3×2 Array{Float64,2}:\n",
       " 1.0  2.0\n",
       " 4.0  5.0\n",
       " 7.0  8.0"
      ]
     },
     "execution_count": 33,
     "metadata": {},
     "output_type": "execute_result"
    }
   ],
   "source": [
    "A = vcat(a...)"
   ]
  },
  {
   "cell_type": "markdown",
   "metadata": {},
   "source": [
    "## 6.2 ゼロ行列と単位行列\n",
    "\n",
    "### ゼロ行列\n",
    "\n",
    "$m \\times n$ゼロ行列は`zeros(m,n)`で作成できる．\n"
   ]
  },
  {
   "cell_type": "code",
   "execution_count": 34,
   "metadata": {
    "ExecuteTime": {
     "end_time": "2019-09-18T10:59:32.321000+09:00",
     "start_time": "2019-09-18T01:58:25.640Z"
    }
   },
   "outputs": [
    {
     "data": {
      "text/plain": [
       "2×2 Array{Float64,2}:\n",
       " 0.0  0.0\n",
       " 0.0  0.0"
      ]
     },
     "execution_count": 34,
     "metadata": {},
     "output_type": "execute_result"
    }
   ],
   "source": [
    "zeros(2, 2)"
   ]
  },
  {
   "cell_type": "markdown",
   "metadata": {},
   "source": [
    "### 単位行列\n",
    "\n",
    "Juliaで単位行列を作る方法はいろいろあり，例えばゼロ行列を作り，対角成分を1にする．\n",
    "`LinearAlgebra`パッケージには，特殊な単位行列オブジェクト`I`を作る関数がある．$n \\times n$単位行列を作成するには`1.0 * Matrix(I, n, n)`とする（1.0をかけるのは，真偽値の行列を数値の行列へ変換するためである）．この式はかなり分かりにくいので，ここでは単位行列を生成する関数`eye(n)`を定義する．この関数は`VMLS`パッケージにも含まれているので，インストールすれば使える（`eye`という名称は，MATLABでも単位行列の関数である）．"
   ]
  },
  {
   "cell_type": "code",
   "execution_count": 35,
   "metadata": {},
   "outputs": [],
   "source": [
    "using LinearAlgebra"
   ]
  },
  {
   "cell_type": "code",
   "execution_count": 36,
   "metadata": {
    "ExecuteTime": {
     "end_time": "2019-09-18T10:59:32.322000+09:00",
     "start_time": "2019-09-18T01:58:25.644Z"
    }
   },
   "outputs": [
    {
     "data": {
      "text/plain": [
       "4×4 Array{Float64,2}:\n",
       " 1.0  0.0  0.0  0.0\n",
       " 0.0  1.0  0.0  0.0\n",
       " 0.0  0.0  1.0  0.0\n",
       " 0.0  0.0  0.0  1.0"
      ]
     },
     "execution_count": 36,
     "metadata": {},
     "output_type": "execute_result"
    }
   ],
   "source": [
    "eye(n) = 1.0 * Matrix(I, n, n);\n",
    "eye(4)"
   ]
  },
  {
   "cell_type": "markdown",
   "metadata": {},
   "source": [
    "Juliaの単位行列`I`には便利な性質がある．例えば，明らかな場合には次元を指定する必要がない（これは一般的な数学的記法と同じである．本書＊＊を参照）．"
   ]
  },
  {
   "cell_type": "code",
   "execution_count": 37,
   "metadata": {
    "ExecuteTime": {
     "end_time": "2019-09-18T10:59:32.414000+09:00",
     "start_time": "2019-09-18T01:58:25.652Z"
    }
   },
   "outputs": [
    {
     "data": {
      "text/plain": [
       "2×3 Array{Int64,2}:\n",
       " 1  -1   2\n",
       " 0   3  -1"
      ]
     },
     "execution_count": 37,
     "metadata": {},
     "output_type": "execute_result"
    }
   ],
   "source": [
    "A = [ 1 -1 2; 0 3 -1]"
   ]
  },
  {
   "cell_type": "code",
   "execution_count": 38,
   "metadata": {
    "ExecuteTime": {
     "end_time": "2019-09-18T10:59:32.493000+09:00",
     "start_time": "2019-09-18T01:58:25.656Z"
    }
   },
   "outputs": [
    {
     "data": {
      "text/plain": [
       "2×5 Array{Int64,2}:\n",
       " 1  -1   2  1  0\n",
       " 0   3  -1  0  1"
      ]
     },
     "execution_count": 38,
     "metadata": {},
     "output_type": "execute_result"
    }
   ],
   "source": [
    "[A I]"
   ]
  },
  {
   "cell_type": "code",
   "execution_count": 39,
   "metadata": {
    "ExecuteTime": {
     "end_time": "2019-09-18T10:59:32.574000+09:00",
     "start_time": "2019-09-18T01:58:25.659Z"
    }
   },
   "outputs": [
    {
     "data": {
      "text/plain": [
       "5×3 Array{Int64,2}:\n",
       " 1  -1   2\n",
       " 0   3  -1\n",
       " 1   0   0\n",
       " 0   1   0\n",
       " 0   0   1"
      ]
     },
     "execution_count": 39,
     "metadata": {},
     "output_type": "execute_result"
    }
   ],
   "source": [
    "[A ; I]"
   ]
  },
  {
   "cell_type": "code",
   "execution_count": 40,
   "metadata": {
    "ExecuteTime": {
     "end_time": "2019-09-18T10:59:32.575000+09:00",
     "start_time": "2019-09-18T01:58:25.663Z"
    }
   },
   "outputs": [
    {
     "data": {
      "text/plain": [
       "2×2 Array{Int64,2}:\n",
       " 1  2\n",
       " 3  4"
      ]
     },
     "execution_count": 40,
     "metadata": {},
     "output_type": "execute_result"
    }
   ],
   "source": [
    "B = [ 1 2 ; 3 4 ]"
   ]
  },
  {
   "cell_type": "code",
   "execution_count": 41,
   "metadata": {
    "ExecuteTime": {
     "end_time": "2019-09-18T10:59:32.585000+09:00",
     "start_time": "2019-09-18T01:58:25.667Z"
    }
   },
   "outputs": [
    {
     "data": {
      "text/plain": [
       "2×2 Array{Int64,2}:\n",
       " 2  2\n",
       " 3  5"
      ]
     },
     "execution_count": 41,
     "metadata": {},
     "output_type": "execute_result"
    }
   ],
   "source": [
    "B + I"
   ]
  },
  {
   "cell_type": "markdown",
   "metadata": {},
   "source": [
    "### 1行列\n",
    "\n",
    "本書では，要素がすべて1である行列には記号を特に付けていない．Juliaでは`ones(m, n)`で生成できる．\n",
    "\n",
    "### 対角行列\n",
    "\n",
    "一般的な数学的記法では$\\mathbf{diag}(1,2,3)$は，対角要素が$1,2,3$である$3 \\times 3$対角行列を表す．Juliaでは`LinearAlgebra`パッケージの関数`diagm`を使う．ベクトル`s`の要素から対角行列を作るには，`diagm(0 => s)`と書く．これは非常に分かりにくいため，`VMLS`パッケージでは関数`diagonal(s)`を定義している（対角要素のベクトルを引数に取る）．\n"
   ]
  },
  {
   "cell_type": "code",
   "execution_count": 42,
   "metadata": {
    "ExecuteTime": {
     "end_time": "2019-09-18T10:59:32.679000+09:00",
     "start_time": "2019-09-18T01:58:25.671Z"
    }
   },
   "outputs": [
    {
     "data": {
      "text/plain": [
       "diagonal (generic function with 1 method)"
      ]
     },
     "execution_count": 42,
     "metadata": {},
     "output_type": "execute_result"
    }
   ],
   "source": [
    "diagonal(x) = diagm(0 => x)"
   ]
  },
  {
   "cell_type": "code",
   "execution_count": 43,
   "metadata": {
    "ExecuteTime": {
     "end_time": "2019-09-18T10:59:32.721000+09:00",
     "start_time": "2019-09-18T01:58:25.675Z"
    }
   },
   "outputs": [
    {
     "data": {
      "text/plain": [
       "3×3 Array{Int64,2}:\n",
       " 1  0  0\n",
       " 0  2  0\n",
       " 0  0  3"
      ]
     },
     "execution_count": 43,
     "metadata": {},
     "output_type": "execute_result"
    }
   ],
   "source": [
    "diagonal([1, 2, 3])"
   ]
  },
  {
   "cell_type": "markdown",
   "metadata": {},
   "source": [
    "これとは逆のJuliaの関数が`diag(X)`であり，行列`X`（正方行列とは限らない）の対角成分をベクトルで返す．"
   ]
  },
  {
   "cell_type": "code",
   "execution_count": 44,
   "metadata": {
    "ExecuteTime": {
     "end_time": "2019-09-18T10:59:32.722000+09:00",
     "start_time": "2019-09-18T01:58:25.679Z"
    }
   },
   "outputs": [
    {
     "data": {
      "text/plain": [
       "2×4 Array{Int64,2}:\n",
       " 0   1  -2  1\n",
       " 2  -1   3  0"
      ]
     },
     "execution_count": 44,
     "metadata": {},
     "output_type": "execute_result"
    }
   ],
   "source": [
    "H = [0 1 -2 1; 2 -1 3 0]"
   ]
  },
  {
   "cell_type": "code",
   "execution_count": 45,
   "metadata": {
    "ExecuteTime": {
     "end_time": "2019-09-18T10:59:32.736000+09:00",
     "start_time": "2019-09-18T01:58:25.683Z"
    }
   },
   "outputs": [
    {
     "data": {
      "text/plain": [
       "2-element Array{Int64,1}:\n",
       "  0\n",
       " -1"
      ]
     },
     "execution_count": 45,
     "metadata": {},
     "output_type": "execute_result"
    }
   ],
   "source": [
    "diag(H)"
   ]
  },
  {
   "cell_type": "markdown",
   "metadata": {
    "ExecuteTime": {
     "end_time": "2019-09-18T10:46:09.367000+09:00",
     "start_time": "2019-09-18T01:46:09.366Z"
    }
   },
   "source": [
    "### ランダム行列\n",
    "\n",
    "0から1までのランダムな要素を持つ$m \\times n$行列は`rand(m,n)`で生成できる．要素を正規分布から抽出するなら`randn(m,n)`とする．"
   ]
  },
  {
   "cell_type": "code",
   "execution_count": 46,
   "metadata": {
    "ExecuteTime": {
     "end_time": "2019-09-18T10:59:32.744000+09:00",
     "start_time": "2019-09-18T01:58:25.687Z"
    }
   },
   "outputs": [
    {
     "data": {
      "text/plain": [
       "2×3 Array{Float64,2}:\n",
       " 0.259206  0.00145257  0.105918\n",
       " 0.564099  0.256196    0.76442 "
      ]
     },
     "execution_count": 46,
     "metadata": {},
     "output_type": "execute_result"
    }
   ],
   "source": [
    "rand(2, 3)"
   ]
  },
  {
   "cell_type": "code",
   "execution_count": 47,
   "metadata": {
    "ExecuteTime": {
     "end_time": "2019-09-18T10:59:32.752000+09:00",
     "start_time": "2019-09-18T01:58:25.691Z"
    }
   },
   "outputs": [
    {
     "data": {
      "text/plain": [
       "2×3 Array{Float64,2}:\n",
       " 0.396847  -0.156044  -0.0472458\n",
       " 0.476575  -0.23498   -0.822903 "
      ]
     },
     "execution_count": 47,
     "metadata": {},
     "output_type": "execute_result"
    }
   ],
   "source": [
    "randn(2, 3)"
   ]
  },
  {
   "cell_type": "markdown",
   "metadata": {},
   "source": [
    "### 疎行列\n",
    "\n",
    "疎行列の作成と操作のための関数は`SparseArrays`パッケージに含まれている（インストールが必要．＊＊＊ページ参照）．疎行列は，ほとんどの要素がゼロであるという性質を利用した特殊なフォーマットで保持されている．関数`sparse`は，行のインデックス，列のインデックス，非ゼロ要素の値，の3つの配列から疎行列を作成する．たとえば，疎行列\n",
    "$$\n",
    "A = \n",
    "\\begin{bmatrix}\n",
    "-1.11 & 0 & 1.17 & 0 & 0\\\\\n",
    "0.15 & -0.10 & 0 & 0 & 0\\\\\n",
    "0 & 0 & -0.30 & 0 & 0\\\\\n",
    "0 & 0 & 0 & 0.13 & 0\n",
    "\\end{bmatrix}\n",
    "$$\n",
    "を作成するコードは以下のようになる．"
   ]
  },
  {
   "cell_type": "code",
   "execution_count": 48,
   "metadata": {},
   "outputs": [],
   "source": [
    "using SparseArrays"
   ]
  },
  {
   "cell_type": "code",
   "execution_count": 49,
   "metadata": {
    "ExecuteTime": {
     "end_time": "2019-09-18T10:59:33.424000+09:00",
     "start_time": "2019-09-18T01:58:25.695Z"
    }
   },
   "outputs": [
    {
     "data": {
      "text/plain": [
       "4×5 SparseMatrixCSC{Float64,Int64} with 6 stored entries:\n",
       "  [1, 1]  =  -1.11\n",
       "  [2, 1]  =  0.15\n",
       "  [2, 2]  =  -0.1\n",
       "  [1, 3]  =  1.17\n",
       "  [3, 3]  =  -0.3\n",
       "  [4, 4]  =  0.13"
      ]
     },
     "execution_count": 49,
     "metadata": {},
     "output_type": "execute_result"
    }
   ],
   "source": [
    "K = [1, 2, 2, 1, 3, 4];  # 非ゼロ要素の行のインデックス\n",
    "J = [1, 1, 2, 3, 3, 4];  # 列のインデックス\n",
    "V = [ -1.11, 0.15, -0.10, 1.17, -0.30, 0.13 ];  # 値\n",
    "A = sparse(K, J, V, 4, 5)"
   ]
  },
  {
   "cell_type": "code",
   "execution_count": 50,
   "metadata": {
    "ExecuteTime": {
     "end_time": "2019-09-18T10:59:33.428000+09:00",
     "start_time": "2019-09-18T01:58:25.699Z"
    }
   },
   "outputs": [
    {
     "data": {
      "text/plain": [
       "6"
      ]
     },
     "execution_count": 50,
     "metadata": {},
     "output_type": "execute_result"
    }
   ],
   "source": [
    "nnz(A)  # 非ゼロ要素の個数"
   ]
  },
  {
   "cell_type": "markdown",
   "metadata": {},
   "source": [
    "疎行列は関数`Array`を使って普通の行列に変換することができる．関数`sparse`は普通の行列を疎行列に変換する．\n"
   ]
  },
  {
   "cell_type": "code",
   "execution_count": 51,
   "metadata": {
    "ExecuteTime": {
     "end_time": "2019-09-18T10:59:33.429000+09:00",
     "start_time": "2019-09-18T01:58:25.703Z"
    }
   },
   "outputs": [
    {
     "data": {
      "text/plain": [
       "3×3 SparseMatrixCSC{Float64,Int64} with 4 stored entries:\n",
       "  [1, 1]  =  1.0\n",
       "  [3, 1]  =  2.0\n",
       "  [2, 2]  =  3.0\n",
       "  [1, 3]  =  4.0"
      ]
     },
     "execution_count": 51,
     "metadata": {},
     "output_type": "execute_result"
    }
   ],
   "source": [
    "A = sparse([1, 3, 2, 1], \n",
    "           [1, 1, 2, 3],\n",
    "           [1.0, 2.0, 3.0, 4.0], 3, 3)"
   ]
  },
  {
   "cell_type": "code",
   "execution_count": 52,
   "metadata": {
    "ExecuteTime": {
     "end_time": "2019-09-18T10:59:33.456000+09:00",
     "start_time": "2019-09-18T01:58:25.706Z"
    }
   },
   "outputs": [
    {
     "data": {
      "text/plain": [
       "3×3 Array{Float64,2}:\n",
       " 1.0  0.0  4.0\n",
       " 0.0  3.0  0.0\n",
       " 2.0  0.0  0.0"
      ]
     },
     "execution_count": 52,
     "metadata": {},
     "output_type": "execute_result"
    }
   ],
   "source": [
    "B = Array(A)"
   ]
  },
  {
   "cell_type": "code",
   "execution_count": 53,
   "metadata": {
    "ExecuteTime": {
     "end_time": "2019-09-18T10:59:33.479000+09:00",
     "start_time": "2019-09-18T01:58:25.710Z"
    }
   },
   "outputs": [
    {
     "data": {
      "text/plain": [
       "3×3 SparseMatrixCSC{Float64,Int64} with 3 stored entries:\n",
       "  [1, 1]  =  1.0\n",
       "  [3, 1]  =  2.0\n",
       "  [2, 2]  =  3.0"
      ]
     },
     "execution_count": 53,
     "metadata": {},
     "output_type": "execute_result"
    }
   ],
   "source": [
    "B[1, 3] = 0.0;\n",
    "sparse(B)"
   ]
  },
  {
   "cell_type": "markdown",
   "metadata": {},
   "source": [
    "疎な$m \\times n$ゼロ行列を作るには`spzeros(m, n)`を使う．疎な$n \\times n$単位行列をJuliaで作成するには`sparse(1.0I, n, n)`と書くが，これは分かりにくいため，`VMLS`パッケージでは関数`speye(n)`を定義している．また`VMLS`パッケージには，ベクトル`a`の要素から疎な対角行列を作成する`spdiagonal(a)`も定義してある．\n",
    "\n",
    "ランダムな疎行列を作成する関数は`sprand(m, n, d)`（要素の範囲は0から1）と`sprandn(m, n, d)`（要素は正規分布から抽出）である．最初の2つの引数は行列の次元である．3つ目の引数`d`は非ゼロ要素の密度を指定し，ランダムに選ばれた約$mnd$個の要素が非ゼロになる．以下のコードでは，密度$d=10^{-7}$で$10000 \\times 10000$疎行列を作成している．つまり非ゼロ要素はおよそ10個になる（非常に疎な行列である！）．\n"
   ]
  },
  {
   "cell_type": "code",
   "execution_count": 54,
   "metadata": {
    "ExecuteTime": {
     "end_time": "2019-09-18T10:59:33.560000+09:00",
     "start_time": "2019-09-18T01:58:25.714Z"
    }
   },
   "outputs": [
    {
     "data": {
      "text/plain": [
       "10000×10000 SparseMatrixCSC{Float64,Int64} with 8 stored entries:\n",
       "  [9042 ,  2892]  =  0.00307387\n",
       "  [8971 ,  4810]  =  0.650686\n",
       "  [7523 ,  5085]  =  0.515843\n",
       "  [8147 ,  5404]  =  0.112658\n",
       "  [6700 ,  6289]  =  0.383604\n",
       "  [873  ,  6290]  =  0.265995\n",
       "  [3570 ,  7127]  =  0.347568\n",
       "  [383  ,  7229]  =  0.665205"
      ]
     },
     "execution_count": 54,
     "metadata": {},
     "output_type": "execute_result"
    }
   ],
   "source": [
    "A = sprand(10000, 10000, 10^-7)"
   ]
  },
  {
   "cell_type": "markdown",
   "metadata": {},
   "source": [
    "## 6.3 転置，和，ノルム\n",
    "\n",
    "### 転置\n",
    "\n",
    "本書では，$m \\times n$行列$A$の転置を$A^T$と表記した．Juliaでは，`A`の転置は`A'`である．"
   ]
  },
  {
   "cell_type": "code",
   "execution_count": 55,
   "metadata": {
    "ExecuteTime": {
     "end_time": "2019-09-18T10:59:33.561000+09:00",
     "start_time": "2019-09-18T01:58:25.719Z"
    }
   },
   "outputs": [
    {
     "data": {
      "text/plain": [
       "2×4 Array{Int64,2}:\n",
       " 0   1  -2  1\n",
       " 2  -1   3  0"
      ]
     },
     "execution_count": 55,
     "metadata": {},
     "output_type": "execute_result"
    }
   ],
   "source": [
    "H = [ 0 1 -2 1; 2 -1 3 0 ]"
   ]
  },
  {
   "cell_type": "code",
   "execution_count": 56,
   "metadata": {
    "ExecuteTime": {
     "end_time": "2019-09-18T10:59:34.153000+09:00",
     "start_time": "2019-09-18T01:58:25.723Z"
    }
   },
   "outputs": [
    {
     "data": {
      "text/plain": [
       "4×2 Adjoint{Int64,Array{Int64,2}}:\n",
       "  0   2\n",
       "  1  -1\n",
       " -2   3\n",
       "  1   0"
      ]
     },
     "execution_count": 56,
     "metadata": {},
     "output_type": "execute_result"
    }
   ],
   "source": [
    "H'"
   ]
  },
  {
   "cell_type": "markdown",
   "metadata": {},
   "source": [
    "### 和，差，スカラー倍\n",
    "\n",
    "Juliaでは行列の和，差，スカラー倍は一般的な数学的記法と同じである．\n"
   ]
  },
  {
   "cell_type": "code",
   "execution_count": 57,
   "metadata": {
    "ExecuteTime": {
     "end_time": "2019-09-18T10:59:34.154000+09:00",
     "start_time": "2019-09-18T01:58:25.727Z"
    }
   },
   "outputs": [
    {
     "data": {
      "text/plain": [
       "3×2 Array{Int64,2}:\n",
       " 0  4\n",
       " 7  0\n",
       " 3  1"
      ]
     },
     "execution_count": 57,
     "metadata": {},
     "output_type": "execute_result"
    }
   ],
   "source": [
    "U = [ 0 4; 7 0; 3 1]"
   ]
  },
  {
   "cell_type": "code",
   "execution_count": 58,
   "metadata": {
    "ExecuteTime": {
     "end_time": "2019-09-18T10:59:34.155000+09:00",
     "start_time": "2019-09-18T01:58:25.731Z"
    }
   },
   "outputs": [
    {
     "data": {
      "text/plain": [
       "3×2 Array{Int64,2}:\n",
       " 1  2\n",
       " 2  3\n",
       " 0  4"
      ]
     },
     "execution_count": 58,
     "metadata": {},
     "output_type": "execute_result"
    }
   ],
   "source": [
    "V = [ 1 2; 2 3; 0 4]"
   ]
  },
  {
   "cell_type": "code",
   "execution_count": 59,
   "metadata": {
    "ExecuteTime": {
     "end_time": "2019-09-18T10:59:34.229000+09:00",
     "start_time": "2019-09-18T01:58:25.735Z"
    }
   },
   "outputs": [
    {
     "data": {
      "text/plain": [
       "3×2 Array{Int64,2}:\n",
       " 1  6\n",
       " 9  3\n",
       " 3  5"
      ]
     },
     "execution_count": 59,
     "metadata": {},
     "output_type": "execute_result"
    }
   ],
   "source": [
    "U + V"
   ]
  },
  {
   "cell_type": "code",
   "execution_count": 60,
   "metadata": {
    "ExecuteTime": {
     "end_time": "2019-09-18T10:59:34.287000+09:00",
     "start_time": "2019-09-18T01:58:25.739Z"
    }
   },
   "outputs": [
    {
     "data": {
      "text/plain": [
       "3×2 Array{Float64,2}:\n",
       "  0.0  8.8\n",
       " 15.4  0.0\n",
       "  6.6  2.2"
      ]
     },
     "execution_count": 60,
     "metadata": {},
     "output_type": "execute_result"
    }
   ],
   "source": [
    "2.2 * U"
   ]
  },
  {
   "cell_type": "markdown",
   "metadata": {},
   "source": [
    "（スカラーを行列の右からかけることもできる）\n",
    "\n",
    "Juliaは一般的な数学的記法とは異なる演算もサポートする．例えばJuliaでは，行列に定数を足したり引いたりすることができる．この場合，行列の各要素にその定数を足したり引いたりする処理になる．\n",
    "\n",
    "### 要素毎の演算\n",
    "\n",
    "＊＊＊ページで説明したベクトルの要素毎の演算はそのまま行列にも適用できる．二項演算子の前にドットを付けると，要素毎の演算になる．例えば同じサイズの行列$A$と$B$に対して，`C = A .* B`は同じサイズの行列で要素が$C_{ij} = A_{ij} B_{ij}$となる．関数名の後にドットを付けると関数が要素毎に適用される．`X`が行列ならば，`Y = exp.(X)`は同じサイズの行列で要素は$Y_{ij} = \\exp(X_{ij})$となる．\n",
    "\n",
    "### 行列ノルム\n",
    "\n",
    "本書では$m \\times n$行列のノルム$\\| A \\|$を次式で定義した．\n",
    "$$\n",
    "\\| A \\| = \\left( \\sum_{i=1}^m \\sum_{j=1}^n A_{ij}^2 \\right)^{1/2}\n",
    "$$\n",
    "一般的な数学的記法では，これを$\\| A \\|_F$と書くことが多く（$F$はフロベニウスノルムを意味する），$\\| A \\|$とだけ書くと他のノルムを意味することが多い（ただし本書の範囲を超える）．Juliaでは，上記のノルムは`norm(A)`で求まる．"
   ]
  },
  {
   "cell_type": "code",
   "execution_count": 61,
   "metadata": {
    "ExecuteTime": {
     "end_time": "2019-09-18T10:59:34.288000+09:00",
     "start_time": "2019-09-18T01:58:25.743Z"
    }
   },
   "outputs": [
    {
     "data": {
      "text/plain": [
       "2×3 Array{Int64,2}:\n",
       " 2   3  -1\n",
       " 0  -1   4"
      ]
     },
     "execution_count": 61,
     "metadata": {},
     "output_type": "execute_result"
    }
   ],
   "source": [
    "A = [2 3 -1; 0 -1 4]"
   ]
  },
  {
   "cell_type": "code",
   "execution_count": 62,
   "metadata": {
    "ExecuteTime": {
     "end_time": "2019-09-18T10:59:34.353000+09:00",
     "start_time": "2019-09-18T01:58:25.747Z"
    }
   },
   "outputs": [
    {
     "data": {
      "text/plain": [
       "5.5677643628300215"
      ]
     },
     "execution_count": 62,
     "metadata": {},
     "output_type": "execute_result"
    }
   ],
   "source": [
    "norm(A)"
   ]
  },
  {
   "cell_type": "code",
   "execution_count": 63,
   "metadata": {
    "ExecuteTime": {
     "end_time": "2019-09-18T10:59:34.354000+09:00",
     "start_time": "2019-09-18T01:58:25.751Z"
    }
   },
   "outputs": [
    {
     "data": {
      "text/plain": [
       "5.5677643628300215"
      ]
     },
     "execution_count": 63,
     "metadata": {},
     "output_type": "execute_result"
    }
   ],
   "source": [
    "norm(A[:])"
   ]
  },
  {
   "cell_type": "markdown",
   "metadata": {},
   "source": [
    "### 三角不等式\n",
    "\n",
    "三角不等式$\\| A + B \\| \\le \\| A \\| + \\| B \\|$をチェックしよう．"
   ]
  },
  {
   "cell_type": "code",
   "execution_count": 65,
   "metadata": {
    "ExecuteTime": {
     "end_time": "2019-09-18T10:59:34.357000+09:00",
     "start_time": "2019-09-18T01:58:25.766Z"
    }
   },
   "outputs": [
    {
     "data": {
      "text/plain": [
       "(4.69041575982343, 7.795831523312719)"
      ]
     },
     "execution_count": 65,
     "metadata": {},
     "output_type": "execute_result"
    }
   ],
   "source": [
    "A = [ -1 0; 2 2 ];\n",
    "B = [ 3 1; -3 2 ];\n",
    "norm(A + B), norm(A) + norm(B)"
   ]
  },
  {
   "cell_type": "markdown",
   "metadata": {},
   "source": [
    "## 6.4 行列ベクトル積\n",
    "\n",
    "Juliaでは行列とベクトルの積は普通に`y = A * x`と書く．\n"
   ]
  },
  {
   "cell_type": "code",
   "execution_count": 66,
   "metadata": {},
   "outputs": [
    {
     "data": {
      "text/plain": [
       "2×3 Array{Int64,2}:\n",
       "  0  2  -1\n",
       " -2  1   1"
      ]
     },
     "execution_count": 66,
     "metadata": {},
     "output_type": "execute_result"
    }
   ],
   "source": [
    "A = [0 2 -1; -2 1 1]"
   ]
  },
  {
   "cell_type": "code",
   "execution_count": 67,
   "metadata": {},
   "outputs": [
    {
     "data": {
      "text/plain": [
       "3-element Array{Int64,1}:\n",
       "  2\n",
       "  1\n",
       " -1"
      ]
     },
     "execution_count": 67,
     "metadata": {},
     "output_type": "execute_result"
    }
   ],
   "source": [
    "x = [2, 1, -1]"
   ]
  },
  {
   "cell_type": "code",
   "execution_count": 68,
   "metadata": {},
   "outputs": [
    {
     "data": {
      "text/plain": [
       "2-element Array{Int64,1}:\n",
       "  3\n",
       " -4"
      ]
     },
     "execution_count": 68,
     "metadata": {},
     "output_type": "execute_result"
    }
   ],
   "source": [
    "A * x"
   ]
  },
  {
   "cell_type": "markdown",
   "metadata": {},
   "source": [
    "### 差分行列\n",
    "\n",
    "$(n-1)\\times n$差分行列（本書の式(6.5)）を作る方法はいくつかある．簡単な方法は次のものである．\n"
   ]
  },
  {
   "cell_type": "code",
   "execution_count": 69,
   "metadata": {},
   "outputs": [],
   "source": [
    "difference_matrix(n) = [-eye(n-1) zeros(n-1)] +\n",
    "                       [zeros(n-1) eye(n-1)];"
   ]
  },
  {
   "cell_type": "code",
   "execution_count": 70,
   "metadata": {},
   "outputs": [
    {
     "data": {
      "text/plain": [
       "3×4 Array{Float64,2}:\n",
       " -1.0   1.0   0.0  0.0\n",
       "  0.0  -1.0   1.0  0.0\n",
       "  0.0   0.0  -1.0  1.0"
      ]
     },
     "execution_count": 70,
     "metadata": {},
     "output_type": "execute_result"
    }
   ],
   "source": [
    "D = difference_matrix(4)"
   ]
  },
  {
   "cell_type": "code",
   "execution_count": 71,
   "metadata": {},
   "outputs": [
    {
     "data": {
      "text/plain": [
       "3-element Array{Float64,1}:\n",
       "  1.0\n",
       "  2.0\n",
       " -1.0"
      ]
     },
     "execution_count": 71,
     "metadata": {},
     "output_type": "execute_result"
    }
   ],
   "source": [
    "D * [-1, 0, 2, 1]"
   ]
  },
  {
   "cell_type": "markdown",
   "metadata": {},
   "source": [
    "difference行列の要素の多くはゼロなので，疎行列にするほうがよい．"
   ]
  },
  {
   "cell_type": "code",
   "execution_count": 74,
   "metadata": {},
   "outputs": [
    {
     "name": "stderr",
     "output_type": "stream",
     "text": [
      "WARNING: using VMLS.diagonal in module Main conflicts with an existing identifier.\n",
      "WARNING: using VMLS.eye in module Main conflicts with an existing identifier.\n"
     ]
    }
   ],
   "source": [
    "using VMLS"
   ]
  },
  {
   "cell_type": "code",
   "execution_count": 75,
   "metadata": {},
   "outputs": [],
   "source": [
    "difference_matrix(n) = [-speye(n-1) spzeros(n-1)] +\n",
    "                       [spzeros(n-1) speye(n-1)];"
   ]
  },
  {
   "cell_type": "code",
   "execution_count": 76,
   "metadata": {},
   "outputs": [
    {
     "data": {
      "text/plain": [
       "3×4 SparseMatrixCSC{Float64,Int64} with 6 stored entries:\n",
       "  [1, 1]  =  -1.0\n",
       "  [1, 2]  =  1.0\n",
       "  [2, 2]  =  -1.0\n",
       "  [2, 3]  =  1.0\n",
       "  [3, 3]  =  -1.0\n",
       "  [3, 4]  =  1.0"
      ]
     },
     "execution_count": 76,
     "metadata": {},
     "output_type": "execute_result"
    }
   ],
   "source": [
    "D = difference_matrix(4)"
   ]
  },
  {
   "cell_type": "code",
   "execution_count": 77,
   "metadata": {},
   "outputs": [
    {
     "data": {
      "text/plain": [
       "3-element Array{Float64,1}:\n",
       "  1.0\n",
       "  2.0\n",
       " -1.0"
      ]
     },
     "execution_count": 77,
     "metadata": {},
     "output_type": "execute_result"
    }
   ],
   "source": [
    "D * [-1, 0, 2, 1]"
   ]
  },
  {
   "cell_type": "markdown",
   "metadata": {},
   "source": [
    "### 累積和行列\n",
    "\n",
    "累積和行列（本書の式(6.6)）は，対角成分以下のすべての要素が1の下三角行列である．\n"
   ]
  },
  {
   "cell_type": "code",
   "execution_count": 78,
   "metadata": {},
   "outputs": [
    {
     "data": {
      "text/plain": [
       "running_sum (generic function with 1 method)"
      ]
     },
     "execution_count": 78,
     "metadata": {},
     "output_type": "execute_result"
    }
   ],
   "source": [
    "function running_sum(n)  # n x n 累積和行列\n",
    "S = zeros(n,n)\n",
    "for i=1:n\n",
    "   for j=1:i\n",
    "       S[i,j] = 1\n",
    "   end\n",
    "end\n",
    "return S\n",
    "end"
   ]
  },
  {
   "cell_type": "code",
   "execution_count": 79,
   "metadata": {},
   "outputs": [
    {
     "data": {
      "text/plain": [
       "4×4 Array{Float64,2}:\n",
       " 1.0  0.0  0.0  0.0\n",
       " 1.0  1.0  0.0  0.0\n",
       " 1.0  1.0  1.0  0.0\n",
       " 1.0  1.0  1.0  1.0"
      ]
     },
     "execution_count": 79,
     "metadata": {},
     "output_type": "execute_result"
    }
   ],
   "source": [
    "running_sum(4)"
   ]
  },
  {
   "cell_type": "code",
   "execution_count": 81,
   "metadata": {},
   "outputs": [
    {
     "data": {
      "text/plain": [
       "4-element Array{Float64,1}:\n",
       " -1.0\n",
       "  0.0\n",
       "  2.0\n",
       "  2.0"
      ]
     },
     "execution_count": 81,
     "metadata": {},
     "output_type": "execute_result"
    }
   ],
   "source": [
    "running_sum(4) * [-1, 1, 2, 0]"
   ]
  },
  {
   "cell_type": "markdown",
   "metadata": {},
   "source": [
    "別の方法は`tril(ones(n, n))`を使うことである．この`tril`という関数は対角成分よりも上の要素をすべてゼロにする．\n",
    "\n",
    "### ヴァンデルモンド行列\n",
    "\n",
    "$m \\times n$ヴァンデルモンド行列（本書の式(6.7)）は，$i=1,\\ldots,m, j=1,\\ldots,n$について$ij$要素が$t_i^{j-1}$の行列である．以下の関数は，要素が$t_1,\\ldots,t_m$である$m$次元ベクトル`t`を引数にとり，それに対応する$m \\times n$ヴァンデルモンド行列を返す．\n"
   ]
  },
  {
   "cell_type": "code",
   "execution_count": 83,
   "metadata": {},
   "outputs": [
    {
     "data": {
      "text/plain": [
       "vandermonde (generic function with 1 method)"
      ]
     },
     "execution_count": 83,
     "metadata": {},
     "output_type": "execute_result"
    }
   ],
   "source": [
    "function vandermonde(t,n)\n",
    "m = length(t)\n",
    "V = zeros(m,n)\n",
    "for i=1:m\n",
    "   for j=1:n\n",
    "      V[i,j] = t[i]^(j-1)\n",
    "   end\n",
    "end\n",
    "return V\n",
    "end"
   ]
  },
  {
   "cell_type": "code",
   "execution_count": 84,
   "metadata": {},
   "outputs": [
    {
     "data": {
      "text/plain": [
       "4×5 Array{Float64,2}:\n",
       " 1.0  -1.0  1.0   -1.0    1.0   \n",
       " 1.0   0.0  0.0    0.0    0.0   \n",
       " 1.0   0.5  0.25   0.125  0.0625\n",
       " 1.0   1.0  1.0    1.0    1.0   "
      ]
     },
     "execution_count": 84,
     "metadata": {},
     "output_type": "execute_result"
    }
   ],
   "source": [
    "vandermonde([-1,0,0.5,1],5)"
   ]
  },
  {
   "cell_type": "markdown",
   "metadata": {},
   "source": [
    "Juliaの`hcat`を使う方法もある．"
   ]
  },
  {
   "cell_type": "code",
   "execution_count": 85,
   "metadata": {},
   "outputs": [
    {
     "data": {
      "text/plain": [
       "vandermonde (generic function with 1 method)"
      ]
     },
     "execution_count": 85,
     "metadata": {},
     "output_type": "execute_result"
    }
   ],
   "source": [
    "vandermonde(t,n) = hcat( [t.^i for i = 0:n-1]... )"
   ]
  },
  {
   "cell_type": "code",
   "execution_count": 86,
   "metadata": {},
   "outputs": [
    {
     "data": {
      "text/plain": [
       "4×5 Array{Float64,2}:\n",
       " 1.0  -1.0  1.0   -1.0    1.0   \n",
       " 1.0   0.0  0.0    0.0    0.0   \n",
       " 1.0   0.5  0.25   0.125  0.0625\n",
       " 1.0   1.0  1.0    1.0    1.0   "
      ]
     },
     "execution_count": 86,
     "metadata": {},
     "output_type": "execute_result"
    }
   ],
   "source": [
    "vandermonde([-1,0,0.5,1],5)"
   ]
  },
  {
   "cell_type": "markdown",
   "metadata": {},
   "source": [
    "## 6.5 計算量\n",
    "\n",
    "### 行列ベクトル積の計算量\n",
    "\n",
    "$m \\times n$行列と$n$次元ベクトルとの積の計算量は$2mn$ flopsである．これは$m$と$n$の両方について線形である．これを確認しよう．"
   ]
  },
  {
   "cell_type": "code",
   "execution_count": 87,
   "metadata": {},
   "outputs": [],
   "source": [
    "A = rand(1000, 10000);\n",
    "x = rand(10000);"
   ]
  },
  {
   "cell_type": "code",
   "execution_count": 88,
   "metadata": {},
   "outputs": [
    {
     "name": "stdout",
     "output_type": "stream",
     "text": [
      "  0.016571 seconds (7.61 k allocations: 429.464 KiB)\n"
     ]
    }
   ],
   "source": [
    "@time y = A * x;"
   ]
  },
  {
   "cell_type": "code",
   "execution_count": 89,
   "metadata": {},
   "outputs": [
    {
     "name": "stdout",
     "output_type": "stream",
     "text": [
      "  0.007501 seconds (5 allocations: 8.094 KiB)\n"
     ]
    }
   ],
   "source": [
    "@time y = A * x;"
   ]
  },
  {
   "cell_type": "code",
   "execution_count": 90,
   "metadata": {},
   "outputs": [],
   "source": [
    "A = rand(5000, 20000);\n",
    "x = rand(20000);"
   ]
  },
  {
   "cell_type": "code",
   "execution_count": 91,
   "metadata": {},
   "outputs": [
    {
     "name": "stdout",
     "output_type": "stream",
     "text": [
      "  0.089777 seconds (6 allocations: 39.297 KiB)\n"
     ]
    }
   ],
   "source": [
    "@time y = A * x;"
   ]
  },
  {
   "cell_type": "code",
   "execution_count": 92,
   "metadata": {},
   "outputs": [
    {
     "name": "stdout",
     "output_type": "stream",
     "text": [
      "  0.064207 seconds (6 allocations: 39.297 KiB)\n"
     ]
    }
   ],
   "source": [
    "@time y = A * x;"
   ]
  },
  {
   "cell_type": "markdown",
   "metadata": {},
   "source": [
    "2つ目の行列ベクトル積では，$m$は5倍，$n$は2倍になっており，計算時間は（およそ）10倍になっていると予想できる．ここでは7.4倍程度になっている．\n",
    "\n",
    "疎行列の計算が効率的であることは差分行列とベクトルとの積を計算してみれば分かる．"
   ]
  },
  {
   "cell_type": "code",
   "execution_count": 93,
   "metadata": {},
   "outputs": [],
   "source": [
    "n = 10^4;\n",
    "D = [-eye(n-1) zeros(n-1)] + [zeros(n-1) eye(n-1)];\n",
    "x = randn(n);"
   ]
  },
  {
   "cell_type": "code",
   "execution_count": 94,
   "metadata": {},
   "outputs": [
    {
     "name": "stdout",
     "output_type": "stream",
     "text": [
      "  0.708264 seconds (6 allocations: 78.359 KiB)\n"
     ]
    }
   ],
   "source": [
    "@time y = D * x;"
   ]
  },
  {
   "cell_type": "code",
   "execution_count": 95,
   "metadata": {},
   "outputs": [
    {
     "name": "stdout",
     "output_type": "stream",
     "text": [
      "  0.055183 seconds (6 allocations: 78.359 KiB)\n"
     ]
    }
   ],
   "source": [
    "@time y = D * x;"
   ]
  },
  {
   "cell_type": "code",
   "execution_count": 96,
   "metadata": {},
   "outputs": [],
   "source": [
    "Ds = [-speye(n-1) spzeros(n-1)] + [spzeros(n-1) speye(n-1)];"
   ]
  },
  {
   "cell_type": "code",
   "execution_count": 97,
   "metadata": {},
   "outputs": [
    {
     "name": "stdout",
     "output_type": "stream",
     "text": [
      "  0.049030 seconds (52.40 k allocations: 2.741 MiB)\n"
     ]
    }
   ],
   "source": [
    "@time y = Ds * x;"
   ]
  },
  {
   "cell_type": "code",
   "execution_count": 98,
   "metadata": {},
   "outputs": [
    {
     "name": "stdout",
     "output_type": "stream",
     "text": [
      "  0.000240 seconds (6 allocations: 78.359 KiB)\n"
     ]
    }
   ],
   "source": [
    "@time y = Ds * x;"
   ]
  },
  {
   "cell_type": "code",
   "execution_count": null,
   "metadata": {},
   "outputs": [],
   "source": []
  }
 ],
 "metadata": {
  "kernelspec": {
   "display_name": "Julia 1.0.2",
   "language": "julia",
   "name": "julia-1.0"
  },
  "language_info": {
   "file_extension": ".jl",
   "mimetype": "application/julia",
   "name": "julia",
   "version": "1.0.2"
  },
  "toc": {
   "base_numbering": 1,
   "nav_menu": {
    "height": "512px",
    "width": "252px"
   },
   "number_sections": true,
   "sideBar": true,
   "skip_h1_title": false,
   "title_cell": "Table of Contents",
   "title_sidebar": "Contents",
   "toc_cell": false,
   "toc_position": {},
   "toc_section_display": "block",
   "toc_window_display": false
  }
 },
 "nbformat": 4,
 "nbformat_minor": 2
}
