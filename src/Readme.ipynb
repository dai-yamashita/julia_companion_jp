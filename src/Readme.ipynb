{
 "cells": [
  {
   "cell_type": "markdown",
   "metadata": {},
   "source": [
    "This notebook is a Japanese translation of the Julia Language Companion of \"Introduction to Applied Linear Algebra -- Vectors, Matrices, and Least Squares\" by Stephen Boyd and Lieven Vandenberghe (version DRAFT September 5, 2019) under the perission approved by the original authors. Original PDF version is availabe at the official website http://vmls-book.stanford.edu.\n",
    "\n",
    "\n",
    "\n",
    "\n",
    "# Julia Language Companion for VMLS\n",
    "\n",
    "このノートブックは，原著者の許諾を得て，下記書籍のJulia Language Companionをノートブック形式にして翻訳したものである．\n",
    "- 原著：Introduction to Applied Linear Algebra -- Vectors, Matrices, and Least Squares\n",
    "- 原著者：Stephen Boyd and Lieven Vandenberghe\n",
    "- バージョン：DRAFT September 5, 2019\n",
    "- [公式サイトへのリンク](http://vmls-book.stanford.edu)\n",
    "\n",
    "## 注意\n",
    "以下「本書」とは（ノートブックやJulia companionでなく）原著を指す．\n",
    "\n",
    "\n",
    "\n",
    "# 目次\n",
    "\n",
    "- [前書き](Chapter0.ipynb)\n",
    "- [Chapter1 ベクトル](Chapter1.ipynb)\n",
    "- [Chapter2 線形関数](Chapter2.ipynb)\n",
    "- [Chapter3 ノルムと距離](Chapter3.ipynb)\n",
    "- [Chapter4 クラスタリング](Chapter4.ipynb)\n",
    "- [Chapter5 線形独立](Chapter5.ipynb)\n",
    "- [Chapter6 行列](Chapter6.ipynb)\n",
    "- [Chapter7 行列の例](Chapter7.ipynb)\n",
    "- [Chapter8 線形連立方程式](Chapter8.ipynb)\n",
    "- [Chapter9 線形動的システム](Chapter9.ipynb)\n",
    "- [Chapter10 行列積](Chapter10.ipynb)\n",
    "- [Chapter11 逆行列](Chapter11.ipynb)\n",
    "- [Chapter12 最小二乗法](Chapter12.ipynb)\n",
    "- [Chapter13 最小二乗当てはめ](Chapter13.ipynb)\n",
    "- [Chapter14 最小二乗識別](Chapter14.ipynb)\n",
    "- [Chapter15 多目的最小二乗法](Chapter15.ipynb)\n",
    "- [Chapter16 制約付き最小二乗法](Chapter16.ipynb)\n",
    "- [Chapter17 制約付き最小二乗法の応用](Chapter17.ipynb)\n",
    "- [Chapter18 非線形最小二乗法](Chapter18.ipynb)\n",
    "- [Chapter19 制約付き非線形最小二乗法](Chapter19.ipynb)\n",
    "- [付録](Appendix.ipynb)"
   ]
  },
  {
   "cell_type": "code",
   "execution_count": null,
   "metadata": {},
   "outputs": [],
   "source": []
  }
 ],
 "metadata": {
  "kernelspec": {
   "display_name": "Julia 1.2.0",
   "language": "julia",
   "name": "julia-1.2"
  },
  "language_info": {
   "file_extension": ".jl",
   "mimetype": "application/julia",
   "name": "julia",
   "version": "1.2.0"
  }
 },
 "nbformat": 4,
 "nbformat_minor": 2
}
