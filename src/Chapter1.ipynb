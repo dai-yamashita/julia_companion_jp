{
 "cells": [
  {
   "cell_type": "markdown",
   "metadata": {},
   "source": [
    "# Chapter 1 ベクトル\n",
    "\n",
    "## 1.1 ベクトル\n",
    "\n",
    "Juliaでのベクトルは1次元の配列オブジェクト`Array`で表される．ベクトルを作るには，要素をカンマかセミコロンで並べて`[]`でくくり，代入演算子`=`を使ってその配列に変数名を与える．`length`関数でサイズ（次元）が得られる．"
   ]
  },
  {
   "cell_type": "code",
   "execution_count": 1,
   "metadata": {
    "ExecuteTime": {
     "end_time": "2019-09-18T10:58:26.839000+09:00",
     "start_time": "2019-09-18T01:58:24.609Z"
    }
   },
   "outputs": [
    {
     "data": {
      "text/plain": [
       "4-element Array{Float64,1}:\n",
       " -1.1\n",
       "  0.0\n",
       "  3.6\n",
       " -7.2"
      ]
     },
     "execution_count": 1,
     "metadata": {},
     "output_type": "execute_result"
    }
   ],
   "source": [
    "x = [ -1.1, 0.0, 3.6, -7.2 ]"
   ]
  },
  {
   "cell_type": "code",
   "execution_count": 2,
   "metadata": {
    "ExecuteTime": {
     "end_time": "2019-09-18T10:58:27.068000+09:00",
     "start_time": "2019-09-18T01:58:24.614Z"
    }
   },
   "outputs": [
    {
     "data": {
      "text/plain": [
       "4"
      ]
     },
     "execution_count": 2,
     "metadata": {},
     "output_type": "execute_result"
    }
   ],
   "source": [
    "length(x)"
   ]
  },
  {
   "cell_type": "code",
   "execution_count": 3,
   "metadata": {
    "ExecuteTime": {
     "end_time": "2019-09-18T10:58:27.080000+09:00",
     "start_time": "2019-09-18T01:58:24.618Z"
    }
   },
   "outputs": [
    {
     "data": {
      "text/plain": [
       "4-element Array{Float64,1}:\n",
       " -1.1\n",
       "  0.0\n",
       "  3.6\n",
       " -7.2"
      ]
     },
     "execution_count": 3,
     "metadata": {},
     "output_type": "execute_result"
    }
   ],
   "source": [
    "y = [ -1.1; 0.0; 3.6; -7.2 ]  # セミコロンを使う場合"
   ]
  },
  {
   "cell_type": "code",
   "execution_count": 4,
   "metadata": {
    "ExecuteTime": {
     "end_time": "2019-09-18T10:58:27.080000+09:00",
     "start_time": "2019-09-18T01:58:24.622Z"
    }
   },
   "outputs": [
    {
     "data": {
      "text/plain": [
       "4"
      ]
     },
     "execution_count": 4,
     "metadata": {},
     "output_type": "execute_result"
    }
   ],
   "source": [
    "length(y)"
   ]
  },
  {
   "cell_type": "markdown",
   "metadata": {},
   "source": [
    "Juliaの表示で`Array{Float64,1}`という部分は，この配列が1次元で，その要素が64ビット浮動小数点型であることを示している．\n",
    "\n",
    "### よくあるミス\n",
    "\n",
    "要素の間のカンマやセミコロンを忘れたり，`[]`ではなく`()`を使ってしまっても，Juliaではエラーにはならない．しかしベクトルとは違うものになってしまうので，注意が必要である．"
   ]
  },
  {
   "cell_type": "code",
   "execution_count": 5,
   "metadata": {
    "ExecuteTime": {
     "end_time": "2019-09-18T10:58:27.711000+09:00",
     "start_time": "2019-09-18T01:58:24.626Z"
    }
   },
   "outputs": [
    {
     "data": {
      "text/plain": [
       "1×2 Array{Int64,2}:\n",
       " 1  2"
      ]
     },
     "execution_count": 5,
     "metadata": {},
     "output_type": "execute_result"
    }
   ],
   "source": [
    "a = [ 1 2 ]"
   ]
  },
  {
   "cell_type": "code",
   "execution_count": 6,
   "metadata": {
    "ExecuteTime": {
     "end_time": "2019-09-18T10:58:27.961000+09:00",
     "start_time": "2019-09-18T01:58:24.630Z"
    }
   },
   "outputs": [
    {
     "data": {
      "text/plain": [
       "(1, 2)"
      ]
     },
     "execution_count": 6,
     "metadata": {},
     "output_type": "execute_result"
    }
   ],
   "source": [
    "b = ( 1, 2 )"
   ]
  },
  {
   "cell_type": "markdown",
   "metadata": {},
   "source": [
    "ここで`a`は行ベクトルであり，後で説明する．\n",
    "`b`は2つのスカラからなるタプルもしくはリストである．\n",
    "\n",
    "\n",
    "### インデキシング\n",
    "\n",
    "ある要素$x_i$にアクセスするには`x[i]`と書く．ここで`i`はインデックスである（$n$次元ベクトルの場合，`i`の範囲は1から$n$までである）．配列のインデキシングを代入の左辺に使うと，その要素の値を変更することができる．"
   ]
  },
  {
   "cell_type": "code",
   "execution_count": 7,
   "metadata": {
    "ExecuteTime": {
     "end_time": "2019-09-18T10:58:27.993000+09:00",
     "start_time": "2019-09-18T01:58:24.634Z"
    }
   },
   "outputs": [
    {
     "data": {
      "text/plain": [
       "3.6"
      ]
     },
     "execution_count": 7,
     "metadata": {},
     "output_type": "execute_result"
    }
   ],
   "source": [
    "x = [ -1.1, 0.0, 3.6, -7.2 ];\n",
    "x[3]"
   ]
  },
  {
   "cell_type": "code",
   "execution_count": 8,
   "metadata": {
    "ExecuteTime": {
     "end_time": "2019-09-18T10:58:28.267000+09:00",
     "start_time": "2019-09-18T01:58:24.642Z"
    }
   },
   "outputs": [
    {
     "data": {
      "text/plain": [
       "4-element Array{Float64,1}:\n",
       " -1.1\n",
       "  0.0\n",
       "  4.0\n",
       " -7.2"
      ]
     },
     "execution_count": 8,
     "metadata": {},
     "output_type": "execute_result"
    }
   ],
   "source": [
    "x[3] = 4.0;\n",
    "x"
   ]
  },
  {
   "cell_type": "markdown",
   "metadata": {},
   "source": [
    "特殊なインデックスとして，ベクトルの最後のインデックスを意味する`end`がある．上の例では，`x[end]`と`x[length(x)]`はどちらも最後の要素-7.2である．\n",
    "\n",
    "\n",
    "### 代入とコピー\n",
    "\n",
    "MatlabやOctaveのユーザーは，`x`が配列の場合の代入文`y = x`の振る舞いに驚くかもしれない．この式の意味は，`x`と名前がついた配列と同じものに新しい名前`y`をつける（参照）というものである．つまり配列`x`の新しいコピーを作ることはない．"
   ]
  },
  {
   "cell_type": "code",
   "execution_count": 9,
   "metadata": {
    "ExecuteTime": {
     "end_time": "2019-09-18T10:58:28.288000+09:00",
     "start_time": "2019-09-18T01:58:24.650Z"
    }
   },
   "outputs": [
    {
     "data": {
      "text/plain": [
       "4-element Array{Float64,1}:\n",
       " -1.1\n",
       "  0.0\n",
       "  4.0\n",
       " -7.2"
      ]
     },
     "execution_count": 9,
     "metadata": {},
     "output_type": "execute_result"
    }
   ],
   "source": [
    "x = [ -1.1, 0.0, 3.6, -7.2 ];\n",
    "y = x;\n",
    "x[3] = 4.0; # x[3]に代入するとy[3]も変わる\n",
    "y"
   ]
  },
  {
   "cell_type": "code",
   "execution_count": 10,
   "metadata": {
    "ExecuteTime": {
     "end_time": "2019-09-18T10:58:28.290000+09:00",
     "start_time": "2019-09-18T01:58:24.661Z"
    }
   },
   "outputs": [
    {
     "data": {
      "text/plain": [
       "4-element Array{Float64,1}:\n",
       "  2.0\n",
       "  0.0\n",
       "  4.0\n",
       " -7.2"
      ]
     },
     "execution_count": 10,
     "metadata": {},
     "output_type": "execute_result"
    }
   ],
   "source": [
    "y[1] = 2.0;  # y[1]に代入するとx[1]も変わる\n",
    "x"
   ]
  },
  {
   "cell_type": "markdown",
   "metadata": {},
   "source": [
    "配列の新しいコピーを作るには，`copy`関数を使わなければならない．"
   ]
  },
  {
   "cell_type": "code",
   "execution_count": 11,
   "metadata": {
    "ExecuteTime": {
     "end_time": "2019-09-18T10:58:28.292000+09:00",
     "start_time": "2019-09-18T01:58:24.669Z"
    }
   },
   "outputs": [
    {
     "data": {
      "text/plain": [
       "4-element Array{Float64,1}:\n",
       " -1.1\n",
       "  0.0\n",
       "  3.6\n",
       " -7.2"
      ]
     },
     "execution_count": 11,
     "metadata": {},
     "output_type": "execute_result"
    }
   ],
   "source": [
    "x = [ -1.1, 0.0, 3.6, -7.2 ];\n",
    "y = copy(x);\n",
    "x[3] = 4.0;\n",
    "y"
   ]
  },
  {
   "cell_type": "code",
   "execution_count": 12,
   "metadata": {
    "ExecuteTime": {
     "end_time": "2019-09-18T10:58:28.296000+09:00",
     "start_time": "2019-09-18T01:58:24.683Z"
    }
   },
   "outputs": [
    {
     "data": {
      "text/plain": [
       "4-element Array{Float64,1}:\n",
       " -1.1\n",
       "  0.0\n",
       "  4.0\n",
       " -7.2"
      ]
     },
     "execution_count": 12,
     "metadata": {},
     "output_type": "execute_result"
    }
   ],
   "source": [
    "y[1] = 2.0;\n",
    "x"
   ]
  },
  {
   "cell_type": "markdown",
   "metadata": {},
   "source": [
    "### ベクトルの等価性\n",
    "\n",
    "ベクトル同士が等しいかどうかを確認するには比較演算子`==`を用いる．2つのベクトル（配列）`a`と`b`が与えられた場合，Juliaの式`a == b`は，2つのベクトル（配列）が等しければ，つまり長さが等しく要素も同じであれば，`true`を返す．それ以外の場合は`false`を返す．"
   ]
  },
  {
   "cell_type": "code",
   "execution_count": 13,
   "metadata": {
    "ExecuteTime": {
     "end_time": "2019-09-18T10:58:28.297000+09:00",
     "start_time": "2019-09-18T01:58:24.691Z"
    }
   },
   "outputs": [
    {
     "data": {
      "text/plain": [
       "false"
      ]
     },
     "execution_count": 13,
     "metadata": {},
     "output_type": "execute_result"
    }
   ],
   "source": [
    "x = [ -1.1, 0.0, 3.6, -7.2 ];\n",
    "y = copy(x);\n",
    "y[3] = 4.0;\n",
    "y == x"
   ]
  },
  {
   "cell_type": "code",
   "execution_count": 14,
   "metadata": {
    "ExecuteTime": {
     "end_time": "2019-09-18T10:58:28.521000+09:00",
     "start_time": "2019-09-18T01:58:24.705Z"
    }
   },
   "outputs": [
    {
     "data": {
      "text/plain": [
       "true"
      ]
     },
     "execution_count": 14,
     "metadata": {},
     "output_type": "execute_result"
    }
   ],
   "source": [
    "z = x;\n",
    "z[3] = 4.0;\n",
    "z == x"
   ]
  },
  {
   "cell_type": "markdown",
   "metadata": {},
   "source": [
    "### スカラと1次元ベクトル\n",
    "\n",
    "本書での数学的な記法では，1次元ベクトルはスカラと同じであるとみなしている．しかしJuliaでは，1次元ベクトルはスカラ（数値）とは異なる．つまりJuliaでは1次元ベクトル（配列）`[ 1.3 ]`と数値`1.3`は違うものである．"
   ]
  },
  {
   "cell_type": "code",
   "execution_count": 15,
   "metadata": {
    "ExecuteTime": {
     "end_time": "2019-09-18T10:58:28.523000+09:00",
     "start_time": "2019-09-18T01:58:24.716Z"
    }
   },
   "outputs": [
    {
     "data": {
      "text/plain": [
       "1-element Array{Float64,1}:\n",
       " 1.3"
      ]
     },
     "execution_count": 15,
     "metadata": {},
     "output_type": "execute_result"
    }
   ],
   "source": [
    "x = [ 1.3 ]"
   ]
  },
  {
   "cell_type": "code",
   "execution_count": 16,
   "metadata": {
    "ExecuteTime": {
     "end_time": "2019-09-18T10:58:28.540000+09:00",
     "start_time": "2019-09-18T01:58:24.719Z"
    }
   },
   "outputs": [
    {
     "data": {
      "text/plain": [
       "1.3"
      ]
     },
     "execution_count": 16,
     "metadata": {},
     "output_type": "execute_result"
    }
   ],
   "source": [
    "y = 1.3"
   ]
  },
  {
   "cell_type": "code",
   "execution_count": 17,
   "metadata": {
    "ExecuteTime": {
     "end_time": "2019-09-18T10:58:28.543000+09:00",
     "start_time": "2019-09-18T01:58:24.723Z"
    }
   },
   "outputs": [
    {
     "data": {
      "text/plain": [
       "false"
      ]
     },
     "execution_count": 17,
     "metadata": {},
     "output_type": "execute_result"
    }
   ],
   "source": [
    "x == y"
   ]
  },
  {
   "cell_type": "code",
   "execution_count": 18,
   "metadata": {
    "ExecuteTime": {
     "end_time": "2019-09-18T10:58:28.558000+09:00",
     "start_time": "2019-09-18T01:58:24.726Z"
    }
   },
   "outputs": [
    {
     "data": {
      "text/plain": [
       "true"
      ]
     },
     "execution_count": 18,
     "metadata": {},
     "output_type": "execute_result"
    }
   ],
   "source": [
    "x[1] == y"
   ]
  },
  {
   "cell_type": "markdown",
   "metadata": {},
   "source": [
    "最後の比較での`x[1]`は，`x`の最初の（そして唯一の）要素，つまり数値`1.3`を表している．\n",
    "\n",
    "\n",
    "### ブロックベクトル（スタックベクトル）\n",
    "\n",
    "Juliaでブロックベクトルをつくるには，`vcat`（垂直方向の連結）か，セミコロン演算子`;`を使う．この2つの方法で，$x=(1,-2)$と$y=(1,1,0)$からブロックベクトル$z=(x,y)$を作る方法を以下に示す．"
   ]
  },
  {
   "cell_type": "code",
   "execution_count": 19,
   "metadata": {
    "ExecuteTime": {
     "end_time": "2019-09-18T10:58:28.559000+09:00",
     "start_time": "2019-09-18T01:58:24.730Z"
    }
   },
   "outputs": [
    {
     "data": {
      "text/plain": [
       "5-element Array{Int64,1}:\n",
       "  1\n",
       " -2\n",
       "  1\n",
       "  1\n",
       "  0"
      ]
     },
     "execution_count": 19,
     "metadata": {},
     "output_type": "execute_result"
    }
   ],
   "source": [
    "x=[1,-2]; y=[1,1,0];\n",
    "z = [ x; y ]  # セミコロンで連結"
   ]
  },
  {
   "cell_type": "code",
   "execution_count": 20,
   "metadata": {
    "ExecuteTime": {
     "end_time": "2019-09-18T10:58:29.091000+09:00",
     "start_time": "2019-09-18T01:58:24.737Z"
    }
   },
   "outputs": [
    {
     "data": {
      "text/plain": [
       "5-element Array{Int64,1}:\n",
       "  1\n",
       " -2\n",
       "  1\n",
       "  1\n",
       "  0"
      ]
     },
     "execution_count": 20,
     "metadata": {},
     "output_type": "execute_result"
    }
   ],
   "source": [
    "z = vcat(x, y)  # vcatで連結"
   ]
  },
  {
   "cell_type": "markdown",
   "metadata": {},
   "source": [
    "数学的な記法と同様に，ベクトルとスカラを同時にスタックできる．例えば`[ 1; x; 0 ]`は$(1, x, 0)$となる．\n",
    "\n",
    "### よくあるミス\n",
    "\n",
    "Juliaには，ベクトルをスタックするように見えるがそうではない機能がいくつかある．例えば，`z = ( x, y )`は2つのベクトルのタプルまたはリストを作る．`z = [ x, y ]`は2つのベクトルからなる配列を作る．どちらもJuliaでは正しいが，スタックベクトル`[ x; y ]`とは違う．\n",
    "\n",
    "### 部分ベクトルとスライシング\n",
    "\n",
    "本書での数学的な記法と同様に，Juliaの式`r:s`はインデックスの範囲$r, r+1, \\ldots, s$を表す（ここで`r`と`s`は正の整数であり，`r`のほうが小さいと仮定している）．本書では，$x_{r:s}$という記法は，ベクトル$x$のスライス（インデックスの範囲は$r$から$s$まで）を表す．Juliaでは，インデックスの範囲を指定して，ベクトルのスライス（部分ベクトル）を取り出すことができる．"
   ]
  },
  {
   "cell_type": "code",
   "execution_count": 21,
   "metadata": {
    "ExecuteTime": {
     "end_time": "2019-09-18T10:58:29.099000+09:00",
     "start_time": "2019-09-18T01:58:24.745Z"
    }
   },
   "outputs": [
    {
     "data": {
      "text/plain": [
       "3-element Array{Int64,1}:\n",
       " 4\n",
       " 3\n",
       " 0"
      ]
     },
     "execution_count": 21,
     "metadata": {},
     "output_type": "execute_result"
    }
   ],
   "source": [
    "x = [ 9, 4, 3, 0, 5 ];\n",
    "y = x[2:4]"
   ]
  },
  {
   "cell_type": "code",
   "execution_count": 22,
   "metadata": {
    "ExecuteTime": {
     "end_time": "2019-09-18T10:58:29.112000+09:00",
     "start_time": "2019-09-18T01:58:24.748Z"
    }
   },
   "outputs": [
    {
     "data": {
      "text/plain": [
       "5-element Array{Int64,1}:\n",
       "  9\n",
       "  4\n",
       "  3\n",
       " -2\n",
       " -3"
      ]
     },
     "execution_count": 22,
     "metadata": {},
     "output_type": "execute_result"
    }
   ],
   "source": [
    "x[4:5] = [ -2, -3 ];  # xの第4,5要素に代入\n",
    "x"
   ]
  },
  {
   "cell_type": "markdown",
   "metadata": {},
   "source": [
    "### Juliaでの配列のインデキシング\n",
    "\n",
    "Juliaのスライシングや部分ベクトル抽出は，本書で用いている一般的な数学的記法よりも柔軟なものである．例えば，インデックスの範囲の指定には3番目の引数がある．これはインデックスをどれだけ増やすかという増分である．例えば，インデックスの範囲指定に`1:2:5`とすると，$1,3,5$という数字のリストになる[^index_incr]()．これを使えば`x[1:2:5]`という式から`[9,3,5]`という3次元ベクトルが抽出できる．つまり上で定義した`x`の1番目，3番目，5番目の要素を抜き出した部分ベクトルである．またインデックスの範囲指定を降順に指定することもできる．あるベクトル`z`について`z[end:-1:1]`は`z`の要素を逆順にしたベクトルである．\n",
    "\n",
    "[^index_incr](): （訳注）範囲の最初と最後を指定する`1:5`という通常の方法では1,2,3,4,5という数字のリストになる．増分を指定する`1:2:5`という指定では，3番目の引数は最初と最後の間にある`2`であり，1から5までを2ずつ増やす，という意味である．\n",
    "\n",
    "\n",
    "### 1階差分ベクトル\n",
    "\n",
    "スライシングを使って，$(n-1)$次元ベクトル$d$を作ってみよう．ここで$i=1,\\ldots,n-1$について$d_i = x_{i+1} - x_i$であり，$x$は$n$次元ベクトルである．ベクトル$d$は$x$の（1階）差分ベクトルと呼ばれる．"
   ]
  },
  {
   "cell_type": "code",
   "execution_count": 23,
   "metadata": {
    "ExecuteTime": {
     "end_time": "2019-09-18T10:58:29.113000+09:00",
     "start_time": "2019-09-18T01:58:24.756Z"
    }
   },
   "outputs": [
    {
     "data": {
      "text/plain": [
       "4-element Array{Int64,1}:\n",
       " -1\n",
       "  0\n",
       " -2\n",
       "  4"
      ]
     },
     "execution_count": 23,
     "metadata": {},
     "output_type": "execute_result"
    }
   ],
   "source": [
    "x = [ 1, 0, 0, -2, 2 ];\n",
    "d = x[2:end] - x[1:end-1]"
   ]
  },
  {
   "cell_type": "markdown",
   "metadata": {},
   "source": [
    "### ベクトルのリスト\n",
    "\n",
    "$n$次元ベクトルの順序付きリストは，本書では$a_1, \\ldots, a_k$または$a^{(1)}, \\ldots, a^{(k)}$，もしくは単純に$a, b, c$などと表記している．Juliaではベクトルのリストを表現する方法はいくつかある．リストの要素をカンマで区切って`[]`で囲えば，ベクトルの1次元配列になる．`()`で囲えばタプルまたはリストになる．"
   ]
  },
  {
   "cell_type": "code",
   "execution_count": 24,
   "metadata": {
    "ExecuteTime": {
     "end_time": "2019-09-18T10:58:29.232000+09:00",
     "start_time": "2019-09-18T01:58:24.764Z"
    }
   },
   "outputs": [
    {
     "data": {
      "text/plain": [
       "3-element Array{Array{Float64,1},1}:\n",
       " [1.0, 0.0] \n",
       " [1.0, -1.0]\n",
       " [0.0, 1.0] "
      ]
     },
     "execution_count": 24,
     "metadata": {},
     "output_type": "execute_result"
    }
   ],
   "source": [
    "x = [ 1.0, 0 ];   y = [ 1.0, -1.0 ];   z = [ 0, 1.0];\n",
    "list = [ x, y, z ]"
   ]
  },
  {
   "cell_type": "code",
   "execution_count": 25,
   "metadata": {
    "ExecuteTime": {
     "end_time": "2019-09-18T10:58:29.859000+09:00",
     "start_time": "2019-09-18T01:58:24.771Z"
    }
   },
   "outputs": [
    {
     "data": {
      "text/plain": [
       "2-element Array{Float64,1}:\n",
       "  1.0\n",
       " -1.0"
      ]
     },
     "execution_count": 25,
     "metadata": {},
     "output_type": "execute_result"
    }
   ],
   "source": [
    "list[2]  # listの2番目の要素"
   ]
  },
  {
   "cell_type": "code",
   "execution_count": 26,
   "metadata": {
    "ExecuteTime": {
     "end_time": "2019-09-18T10:58:30.168000+09:00",
     "start_time": "2019-09-18T01:58:24.775Z"
    }
   },
   "outputs": [
    {
     "data": {
      "text/plain": [
       "([1.0, 0.0], [1.0, -1.0], [0.0, 1.0])"
      ]
     },
     "execution_count": 26,
     "metadata": {},
     "output_type": "execute_result"
    }
   ],
   "source": [
    "list = ( x, y, z )"
   ]
  },
  {
   "cell_type": "code",
   "execution_count": 27,
   "metadata": {
    "ExecuteTime": {
     "end_time": "2019-09-18T10:58:30.169000+09:00",
     "start_time": "2019-09-18T01:58:24.778Z"
    }
   },
   "outputs": [
    {
     "data": {
      "text/plain": [
       "2-element Array{Float64,1}:\n",
       " 0.0\n",
       " 1.0"
      ]
     },
     "execution_count": 27,
     "metadata": {},
     "output_type": "execute_result"
    }
   ],
   "source": [
    "list[3]  # listの3番目の要素"
   ]
  },
  {
   "cell_type": "markdown",
   "metadata": {},
   "source": [
    "ここで，配列の配列である2次元配列`[x, y, z]`と，ベクトルを連結した1次元配列`[x; y; z]`は違うので，注意してほしい．なお，ベクトルのリストから$i$番目のベクトルを取り出すには`list[i]`とする．$i$番目のベクトルの$j$番目の要素を取り出すには`list[i][j]`とする．\n",
    "\n",
    "\n",
    "### ゼロベクトル\n",
    "\n",
    "Juliaで$n$次元のゼロベクトルを作るには`zeros(n)`とする．"
   ]
  },
  {
   "cell_type": "code",
   "execution_count": 28,
   "metadata": {
    "ExecuteTime": {
     "end_time": "2019-09-18T10:58:30.173000+09:00",
     "start_time": "2019-09-18T01:58:24.782Z"
    }
   },
   "outputs": [
    {
     "data": {
      "text/plain": [
       "3-element Array{Float64,1}:\n",
       " 0.0\n",
       " 0.0\n",
       " 0.0"
      ]
     },
     "execution_count": 28,
     "metadata": {},
     "output_type": "execute_result"
    }
   ],
   "source": [
    "zeros(3)"
   ]
  },
  {
   "cell_type": "markdown",
   "metadata": {},
   "source": [
    "### 単位ベクトル\n",
    "\n",
    "$i$番目の$n$次元単位ベクトル$e_i$を作るJuliaの組み込み関数はない．以下は$i=2, n=4$の場合に$e_i$を作るコードである．"
   ]
  },
  {
   "cell_type": "code",
   "execution_count": 29,
   "metadata": {
    "ExecuteTime": {
     "end_time": "2019-09-18T10:58:30.174000+09:00",
     "start_time": "2019-09-18T01:58:24.787Z"
    }
   },
   "outputs": [
    {
     "data": {
      "text/plain": [
       "4-element Array{Float64,1}:\n",
       " 0.0\n",
       " 1.0\n",
       " 0.0\n",
       " 0.0"
      ]
     },
     "execution_count": 29,
     "metadata": {},
     "output_type": "execute_result"
    }
   ],
   "source": [
    "i = 2; n = 4;\n",
    "ei = zeros(n);   # ゼロベクトルを作る\n",
    "ei[i] = 1;   # i番目の要素を1にする\n",
    "ei"
   ]
  },
  {
   "cell_type": "markdown",
   "metadata": {},
   "source": [
    "Juliaのインライン関数を使うと，以下のように$e_i$の関数を定義することもできる．"
   ]
  },
  {
   "cell_type": "code",
   "execution_count": 30,
   "metadata": {
    "ExecuteTime": {
     "end_time": "2019-09-18T10:58:30.501000+09:00",
     "start_time": "2019-09-18T01:58:24.802Z"
    }
   },
   "outputs": [
    {
     "data": {
      "text/plain": [
       "unit_vector (generic function with 1 method)"
      ]
     },
     "execution_count": 30,
     "metadata": {},
     "output_type": "execute_result"
    }
   ],
   "source": [
    "unit_vector(i,n) = [zeros(i-1); 1 ; zeros(n-i)]"
   ]
  },
  {
   "cell_type": "code",
   "execution_count": 31,
   "metadata": {
    "ExecuteTime": {
     "end_time": "2019-09-18T10:58:30.603000+09:00",
     "start_time": "2019-09-18T01:58:24.806Z"
    }
   },
   "outputs": [
    {
     "data": {
      "text/plain": [
       "4-element Array{Float64,1}:\n",
       " 0.0\n",
       " 1.0\n",
       " 0.0\n",
       " 0.0"
      ]
     },
     "execution_count": 31,
     "metadata": {},
     "output_type": "execute_result"
    }
   ],
   "source": [
    "unit_vector(2,4)"
   ]
  },
  {
   "cell_type": "markdown",
   "metadata": {},
   "source": [
    "### 1ベクトル\n",
    "\n",
    "$n$次元ベクトルで要素がすべて1のベクトルは，本書では$\\boldsymbol{1}_n$または単に$\\boldsymbol{1}$と表記する．Juliaでは`ones(n)`を使う．"
   ]
  },
  {
   "cell_type": "code",
   "execution_count": 32,
   "metadata": {
    "ExecuteTime": {
     "end_time": "2019-09-18T10:58:30.607000+09:00",
     "start_time": "2019-09-18T01:58:24.810Z"
    }
   },
   "outputs": [
    {
     "data": {
      "text/plain": [
       "2-element Array{Float64,1}:\n",
       " 1.0\n",
       " 1.0"
      ]
     },
     "execution_count": 32,
     "metadata": {},
     "output_type": "execute_result"
    }
   ],
   "source": [
    "ones(2)"
   ]
  },
  {
   "cell_type": "markdown",
   "metadata": {},
   "source": [
    "### 乱数ベクトル\n",
    "\n",
    "本書では確率の概念を扱わないため，乱数ベクトルを使うことはない．しかし，等価性やアルゴリズムの検証など，ランダムなベクトルを生成できれば有用な場合がある．Juliaでは`rand(n)`で，要素が0から1，長さが$n$の乱数ベクトルを生成する．この関数を呼び出したり評価するたびに，異なるベクトルが生成される．似たような関数に`randn(n)`がある．これは要素が正規分布（ガウス分布）から抽出された値を持つ$n$次元のベクトルである（`randn`の最後の`n`は正規分布の頭文字である）．この要素は正にも負にもなり，そのほとんどが1桁の範囲にある．これらの関数は毎回違うベクトルを返すことを覚えておくこと．以下のコードを実行しても表示される値は違うものになっている．"
   ]
  },
  {
   "cell_type": "code",
   "execution_count": 33,
   "metadata": {
    "ExecuteTime": {
     "end_time": "2019-09-18T10:58:30.652000+09:00",
     "start_time": "2019-09-18T01:58:24.814Z"
    }
   },
   "outputs": [
    {
     "data": {
      "text/plain": [
       "2-element Array{Float64,1}:\n",
       " 0.6004607900253356\n",
       " 0.6790068403593492"
      ]
     },
     "execution_count": 33,
     "metadata": {},
     "output_type": "execute_result"
    }
   ],
   "source": [
    "rand(2)"
   ]
  },
  {
   "cell_type": "code",
   "execution_count": 34,
   "metadata": {
    "ExecuteTime": {
     "end_time": "2019-09-18T10:58:30.653000+09:00",
     "start_time": "2019-09-18T01:58:24.817Z"
    }
   },
   "outputs": [
    {
     "data": {
      "text/plain": [
       "2-element Array{Float64,1}:\n",
       " 0.3927167178119775  \n",
       " 0.009436617639674516"
      ]
     },
     "execution_count": 34,
     "metadata": {},
     "output_type": "execute_result"
    }
   ],
   "source": [
    "rand(2)"
   ]
  },
  {
   "cell_type": "code",
   "execution_count": 35,
   "metadata": {
    "ExecuteTime": {
     "end_time": "2019-09-18T10:58:30.654000+09:00",
     "start_time": "2019-09-18T01:58:24.821Z"
    }
   },
   "outputs": [
    {
     "data": {
      "text/plain": [
       "2-element Array{Float64,1}:\n",
       " 0.72214815527053  \n",
       " 0.3014812454487741"
      ]
     },
     "execution_count": 35,
     "metadata": {},
     "output_type": "execute_result"
    }
   ],
   "source": [
    "rand(2)"
   ]
  },
  {
   "cell_type": "markdown",
   "metadata": {},
   "source": [
    "### プロット\n",
    "\n",
    "Juliaでプロットするためのパッケージはいくつか存在する．その一つが`Plots.jl`で，ページ？？で述べたように，Juliaのパッケージマネージャでインストールする必要がある．すでに`Plots`がインストールされていれば，コマンド`using Plots`でインポートすれば（少し時間がかかるかもしれない），Juliaで使うことができる．その後はJuliaのコマンドでプロットを作成したり操作したりすることができる．\n",
    "\n",
    "例えば本書の図1.3に示す温度の時系列をプロットするためのコードは以下のものである．最後の行ではプロットをファイル`temperature.pdf`に保存している．この結果を図1.1に示す．"
   ]
  },
  {
   "cell_type": "code",
   "execution_count": 36,
   "metadata": {
    "ExecuteTime": {
     "end_time": "2019-09-18T10:58:34.867000+09:00",
     "start_time": "2019-09-18T01:58:24.825Z"
    }
   },
   "outputs": [],
   "source": [
    "using Plots  # 1セッションにつき1回実行すればよい"
   ]
  },
  {
   "cell_type": "code",
   "execution_count": 37,
   "metadata": {
    "ExecuteTime": {
     "end_time": "2019-09-18T10:58:34.867000+09:00",
     "start_time": "2019-09-18T01:58:24.825Z"
    },
    "scrolled": true
   },
   "outputs": [
    {
     "data": {
      "image/svg+xml": [
       "<?xml version=\"1.0\" encoding=\"utf-8\"?>\n",
       "<svg xmlns=\"http://www.w3.org/2000/svg\" xmlns:xlink=\"http://www.w3.org/1999/xlink\" width=\"600\" height=\"400\" viewBox=\"0 0 2400 1600\">\n",
       "<defs>\n",
       "  <clipPath id=\"clip2300\">\n",
       "    <rect x=\"0\" y=\"0\" width=\"2400\" height=\"1600\"/>\n",
       "  </clipPath>\n",
       "</defs>\n",
       "<polygon clip-path=\"url(#clip2300)\" points=\"\n",
       "0,1600 2400,1600 2400,0 0,0 \n",
       "  \" fill=\"#ffffff\" fill-rule=\"evenodd\" fill-opacity=\"1\"/>\n",
       "<defs>\n",
       "  <clipPath id=\"clip2301\">\n",
       "    <rect x=\"480\" y=\"0\" width=\"1681\" height=\"1600\"/>\n",
       "  </clipPath>\n",
       "</defs>\n",
       "<polygon clip-path=\"url(#clip2300)\" points=\"\n",
       "140.517,1487.47 2352.76,1487.47 2352.76,47.2441 140.517,47.2441 \n",
       "  \" fill=\"#ffffff\" fill-rule=\"evenodd\" fill-opacity=\"1\"/>\n",
       "<defs>\n",
       "  <clipPath id=\"clip2302\">\n",
       "    <rect x=\"140\" y=\"47\" width=\"2213\" height=\"1441\"/>\n",
       "  </clipPath>\n",
       "</defs>\n",
       "<polyline clip-path=\"url(#clip2300)\" style=\"stroke:#000000; stroke-width:4; stroke-opacity:1; fill:none\" points=\"\n",
       "  140.517,1487.47 2352.76,1487.47 \n",
       "  \"/>\n",
       "<polyline clip-path=\"url(#clip2300)\" style=\"stroke:#000000; stroke-width:4; stroke-opacity:1; fill:none\" points=\"\n",
       "  140.517,1487.47 140.517,47.2441 \n",
       "  \"/>\n",
       "<polyline clip-path=\"url(#clip2300)\" style=\"stroke:#000000; stroke-width:4; stroke-opacity:1; fill:none\" points=\"\n",
       "  158.723,1487.47 158.723,1465.87 \n",
       "  \"/>\n",
       "<polyline clip-path=\"url(#clip2300)\" style=\"stroke:#000000; stroke-width:4; stroke-opacity:1; fill:none\" points=\"\n",
       "  602.769,1487.47 602.769,1465.87 \n",
       "  \"/>\n",
       "<polyline clip-path=\"url(#clip2300)\" style=\"stroke:#000000; stroke-width:4; stroke-opacity:1; fill:none\" points=\"\n",
       "  1046.82,1487.47 1046.82,1465.87 \n",
       "  \"/>\n",
       "<polyline clip-path=\"url(#clip2300)\" style=\"stroke:#000000; stroke-width:4; stroke-opacity:1; fill:none\" points=\"\n",
       "  1490.86,1487.47 1490.86,1465.87 \n",
       "  \"/>\n",
       "<polyline clip-path=\"url(#clip2300)\" style=\"stroke:#000000; stroke-width:4; stroke-opacity:1; fill:none\" points=\"\n",
       "  1934.91,1487.47 1934.91,1465.87 \n",
       "  \"/>\n",
       "<polyline clip-path=\"url(#clip2300)\" style=\"stroke:#000000; stroke-width:4; stroke-opacity:1; fill:none\" points=\"\n",
       "  140.517,1252.61 173.7,1252.61 \n",
       "  \"/>\n",
       "<polyline clip-path=\"url(#clip2300)\" style=\"stroke:#000000; stroke-width:4; stroke-opacity:1; fill:none\" points=\"\n",
       "  140.517,929.11 173.7,929.11 \n",
       "  \"/>\n",
       "<polyline clip-path=\"url(#clip2300)\" style=\"stroke:#000000; stroke-width:4; stroke-opacity:1; fill:none\" points=\"\n",
       "  140.517,605.608 173.7,605.608 \n",
       "  \"/>\n",
       "<polyline clip-path=\"url(#clip2300)\" style=\"stroke:#000000; stroke-width:4; stroke-opacity:1; fill:none\" points=\"\n",
       "  140.517,282.107 173.7,282.107 \n",
       "  \"/>\n",
       "<g clip-path=\"url(#clip2300)\">\n",
       "<text style=\"fill:#000000; fill-opacity:1; font-family:Arial,Helvetica Neue,Helvetica,sans-serif; font-size:48px; text-anchor:middle;\" transform=\"rotate(0, 158.723, 1541.47)\" x=\"158.723\" y=\"1541.47\">0</text>\n",
       "</g>\n",
       "<g clip-path=\"url(#clip2300)\">\n",
       "<text style=\"fill:#000000; fill-opacity:1; font-family:Arial,Helvetica Neue,Helvetica,sans-serif; font-size:48px; text-anchor:middle;\" transform=\"rotate(0, 602.769, 1541.47)\" x=\"602.769\" y=\"1541.47\">10</text>\n",
       "</g>\n",
       "<g clip-path=\"url(#clip2300)\">\n",
       "<text style=\"fill:#000000; fill-opacity:1; font-family:Arial,Helvetica Neue,Helvetica,sans-serif; font-size:48px; text-anchor:middle;\" transform=\"rotate(0, 1046.82, 1541.47)\" x=\"1046.82\" y=\"1541.47\">20</text>\n",
       "</g>\n",
       "<g clip-path=\"url(#clip2300)\">\n",
       "<text style=\"fill:#000000; fill-opacity:1; font-family:Arial,Helvetica Neue,Helvetica,sans-serif; font-size:48px; text-anchor:middle;\" transform=\"rotate(0, 1490.86, 1541.47)\" x=\"1490.86\" y=\"1541.47\">30</text>\n",
       "</g>\n",
       "<g clip-path=\"url(#clip2300)\">\n",
       "<text style=\"fill:#000000; fill-opacity:1; font-family:Arial,Helvetica Neue,Helvetica,sans-serif; font-size:48px; text-anchor:middle;\" transform=\"rotate(0, 1934.91, 1541.47)\" x=\"1934.91\" y=\"1541.47\">40</text>\n",
       "</g>\n",
       "<g clip-path=\"url(#clip2300)\">\n",
       "<text style=\"fill:#000000; fill-opacity:1; font-family:Arial,Helvetica Neue,Helvetica,sans-serif; font-size:48px; text-anchor:end;\" transform=\"rotate(0, 116.517, 1270.11)\" x=\"116.517\" y=\"1270.11\">70</text>\n",
       "</g>\n",
       "<g clip-path=\"url(#clip2300)\">\n",
       "<text style=\"fill:#000000; fill-opacity:1; font-family:Arial,Helvetica Neue,Helvetica,sans-serif; font-size:48px; text-anchor:end;\" transform=\"rotate(0, 116.517, 946.61)\" x=\"116.517\" y=\"946.61\">75</text>\n",
       "</g>\n",
       "<g clip-path=\"url(#clip2300)\">\n",
       "<text style=\"fill:#000000; fill-opacity:1; font-family:Arial,Helvetica Neue,Helvetica,sans-serif; font-size:48px; text-anchor:end;\" transform=\"rotate(0, 116.517, 623.108)\" x=\"116.517\" y=\"623.108\">80</text>\n",
       "</g>\n",
       "<g clip-path=\"url(#clip2300)\">\n",
       "<text style=\"fill:#000000; fill-opacity:1; font-family:Arial,Helvetica Neue,Helvetica,sans-serif; font-size:48px; text-anchor:end;\" transform=\"rotate(0, 116.517, 299.607)\" x=\"116.517\" y=\"299.607\">85</text>\n",
       "</g>\n",
       "<polyline clip-path=\"url(#clip2302)\" style=\"stroke:#009af9; stroke-width:4; stroke-opacity:1; fill:none\" points=\"\n",
       "  203.127,1187.91 247.532,1187.91 291.937,1382.01 336.341,1317.31 380.746,1382.01 425.151,1317.31 469.555,1382.01 513.96,993.811 558.364,799.71 602.769,476.208 \n",
       "  647.174,282.107 691.578,217.406 735.983,88.0053 780.388,217.406 824.792,282.107 869.197,217.406 913.602,346.807 958.006,670.309 1002.41,799.71 1046.82,929.11 \n",
       "  1091.22,1058.51 1135.62,1187.91 1180.03,1252.61 1224.43,1252.61 1268.84,1317.31 1313.24,1317.31 1357.65,1317.31 1402.05,1317.31 1446.46,1446.71 1490.86,1382.01 \n",
       "  1535.27,1382.01 1579.67,1058.51 1624.08,864.41 1668.48,799.71 1712.89,476.208 1757.29,346.807 1801.69,346.807 1846.1,540.908 1890.5,605.608 1934.91,735.009 \n",
       "  1979.31,670.309 2023.72,735.009 2068.12,1058.51 2112.53,1123.21 2156.93,1252.61 2201.34,1252.61 2245.74,1382.01 2290.15,1446.71 \n",
       "  \"/>\n",
       "<circle clip-path=\"url(#clip2302)\" style=\"fill:#000000; stroke:none; fill-opacity:1\" cx=\"203.127\" cy=\"1187.91\" r=\"18\"/>\n",
       "<circle clip-path=\"url(#clip2302)\" style=\"fill:#009af9; stroke:none; fill-opacity:1\" cx=\"203.127\" cy=\"1187.91\" r=\"14\"/>\n",
       "<circle clip-path=\"url(#clip2302)\" style=\"fill:#000000; stroke:none; fill-opacity:1\" cx=\"247.532\" cy=\"1187.91\" r=\"18\"/>\n",
       "<circle clip-path=\"url(#clip2302)\" style=\"fill:#009af9; stroke:none; fill-opacity:1\" cx=\"247.532\" cy=\"1187.91\" r=\"14\"/>\n",
       "<circle clip-path=\"url(#clip2302)\" style=\"fill:#000000; stroke:none; fill-opacity:1\" cx=\"291.937\" cy=\"1382.01\" r=\"18\"/>\n",
       "<circle clip-path=\"url(#clip2302)\" style=\"fill:#009af9; stroke:none; fill-opacity:1\" cx=\"291.937\" cy=\"1382.01\" r=\"14\"/>\n",
       "<circle clip-path=\"url(#clip2302)\" style=\"fill:#000000; stroke:none; fill-opacity:1\" cx=\"336.341\" cy=\"1317.31\" r=\"18\"/>\n",
       "<circle clip-path=\"url(#clip2302)\" style=\"fill:#009af9; stroke:none; fill-opacity:1\" cx=\"336.341\" cy=\"1317.31\" r=\"14\"/>\n",
       "<circle clip-path=\"url(#clip2302)\" style=\"fill:#000000; stroke:none; fill-opacity:1\" cx=\"380.746\" cy=\"1382.01\" r=\"18\"/>\n",
       "<circle clip-path=\"url(#clip2302)\" style=\"fill:#009af9; stroke:none; fill-opacity:1\" cx=\"380.746\" cy=\"1382.01\" r=\"14\"/>\n",
       "<circle clip-path=\"url(#clip2302)\" style=\"fill:#000000; stroke:none; fill-opacity:1\" cx=\"425.151\" cy=\"1317.31\" r=\"18\"/>\n",
       "<circle clip-path=\"url(#clip2302)\" style=\"fill:#009af9; stroke:none; fill-opacity:1\" cx=\"425.151\" cy=\"1317.31\" r=\"14\"/>\n",
       "<circle clip-path=\"url(#clip2302)\" style=\"fill:#000000; stroke:none; fill-opacity:1\" cx=\"469.555\" cy=\"1382.01\" r=\"18\"/>\n",
       "<circle clip-path=\"url(#clip2302)\" style=\"fill:#009af9; stroke:none; fill-opacity:1\" cx=\"469.555\" cy=\"1382.01\" r=\"14\"/>\n",
       "<circle clip-path=\"url(#clip2302)\" style=\"fill:#000000; stroke:none; fill-opacity:1\" cx=\"513.96\" cy=\"993.811\" r=\"18\"/>\n",
       "<circle clip-path=\"url(#clip2302)\" style=\"fill:#009af9; stroke:none; fill-opacity:1\" cx=\"513.96\" cy=\"993.811\" r=\"14\"/>\n",
       "<circle clip-path=\"url(#clip2302)\" style=\"fill:#000000; stroke:none; fill-opacity:1\" cx=\"558.364\" cy=\"799.71\" r=\"18\"/>\n",
       "<circle clip-path=\"url(#clip2302)\" style=\"fill:#009af9; stroke:none; fill-opacity:1\" cx=\"558.364\" cy=\"799.71\" r=\"14\"/>\n",
       "<circle clip-path=\"url(#clip2302)\" style=\"fill:#000000; stroke:none; fill-opacity:1\" cx=\"602.769\" cy=\"476.208\" r=\"18\"/>\n",
       "<circle clip-path=\"url(#clip2302)\" style=\"fill:#009af9; stroke:none; fill-opacity:1\" cx=\"602.769\" cy=\"476.208\" r=\"14\"/>\n",
       "<circle clip-path=\"url(#clip2302)\" style=\"fill:#000000; stroke:none; fill-opacity:1\" cx=\"647.174\" cy=\"282.107\" r=\"18\"/>\n",
       "<circle clip-path=\"url(#clip2302)\" style=\"fill:#009af9; stroke:none; fill-opacity:1\" cx=\"647.174\" cy=\"282.107\" r=\"14\"/>\n",
       "<circle clip-path=\"url(#clip2302)\" style=\"fill:#000000; stroke:none; fill-opacity:1\" cx=\"691.578\" cy=\"217.406\" r=\"18\"/>\n",
       "<circle clip-path=\"url(#clip2302)\" style=\"fill:#009af9; stroke:none; fill-opacity:1\" cx=\"691.578\" cy=\"217.406\" r=\"14\"/>\n",
       "<circle clip-path=\"url(#clip2302)\" style=\"fill:#000000; stroke:none; fill-opacity:1\" cx=\"735.983\" cy=\"88.0053\" r=\"18\"/>\n",
       "<circle clip-path=\"url(#clip2302)\" style=\"fill:#009af9; stroke:none; fill-opacity:1\" cx=\"735.983\" cy=\"88.0053\" r=\"14\"/>\n",
       "<circle clip-path=\"url(#clip2302)\" style=\"fill:#000000; stroke:none; fill-opacity:1\" cx=\"780.388\" cy=\"217.406\" r=\"18\"/>\n",
       "<circle clip-path=\"url(#clip2302)\" style=\"fill:#009af9; stroke:none; fill-opacity:1\" cx=\"780.388\" cy=\"217.406\" r=\"14\"/>\n",
       "<circle clip-path=\"url(#clip2302)\" style=\"fill:#000000; stroke:none; fill-opacity:1\" cx=\"824.792\" cy=\"282.107\" r=\"18\"/>\n",
       "<circle clip-path=\"url(#clip2302)\" style=\"fill:#009af9; stroke:none; fill-opacity:1\" cx=\"824.792\" cy=\"282.107\" r=\"14\"/>\n",
       "<circle clip-path=\"url(#clip2302)\" style=\"fill:#000000; stroke:none; fill-opacity:1\" cx=\"869.197\" cy=\"217.406\" r=\"18\"/>\n",
       "<circle clip-path=\"url(#clip2302)\" style=\"fill:#009af9; stroke:none; fill-opacity:1\" cx=\"869.197\" cy=\"217.406\" r=\"14\"/>\n",
       "<circle clip-path=\"url(#clip2302)\" style=\"fill:#000000; stroke:none; fill-opacity:1\" cx=\"913.602\" cy=\"346.807\" r=\"18\"/>\n",
       "<circle clip-path=\"url(#clip2302)\" style=\"fill:#009af9; stroke:none; fill-opacity:1\" cx=\"913.602\" cy=\"346.807\" r=\"14\"/>\n",
       "<circle clip-path=\"url(#clip2302)\" style=\"fill:#000000; stroke:none; fill-opacity:1\" cx=\"958.006\" cy=\"670.309\" r=\"18\"/>\n",
       "<circle clip-path=\"url(#clip2302)\" style=\"fill:#009af9; stroke:none; fill-opacity:1\" cx=\"958.006\" cy=\"670.309\" r=\"14\"/>\n",
       "<circle clip-path=\"url(#clip2302)\" style=\"fill:#000000; stroke:none; fill-opacity:1\" cx=\"1002.41\" cy=\"799.71\" r=\"18\"/>\n",
       "<circle clip-path=\"url(#clip2302)\" style=\"fill:#009af9; stroke:none; fill-opacity:1\" cx=\"1002.41\" cy=\"799.71\" r=\"14\"/>\n",
       "<circle clip-path=\"url(#clip2302)\" style=\"fill:#000000; stroke:none; fill-opacity:1\" cx=\"1046.82\" cy=\"929.11\" r=\"18\"/>\n",
       "<circle clip-path=\"url(#clip2302)\" style=\"fill:#009af9; stroke:none; fill-opacity:1\" cx=\"1046.82\" cy=\"929.11\" r=\"14\"/>\n",
       "<circle clip-path=\"url(#clip2302)\" style=\"fill:#000000; stroke:none; fill-opacity:1\" cx=\"1091.22\" cy=\"1058.51\" r=\"18\"/>\n",
       "<circle clip-path=\"url(#clip2302)\" style=\"fill:#009af9; stroke:none; fill-opacity:1\" cx=\"1091.22\" cy=\"1058.51\" r=\"14\"/>\n",
       "<circle clip-path=\"url(#clip2302)\" style=\"fill:#000000; stroke:none; fill-opacity:1\" cx=\"1135.62\" cy=\"1187.91\" r=\"18\"/>\n",
       "<circle clip-path=\"url(#clip2302)\" style=\"fill:#009af9; stroke:none; fill-opacity:1\" cx=\"1135.62\" cy=\"1187.91\" r=\"14\"/>\n",
       "<circle clip-path=\"url(#clip2302)\" style=\"fill:#000000; stroke:none; fill-opacity:1\" cx=\"1180.03\" cy=\"1252.61\" r=\"18\"/>\n",
       "<circle clip-path=\"url(#clip2302)\" style=\"fill:#009af9; stroke:none; fill-opacity:1\" cx=\"1180.03\" cy=\"1252.61\" r=\"14\"/>\n",
       "<circle clip-path=\"url(#clip2302)\" style=\"fill:#000000; stroke:none; fill-opacity:1\" cx=\"1224.43\" cy=\"1252.61\" r=\"18\"/>\n",
       "<circle clip-path=\"url(#clip2302)\" style=\"fill:#009af9; stroke:none; fill-opacity:1\" cx=\"1224.43\" cy=\"1252.61\" r=\"14\"/>\n",
       "<circle clip-path=\"url(#clip2302)\" style=\"fill:#000000; stroke:none; fill-opacity:1\" cx=\"1268.84\" cy=\"1317.31\" r=\"18\"/>\n",
       "<circle clip-path=\"url(#clip2302)\" style=\"fill:#009af9; stroke:none; fill-opacity:1\" cx=\"1268.84\" cy=\"1317.31\" r=\"14\"/>\n",
       "<circle clip-path=\"url(#clip2302)\" style=\"fill:#000000; stroke:none; fill-opacity:1\" cx=\"1313.24\" cy=\"1317.31\" r=\"18\"/>\n",
       "<circle clip-path=\"url(#clip2302)\" style=\"fill:#009af9; stroke:none; fill-opacity:1\" cx=\"1313.24\" cy=\"1317.31\" r=\"14\"/>\n",
       "<circle clip-path=\"url(#clip2302)\" style=\"fill:#000000; stroke:none; fill-opacity:1\" cx=\"1357.65\" cy=\"1317.31\" r=\"18\"/>\n",
       "<circle clip-path=\"url(#clip2302)\" style=\"fill:#009af9; stroke:none; fill-opacity:1\" cx=\"1357.65\" cy=\"1317.31\" r=\"14\"/>\n",
       "<circle clip-path=\"url(#clip2302)\" style=\"fill:#000000; stroke:none; fill-opacity:1\" cx=\"1402.05\" cy=\"1317.31\" r=\"18\"/>\n",
       "<circle clip-path=\"url(#clip2302)\" style=\"fill:#009af9; stroke:none; fill-opacity:1\" cx=\"1402.05\" cy=\"1317.31\" r=\"14\"/>\n",
       "<circle clip-path=\"url(#clip2302)\" style=\"fill:#000000; stroke:none; fill-opacity:1\" cx=\"1446.46\" cy=\"1446.71\" r=\"18\"/>\n",
       "<circle clip-path=\"url(#clip2302)\" style=\"fill:#009af9; stroke:none; fill-opacity:1\" cx=\"1446.46\" cy=\"1446.71\" r=\"14\"/>\n",
       "<circle clip-path=\"url(#clip2302)\" style=\"fill:#000000; stroke:none; fill-opacity:1\" cx=\"1490.86\" cy=\"1382.01\" r=\"18\"/>\n",
       "<circle clip-path=\"url(#clip2302)\" style=\"fill:#009af9; stroke:none; fill-opacity:1\" cx=\"1490.86\" cy=\"1382.01\" r=\"14\"/>\n",
       "<circle clip-path=\"url(#clip2302)\" style=\"fill:#000000; stroke:none; fill-opacity:1\" cx=\"1535.27\" cy=\"1382.01\" r=\"18\"/>\n",
       "<circle clip-path=\"url(#clip2302)\" style=\"fill:#009af9; stroke:none; fill-opacity:1\" cx=\"1535.27\" cy=\"1382.01\" r=\"14\"/>\n",
       "<circle clip-path=\"url(#clip2302)\" style=\"fill:#000000; stroke:none; fill-opacity:1\" cx=\"1579.67\" cy=\"1058.51\" r=\"18\"/>\n",
       "<circle clip-path=\"url(#clip2302)\" style=\"fill:#009af9; stroke:none; fill-opacity:1\" cx=\"1579.67\" cy=\"1058.51\" r=\"14\"/>\n",
       "<circle clip-path=\"url(#clip2302)\" style=\"fill:#000000; stroke:none; fill-opacity:1\" cx=\"1624.08\" cy=\"864.41\" r=\"18\"/>\n",
       "<circle clip-path=\"url(#clip2302)\" style=\"fill:#009af9; stroke:none; fill-opacity:1\" cx=\"1624.08\" cy=\"864.41\" r=\"14\"/>\n",
       "<circle clip-path=\"url(#clip2302)\" style=\"fill:#000000; stroke:none; fill-opacity:1\" cx=\"1668.48\" cy=\"799.71\" r=\"18\"/>\n",
       "<circle clip-path=\"url(#clip2302)\" style=\"fill:#009af9; stroke:none; fill-opacity:1\" cx=\"1668.48\" cy=\"799.71\" r=\"14\"/>\n",
       "<circle clip-path=\"url(#clip2302)\" style=\"fill:#000000; stroke:none; fill-opacity:1\" cx=\"1712.89\" cy=\"476.208\" r=\"18\"/>\n",
       "<circle clip-path=\"url(#clip2302)\" style=\"fill:#009af9; stroke:none; fill-opacity:1\" cx=\"1712.89\" cy=\"476.208\" r=\"14\"/>\n",
       "<circle clip-path=\"url(#clip2302)\" style=\"fill:#000000; stroke:none; fill-opacity:1\" cx=\"1757.29\" cy=\"346.807\" r=\"18\"/>\n",
       "<circle clip-path=\"url(#clip2302)\" style=\"fill:#009af9; stroke:none; fill-opacity:1\" cx=\"1757.29\" cy=\"346.807\" r=\"14\"/>\n",
       "<circle clip-path=\"url(#clip2302)\" style=\"fill:#000000; stroke:none; fill-opacity:1\" cx=\"1801.69\" cy=\"346.807\" r=\"18\"/>\n",
       "<circle clip-path=\"url(#clip2302)\" style=\"fill:#009af9; stroke:none; fill-opacity:1\" cx=\"1801.69\" cy=\"346.807\" r=\"14\"/>\n",
       "<circle clip-path=\"url(#clip2302)\" style=\"fill:#000000; stroke:none; fill-opacity:1\" cx=\"1846.1\" cy=\"540.908\" r=\"18\"/>\n",
       "<circle clip-path=\"url(#clip2302)\" style=\"fill:#009af9; stroke:none; fill-opacity:1\" cx=\"1846.1\" cy=\"540.908\" r=\"14\"/>\n",
       "<circle clip-path=\"url(#clip2302)\" style=\"fill:#000000; stroke:none; fill-opacity:1\" cx=\"1890.5\" cy=\"605.608\" r=\"18\"/>\n",
       "<circle clip-path=\"url(#clip2302)\" style=\"fill:#009af9; stroke:none; fill-opacity:1\" cx=\"1890.5\" cy=\"605.608\" r=\"14\"/>\n",
       "<circle clip-path=\"url(#clip2302)\" style=\"fill:#000000; stroke:none; fill-opacity:1\" cx=\"1934.91\" cy=\"735.009\" r=\"18\"/>\n",
       "<circle clip-path=\"url(#clip2302)\" style=\"fill:#009af9; stroke:none; fill-opacity:1\" cx=\"1934.91\" cy=\"735.009\" r=\"14\"/>\n",
       "<circle clip-path=\"url(#clip2302)\" style=\"fill:#000000; stroke:none; fill-opacity:1\" cx=\"1979.31\" cy=\"670.309\" r=\"18\"/>\n",
       "<circle clip-path=\"url(#clip2302)\" style=\"fill:#009af9; stroke:none; fill-opacity:1\" cx=\"1979.31\" cy=\"670.309\" r=\"14\"/>\n",
       "<circle clip-path=\"url(#clip2302)\" style=\"fill:#000000; stroke:none; fill-opacity:1\" cx=\"2023.72\" cy=\"735.009\" r=\"18\"/>\n",
       "<circle clip-path=\"url(#clip2302)\" style=\"fill:#009af9; stroke:none; fill-opacity:1\" cx=\"2023.72\" cy=\"735.009\" r=\"14\"/>\n",
       "<circle clip-path=\"url(#clip2302)\" style=\"fill:#000000; stroke:none; fill-opacity:1\" cx=\"2068.12\" cy=\"1058.51\" r=\"18\"/>\n",
       "<circle clip-path=\"url(#clip2302)\" style=\"fill:#009af9; stroke:none; fill-opacity:1\" cx=\"2068.12\" cy=\"1058.51\" r=\"14\"/>\n",
       "<circle clip-path=\"url(#clip2302)\" style=\"fill:#000000; stroke:none; fill-opacity:1\" cx=\"2112.53\" cy=\"1123.21\" r=\"18\"/>\n",
       "<circle clip-path=\"url(#clip2302)\" style=\"fill:#009af9; stroke:none; fill-opacity:1\" cx=\"2112.53\" cy=\"1123.21\" r=\"14\"/>\n",
       "<circle clip-path=\"url(#clip2302)\" style=\"fill:#000000; stroke:none; fill-opacity:1\" cx=\"2156.93\" cy=\"1252.61\" r=\"18\"/>\n",
       "<circle clip-path=\"url(#clip2302)\" style=\"fill:#009af9; stroke:none; fill-opacity:1\" cx=\"2156.93\" cy=\"1252.61\" r=\"14\"/>\n",
       "<circle clip-path=\"url(#clip2302)\" style=\"fill:#000000; stroke:none; fill-opacity:1\" cx=\"2201.34\" cy=\"1252.61\" r=\"18\"/>\n",
       "<circle clip-path=\"url(#clip2302)\" style=\"fill:#009af9; stroke:none; fill-opacity:1\" cx=\"2201.34\" cy=\"1252.61\" r=\"14\"/>\n",
       "<circle clip-path=\"url(#clip2302)\" style=\"fill:#000000; stroke:none; fill-opacity:1\" cx=\"2245.74\" cy=\"1382.01\" r=\"18\"/>\n",
       "<circle clip-path=\"url(#clip2302)\" style=\"fill:#009af9; stroke:none; fill-opacity:1\" cx=\"2245.74\" cy=\"1382.01\" r=\"14\"/>\n",
       "<circle clip-path=\"url(#clip2302)\" style=\"fill:#000000; stroke:none; fill-opacity:1\" cx=\"2290.15\" cy=\"1446.71\" r=\"18\"/>\n",
       "<circle clip-path=\"url(#clip2302)\" style=\"fill:#009af9; stroke:none; fill-opacity:1\" cx=\"2290.15\" cy=\"1446.71\" r=\"14\"/>\n",
       "</svg>\n"
      ]
     },
     "execution_count": 37,
     "metadata": {},
     "output_type": "execute_result"
    }
   ],
   "source": [
    "temps = [ 71, 71, 68, 69, 68, 69, 68, 74, 77, 82, 85, 86, 88, 86, 85, 86, 84, 79, 77, 75, 73, 71, 70, 70, 69, 69, 69, 69, 67, 68, 68, 73, 76, 77, 82, 84, 84, 81, 80, 78, 79, 78, 73, 72, 70, 70, 68, 67 ];\n",
    "plot(temps, marker = :circle, legend = false, grid = false)"
   ]
  },
  {
   "cell_type": "code",
   "execution_count": 38,
   "metadata": {
    "ExecuteTime": {
     "end_time": "2019-09-18T10:58:53.086000+09:00",
     "start_time": "2019-09-18T01:58:24.836Z"
    }
   },
   "outputs": [],
   "source": [
    "savefig(\"temperature.pdf\")"
   ]
  },
  {
   "cell_type": "markdown",
   "metadata": {},
   "source": [
    "![図1.1](fig1-1.pdf)\n",
    "図1.1 2015年8月5-6日のロサンゼルス郊外の1時間毎の気温（午前12:47から午後11:47まで）\n",
    "\n",
    "## 1.2 ベクトルの和\n",
    "\n",
    "### ベクトルの和と差\n",
    "\n",
    "同じサイズのベクトル`x`と`y`に対して，`x+y`と`x-y`はそれぞれ和と差を計算する．"
   ]
  },
  {
   "cell_type": "code",
   "execution_count": 39,
   "metadata": {
    "ExecuteTime": {
     "end_time": "2019-09-18T10:58:53.469000+09:00",
     "start_time": "2019-09-18T01:58:24.840Z"
    }
   },
   "outputs": [
    {
     "data": {
      "text/plain": [
       "3-element Array{Int64,1}:\n",
       " 1\n",
       " 9\n",
       " 3"
      ]
     },
     "execution_count": 39,
     "metadata": {},
     "output_type": "execute_result"
    }
   ],
   "source": [
    "[0, 7, 3] + [1, 2, 0] # ベクトルの和"
   ]
  },
  {
   "cell_type": "code",
   "execution_count": 40,
   "metadata": {
    "ExecuteTime": {
     "end_time": "2019-09-18T10:58:53.470000+09:00",
     "start_time": "2019-09-18T01:58:24.844Z"
    }
   },
   "outputs": [
    {
     "data": {
      "text/plain": [
       "2-element Array{Int64,1}:\n",
       " 0\n",
       " 8"
      ]
     },
     "execution_count": 40,
     "metadata": {},
     "output_type": "execute_result"
    }
   ],
   "source": [
    "[1, 9] - [1, 1]  # ベクトルの差"
   ]
  },
  {
   "cell_type": "markdown",
   "metadata": {},
   "source": [
    "## 1.3 ベクトルとスカラの積\n",
    "\n",
    "### ベクトルとスカラの積と商\n",
    "\n",
    "`a`がスカラ（数値）で`x`がベクトルの場合，スカラとベクトルの積を表す式は`a*x`または`x*a`である（Juliaでは実際には`2.0*x`を`2.0x`と書いてもよい．変数名は数字で始まることはないので，曖昧さは生じない）．ベクトルとスカラの商も同様に`x/a`と書く．あまり見かけない書き方ではあるが`a\\x`と書いてもよい．"
   ]
  },
  {
   "cell_type": "code",
   "execution_count": 41,
   "metadata": {
    "ExecuteTime": {
     "end_time": "2019-09-18T10:58:53.471000+09:00",
     "start_time": "2019-09-18T01:58:24.849Z"
    }
   },
   "outputs": [
    {
     "data": {
      "text/plain": [
       "3-element Array{Float64,1}:\n",
       "  0.0\n",
       "  4.4\n",
       " -2.2"
      ]
     },
     "execution_count": 41,
     "metadata": {},
     "output_type": "execute_result"
    }
   ],
   "source": [
    "x = [ 0, 2, -1 ];\n",
    "2.2 * x  # スカラとベクトルの積"
   ]
  },
  {
   "cell_type": "code",
   "execution_count": 42,
   "metadata": {
    "ExecuteTime": {
     "end_time": "2019-09-18T10:58:53.957000+09:00",
     "start_time": "2019-09-18T01:58:24.857Z"
    }
   },
   "outputs": [
    {
     "data": {
      "text/plain": [
       "3-element Array{Float64,1}:\n",
       "  0.0\n",
       "  4.4\n",
       " -2.2"
      ]
     },
     "execution_count": 42,
     "metadata": {},
     "output_type": "execute_result"
    }
   ],
   "source": [
    "x * 2.2  # ベクトルとスカラの積"
   ]
  },
  {
   "cell_type": "code",
   "execution_count": 43,
   "metadata": {
    "ExecuteTime": {
     "end_time": "2019-09-18T10:58:54.001000+09:00",
     "start_time": "2019-09-18T01:58:24.861Z"
    }
   },
   "outputs": [
    {
     "data": {
      "text/plain": [
       "3-element Array{Float64,1}:\n",
       "  0.0               \n",
       "  0.6666666666666666\n",
       " -0.3333333333333333"
      ]
     },
     "execution_count": 43,
     "metadata": {},
     "output_type": "execute_result"
    }
   ],
   "source": [
    "x / 3  # ベクトルとスカラの商"
   ]
  },
  {
   "cell_type": "code",
   "execution_count": 44,
   "metadata": {
    "ExecuteTime": {
     "end_time": "2019-09-18T10:58:54.039000+09:00",
     "start_time": "2019-09-18T01:58:24.864Z"
    }
   },
   "outputs": [
    {
     "data": {
      "text/plain": [
       "3-element Array{Float64,1}:\n",
       "  0.0               \n",
       "  0.6666666666666666\n",
       " -0.3333333333333333"
      ]
     },
     "execution_count": 44,
     "metadata": {},
     "output_type": "execute_result"
    }
   ],
   "source": [
    "3 \\ x  # スカラとベクトルの商"
   ]
  },
  {
   "cell_type": "markdown",
   "metadata": {},
   "source": [
    "### スカラとベクトルの和\n",
    "\n",
    "Juliaでスカラ`a`とベクトル`x`の和を計算するには，`x .+ a`と書く．この演算子の前にあるドット`.`は，Juliaでは要素毎に演算子を適用することを意味する（詳しくは後述）．つまりスカラーをベクトルの各要素に足したり引いたりすることを意味する（これは一般的な数学の記法ではない．本書の記法では$x + a \\boldsymbol{1}$となる．ここで$x$は$n$次元ベクトル，$a$はスカラー）．またJuliaではスカラーを左側に書いてベクトルとの和を計算することもできる．"
   ]
  },
  {
   "cell_type": "code",
   "execution_count": 45,
   "metadata": {
    "ExecuteTime": {
     "end_time": "2019-09-18T10:58:54.087000+09:00",
     "start_time": "2019-09-18T01:58:24.869Z"
    }
   },
   "outputs": [
    {
     "data": {
      "text/plain": [
       "3-element Array{Float64,1}:\n",
       " -0.2999999999999998\n",
       " -5.1               \n",
       " -1.0999999999999999"
      ]
     },
     "execution_count": 45,
     "metadata": {},
     "output_type": "execute_result"
    }
   ],
   "source": [
    "[1.1, -3.7, 0.3] .- 1.4  # ベクトルとスカラの差"
   ]
  },
  {
   "cell_type": "code",
   "execution_count": 46,
   "metadata": {
    "ExecuteTime": {
     "end_time": "2019-09-18T10:58:54.127000+09:00",
     "start_time": "2019-09-18T01:58:24.872Z"
    }
   },
   "outputs": [
    {
     "data": {
      "text/plain": [
       "2-element Array{Float64,1}:\n",
       "  1.7                \n",
       " -0.30000000000000004"
      ]
     },
     "execution_count": 46,
     "metadata": {},
     "output_type": "execute_result"
    }
   ],
   "source": [
    "0.7 .+ [1, -1]"
   ]
  },
  {
   "cell_type": "markdown",
   "metadata": {},
   "source": [
    "### 要素毎の演算\n",
    "\n",
    "Juliaは演算をベクトルの各要素に適用するメソッドをサポートしている．そのためには，演算子の前にドット`.`をつける．例えば，同じ長さのベクトル`x`と`y`に対して，`x .* y`，`x ./ y`，`x .\\ y`，`x .^ y`は要素毎のベクトル同士の演算である．これらはそれぞれ$x_i y_i, x_i / y_i, y_i / x_i, x_i^{y_i}$であり，$x$や$y$と同じ長さのベクトルである．\n",
    "\n",
    "要素毎の商の例として，assetのリターンの3次元ベクトル`r`を，assetの最初と最終的な価格（のベクトル）から計算しよう（本書の？？ページを参照）．"
   ]
  },
  {
   "cell_type": "code",
   "execution_count": 47,
   "metadata": {
    "ExecuteTime": {
     "end_time": "2019-09-18T10:58:54.128000+09:00",
     "start_time": "2019-09-18T01:58:24.876Z"
    }
   },
   "outputs": [
    {
     "data": {
      "text/plain": [
       "3-element Array{Float64,1}:\n",
       "  0.04063205417607233 \n",
       " -0.02239140170174653 \n",
       "  0.006341377488109907"
      ]
     },
     "execution_count": 47,
     "metadata": {},
     "output_type": "execute_result"
    }
   ],
   "source": [
    "p_initial = [ 22.15, 89.32, 56.77 ];\n",
    "p_final = [ 23.05, 87.32, 57.13 ];\n",
    "r = (p_final - p_initial) ./ p_initial"
   ]
  },
  {
   "cell_type": "markdown",
   "metadata": {},
   "source": [
    "### 要素毎のスカラ演算\n",
    "\n",
    "要素毎の演算はスカラに対しても適用できる．この場合，このスカラは，適切な次元の1ベクトルにそのスカラをかけたベクトルと解釈される．前述したスカラとベクトルの和はその特殊な場合である．`a`がスカラで`x`がベクトルの場合，`x .^ a`は，$i$番目の要素が$x_i^a$であるベクトル，`a .^ x`は要素が$a^{x_i}$であるベクトルになる．スカラのベクトルの和と同様に，要素毎の演算のドット記法は数学的な記法ではないし，本書でも使用しない．\n",
    "\n",
    "このドット記法は，Juliaでは要素毎に関数を適用するためにも使うことができる．関数名の「後」にドットを付けた場合，その関数を要素毎に適用することを意味する．例えば`x`がベクトルの場合，`sin.(x)`は`sin`を$x$の各要素に適用する．\n",
    "\n",
    "等値演算子`==`（とその他の関係演算子`<`, `>=`など）は，その前にドットをつけることで要素毎の演算子になる．`x == y`は`x`と`y`が同じベクトルかどうかを評価する．`x .== y`は`x`と`y`の対応する要素が等しいかどうかを評価する．"
   ]
  },
  {
   "cell_type": "code",
   "execution_count": 48,
   "metadata": {
    "ExecuteTime": {
     "end_time": "2019-09-18T10:58:54.178000+09:00",
     "start_time": "2019-09-18T01:58:24.887Z"
    }
   },
   "outputs": [],
   "source": [
    "w = [1,2,2]; z = [1,2,3];"
   ]
  },
  {
   "cell_type": "code",
   "execution_count": 49,
   "metadata": {
    "ExecuteTime": {
     "end_time": "2019-09-18T10:58:54.207000+09:00",
     "start_time": "2019-09-18T01:58:24.891Z"
    }
   },
   "outputs": [
    {
     "data": {
      "text/plain": [
       "false"
      ]
     },
     "execution_count": 49,
     "metadata": {},
     "output_type": "execute_result"
    }
   ],
   "source": [
    "w == z"
   ]
  },
  {
   "cell_type": "code",
   "execution_count": 50,
   "metadata": {
    "ExecuteTime": {
     "end_time": "2019-09-18T10:58:54.856000+09:00",
     "start_time": "2019-09-18T01:58:24.894Z"
    }
   },
   "outputs": [
    {
     "data": {
      "text/plain": [
       "3-element BitArray{1}:\n",
       " 1\n",
       " 1\n",
       " 0"
      ]
     },
     "execution_count": 50,
     "metadata": {},
     "output_type": "execute_result"
    }
   ],
   "source": [
    "w .== z"
   ]
  },
  {
   "cell_type": "markdown",
   "metadata": {},
   "source": [
    "これとJuliaのスライシングを組み合わせて，論理式を満たす要素を抜き出して部分ベクトルを作ることができる．例えば`x[abs.(x) .> 1]`は，絶対値が1以上の要素からなる部分ベクトルである．"
   ]
  },
  {
   "cell_type": "code",
   "execution_count": 51,
   "metadata": {
    "ExecuteTime": {
     "end_time": "2019-09-18T10:58:54.857000+09:00",
     "start_time": "2019-09-18T01:58:24.899Z"
    }
   },
   "outputs": [
    {
     "data": {
      "text/plain": [
       "4-element Array{Float64,1}:\n",
       "  1.1\n",
       "  0.5\n",
       " -1.5\n",
       " -0.3"
      ]
     },
     "execution_count": 51,
     "metadata": {},
     "output_type": "execute_result"
    }
   ],
   "source": [
    "x = [1.1, .5, -1.5, -0.3]"
   ]
  },
  {
   "cell_type": "code",
   "execution_count": 52,
   "metadata": {
    "ExecuteTime": {
     "end_time": "2019-09-18T10:58:54.969000+09:00",
     "start_time": "2019-09-18T01:58:24.902Z"
    }
   },
   "outputs": [
    {
     "data": {
      "text/plain": [
       "2-element Array{Float64,1}:\n",
       "  1.1\n",
       " -1.5"
      ]
     },
     "execution_count": 52,
     "metadata": {},
     "output_type": "execute_result"
    }
   ],
   "source": [
    "x[abs.(x) .> 1]"
   ]
  },
  {
   "cell_type": "markdown",
   "metadata": {},
   "source": [
    "ドット記法を代入式で使えば，ベクトルの複数の要素にスカラ値を代入することができる．"
   ]
  },
  {
   "cell_type": "code",
   "execution_count": 53,
   "metadata": {
    "ExecuteTime": {
     "end_time": "2019-09-18T10:58:54.970000+09:00",
     "start_time": "2019-09-18T01:58:24.906Z"
    }
   },
   "outputs": [
    {
     "data": {
      "text/plain": [
       "4-element Array{Float64,1}:\n",
       " 0.8087179467101018\n",
       " 0.1458455437512678\n",
       " 0.8963425113738974\n",
       " 0.3672779716597445"
      ]
     },
     "execution_count": 53,
     "metadata": {},
     "output_type": "execute_result"
    }
   ],
   "source": [
    "x = rand(4)"
   ]
  },
  {
   "cell_type": "code",
   "execution_count": 54,
   "metadata": {
    "ExecuteTime": {
     "end_time": "2019-09-18T10:58:54.980000+09:00",
     "start_time": "2019-09-18T01:58:24.913Z"
    }
   },
   "outputs": [
    {
     "data": {
      "text/plain": [
       "4-element Array{Float64,1}:\n",
       " -1.0               \n",
       "  1.0               \n",
       "  0.8963425113738974\n",
       "  0.3672779716597445"
      ]
     },
     "execution_count": 54,
     "metadata": {},
     "output_type": "execute_result"
    }
   ],
   "source": [
    "x[1:2] = [-1,1];\n",
    "x"
   ]
  },
  {
   "cell_type": "code",
   "execution_count": 55,
   "metadata": {
    "ExecuteTime": {
     "end_time": "2019-09-18T10:58:55.009000+09:00",
     "start_time": "2019-09-18T01:58:24.917Z"
    }
   },
   "outputs": [
    {
     "data": {
      "text/plain": [
       "4-element Array{Float64,1}:\n",
       " -1.0               \n",
       "  1.3               \n",
       "  1.3               \n",
       "  0.3672779716597445"
      ]
     },
     "execution_count": 55,
     "metadata": {},
     "output_type": "execute_result"
    }
   ],
   "source": [
    "x[2:3] .= 1.3;\n",
    "x"
   ]
  },
  {
   "cell_type": "markdown",
   "metadata": {},
   "source": [
    "### 線形結合\n",
    "\n",
    "スカラとベクトルの積と和を使って，線形結合もかける．"
   ]
  },
  {
   "cell_type": "code",
   "execution_count": 56,
   "metadata": {
    "ExecuteTime": {
     "end_time": "2019-09-18T10:58:55.010000+09:00",
     "start_time": "2019-09-18T01:58:24.924Z"
    }
   },
   "outputs": [
    {
     "data": {
      "text/plain": [
       "2-element Array{Float64,1}:\n",
       " 4.0\n",
       " 5.0"
      ]
     },
     "execution_count": 56,
     "metadata": {},
     "output_type": "execute_result"
    }
   ],
   "source": [
    "a =[1, 2];\n",
    "b = [3, 4];\n",
    "alpha = -0.5;\n",
    "beta = 1.5;\n",
    "c = alpha * a + beta * b"
   ]
  },
  {
   "cell_type": "markdown",
   "metadata": {},
   "source": [
    "ここで少しJuliaの構文を説明しよう．係数のリストとベクトルのリストを引数に取り，線形結合を返す関数を作成する．リストはタプルや配列でもよい．"
   ]
  },
  {
   "cell_type": "code",
   "execution_count": 57,
   "metadata": {
    "ExecuteTime": {
     "end_time": "2019-09-18T10:58:55.173000+09:00",
     "start_time": "2019-09-18T01:58:24.936Z"
    }
   },
   "outputs": [
    {
     "data": {
      "text/plain": [
       "lincomb (generic function with 1 method)"
      ]
     },
     "execution_count": 57,
     "metadata": {},
     "output_type": "execute_result"
    }
   ],
   "source": [
    "function lincomb(coeff, vectors)\n",
    "n = length(vectors[1])  # ベクトルの長さ\n",
    "a = zeros(n);\n",
    "for i = 1:length(vectors)\n",
    "  a = a + coeff[i] * vectors[i];\n",
    "end\n",
    "return a\n",
    "end"
   ]
  },
  {
   "cell_type": "code",
   "execution_count": 58,
   "metadata": {
    "ExecuteTime": {
     "end_time": "2019-09-18T10:58:55.213000+09:00",
     "start_time": "2019-09-18T01:58:24.939Z"
    }
   },
   "outputs": [
    {
     "data": {
      "text/plain": [
       "2-element Array{Float64,1}:\n",
       " 4.0\n",
       " 5.0"
      ]
     },
     "execution_count": 58,
     "metadata": {},
     "output_type": "execute_result"
    }
   ],
   "source": [
    "lincomb( (-0.5, 1.5), ( [1, 2], [3, 4]) )"
   ]
  },
  {
   "cell_type": "markdown",
   "metadata": {},
   "source": [
    "もっと簡潔に関数を定義することもできる．"
   ]
  },
  {
   "cell_type": "code",
   "execution_count": 59,
   "metadata": {
    "ExecuteTime": {
     "end_time": "2019-09-18T10:58:55.215000+09:00",
     "start_time": "2019-09-18T01:58:24.943Z"
    }
   },
   "outputs": [
    {
     "data": {
      "text/plain": [
       "lincomb (generic function with 1 method)"
      ]
     },
     "execution_count": 59,
     "metadata": {},
     "output_type": "execute_result"
    }
   ],
   "source": [
    "function lincomb(coeff, vectors)\n",
    "return sum( coeff[i] * vectors[i] for i = 1:length(vectors) )\n",
    "end"
   ]
  },
  {
   "cell_type": "markdown",
   "metadata": {},
   "source": [
    "### 等式のチェック\n",
    "\n",
    "以下の分配法則を確認してみよう．\n",
    "$$\n",
    "\\beta (a + b) = \\beta a + \\beta b\n",
    "$$\n",
    "これは任意の$n$次元ベクトル$a$と$b$，任意のスカラ$\\beta$について成り立つ．ここで$n=3$として，$a, b, \\beta$をランダムに生成してこの法則をチェックしてみる（この計算は，分配法則が成り立つことを証明するものではない．いくつかのベクトルについて成立することを示すだけである．しかし本当にこの等式が成立するのかを，ランダムなベクトルを与えて確かめてみるのもよいだろう）．以下では上で定義した`lincomb`を使う．"
   ]
  },
  {
   "cell_type": "code",
   "execution_count": 60,
   "metadata": {
    "ExecuteTime": {
     "end_time": "2019-09-18T10:58:55.216000+09:00",
     "start_time": "2019-09-18T01:58:24.947Z"
    }
   },
   "outputs": [
    {
     "data": {
      "text/plain": [
       "3-element Array{Float64,1}:\n",
       " 0.9009058464405417\n",
       " 0.7121564450225695\n",
       " 0.49700444955487  "
      ]
     },
     "execution_count": 60,
     "metadata": {},
     "output_type": "execute_result"
    }
   ],
   "source": [
    "a = rand(3)"
   ]
  },
  {
   "cell_type": "code",
   "execution_count": 61,
   "metadata": {
    "ExecuteTime": {
     "end_time": "2019-09-18T10:58:55.217000+09:00",
     "start_time": "2019-09-18T01:58:24.951Z"
    }
   },
   "outputs": [
    {
     "data": {
      "text/plain": [
       "3-element Array{Float64,1}:\n",
       " 0.5423096324264529   \n",
       " 0.666570413133279    \n",
       " 0.0006235565882983796"
      ]
     },
     "execution_count": 61,
     "metadata": {},
     "output_type": "execute_result"
    }
   ],
   "source": [
    "b = rand(3)"
   ]
  },
  {
   "cell_type": "code",
   "execution_count": 62,
   "metadata": {
    "ExecuteTime": {
     "end_time": "2019-09-18T10:58:55.368000+09:00",
     "start_time": "2019-09-18T01:58:24.954Z"
    }
   },
   "outputs": [
    {
     "data": {
      "text/plain": [
       "2.384118775054198"
      ]
     },
     "execution_count": 62,
     "metadata": {},
     "output_type": "execute_result"
    }
   ],
   "source": [
    "beta = randn()  # ランダムなスカラを生成"
   ]
  },
  {
   "cell_type": "code",
   "execution_count": 63,
   "metadata": {
    "ExecuteTime": {
     "end_time": "2019-09-18T10:58:55.415000+09:00",
     "start_time": "2019-09-18T01:58:24.958Z"
    }
   },
   "outputs": [
    {
     "data": {
      "text/plain": [
       "3-element Array{Float64,1}:\n",
       " 3.4407971196156373\n",
       " 3.287048588200845 \n",
       " 1.1864042724387136"
      ]
     },
     "execution_count": 63,
     "metadata": {},
     "output_type": "execute_result"
    }
   ],
   "source": [
    "lhs = beta * (a + b)"
   ]
  },
  {
   "cell_type": "code",
   "execution_count": 64,
   "metadata": {
    "ExecuteTime": {
     "end_time": "2019-09-18T10:58:55.416000+09:00",
     "start_time": "2019-09-18T01:58:24.961Z"
    }
   },
   "outputs": [
    {
     "data": {
      "text/plain": [
       "3-element Array{Float64,1}:\n",
       " 3.4407971196156373\n",
       " 3.287048588200845 \n",
       " 1.1864042724387136"
      ]
     },
     "execution_count": 64,
     "metadata": {},
     "output_type": "execute_result"
    }
   ],
   "source": [
    "rhs = beta * a + beta * b"
   ]
  },
  {
   "cell_type": "markdown",
   "metadata": {},
   "source": [
    "2つのベクトル`lhs`（左辺）と`rhs`（右辺）の表示が同じだとしても，厳密に一致しているとは限らない．浮動小数点演算の微小な丸め誤差があるかもしれないからだ．乱数を使って等式を確認する場合には，左辺と右辺が厳密には一致しているかどうかではなく，非常に値が近いかどうかを確認するべきである．\n",
    "\n",
    "## 1.4 内積\n",
    "\n",
    "### 内積\n",
    "\n",
    "$n$次元ベクトル$x$と$y$の内積は$x^T y$である．Julaでは，`x`と`y`の内積を`x' * y`と書く．"
   ]
  },
  {
   "cell_type": "code",
   "execution_count": 65,
   "metadata": {
    "ExecuteTime": {
     "end_time": "2019-09-18T10:58:55.417000+09:00",
     "start_time": "2019-09-18T01:58:24.965Z"
    }
   },
   "outputs": [
    {
     "data": {
      "text/plain": [
       "-7"
      ]
     },
     "execution_count": 65,
     "metadata": {},
     "output_type": "execute_result"
    }
   ],
   "source": [
    "x = [ -1, 2, 2 ];\n",
    "y = [ 1, 0, -3 ];\n",
    "x'　*　y"
   ]
  },
  {
   "cell_type": "markdown",
   "metadata": {},
   "source": [
    "### NPV\n",
    "\n",
    "例題として，キャッシュフローベクトル`c`の正味現在価値（Net Present Value; NPV）を計算してみよう．ここで`r`は期間毎の金利である．"
   ]
  },
  {
   "cell_type": "code",
   "execution_count": 66,
   "metadata": {
    "ExecuteTime": {
     "end_time": "2019-09-18T10:58:55.529000+09:00",
     "start_time": "2019-09-18T01:58:24.976Z"
    }
   },
   "outputs": [
    {
     "data": {
      "text/plain": [
       "4-element Array{Float64,1}:\n",
       " 1.0               \n",
       " 0.9523809523809523\n",
       " 0.9070294784580498\n",
       " 0.863837598531476 "
      ]
     },
     "execution_count": 66,
     "metadata": {},
     "output_type": "execute_result"
    }
   ],
   "source": [
    "c = [ 0.1, 0.1, 0.1, 1.1 ];  # キャッシュフローベクトル\n",
    "n = length(c);\n",
    "r = 0.05;  # 金利5%\n",
    "d = (1 + r) .^ -(0:n-1)"
   ]
  },
  {
   "cell_type": "code",
   "execution_count": 67,
   "metadata": {
    "ExecuteTime": {
     "end_time": "2019-09-18T10:58:55.549000+09:00",
     "start_time": "2019-09-18T01:58:24.980Z"
    }
   },
   "outputs": [
    {
     "data": {
      "text/plain": [
       "1.236162401468524"
      ]
     },
     "execution_count": 67,
     "metadata": {},
     "output_type": "execute_result"
    }
   ],
   "source": [
    "NPV = c' * d"
   ]
  },
  {
   "cell_type": "markdown",
   "metadata": {
    "ExecuteTime": {
     "end_time": "2019-09-18T10:58:55.943000+09:00",
     "start_time": "2019-09-18T01:58:24.987Z"
    }
   },
   "source": [
    "4行目では，ベクトル`d`を求めるためにスカラ`1+r`のべき乗を計算している．その指数部は配列`(0:n-1)`で，これは`[0,1,...,n-1]`に展開されている．\n",
    "\n",
    "### 就学者人口\n",
    "\n",
    "100次元ベクトル$x$が人口の年齢分布で，$i=1,\\ldots,100$について，$x_i$が$i-1$歳の人口だとする．5歳から18歳までの人口は以下の式で計算できる．　\n",
    "$$\n",
    "x_6 + x_7 + \\cdots + x_{18} + x_{19}\n",
    "$$\n",
    "これは$s^T x$で計算できる．ここで$s$は，$i=6,\\ldots,19$の要素が1で，それ以外は0のベクトルである．Juliadで書くと以下のようになる．\n",
    "\n",
    "```julia:\n",
    "s = [ zeros(5); ones(14); zeros(81) ];\n",
    "school_age_pop = s' * x\n",
    "```"
   ]
  },
  {
   "cell_type": "markdown",
   "metadata": {},
   "source": [
    "別の書き方でも同じことができる．たとえばベクトルの要素の総和を計算するJuliaの関数`sum`を使えば`sum(x[6:19])`となる．\n",
    "\n",
    "\n",
    "## 1.5 ベクトル計算の計算量\n",
    "\n",
    "### 浮動小数点演算\n",
    "\n",
    "2つの値$a$と$b$に対して$(a+b)(a-b)=a^2-b^2$が成り立つ．計算機でこの右辺と左辺を計算すると，非常に小さい浮動小数点演算の丸め誤差のために，厳密に同じ値にはならない．しかしほとんど同じはずである．それを以下の例で見てみよう．"
   ]
  },
  {
   "cell_type": "code",
   "execution_count": 68,
   "metadata": {
    "ExecuteTime": {
     "end_time": "2019-09-18T10:58:55.948000+09:00",
     "start_time": "2019-09-18T01:58:24.992Z"
    }
   },
   "outputs": [],
   "source": [
    "a = rand();\n",
    "b = rand();"
   ]
  },
  {
   "cell_type": "code",
   "execution_count": 69,
   "metadata": {
    "ExecuteTime": {
     "end_time": "2019-09-18T10:58:55.949000+09:00",
     "start_time": "2019-09-18T01:58:24.996Z"
    }
   },
   "outputs": [
    {
     "data": {
      "text/plain": [
       "-0.34143736970072525"
      ]
     },
     "execution_count": 69,
     "metadata": {},
     "output_type": "execute_result"
    }
   ],
   "source": [
    "lhs = (a + b) * (a - b)"
   ]
  },
  {
   "cell_type": "code",
   "execution_count": 70,
   "metadata": {
    "ExecuteTime": {
     "end_time": "2019-09-18T10:58:55.952000+09:00",
     "start_time": "2019-09-18T01:58:24.999Z"
    }
   },
   "outputs": [
    {
     "data": {
      "text/plain": [
       "-0.3414373697007253"
      ]
     },
     "execution_count": 70,
     "metadata": {},
     "output_type": "execute_result"
    }
   ],
   "source": [
    "rhs = a^2 - b^2"
   ]
  },
  {
   "cell_type": "code",
   "execution_count": 71,
   "metadata": {
    "ExecuteTime": {
     "end_time": "2019-09-18T10:58:55.953000+09:00",
     "start_time": "2019-09-18T01:58:25.003Z"
    }
   },
   "outputs": [
    {
     "data": {
      "text/plain": [
       "5.551115123125783e-17"
      ]
     },
     "execution_count": 71,
     "metadata": {},
     "output_type": "execute_result"
    }
   ],
   "source": [
    "lhs - rhs"
   ]
  },
  {
   "cell_type": "markdown",
   "metadata": {},
   "source": [
    "このように，左辺と右辺の値は同一ではないが，非常に近い．\n",
    "\n",
    "\n",
    "\n",
    "### 計算時間\n",
    "\n",
    "`@time`をコマンドの前につけると，Juliaのコマンドの計算時間を計ることができる．ただしマイクロ秒（$10^{-6}秒）などの超短時間を計測できるほどには正確ではない．また2回目以降のコマンドの実行は速くなる可能性があるので，何度も実行して計測するべきである．"
   ]
  },
  {
   "cell_type": "code",
   "execution_count": 72,
   "metadata": {
    "ExecuteTime": {
     "end_time": "2019-09-18T10:58:55.978000+09:00",
     "start_time": "2019-09-18T01:58:25.008Z"
    }
   },
   "outputs": [],
   "source": [
    "a = randn(10^5); \n",
    "b = randn(10^5);"
   ]
  },
  {
   "cell_type": "code",
   "execution_count": 73,
   "metadata": {
    "ExecuteTime": {
     "end_time": "2019-09-18T10:58:56.206000+09:00",
     "start_time": "2019-09-18T01:58:25.011Z"
    }
   },
   "outputs": [
    {
     "name": "stdout",
     "output_type": "stream",
     "text": [
      "  0.000116 seconds (6 allocations: 192 bytes)\n"
     ]
    },
    {
     "data": {
      "text/plain": [
       "-362.4558365814087"
      ]
     },
     "execution_count": 73,
     "metadata": {},
     "output_type": "execute_result"
    }
   ],
   "source": [
    "@time a' * b"
   ]
  },
  {
   "cell_type": "code",
   "execution_count": 74,
   "metadata": {
    "ExecuteTime": {
     "end_time": "2019-09-18T10:58:56.208000+09:00",
     "start_time": "2019-09-18T01:58:25.015Z"
    }
   },
   "outputs": [
    {
     "name": "stdout",
     "output_type": "stream",
     "text": [
      "  0.000100 seconds (6 allocations: 192 bytes)\n"
     ]
    },
    {
     "data": {
      "text/plain": [
       "-362.4558365814087"
      ]
     },
     "execution_count": 74,
     "metadata": {},
     "output_type": "execute_result"
    }
   ],
   "source": [
    "@time a' * b"
   ]
  },
  {
   "cell_type": "code",
   "execution_count": 75,
   "metadata": {
    "ExecuteTime": {
     "end_time": "2019-09-18T10:58:56.243000+09:00",
     "start_time": "2019-09-18T01:58:25.018Z"
    }
   },
   "outputs": [],
   "source": [
    "c = randn(10^6); \n",
    "d = randn(10^6);"
   ]
  },
  {
   "cell_type": "code",
   "execution_count": 76,
   "metadata": {
    "ExecuteTime": {
     "end_time": "2019-09-18T10:58:56.245000+09:00",
     "start_time": "2019-09-18T01:58:25.022Z"
    }
   },
   "outputs": [
    {
     "name": "stdout",
     "output_type": "stream",
     "text": [
      "  0.001048 seconds (6 allocations: 192 bytes)\n"
     ]
    },
    {
     "data": {
      "text/plain": [
       "335.51437076936844"
      ]
     },
     "execution_count": 76,
     "metadata": {},
     "output_type": "execute_result"
    }
   ],
   "source": [
    "@time c' * d"
   ]
  },
  {
   "cell_type": "code",
   "execution_count": 77,
   "metadata": {
    "ExecuteTime": {
     "end_time": "2019-09-18T10:58:56.248000+09:00",
     "start_time": "2019-09-18T01:58:25.025Z"
    }
   },
   "outputs": [
    {
     "name": "stdout",
     "output_type": "stream",
     "text": [
      "  0.001080 seconds (6 allocations: 192 bytes)\n"
     ]
    },
    {
     "data": {
      "text/plain": [
       "335.51437076936844"
      ]
     },
     "execution_count": 77,
     "metadata": {},
     "output_type": "execute_result"
    }
   ],
   "source": [
    "@time c' * d"
   ]
  },
  {
   "cell_type": "markdown",
   "metadata": {},
   "source": [
    "1つ目は長さ$10^5$のベクトルの内積で，およそ0.00017秒かかっている．2つ目の（10倍の）長さ$10^6$のベクトルの内積はおよそ0.0018秒で，10倍程度長い．これは内積計算の計算量（$2n-1$flops）から予想されることである．この計算を行った計算機の性能は，およそ1秒あたり$2\\cdot 10^6 / 0.001765$flops，つまりおよそ1 Gflops/sである．非常に粗いが，これが計算時間と計算速度の見積もりである．\n",
    "\n",
    "### スパースベクトル\n",
    "\n",
    "Juliaでスパースベクトルを生成したり処理するためのパッケージは`SparseArrays`である．これを使うためにはインストールする必要がある（ページ＊＊＊参照）．\n",
    "\n",
    "スパースベクトルは，スパースな配列（非ゼロ要素のみを保持する配列）として保存されている．Juliaでスパースベクトルを作るには，インデックスと値のリストを`sparsevec`関数に渡せばよい．また最初にスパースなゼロベクトルを（`spzeros(n)`を使って）作り，それから非ゼロ要素を代入することもできる．非スパースベクトル`x`からスパースベクトルを作るには`sparse(x)`とする．`nnz(x)`とすると，スパースベクトルの非ゼロ要素の個数が得られる．スパースベクトルは，期待通りにオーバーロードされている．例えば，普通のベクトルの演算がそのまま使えるし，必要に応じて非スパースベクトルから自動的に型変換が行われる．"
   ]
  },
  {
   "cell_type": "code",
   "execution_count": 78,
   "metadata": {
    "ExecuteTime": {
     "end_time": "2019-09-18T10:58:56.342000+09:00",
     "start_time": "2019-09-18T01:58:25.029Z"
    }
   },
   "outputs": [],
   "source": [
    "using SparseArrays"
   ]
  },
  {
   "cell_type": "code",
   "execution_count": 79,
   "metadata": {
    "ExecuteTime": {
     "end_time": "2019-09-18T10:58:56.871000+09:00",
     "start_time": "2019-09-18T01:58:25.033Z"
    }
   },
   "outputs": [
    {
     "data": {
      "text/plain": [
       "1000000-element SparseVector{Float64,Int64} with 2 stored entries:\n",
       "  [123456 ]  =  1.0\n",
       "  [123457 ]  =  -1.0"
      ]
     },
     "execution_count": 79,
     "metadata": {},
     "output_type": "execute_result"
    }
   ],
   "source": [
    "a = sparsevec( [ 123456, 123457 ], [ 1.0, -1.0 ], 10^6 )"
   ]
  },
  {
   "cell_type": "code",
   "execution_count": 80,
   "metadata": {
    "ExecuteTime": {
     "end_time": "2019-09-18T10:58:56.873000+09:00",
     "start_time": "2019-09-18T01:58:25.041Z"
    }
   },
   "outputs": [
    {
     "data": {
      "text/plain": [
       "1000000"
      ]
     },
     "execution_count": 80,
     "metadata": {},
     "output_type": "execute_result"
    }
   ],
   "source": [
    "length(a)"
   ]
  },
  {
   "cell_type": "code",
   "execution_count": 81,
   "metadata": {
    "ExecuteTime": {
     "end_time": "2019-09-18T10:58:56.876000+09:00",
     "start_time": "2019-09-18T01:58:25.045Z"
    }
   },
   "outputs": [
    {
     "data": {
      "text/plain": [
       "2"
      ]
     },
     "execution_count": 81,
     "metadata": {},
     "output_type": "execute_result"
    }
   ],
   "source": [
    "nnz(a)"
   ]
  },
  {
   "cell_type": "code",
   "execution_count": 82,
   "metadata": {
    "ExecuteTime": {
     "end_time": "2019-09-18T10:58:56.957000+09:00",
     "start_time": "2019-09-18T01:58:25.048Z"
    }
   },
   "outputs": [],
   "source": [
    "b = randn(10^6);  # 通常の（非スパース）ベクトル"
   ]
  },
  {
   "cell_type": "code",
   "execution_count": 83,
   "metadata": {
    "ExecuteTime": {
     "end_time": "2019-09-18T10:58:57.005000+09:00",
     "start_time": "2019-09-18T01:58:25.052Z"
    }
   },
   "outputs": [
    {
     "name": "stdout",
     "output_type": "stream",
     "text": [
      "  0.045867 seconds (182.76 k allocations: 9.356 MiB, 11.38% gc time)\n"
     ]
    }
   ],
   "source": [
    "@time 2　*　a;"
   ]
  },
  {
   "cell_type": "code",
   "execution_count": 84,
   "metadata": {},
   "outputs": [
    {
     "name": "stdout",
     "output_type": "stream",
     "text": [
      "  0.000003 seconds (7 allocations: 384 bytes)\n"
     ]
    }
   ],
   "source": [
    "@time 2　*　a;  # 計算速い！"
   ]
  },
  {
   "cell_type": "code",
   "execution_count": 85,
   "metadata": {
    "ExecuteTime": {
     "end_time": "2019-09-18T10:58:57.012000+09:00",
     "start_time": "2019-09-18T01:58:25.055Z"
    }
   },
   "outputs": [
    {
     "name": "stdout",
     "output_type": "stream",
     "text": [
      "  0.005737 seconds (99 allocations: 7.635 MiB)\n"
     ]
    }
   ],
   "source": [
    "@time 2　*　b;"
   ]
  },
  {
   "cell_type": "code",
   "execution_count": 86,
   "metadata": {},
   "outputs": [
    {
     "name": "stdout",
     "output_type": "stream",
     "text": [
      "  0.003967 seconds (6 allocations: 7.630 MiB)\n"
     ]
    }
   ],
   "source": [
    "@time 2　*　b;"
   ]
  },
  {
   "cell_type": "code",
   "execution_count": 87,
   "metadata": {
    "ExecuteTime": {
     "end_time": "2019-09-18T10:58:57.027000+09:00",
     "start_time": "2019-09-18T01:58:25.059Z"
    }
   },
   "outputs": [
    {
     "name": "stdout",
     "output_type": "stream",
     "text": [
      "  0.015132 seconds (47.05 k allocations: 2.559 MiB)\n"
     ]
    }
   ],
   "source": [
    "@time a' * b;"
   ]
  },
  {
   "cell_type": "code",
   "execution_count": 88,
   "metadata": {},
   "outputs": [
    {
     "name": "stdout",
     "output_type": "stream",
     "text": [
      "  0.000003 seconds (6 allocations: 192 bytes)\n"
     ]
    }
   ],
   "source": [
    "@time a' * b; # 計算は速い！"
   ]
  },
  {
   "cell_type": "code",
   "execution_count": 89,
   "metadata": {},
   "outputs": [
    {
     "name": "stdout",
     "output_type": "stream",
     "text": [
      "  0.000390 seconds (6 allocations: 192 bytes)\n"
     ]
    }
   ],
   "source": [
    "@time b' * b;"
   ]
  },
  {
   "cell_type": "code",
   "execution_count": 90,
   "metadata": {
    "ExecuteTime": {
     "end_time": "2019-09-18T10:58:57.029000+09:00",
     "start_time": "2019-09-18T01:58:25.062Z"
    }
   },
   "outputs": [
    {
     "name": "stdout",
     "output_type": "stream",
     "text": [
      "  0.000443 seconds (6 allocations: 192 bytes)\n"
     ]
    }
   ],
   "source": [
    "@time b' * b;"
   ]
  },
  {
   "cell_type": "code",
   "execution_count": 91,
   "metadata": {},
   "outputs": [
    {
     "name": "stdout",
     "output_type": "stream",
     "text": [
      "  0.258088 seconds (1.35 M allocations: 99.592 MiB, 9.88% gc time)\n"
     ]
    }
   ],
   "source": [
    "@time c = a + b;"
   ]
  },
  {
   "cell_type": "code",
   "execution_count": 92,
   "metadata": {
    "ExecuteTime": {
     "end_time": "2019-09-18T10:58:57.297000+09:00",
     "start_time": "2019-09-18T01:58:25.066Z"
    }
   },
   "outputs": [
    {
     "name": "stdout",
     "output_type": "stream",
     "text": [
      "  0.024464 seconds (21 allocations: 30.518 MiB, 9.39% gc time)\n"
     ]
    }
   ],
   "source": [
    "@time c = a + b;"
   ]
  },
  {
   "cell_type": "markdown",
   "metadata": {},
   "source": [
    "最後の行では，スパースベクトル`a`が自動的に普通のベクトル（配列）に型変換され，普通のベクトル`b`との和が計算されている．その結果は，（長さ$10^6$の）普通のベクトルである．"
   ]
  }
 ],
 "metadata": {
  "kernelspec": {
   "display_name": "Julia 1.2.0",
   "language": "julia",
   "name": "julia-1.2"
  },
  "language_info": {
   "file_extension": ".jl",
   "mimetype": "application/julia",
   "name": "julia",
   "version": "1.2.0"
  },
  "toc": {
   "base_numbering": 1,
   "nav_menu": {
    "height": "512px",
    "width": "252px"
   },
   "number_sections": true,
   "sideBar": true,
   "skip_h1_title": false,
   "title_cell": "Table of Contents",
   "title_sidebar": "Contents",
   "toc_cell": false,
   "toc_position": {},
   "toc_section_display": "block",
   "toc_window_display": false
  }
 },
 "nbformat": 4,
 "nbformat_minor": 2
}
